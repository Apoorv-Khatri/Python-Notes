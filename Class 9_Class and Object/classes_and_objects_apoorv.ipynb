{
 "cells": [
  {
   "cell_type": "code",
   "execution_count": 2,
   "id": "9198ce82",
   "metadata": {},
   "outputs": [],
   "source": [
    "#oops is way of writing a program\n",
    "#python can work on scripting and on oops both\n",
    "#there are some pros and cons in both, but actual development happens in OOPS \n",
    "#way"
   ]
  },
  {
   "cell_type": "markdown",
   "id": "b8e3bf61",
   "metadata": {},
   "source": [
    "# OOPS"
   ]
  },
  {
   "cell_type": "code",
   "execution_count": 3,
   "id": "165e67c1",
   "metadata": {},
   "outputs": [],
   "source": [
    "#object oriented programming\n",
    "\n",
    "#Class :: Car\n",
    "#Object :: Hundai,Maruti,Honda etc Object is a variable of classes.\n",
    "\n",
    "a=7\n",
    "#a is the object of int class\n"
   ]
  },
  {
   "cell_type": "code",
   "execution_count": 5,
   "id": "66434367",
   "metadata": {},
   "outputs": [],
   "source": [
    "class car:\n",
    "    pass"
   ]
  },
  {
   "cell_type": "code",
   "execution_count": 10,
   "id": "8e68c451",
   "metadata": {},
   "outputs": [],
   "source": [
    "audi=car() #varible/object of car class"
   ]
  },
  {
   "cell_type": "code",
   "execution_count": 12,
   "id": "c1c159fc",
   "metadata": {},
   "outputs": [
    {
     "data": {
      "text/plain": [
       "<__main__.car at 0x297fae5fa90>"
      ]
     },
     "execution_count": 12,
     "metadata": {},
     "output_type": "execute_result"
    }
   ],
   "source": [
    "audi"
   ]
  },
  {
   "cell_type": "code",
   "execution_count": 13,
   "id": "43240b1b",
   "metadata": {},
   "outputs": [],
   "source": [
    "audi.milage=20\n",
    "audi.year=2020\n",
    "audi.make=345\n",
    "audi.model=\"a7\""
   ]
  },
  {
   "cell_type": "code",
   "execution_count": 8,
   "id": "f5b5add6",
   "metadata": {},
   "outputs": [],
   "source": [
    "#main in super class, car is class"
   ]
  },
  {
   "cell_type": "code",
   "execution_count": 14,
   "id": "e67920e2",
   "metadata": {},
   "outputs": [
    {
     "data": {
      "text/plain": [
       "20"
      ]
     },
     "execution_count": 14,
     "metadata": {},
     "output_type": "execute_result"
    }
   ],
   "source": [
    "audi.milage"
   ]
  },
  {
   "cell_type": "code",
   "execution_count": 16,
   "id": "f8bf6159",
   "metadata": {},
   "outputs": [],
   "source": [
    "nano=car()\n",
    "nano.milage=25\n",
    "nano.year=2020\n",
    "nano.engine='vl7'"
   ]
  },
  {
   "cell_type": "code",
   "execution_count": 17,
   "id": "c0c0e3fa",
   "metadata": {},
   "outputs": [],
   "source": [
    "#but this is a bad way of implementing oops concept"
   ]
  },
  {
   "cell_type": "code",
   "execution_count": 7,
   "id": "d76d5a8c",
   "metadata": {},
   "outputs": [],
   "source": [
    "#self is not a keyword its just a parameter, you can use anything\n",
    "#init function is used to provide data to the class"
   ]
  },
  {
   "cell_type": "code",
   "execution_count": 27,
   "id": "79f4cbc2",
   "metadata": {},
   "outputs": [],
   "source": [
    "class car :\n",
    "    def __init__(self , milage, year , make , model): #inbuilt method\n",
    "        self.milage = milage\n",
    "        self.year = year\n",
    "        self.make = make \n",
    "        self.model = model"
   ]
  },
  {
   "cell_type": "code",
   "execution_count": 13,
   "id": "e85b510d",
   "metadata": {},
   "outputs": [
    {
     "ename": "TypeError",
     "evalue": "__init__() missing 4 required positional arguments: 'milage', 'year', 'make', and 'model'",
     "output_type": "error",
     "traceback": [
      "\u001b[1;31m---------------------------------------------------------------------------\u001b[0m",
      "\u001b[1;31mTypeError\u001b[0m                                 Traceback (most recent call last)",
      "\u001b[1;32m~\\AppData\\Local\\Temp/ipykernel_26584/1442354286.py\u001b[0m in \u001b[0;36m<module>\u001b[1;34m\u001b[0m\n\u001b[1;32m----> 1\u001b[1;33m \u001b[0mnano\u001b[0m\u001b[1;33m=\u001b[0m\u001b[0mcar\u001b[0m\u001b[1;33m(\u001b[0m\u001b[1;33m)\u001b[0m\u001b[1;33m\u001b[0m\u001b[1;33m\u001b[0m\u001b[0m\n\u001b[0m",
      "\u001b[1;31mTypeError\u001b[0m: __init__() missing 4 required positional arguments: 'milage', 'year', 'make', and 'model'"
     ]
    }
   ],
   "source": [
    "nano=car() "
   ]
  },
  {
   "cell_type": "code",
   "execution_count": 28,
   "id": "77ebf43d",
   "metadata": {},
   "outputs": [],
   "source": [
    "nano=car(20,2020,99,\"car1\")\n",
    "audi=car(30,2020,91,'apll')"
   ]
  },
  {
   "cell_type": "code",
   "execution_count": 29,
   "id": "8ae9627f",
   "metadata": {},
   "outputs": [
    {
     "data": {
      "text/plain": [
       "20"
      ]
     },
     "execution_count": 29,
     "metadata": {},
     "output_type": "execute_result"
    }
   ],
   "source": [
    "nano.milage"
   ]
  },
  {
   "cell_type": "code",
   "execution_count": 30,
   "id": "6d7443ea",
   "metadata": {},
   "outputs": [
    {
     "data": {
      "text/plain": [
       "30"
      ]
     },
     "execution_count": 30,
     "metadata": {},
     "output_type": "execute_result"
    }
   ],
   "source": [
    "audi.milage"
   ]
  },
  {
   "cell_type": "code",
   "execution_count": 31,
   "id": "2944b382",
   "metadata": {},
   "outputs": [],
   "source": [
    "class car1 :\n",
    "    def __init__(milage, year , make , model): #milage will become self pointer\n",
    "        self.milage = milage\n",
    "        self.year = year\n",
    "        self.make = make \n",
    "        self.model = model"
   ]
  },
  {
   "cell_type": "code",
   "execution_count": 37,
   "id": "cae692ed",
   "metadata": {},
   "outputs": [],
   "source": [
    "class car1 :\n",
    "    def __init__(a,m, y , ma , mo): #milage will become self pointer\n",
    "        a.milage = m #milage is class variable\n",
    "        a.year = y #year is also a class variable\n",
    "        a.make = ma #make is also a class variable\n",
    "        a.model = mo #there fore we have to include a pointer anyhting"
   ]
  },
  {
   "cell_type": "code",
   "execution_count": 38,
   "id": "32948be6",
   "metadata": {},
   "outputs": [],
   "source": [
    "tata=car1(1,2,3,'ap')"
   ]
  },
  {
   "cell_type": "code",
   "execution_count": 39,
   "id": "58beec5e",
   "metadata": {},
   "outputs": [
    {
     "data": {
      "text/plain": [
       "1"
      ]
     },
     "execution_count": 39,
     "metadata": {},
     "output_type": "execute_result"
    }
   ],
   "source": [
    "tata.milage"
   ]
  },
  {
   "cell_type": "code",
   "execution_count": 40,
   "id": "c24ce2a2",
   "metadata": {},
   "outputs": [
    {
     "data": {
      "text/plain": [
       "2"
      ]
     },
     "execution_count": 40,
     "metadata": {},
     "output_type": "execute_result"
    }
   ],
   "source": [
    "tata.year"
   ]
  },
  {
   "cell_type": "code",
   "execution_count": 76,
   "id": "f52477cd",
   "metadata": {},
   "outputs": [],
   "source": [
    "class car2 :\n",
    "    def __init__(a,m,y,ma,mo):\n",
    "        a.milage = m \n",
    "        a.year = y \n",
    "        a.make = ma \n",
    "        a.model = mo\n",
    "    def age(self,current_year): #self is just a pointer, self is local pointer\n",
    "        return current_year-self.year\n",
    "    def milageprint(b):\n",
    "        print(\"print milage of car\",b.milage)"
   ]
  },
  {
   "cell_type": "code",
   "execution_count": 77,
   "id": "4878dd15",
   "metadata": {},
   "outputs": [],
   "source": [
    "nano=car2(20,2020,2312,\"apoorv\")"
   ]
  },
  {
   "cell_type": "code",
   "execution_count": 58,
   "id": "396a2b22",
   "metadata": {},
   "outputs": [
    {
     "data": {
      "text/plain": [
       "<bound method car2.age of <__main__.car2 object at 0x000002CDADA163A0>>"
      ]
     },
     "execution_count": 58,
     "metadata": {},
     "output_type": "execute_result"
    }
   ],
   "source": [
    "nano.age"
   ]
  },
  {
   "cell_type": "code",
   "execution_count": 59,
   "id": "6be756ab",
   "metadata": {},
   "outputs": [
    {
     "data": {
      "text/plain": [
       "4"
      ]
     },
     "execution_count": 59,
     "metadata": {},
     "output_type": "execute_result"
    }
   ],
   "source": [
    "nano.age(2024)"
   ]
  },
  {
   "cell_type": "code",
   "execution_count": 64,
   "id": "5105428e",
   "metadata": {},
   "outputs": [
    {
     "name": "stdout",
     "output_type": "stream",
     "text": [
      "print milage of car 20\n"
     ]
    }
   ],
   "source": [
    "nano.milageprint()"
   ]
  },
  {
   "cell_type": "code",
   "execution_count": 78,
   "id": "83be257b",
   "metadata": {},
   "outputs": [
    {
     "name": "stdout",
     "output_type": "stream",
     "text": [
      "<__main__.car2 object at 0x000002CDADC05970>\n"
     ]
    }
   ],
   "source": [
    "print(nano)"
   ]
  },
  {
   "cell_type": "code",
   "execution_count": 66,
   "id": "e3f0f7a4",
   "metadata": {},
   "outputs": [],
   "source": [
    "# <__main__.car2 at 0x2cdadb255e0> #object address"
   ]
  },
  {
   "cell_type": "code",
   "execution_count": 68,
   "id": "835d8a8f",
   "metadata": {},
   "outputs": [],
   "source": [
    "#we can also get a custom message when we print the object"
   ]
  },
  {
   "cell_type": "code",
   "execution_count": 79,
   "id": "ab005654",
   "metadata": {},
   "outputs": [],
   "source": [
    "class car2 :\n",
    "    def __init__(a,m,y,ma,mo):\n",
    "        a.milage = m \n",
    "        a.year = y \n",
    "        a.make = ma \n",
    "        a.model = mo\n",
    "    def age(self,current_year): #self is just a pointer, self is local pointer\n",
    "        return current_year-self.year\n",
    "    def milageprint(b):\n",
    "        print(\"print milage of car\",b.milage)\n",
    "    def __str__(c): #inbuilt method\n",
    "        return(\"this is my car class that i have created\")"
   ]
  },
  {
   "cell_type": "code",
   "execution_count": 80,
   "id": "0b8a66f8",
   "metadata": {},
   "outputs": [
    {
     "name": "stdout",
     "output_type": "stream",
     "text": [
      "this is my car class that i have created\n"
     ]
    }
   ],
   "source": [
    "nano=car2(20,2020,2312,\"apoorv\")\n",
    "print(nano)"
   ]
  },
  {
   "cell_type": "code",
   "execution_count": 86,
   "id": "6a3b002e",
   "metadata": {},
   "outputs": [],
   "source": [
    "class student:\n",
    "    def __init__(self,name,roll,joining,topic):\n",
    "        self.name=name\n",
    "        self.roll=roll\n",
    "        self.joining=joining\n",
    "        self.topic=topic\n",
    "        \n",
    "    def ctr_top(self):\n",
    "        print(\"current topic is\",self.topic)\n",
    "    \n",
    "    def str_rollno(self):\n",
    "        if type(self.roll)==str:\n",
    "            print(\"do nothing\")\n",
    "        else:\n",
    "            return str(self.roll)\n",
    "        \n",
    "    def duration(self,currdate):\n",
    "        print(\"duration of student is\",currdate-self.joining)\n",
    "    \n",
    "    def __str__(self):\n",
    "        return \"This is a student class where we have included student data\""
   ]
  },
  {
   "cell_type": "code",
   "execution_count": 87,
   "id": "691acf81",
   "metadata": {},
   "outputs": [],
   "source": [
    "apoorv = student('apoorv',12,2021,\"oops\")"
   ]
  },
  {
   "cell_type": "code",
   "execution_count": 88,
   "id": "1856f010",
   "metadata": {},
   "outputs": [
    {
     "name": "stdout",
     "output_type": "stream",
     "text": [
      "duration of student is 0\n"
     ]
    }
   ],
   "source": [
    "apoorv.duration(2021)"
   ]
  },
  {
   "cell_type": "code",
   "execution_count": 90,
   "id": "cf00bd71",
   "metadata": {},
   "outputs": [
    {
     "data": {
      "text/plain": [
       "'12'"
      ]
     },
     "execution_count": 90,
     "metadata": {},
     "output_type": "execute_result"
    }
   ],
   "source": [
    "apoorv.str_rollno() #in string format"
   ]
  },
  {
   "cell_type": "code",
   "execution_count": 92,
   "id": "06a746f5",
   "metadata": {},
   "outputs": [
    {
     "name": "stdout",
     "output_type": "stream",
     "text": [
      "This is a student class where we have included student data\n"
     ]
    }
   ],
   "source": [
    "print(apoorv) #__str__ return"
   ]
  },
  {
   "cell_type": "code",
   "execution_count": 97,
   "id": "1a00067d",
   "metadata": {},
   "outputs": [],
   "source": [
    "class student:\n",
    "    def __init__(self,name,roll,joining,topic):\n",
    "        self.name=name\n",
    "        self.roll=roll\n",
    "        self.joining=joining\n",
    "        self.topic=topic\n",
    "        \n",
    "    def ctr_top(self):\n",
    "        print(\"current topic is\",self.topic)\n",
    "    \n",
    "    def str_rollno(self):\n",
    "        try:\n",
    "            \n",
    "            if type(self.roll)==str:\n",
    "                print(\"do nothing\")\n",
    "            else:\n",
    "                return str(self.roll)\n",
    "        except Exception as e:\n",
    "            print(\"this is mt error msg\",e)\n",
    "            \n",
    "    def name_parsing(self):\n",
    "        if type(self.name)==list:\n",
    "            for i in self.name:\n",
    "                print(i)\n",
    "        else:\n",
    "            print(\"name is\",self.name)\n",
    "        \n",
    "    def duration(self,currdate):\n",
    "        print(\"duration of student is\",currdate-self.joining)\n",
    "    \n",
    "    def __str__(self):\n",
    "        return \"This is a student class where we have included student data\""
   ]
  },
  {
   "cell_type": "code",
   "execution_count": 98,
   "id": "5cd81325",
   "metadata": {},
   "outputs": [],
   "source": [
    "Pawan_list = student(['naveen','jay','himanshu','prakash'],[1,2,3,4],2021,\"oops\")"
   ]
  },
  {
   "cell_type": "code",
   "execution_count": 99,
   "id": "86495e67",
   "metadata": {},
   "outputs": [
    {
     "name": "stdout",
     "output_type": "stream",
     "text": [
      "naveen\n",
      "jay\n",
      "himanshu\n",
      "prakash\n"
     ]
    }
   ],
   "source": [
    "Pawan_list.name_parsing()"
   ]
  },
  {
   "cell_type": "code",
   "execution_count": 100,
   "id": "098a7f27",
   "metadata": {},
   "outputs": [],
   "source": [
    "def test1(*a): #writing args is not necessary, * is\n",
    "    for i in a:\n",
    "        print(i)"
   ]
  },
  {
   "cell_type": "code",
   "execution_count": 102,
   "id": "0179d8ba",
   "metadata": {},
   "outputs": [
    {
     "name": "stdout",
     "output_type": "stream",
     "text": [
      "1\n",
      "2\n",
      "3\n",
      "4\n"
     ]
    }
   ],
   "source": [
    "test1(1,2,3,4)"
   ]
  },
  {
   "cell_type": "code",
   "execution_count": null,
   "id": "3e6a233a",
   "metadata": {},
   "outputs": [],
   "source": []
  },
  {
   "cell_type": "markdown",
   "id": "609ee83e",
   "metadata": {},
   "source": [
    "# Question "
   ]
  },
  {
   "cell_type": "markdown",
   "id": "c7ce2192",
   "metadata": {},
   "source": [
    " #LEVEL 1\n",
    "\n",
    "1.Create data class with arguments File Name, Filetype,date,size.\n",
    "2.Create a function file_open for\n",
    "take this file name and it will try to create file name if that\n",
    "file name doesn't exist and write something in the file.\n",
    "3.Create other function it should take file name \n",
    "and it should return the data that exists in the file.\n",
    "4.create another function file_append that appedns new data in the same file and show that data\n",
    "\n",
    "##LEVEL 2\n",
    "Implement Exception Handling,\n",
    "Use logger inside\n",
    "create a seperate function and when you have to log something."
   ]
  },
  {
   "cell_type": "code",
   "execution_count": 31,
   "id": "5f3cb984",
   "metadata": {},
   "outputs": [],
   "source": [
    "import os\n",
    "import logging as lg\n",
    "class data:\n",
    "    def __init__(self,file_name,file_type,date,size):\n",
    "        self.file_name=file_name\n",
    "        self.file_type=file_type\n",
    "        self.data=data\n",
    "        self.size=size\n",
    "        lg.basicConfig(filename='C:\\\\Users\\\\h.p\\\\Desktop\\\\DATA SCIENCE\\\\1 Python Programming\\\\Class 9_Class and Object\\\\question\\\\loggingfile')\n",
    "    \n",
    "    def file_open(self):\n",
    "        if self.file_name+'.'+self.file_type in os.listdir():\n",
    "            pass\n",
    "        else:\n",
    "            f=open(self.file_name+'.'+self.file_type,'w')\n",
    "            f.write(\"This is a new file created\")\n",
    "            f.close()\n",
    "            lg.info(self.file_name+'.'+self.file_type+' file is created')\n",
    "    \n",
    "    def file_read(self):\n",
    "        try:\n",
    "            l=open(self.file_name+'.'+self.file_type,'r+')\n",
    "            print(l.read())\n",
    "            lg.info(self.file_name+'.'+self.file_type+' file is read into console')\n",
    "        except Exception as e:\n",
    "            print(\"file does not exist\",e)\n",
    "        \n",
    "    \n",
    "    def file_append(self):\n",
    "        try:\n",
    "            g=open(self.file_name+'.'+self.file_type,'a')\n",
    "            g.write(\"Extra text is appended\")\n",
    "            print(g.read())\n",
    "            g.close()\n",
    "            lg.info(self.file_name+'.'+self.file_type+' file is appended')\n",
    "        except Exception as e:\n",
    "            print(\"file does not exist\",e)"
   ]
  },
  {
   "cell_type": "code",
   "execution_count": 32,
   "id": "55408b8a",
   "metadata": {},
   "outputs": [],
   "source": [
    "file1=data('file1','txt',2020,1)"
   ]
  },
  {
   "cell_type": "code",
   "execution_count": 33,
   "id": "4c83110a",
   "metadata": {},
   "outputs": [],
   "source": [
    "file1.file_open()"
   ]
  },
  {
   "cell_type": "code",
   "execution_count": 34,
   "id": "5d384857",
   "metadata": {},
   "outputs": [
    {
     "name": "stdout",
     "output_type": "stream",
     "text": [
      "This is a new file createdExtra text is appended\n"
     ]
    }
   ],
   "source": [
    "file1.file_read()"
   ]
  },
  {
   "cell_type": "code",
   "execution_count": 35,
   "id": "3c7ce948",
   "metadata": {},
   "outputs": [
    {
     "name": "stdout",
     "output_type": "stream",
     "text": [
      "file does not exist not readable\n"
     ]
    }
   ],
   "source": [
    "file1.file_append()"
   ]
  },
  {
   "cell_type": "code",
   "execution_count": 36,
   "id": "e7c64663",
   "metadata": {},
   "outputs": [],
   "source": [
    "#Better version of QUESTION CODE\n",
    "\n",
    "\n",
    "import logging as lg\n",
    "lg.basicConfig(filename='OOPS.log', level=lg.ERROR)\n",
    "class Data:\n",
    "  def __init__(self, fileName, fileType, data, size):\n",
    "    self.fileName = fileName\n",
    "    self.fileType = fileType\n",
    "    self.data = data\n",
    "    self.size = size\n",
    "  \n",
    "  def File_open(self): \n",
    "    try:  \n",
    "      with open(self.fileName+self.fileType,'w') as f:\n",
    "        f.write(self.data)\n",
    "    except Exception as e:\n",
    "      self.logging(e)\n",
    "    \n",
    "  def File_read(self):\n",
    "    try:\n",
    "      with open(self.fileName+self.fileType,'r') as f:\n",
    "        f.read()\n",
    "    except FileNotFoundError as e:\n",
    "      self.logging(e)\n",
    "    except Exception as e:\n",
    "      self.logging(e)\n",
    "    \n",
    "  def  File_append(self, data):\n",
    "    try:\n",
    "      with open(self.fileName+self.fileType, 'a') as f:\n",
    "        f.write(data)\n",
    "    except FileNotFoundError as e:\n",
    "      self.logging(e)\n",
    "    except Exception as e:\n",
    "      self.logging(e)\n",
    "    \n",
    "    \n",
    "    \n",
    "  def logging(self, log):\n",
    "    lg.error(log) \n",
    "    \n",
    "    \n",
    "    \n",
    "d = Data('d','.txt','hi',2)\n",
    "d.File_open()\n",
    "d.File_append('op')\n"
   ]
  },
  {
   "cell_type": "code",
   "execution_count": null,
   "id": "0b3770f3",
   "metadata": {},
   "outputs": [],
   "source": []
  }
 ],
 "metadata": {
  "kernelspec": {
   "display_name": "Python 3 (ipykernel)",
   "language": "python",
   "name": "python3"
  },
  "language_info": {
   "codemirror_mode": {
    "name": "ipython",
    "version": 3
   },
   "file_extension": ".py",
   "mimetype": "text/x-python",
   "name": "python",
   "nbconvert_exporter": "python",
   "pygments_lexer": "ipython3",
   "version": "3.9.7"
  }
 },
 "nbformat": 4,
 "nbformat_minor": 5
}
