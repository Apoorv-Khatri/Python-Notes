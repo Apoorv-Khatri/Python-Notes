{
 "cells": [
  {
   "cell_type": "code",
   "execution_count": 5,
   "id": "c6b359e5",
   "metadata": {},
   "outputs": [],
   "source": [
    "#INCAPSULATION\n",
    "\n",
    "class Tyres:\n",
    "    def __init__(self, branch, belted_bias, opt_pressure):\n",
    "        self.branch = branch\n",
    "        self.belted_bias = belted_bias\n",
    "        self.opt_pressure = opt_pressure\n",
    "        \n",
    "    def __str__(self):\n",
    "        return (\"Tyres: \\n \\tBranch: \" + self.branch +\n",
    "               \"\\n \\tBelted-bias: \" + str(self.belted_bias) + \n",
    "               \"\\n \\tOptimal pressure: \" + str(self.opt_pressure))\n",
    "        \n",
    "class Engine:\n",
    "    def __init__(self, fuel_type, noise_level):\n",
    "        self.fuel_type = fuel_type\n",
    "        self.noise_level = noise_level\n",
    "        \n",
    "    def __str__(self):\n",
    "        return (\"Engine: \\n \\tFuel type: \" + self.fuel_type +\n",
    "                \"\\n \\tNoise level:\" + str(self.noise_level))\n",
    "        \n",
    "class Body:\n",
    "    def __init__(self, size):\n",
    "        self.size = size\n",
    "        \n",
    "    def __str__(self):\n",
    "        return \"Body:\\n \\tSize: \" + self.size\n",
    "        \n",
    "class Car:\n",
    "    def __init__(self,name ,  tyres, engine, body): #tyres,engine,body are just names given no reltion with above\n",
    "        self.name = name \n",
    "        self.tyres = tyres\n",
    "        self.engine = engine\n",
    "        self.body = body\n",
    "        \n",
    "    def __str__(self):\n",
    "        return str(self.tyres) + \"\\n\" + str(self.engine) + \"\\n\" + str(self.body) + \" \" + str(self.name)\n"
   ]
  },
  {
   "cell_type": "code",
   "execution_count": 6,
   "id": "73236b2f",
   "metadata": {},
   "outputs": [
    {
     "name": "stdout",
     "output_type": "stream",
     "text": [
      "Tyres: \n",
      " \tBranch: oxo\n",
      " \tBelted-bias: True\n",
      " \tOptimal pressure: 2.0\n",
      "Engine: \n",
      " \tFuel type: disel\n",
      " \tNoise level:3\n",
      "Body:\n",
      " \tSize: Medium toyota\n"
     ]
    }
   ],
   "source": [
    "t= Tyres('oxo',True,2.0)\n",
    "e= Engine(\"disel\",3)\n",
    "b= Body(\"Medium\")\n",
    "c = Car('toyota',t,e,b)\n",
    "print(c)"
   ]
  },
  {
   "cell_type": "code",
   "execution_count": 7,
   "id": "c7703f5f",
   "metadata": {},
   "outputs": [
    {
     "name": "stdout",
     "output_type": "stream",
     "text": [
      "my \t is\n"
     ]
    }
   ],
   "source": [
    "print(\"my \\t is\") #\\t gives tab space \n",
    "#\\n is for next line"
   ]
  },
  {
   "cell_type": "code",
   "execution_count": 8,
   "id": "c973ec8f",
   "metadata": {},
   "outputs": [
    {
     "name": "stdout",
     "output_type": "stream",
     "text": [
      "Kudrjavka is a Laika born in 1954.\n"
     ]
    }
   ],
   "source": [
    "class Dog:\n",
    "    def __init__(self, name, year_of_birth, breed):\n",
    "        self._name = name\n",
    "        self._year_of_birth = year_of_birth\n",
    "        self._breed = breed\n",
    "\n",
    "    def __str__(self):\n",
    "        return \"%s is a %s born in %d.\" % (self._name, self._breed, self._year_of_birth)\n",
    "\n",
    "kudrjavka = Dog(\"Kudrjavka\", 1954, \"Laika\")\n",
    "dog1 = Dog(\"german\" ,565 , \"coco\")\n",
    "dog2= Dog(\"german\" ,565 , \"coco\")\n",
    "dog3= Dog(\"german\" ,565 , \"coco\")\n",
    "dog4= Dog(\"german\" ,565 , \"coco\")\n",
    "dog5 = Dog(\"german\" ,565 , \"coco\")\n",
    "\n",
    "dog6= Dog(\"german\" ,565 , \"coco\")\n",
    "\n",
    "\n",
    "print(kudrjavka)"
   ]
  },
  {
   "cell_type": "code",
   "execution_count": 19,
   "id": "5d4f88a2",
   "metadata": {},
   "outputs": [],
   "source": [
    "class student:\n",
    "    def __init__(self,name,id,school,address):\n",
    "        self.name = name\n",
    "        self.id=id\n",
    "        self.school=school\n",
    "        self.address=address\n",
    "    def __str__(self):\n",
    "        return str(self.name)+\" \"+str(self.id)+ \" \"+str(self.school)+\" \"+str(self.address)"
   ]
  },
  {
   "cell_type": "code",
   "execution_count": 21,
   "id": "8a69a9f3",
   "metadata": {},
   "outputs": [],
   "source": [
    "a = student('apoorv',11,'ahp','asas')"
   ]
  },
  {
   "cell_type": "code",
   "execution_count": 22,
   "id": "be4b93eb",
   "metadata": {},
   "outputs": [
    {
     "name": "stdout",
     "output_type": "stream",
     "text": [
      "apoorv 11 ahp asas\n"
     ]
    }
   ],
   "source": [
    "print(a)"
   ]
  },
  {
   "cell_type": "code",
   "execution_count": 23,
   "id": "37f88242",
   "metadata": {},
   "outputs": [],
   "source": [
    "stu = student('sudh',12,'ineuron','banglore')"
   ]
  },
  {
   "cell_type": "code",
   "execution_count": 24,
   "id": "88ee1c0a",
   "metadata": {},
   "outputs": [
    {
     "name": "stdout",
     "output_type": "stream",
     "text": [
      "sudh 12 ineuron banglore\n"
     ]
    }
   ],
   "source": [
    "print(stu)"
   ]
  },
  {
   "cell_type": "code",
   "execution_count": 29,
   "id": "96620f4a",
   "metadata": {},
   "outputs": [],
   "source": [
    "dog = student(kudrjavka,45,\"dog_sch\",'india')"
   ]
  },
  {
   "cell_type": "code",
   "execution_count": 30,
   "id": "7deefc68",
   "metadata": {},
   "outputs": [
    {
     "name": "stdout",
     "output_type": "stream",
     "text": [
      "Kudrjavka is a Laika born in 1954. 45 dog_sch india\n"
     ]
    }
   ],
   "source": [
    "print(dog)"
   ]
  },
  {
   "cell_type": "code",
   "execution_count": 31,
   "id": "02bccd6c",
   "metadata": {},
   "outputs": [],
   "source": [
    "dog1 = student(dog1,45,\"dog_sch\",'india')"
   ]
  },
  {
   "cell_type": "code",
   "execution_count": 32,
   "id": "c6b29a40",
   "metadata": {},
   "outputs": [
    {
     "name": "stdout",
     "output_type": "stream",
     "text": [
      "german is a coco born in 565. 45 dog_sch india\n"
     ]
    }
   ],
   "source": [
    "print(dog1)"
   ]
  },
  {
   "cell_type": "code",
   "execution_count": 47,
   "id": "1fb79a25",
   "metadata": {},
   "outputs": [],
   "source": [
    "class BonusDistribution:\n",
    "    \n",
    "    def __init__ (self,employeeId, employeeRating):\n",
    "    \n",
    "        self.empId = employeeId\n",
    "        self.empRating = employeeRating\n",
    "        self.__bonusforRatingA = \"70%\"  #making value private\n",
    "        self.__bonusforRatingB = \"60%\"  #making value private\n",
    "        self.__bonusforRatingC = \"50%\"  #making value private\n",
    "        self.__bonusforRatingD = \"30%\"  #making value private\n",
    "        self.__bonusforRatingForRest = \"No Bonus\" #making value private\n",
    "        \n",
    "        \n",
    "    def bonusCalculator(self):\n",
    "        \n",
    "        if self.empRating == 'A':\n",
    "            bonus = self.__bonusforRatingA\n",
    "            msg = \"Bonus for this employee is :\"+ bonus\n",
    "            return msg\n",
    "        elif self.empRating == 'B':\n",
    "            bonus = self.__bonusforRatingB\n",
    "            msg = \"Bonus for this employee is :\"+ bonus\n",
    "            return msg\n",
    "        elif self.empRating == 'C':\n",
    "            bonus = self.__bonusforRatingC\n",
    "            msg = \"Bonus for this employee is :\"+ bonus\n",
    "            return msg\n",
    "        elif self.empRating == 'D':\n",
    "            bonus = self.__bonusforRatingD\n",
    "            msg = \"Bonus for this employee is :\"+ bonus\n",
    "            return msg\n",
    "        else:\n",
    "            bonus = self.__bonusforRatingForRest\n",
    "            msg = \"Bonus for this employee is :\"+ bonus\n",
    "            return msg\n"
   ]
  },
  {
   "cell_type": "code",
   "execution_count": 34,
   "id": "62309bc7",
   "metadata": {},
   "outputs": [],
   "source": [
    "emp1 = BonusDistribution(1232,\"B\")"
   ]
  },
  {
   "cell_type": "code",
   "execution_count": 35,
   "id": "33dbeb02",
   "metadata": {},
   "outputs": [
    {
     "data": {
      "text/plain": [
       "'Bonus for this employee is :60%'"
      ]
     },
     "execution_count": 35,
     "metadata": {},
     "output_type": "execute_result"
    }
   ],
   "source": [
    "emp1.bonusCalculator()"
   ]
  },
  {
   "cell_type": "code",
   "execution_count": 36,
   "id": "74adfe74",
   "metadata": {},
   "outputs": [
    {
     "name": "stdout",
     "output_type": "stream",
     "text": [
      "Bonus for this employee is :60%\n"
     ]
    }
   ],
   "source": [
    "print(emp1.bonusCalculator())"
   ]
  },
  {
   "cell_type": "code",
   "execution_count": 37,
   "id": "c3abd54a",
   "metadata": {},
   "outputs": [
    {
     "name": "stdout",
     "output_type": "stream",
     "text": [
      "Bonus for this employee is :No Bonus\n"
     ]
    }
   ],
   "source": [
    "emp2 = BonusDistribution(1234,\"E\")\n",
    "print(emp2.bonusCalculator())"
   ]
  },
  {
   "cell_type": "code",
   "execution_count": 38,
   "id": "8db5d020",
   "metadata": {},
   "outputs": [],
   "source": [
    "emp1._bonusforratingB = \"90%\" #want to change B for 90%"
   ]
  },
  {
   "cell_type": "code",
   "execution_count": 39,
   "id": "f50569ff",
   "metadata": {},
   "outputs": [
    {
     "data": {
      "text/plain": [
       "'Bonus for this employee is :60%'"
      ]
     },
     "execution_count": 39,
     "metadata": {},
     "output_type": "execute_result"
    }
   ],
   "source": [
    "emp1.bonusCalculator()"
   ]
  },
  {
   "cell_type": "code",
   "execution_count": 44,
   "id": "e211ed12",
   "metadata": {},
   "outputs": [],
   "source": [
    "emp1._BonusDistribution__bonusforRatingB = \"90%\" #can overide a private class variable"
   ]
  },
  {
   "cell_type": "code",
   "execution_count": 45,
   "id": "52f16cdb",
   "metadata": {},
   "outputs": [
    {
     "data": {
      "text/plain": [
       "'Bonus for this employee is :90%'"
      ]
     },
     "execution_count": 45,
     "metadata": {},
     "output_type": "execute_result"
    }
   ],
   "source": [
    "emp1.bonusCalculator()"
   ]
  },
  {
   "cell_type": "code",
   "execution_count": 55,
   "id": "17184ed4",
   "metadata": {},
   "outputs": [
    {
     "name": "stdout",
     "output_type": "stream",
     "text": [
      "Bonus for this employee is :60%\n"
     ]
    }
   ],
   "source": [
    "emp4 = BonusDistribution(1234,\"B\")\n",
    "print(emp4.bonusCalculator())"
   ]
  },
  {
   "cell_type": "code",
   "execution_count": 56,
   "id": "63646c91",
   "metadata": {},
   "outputs": [],
   "source": [
    "class BonusDistribution:\n",
    "    \n",
    "    def __init__ (self,employeeId, employeeRating):\n",
    "    \n",
    "        self.empId = employeeId\n",
    "        self.empRating = employeeRating\n",
    "        self.__bonusforRatingA = \"70%\"  #making value private\n",
    "        self.__bonusforRatingB = \"60%\"  #making value private\n",
    "        self.__bonusforRatingC = \"50%\"  #making value private\n",
    "        self.__bonusforRatingD = \"30%\"  #making value private\n",
    "        self.__bonusforRatingForRest = \"No Bonus\" #making value private\n",
    "        \n",
    "        \n",
    "    def bonusCalculator(self):\n",
    "        \n",
    "        if self.empRating == 'A':\n",
    "            bonus = self.__bonusforRatingA\n",
    "            msg = \"Bonus for this employee is :\"+ bonus\n",
    "            return msg\n",
    "        elif self.empRating == 'B':\n",
    "            bonus = self.__bonusforRatingB\n",
    "            msg = \"Bonus for this employee is :\"+ bonus\n",
    "            return msg\n",
    "        elif self.empRating == 'C':\n",
    "            bonus = self.__bonusforRatingC\n",
    "            msg = \"Bonus for this employee is :\"+ bonus\n",
    "            return msg\n",
    "        elif self.empRating == 'D':\n",
    "            bonus = self.__bonusforRatingD\n",
    "            msg = \"Bonus for this employee is :\"+ bonus\n",
    "            return msg\n",
    "        else:\n",
    "            bonus = self.__bonusforRatingForRest\n",
    "            msg = \"Bonus for this employee is :\"+ bonus\n",
    "            return msg\n",
    "\n",
    "    def changevariable(self,value): #protocol to change the variale imside the class only \n",
    "        self.__bonusforRatingB=value"
   ]
  },
  {
   "cell_type": "code",
   "execution_count": 59,
   "id": "7baf0b39",
   "metadata": {},
   "outputs": [],
   "source": [
    "emp4.changevariable('85%')"
   ]
  },
  {
   "cell_type": "code",
   "execution_count": 61,
   "id": "c1ad9e5e",
   "metadata": {},
   "outputs": [
    {
     "name": "stdout",
     "output_type": "stream",
     "text": [
      "Bonus for this employee is :85%\n"
     ]
    }
   ],
   "source": [
    "print(emp4.bonusCalculator())"
   ]
  },
  {
   "cell_type": "code",
   "execution_count": 62,
   "id": "908a7c13",
   "metadata": {},
   "outputs": [],
   "source": [
    "class BonusDistribution:\n",
    "    \n",
    "    def __init__ (self,employeeId, employeeRating):\n",
    "    \n",
    "        self.empId = employeeId\n",
    "        self.empRating = employeeRating\n",
    "        self.__bonusforRatingA = \"70%\"  #making value private\n",
    "        self.__bonusforRatingB = \"60%\"  #making value private\n",
    "        self.__bonusforRatingC = \"50%\"  #making value private\n",
    "        self.__bonusforRatingD = \"30%\"  #making value private\n",
    "        self.__bonusforRatingForRest = \"No Bonus\" #making value private\n",
    "        \n",
    "        \n",
    "    def bonusCalculator(self):\n",
    "        \n",
    "        if self.empRating == 'A':\n",
    "            bonus = self.__bonusforRatingA\n",
    "            msg = \"Bonus for this employee is :\"+ bonus\n",
    "            return msg\n",
    "        elif self.empRating == 'B':\n",
    "            bonus = self.__bonusforRatingB\n",
    "            msg = \"Bonus for this employee is :\"+ bonus\n",
    "            return msg\n",
    "        elif self.empRating == 'C':\n",
    "            bonus = self.__bonusforRatingC\n",
    "            msg = \"Bonus for this employee is :\"+ bonus\n",
    "            return msg\n",
    "        elif self.empRating == 'D':\n",
    "            bonus = self.__bonusforRatingD\n",
    "            msg = \"Bonus for this employee is :\"+ bonus\n",
    "            return msg\n",
    "        else:\n",
    "            bonus = self.__bonusforRatingForRest\n",
    "            msg = \"Bonus for this employee is :\"+ bonus\n",
    "            return msg\n",
    "\n",
    "    def __changevariable(self,value): #private function\n",
    "        self.__bonusforRatingB=value"
   ]
  },
  {
   "cell_type": "code",
   "execution_count": 65,
   "id": "4352530d",
   "metadata": {},
   "outputs": [
    {
     "name": "stdout",
     "output_type": "stream",
     "text": [
      "Bonus for this employee is :60%\n"
     ]
    }
   ],
   "source": [
    "emp5 = BonusDistribution(1234,\"B\")\n",
    "print(emp5.bonusCalculator())"
   ]
  },
  {
   "cell_type": "code",
   "execution_count": 66,
   "id": "af754862",
   "metadata": {},
   "outputs": [
    {
     "ename": "AttributeError",
     "evalue": "'BonusDistribution' object has no attribute '__changevariable'",
     "output_type": "error",
     "traceback": [
      "\u001b[1;31m---------------------------------------------------------------------------\u001b[0m",
      "\u001b[1;31mAttributeError\u001b[0m                            Traceback (most recent call last)",
      "\u001b[1;32m~\\AppData\\Local\\Temp/ipykernel_13628/2561648345.py\u001b[0m in \u001b[0;36m<module>\u001b[1;34m\u001b[0m\n\u001b[1;32m----> 1\u001b[1;33m \u001b[0memp5\u001b[0m\u001b[1;33m.\u001b[0m\u001b[0m__changevariable\u001b[0m\u001b[1;33m(\u001b[0m\u001b[1;34m\"78%\"\u001b[0m\u001b[1;33m)\u001b[0m\u001b[1;33m\u001b[0m\u001b[1;33m\u001b[0m\u001b[0m\n\u001b[0m",
      "\u001b[1;31mAttributeError\u001b[0m: 'BonusDistribution' object has no attribute '__changevariable'"
     ]
    }
   ],
   "source": [
    "emp5.__changevariable(\"78%\")"
   ]
  },
  {
   "cell_type": "code",
   "execution_count": 67,
   "id": "e6fd806d",
   "metadata": {},
   "outputs": [],
   "source": [
    "emp5._BonusDistribution__changevariable(\"78%\")"
   ]
  },
  {
   "cell_type": "code",
   "execution_count": 68,
   "id": "16d90c82",
   "metadata": {},
   "outputs": [
    {
     "name": "stdout",
     "output_type": "stream",
     "text": [
      "Bonus for this employee is :78%\n"
     ]
    }
   ],
   "source": [
    "print(emp5.bonusCalculator())"
   ]
  },
  {
   "cell_type": "code",
   "execution_count": 69,
   "id": "41ea4f43",
   "metadata": {},
   "outputs": [],
   "source": [
    "class multiplynumeric():\n",
    "    def __init__(self,a):\n",
    "        self.a = a"
   ]
  },
  {
   "cell_type": "code",
   "execution_count": 70,
   "id": "9c67b38e",
   "metadata": {},
   "outputs": [],
   "source": [
    "mul = multiplynumeric(9)\n",
    "mul1=multiplynumeric(2)"
   ]
  },
  {
   "cell_type": "code",
   "execution_count": 71,
   "id": "9688c82f",
   "metadata": {},
   "outputs": [
    {
     "ename": "TypeError",
     "evalue": "unsupported operand type(s) for *: 'multiplynumeric' and 'multiplynumeric'",
     "output_type": "error",
     "traceback": [
      "\u001b[1;31m---------------------------------------------------------------------------\u001b[0m",
      "\u001b[1;31mTypeError\u001b[0m                                 Traceback (most recent call last)",
      "\u001b[1;32m~\\AppData\\Local\\Temp/ipykernel_13628/459046203.py\u001b[0m in \u001b[0;36m<module>\u001b[1;34m\u001b[0m\n\u001b[1;32m----> 1\u001b[1;33m \u001b[0mmul\u001b[0m\u001b[1;33m*\u001b[0m\u001b[0mmul1\u001b[0m\u001b[1;33m\u001b[0m\u001b[1;33m\u001b[0m\u001b[0m\n\u001b[0m",
      "\u001b[1;31mTypeError\u001b[0m: unsupported operand type(s) for *: 'multiplynumeric' and 'multiplynumeric'"
     ]
    }
   ],
   "source": [
    "mul*mul1"
   ]
  },
  {
   "cell_type": "code",
   "execution_count": 73,
   "id": "1891ae84",
   "metadata": {},
   "outputs": [
    {
     "data": {
      "text/plain": [
       "18"
      ]
     },
     "execution_count": 73,
     "metadata": {},
     "output_type": "execute_result"
    }
   ],
   "source": [
    "mul.a*mul1.a"
   ]
  },
  {
   "cell_type": "code",
   "execution_count": 82,
   "id": "72e23194",
   "metadata": {},
   "outputs": [],
   "source": [
    "class multiplynumeric():\n",
    "    def __init__(self,a):\n",
    "        self.a = a\n",
    "        \n",
    "    def __mul__(self,other):\n",
    "        return self.a*other.a"
   ]
  },
  {
   "cell_type": "code",
   "execution_count": 83,
   "id": "4f8821cf",
   "metadata": {},
   "outputs": [
    {
     "data": {
      "text/plain": [
       "418"
      ]
     },
     "execution_count": 83,
     "metadata": {},
     "output_type": "execute_result"
    }
   ],
   "source": [
    "mul = multiplynumeric(19)\n",
    "mul1=multiplynumeric(22)\n",
    "mul*mul1"
   ]
  },
  {
   "cell_type": "code",
   "execution_count": 84,
   "id": "916be9a6",
   "metadata": {},
   "outputs": [],
   "source": [
    "class multiplynumeric():\n",
    "    def __init__(self,a):\n",
    "        self.a = a\n",
    "        \n",
    "    def __mul__(self,other): \n",
    "        return self.a+other.a"
   ]
  },
  {
   "cell_type": "code",
   "execution_count": 86,
   "id": "45858e52",
   "metadata": {},
   "outputs": [
    {
     "data": {
      "text/plain": [
       "41"
      ]
     },
     "execution_count": 86,
     "metadata": {},
     "output_type": "execute_result"
    }
   ],
   "source": [
    "mul = multiplynumeric(19)\n",
    "mul1=multiplynumeric(22)\n",
    "mul*mul1 #OPERATOR OVERLOADING"
   ]
  },
  {
   "cell_type": "code",
   "execution_count": 87,
   "id": "93fcc6ab",
   "metadata": {},
   "outputs": [
    {
     "name": "stdout",
     "output_type": "stream",
     "text": [
      "11\n",
      "sudh kumar\n",
      "[3, 4, 5, 6, 7, 8, 4, 5, 6, 7, 89]\n"
     ]
    }
   ],
   "source": [
    "def test(a , b ) :\n",
    "    return a + b \n",
    "print(test(5, 6 ))\n",
    "print(test(\"sudh \" , \"kumar\"))\n",
    "print(test([3,4,5,6,7,8] , [ 4,5,6,7,89]))"
   ]
  },
  {
   "cell_type": "markdown",
   "id": "840c3376",
   "metadata": {},
   "source": [
    "This particular property is called poly-morphism.\n",
    "'+' operator acts as summation, concatenatinon etc"
   ]
  },
  {
   "cell_type": "code",
   "execution_count": 99,
   "id": "d5fdc8e8",
   "metadata": {},
   "outputs": [],
   "source": [
    "class ineuron:\n",
    "    def msg_(self):\n",
    "        print(\"this is mess 1\")\n",
    "\n",
    "\n",
    "class x:\n",
    "    def msg_(self):\n",
    "        print(\"this is msg x\")\n",
    "        "
   ]
  },
  {
   "cell_type": "code",
   "execution_count": 100,
   "id": "e397afc7",
   "metadata": {},
   "outputs": [],
   "source": [
    "def test(notes):\n",
    "    notes.msg_()"
   ]
  },
  {
   "cell_type": "code",
   "execution_count": 101,
   "id": "dd59161d",
   "metadata": {},
   "outputs": [],
   "source": [
    "i = ineuron()\n",
    "xy = x()"
   ]
  },
  {
   "cell_type": "code",
   "execution_count": 102,
   "id": "87146237",
   "metadata": {},
   "outputs": [
    {
     "name": "stdout",
     "output_type": "stream",
     "text": [
      "this is mess 1\n",
      "this is msg x\n"
     ]
    }
   ],
   "source": [
    "test(i)\n",
    "test(xy)"
   ]
  },
  {
   "cell_type": "code",
   "execution_count": 103,
   "id": "5ebc56c8",
   "metadata": {},
   "outputs": [],
   "source": [
    "#polimorphism example"
   ]
  },
  {
   "cell_type": "markdown",
   "id": "73489a46",
   "metadata": {},
   "source": [
    "# Databases\n",
    "\n",
    "Databases are of two broad types - \n",
    "\n",
    "1) SQL (Structured data - rows, columns) (shema (means columns name) is defined) There are some limimtations to SQL. - SQLLite, MYSQL\n",
    "\n",
    "2) No-SQL (Not only SQL) MONGODB, CASSANDRA"
   ]
  },
  {
   "cell_type": "code",
   "execution_count": null,
   "id": "5e7db7cb",
   "metadata": {},
   "outputs": [],
   "source": []
  }
 ],
 "metadata": {
  "kernelspec": {
   "display_name": "Python 3 (ipykernel)",
   "language": "python",
   "name": "python3"
  },
  "language_info": {
   "codemirror_mode": {
    "name": "ipython",
    "version": 3
   },
   "file_extension": ".py",
   "mimetype": "text/x-python",
   "name": "python",
   "nbconvert_exporter": "python",
   "pygments_lexer": "ipython3",
   "version": "3.9.7"
  }
 },
 "nbformat": 4,
 "nbformat_minor": 5
}
