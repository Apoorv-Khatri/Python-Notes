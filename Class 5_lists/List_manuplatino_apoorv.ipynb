{
 "cells": [
  {
   "cell_type": "code",
   "execution_count": 1,
   "id": "be6535a6",
   "metadata": {},
   "outputs": [],
   "source": [
    "l = ['apoo',232,23.34,[23,23],5+9j]\n"
   ]
  },
  {
   "cell_type": "code",
   "execution_count": 2,
   "id": "9a89f9c3",
   "metadata": {},
   "outputs": [
    {
     "name": "stdout",
     "output_type": "stream",
     "text": [
      "apoo\n",
      "232\n",
      "23.34\n",
      "[23, 23]\n",
      "(5+9j)\n"
     ]
    }
   ],
   "source": [
    "for i in l:\n",
    "    print(i)"
   ]
  },
  {
   "cell_type": "code",
   "execution_count": 5,
   "id": "804519fe",
   "metadata": {},
   "outputs": [
    {
     "name": "stdout",
     "output_type": "stream",
     "text": [
      "this is not a list\n",
      "this is not a list\n",
      "this is not a list\n",
      "this is a list\n",
      "this is not a list\n",
      "this is not a list\n"
     ]
    }
   ],
   "source": [
    "for i in l:\n",
    "    if type(i)==list:\n",
    "        print(\"this is a list\")\n",
    "    print('this is not a list')"
   ]
  },
  {
   "cell_type": "code",
   "execution_count": 6,
   "id": "dc30cb2c",
   "metadata": {},
   "outputs": [],
   "source": [
    "l1 = [12,12,12]"
   ]
  },
  {
   "cell_type": "code",
   "execution_count": 8,
   "id": "29c442ad",
   "metadata": {},
   "outputs": [
    {
     "data": {
      "text/plain": [
       "['apoo', 232, 23.34, [23, 23], (5+9j), 12, 12, 12]"
      ]
     },
     "execution_count": 8,
     "metadata": {},
     "output_type": "execute_result"
    }
   ],
   "source": [
    "l+l1 #you can concatenate 2lists"
   ]
  },
  {
   "cell_type": "code",
   "execution_count": 10,
   "id": "06d92690",
   "metadata": {},
   "outputs": [
    {
     "data": {
      "text/plain": [
       "True"
      ]
     },
     "execution_count": 10,
     "metadata": {},
     "output_type": "execute_result"
    }
   ],
   "source": [
    "12 in l1 #to check if some thing part of list or not"
   ]
  },
  {
   "cell_type": "code",
   "execution_count": 13,
   "id": "200612ba",
   "metadata": {},
   "outputs": [
    {
     "data": {
      "text/plain": [
       "4"
      ]
     },
     "execution_count": 13,
     "metadata": {},
     "output_type": "execute_result"
    }
   ],
   "source": [
    "max([1,2,3,4]) #maximum number in a list if all numbers are there"
   ]
  },
  {
   "cell_type": "code",
   "execution_count": 15,
   "id": "9f8aff99",
   "metadata": {},
   "outputs": [
    {
     "data": {
      "text/plain": [
       "'asasassa'"
      ]
     },
     "execution_count": 15,
     "metadata": {},
     "output_type": "execute_result"
    }
   ],
   "source": [
    "max(['ap','asas','asasassa']) # bsed on the dictonary order it will try to give out the maximum element"
   ]
  },
  {
   "cell_type": "code",
   "execution_count": 17,
   "id": "b52637d8",
   "metadata": {},
   "outputs": [
    {
     "data": {
      "text/plain": [
       "'z'"
      ]
     },
     "execution_count": 17,
     "metadata": {},
     "output_type": "execute_result"
    }
   ],
   "source": [
    "max(['asas','z'])"
   ]
  },
  {
   "cell_type": "code",
   "execution_count": 19,
   "id": "14d8a7c4",
   "metadata": {},
   "outputs": [
    {
     "data": {
      "text/plain": [
       "'asas'"
      ]
     },
     "execution_count": 19,
     "metadata": {},
     "output_type": "execute_result"
    }
   ],
   "source": [
    "min(['asas','zzzzzz']) #similary dic order minimum value"
   ]
  },
  {
   "cell_type": "code",
   "execution_count": 21,
   "id": "91015039",
   "metadata": {},
   "outputs": [],
   "source": [
    "l = [1,2,3,4]"
   ]
  },
  {
   "cell_type": "code",
   "execution_count": 22,
   "id": "b2645efd",
   "metadata": {},
   "outputs": [],
   "source": [
    "l.append('apoorv')"
   ]
  },
  {
   "cell_type": "code",
   "execution_count": 25,
   "id": "102f7a2e",
   "metadata": {},
   "outputs": [
    {
     "data": {
      "text/plain": [
       "[1, 2, 3, 4, 'apoorv']"
      ]
     },
     "execution_count": 25,
     "metadata": {},
     "output_type": "execute_result"
    }
   ],
   "source": [
    "l"
   ]
  },
  {
   "cell_type": "code",
   "execution_count": 40,
   "id": "81783ca5",
   "metadata": {},
   "outputs": [],
   "source": [
    "l=[1,2,3,4,5]"
   ]
  },
  {
   "cell_type": "code",
   "execution_count": 41,
   "id": "185afc09",
   "metadata": {},
   "outputs": [],
   "source": [
    "l.append('sudh')"
   ]
  },
  {
   "cell_type": "code",
   "execution_count": 42,
   "id": "6aa78388",
   "metadata": {},
   "outputs": [
    {
     "data": {
      "text/plain": [
       "[1, 2, 3, 4, 5, 'sudh']"
      ]
     },
     "execution_count": 42,
     "metadata": {},
     "output_type": "execute_result"
    }
   ],
   "source": [
    "l"
   ]
  },
  {
   "cell_type": "code",
   "execution_count": 43,
   "id": "28b32ab2",
   "metadata": {},
   "outputs": [],
   "source": [
    "#if we want to add after some element"
   ]
  },
  {
   "cell_type": "code",
   "execution_count": 44,
   "id": "37abc707",
   "metadata": {},
   "outputs": [],
   "source": [
    "l.insert(1,'apoorv')  #at 1 index i have to put apoorv so we will put (1,'apoorv')"
   ]
  },
  {
   "cell_type": "code",
   "execution_count": 45,
   "id": "beeed5d4",
   "metadata": {},
   "outputs": [
    {
     "data": {
      "text/plain": [
       "[1, 'apoorv', 2, 3, 4, 5, 'sudh']"
      ]
     },
     "execution_count": 45,
     "metadata": {},
     "output_type": "execute_result"
    }
   ],
   "source": [
    "l"
   ]
  },
  {
   "cell_type": "code",
   "execution_count": 46,
   "id": "6293122b",
   "metadata": {},
   "outputs": [],
   "source": [
    "l.insert(-1,\"tools\")"
   ]
  },
  {
   "cell_type": "code",
   "execution_count": 47,
   "id": "1d13ea01",
   "metadata": {},
   "outputs": [
    {
     "data": {
      "text/plain": [
       "[1, 'apoorv', 2, 3, 4, 5, 'tools', 'sudh']"
      ]
     },
     "execution_count": 47,
     "metadata": {},
     "output_type": "execute_result"
    }
   ],
   "source": [
    "l"
   ]
  },
  {
   "cell_type": "code",
   "execution_count": 49,
   "id": "8a748733",
   "metadata": {},
   "outputs": [
    {
     "data": {
      "text/plain": [
       "1"
      ]
     },
     "execution_count": 49,
     "metadata": {},
     "output_type": "execute_result"
    }
   ],
   "source": [
    "l.count('apoorv') #how many times an element has occoured in the list"
   ]
  },
  {
   "cell_type": "code",
   "execution_count": 73,
   "id": "d1b34a7d",
   "metadata": {},
   "outputs": [],
   "source": [
    "a=[1,2,3,4]"
   ]
  },
  {
   "cell_type": "code",
   "execution_count": 74,
   "id": "1e444eba",
   "metadata": {},
   "outputs": [],
   "source": [
    "a.append('sudh')"
   ]
  },
  {
   "cell_type": "code",
   "execution_count": 75,
   "id": "4a6ad77e",
   "metadata": {},
   "outputs": [
    {
     "data": {
      "text/plain": [
       "[1, 2, 3, 4, 'sudh']"
      ]
     },
     "execution_count": 75,
     "metadata": {},
     "output_type": "execute_result"
    }
   ],
   "source": [
    "a\n"
   ]
  },
  {
   "cell_type": "code",
   "execution_count": 76,
   "id": "218140d0",
   "metadata": {},
   "outputs": [],
   "source": [
    "a.append([12,12,12])"
   ]
  },
  {
   "cell_type": "code",
   "execution_count": 77,
   "id": "1c6662e6",
   "metadata": {},
   "outputs": [
    {
     "data": {
      "text/plain": [
       "[1, 2, 3, 4, 'sudh', [12, 12, 12]]"
      ]
     },
     "execution_count": 77,
     "metadata": {},
     "output_type": "execute_result"
    }
   ],
   "source": [
    "a"
   ]
  },
  {
   "cell_type": "code",
   "execution_count": 78,
   "id": "4d7bcdb6",
   "metadata": {},
   "outputs": [],
   "source": [
    "a.extend('test1') #in extend it is adding by eitrating thoruhg entire string/list (EXTEND UNWRAPS DATA)\n",
    "#can't do it for integers"
   ]
  },
  {
   "cell_type": "code",
   "execution_count": 79,
   "id": "e4b714ef",
   "metadata": {},
   "outputs": [
    {
     "data": {
      "text/plain": [
       "[1, 2, 3, 4, 'sudh', [12, 12, 12], 't', 'e', 's', 't', '1']"
      ]
     },
     "execution_count": 79,
     "metadata": {},
     "output_type": "execute_result"
    }
   ],
   "source": [
    "a"
   ]
  },
  {
   "cell_type": "code",
   "execution_count": 80,
   "id": "05c58b76",
   "metadata": {},
   "outputs": [],
   "source": [
    "strii = 'apoorv'"
   ]
  },
  {
   "cell_type": "code",
   "execution_count": 81,
   "id": "d46f8495",
   "metadata": {},
   "outputs": [
    {
     "data": {
      "text/plain": [
       "['a', 'p', 'o', 'o', 'r', 'v']"
      ]
     },
     "execution_count": 81,
     "metadata": {},
     "output_type": "execute_result"
    }
   ],
   "source": [
    "list(strii)"
   ]
  },
  {
   "cell_type": "code",
   "execution_count": 82,
   "id": "0e845483",
   "metadata": {},
   "outputs": [],
   "source": [
    "a.extend([12,12,12]) #iterating thorugh all eleemts in the list that is being added into a "
   ]
  },
  {
   "cell_type": "code",
   "execution_count": 83,
   "id": "5768f129",
   "metadata": {},
   "outputs": [
    {
     "data": {
      "text/plain": [
       "[1, 2, 3, 4, 'sudh', [12, 12, 12], 't', 'e', 's', 't', '1', 12, 12, 12]"
      ]
     },
     "execution_count": 83,
     "metadata": {},
     "output_type": "execute_result"
    }
   ],
   "source": [
    "a"
   ]
  },
  {
   "cell_type": "code",
   "execution_count": 90,
   "id": "1cab5480",
   "metadata": {},
   "outputs": [],
   "source": [
    "l = [1,2,3,4,3,4]  "
   ]
  },
  {
   "cell_type": "code",
   "execution_count": 91,
   "id": "268393b7",
   "metadata": {},
   "outputs": [
    {
     "data": {
      "text/plain": [
       "2"
      ]
     },
     "execution_count": 91,
     "metadata": {},
     "output_type": "execute_result"
    }
   ],
   "source": [
    "l.index(3) #index of the element's first element"
   ]
  },
  {
   "cell_type": "code",
   "execution_count": 92,
   "id": "fca92d79",
   "metadata": {},
   "outputs": [
    {
     "data": {
      "text/plain": [
       "4"
      ]
     },
     "execution_count": 92,
     "metadata": {},
     "output_type": "execute_result"
    }
   ],
   "source": [
    "l.pop() #remove last element (by default)(you can change the default) and also returns it"
   ]
  },
  {
   "cell_type": "code",
   "execution_count": 93,
   "id": "59f6eb0a",
   "metadata": {},
   "outputs": [
    {
     "data": {
      "text/plain": [
       "[1, 2, 3, 4, 3]"
      ]
     },
     "execution_count": 93,
     "metadata": {},
     "output_type": "execute_result"
    }
   ],
   "source": [
    "l"
   ]
  },
  {
   "cell_type": "code",
   "execution_count": 95,
   "id": "37a4d795",
   "metadata": {},
   "outputs": [
    {
     "data": {
      "text/plain": [
       "2"
      ]
     },
     "execution_count": 95,
     "metadata": {},
     "output_type": "execute_result"
    }
   ],
   "source": [
    "l.pop(0) #pops the index element"
   ]
  },
  {
   "cell_type": "code",
   "execution_count": 99,
   "id": "600e2fbb",
   "metadata": {},
   "outputs": [],
   "source": [
    "l = [4,5,6,6,6,7,8,9]"
   ]
  },
  {
   "cell_type": "code",
   "execution_count": 100,
   "id": "61a880a7",
   "metadata": {},
   "outputs": [],
   "source": [
    "l.remove(6) #removes first occourance of 6"
   ]
  },
  {
   "cell_type": "code",
   "execution_count": 101,
   "id": "7dfca249",
   "metadata": {},
   "outputs": [
    {
     "data": {
      "text/plain": [
       "[4, 5, 6, 6, 7, 8, 9]"
      ]
     },
     "execution_count": 101,
     "metadata": {},
     "output_type": "execute_result"
    }
   ],
   "source": [
    "l"
   ]
  },
  {
   "cell_type": "code",
   "execution_count": 102,
   "id": "f5ea1688",
   "metadata": {},
   "outputs": [],
   "source": [
    "l.reverse()"
   ]
  },
  {
   "cell_type": "code",
   "execution_count": 103,
   "id": "81899992",
   "metadata": {},
   "outputs": [
    {
     "data": {
      "text/plain": [
       "[9, 8, 7, 6, 6, 5, 4]"
      ]
     },
     "execution_count": 103,
     "metadata": {},
     "output_type": "execute_result"
    }
   ],
   "source": [
    "l"
   ]
  },
  {
   "cell_type": "code",
   "execution_count": 104,
   "id": "8ef129fd",
   "metadata": {},
   "outputs": [],
   "source": [
    "l.sort()"
   ]
  },
  {
   "cell_type": "code",
   "execution_count": 105,
   "id": "0faed1a1",
   "metadata": {},
   "outputs": [
    {
     "data": {
      "text/plain": [
       "[4, 5, 6, 6, 7, 8, 9]"
      ]
     },
     "execution_count": 105,
     "metadata": {},
     "output_type": "execute_result"
    }
   ],
   "source": [
    "l\n"
   ]
  },
  {
   "cell_type": "code",
   "execution_count": 106,
   "id": "b3d93d56",
   "metadata": {},
   "outputs": [],
   "source": [
    "#Questions"
   ]
  },
  {
   "cell_type": "code",
   "execution_count": 108,
   "id": "ee4b28f4",
   "metadata": {},
   "outputs": [],
   "source": [
    "l=[['apoorv',1,2],[1,'apoorv',2],['apoorv',1,2],1,2] #append 2 more list and one complex number in between the list \n",
    "#if your nested list contains string then find out its index in the nested list and print it, then rename the string\n",
    "#your have to extract 2nd element of each nested list."
   ]
  },
  {
   "cell_type": "code",
   "execution_count": 110,
   "id": "26b38fae",
   "metadata": {},
   "outputs": [],
   "source": [
    "l.insert(2,['hello',1,2])\n",
    "l.insert(2,['bie',1,5])\n",
    "l.insert(3,3+4j)"
   ]
  },
  {
   "cell_type": "code",
   "execution_count": 111,
   "id": "05190bdf",
   "metadata": {},
   "outputs": [
    {
     "data": {
      "text/plain": [
       "[['apoorv', 1, 2],\n",
       " [1, 'apoorv', 2],\n",
       " ['bie', 1, 5],\n",
       " (3+4j),\n",
       " ['hello', 1, 2],\n",
       " ['apoorv', 1, 2],\n",
       " 1,\n",
       " 2]"
      ]
     },
     "execution_count": 111,
     "metadata": {},
     "output_type": "execute_result"
    }
   ],
   "source": [
    "l"
   ]
  },
  {
   "cell_type": "code",
   "execution_count": 120,
   "id": "4f44282a",
   "metadata": {},
   "outputs": [
    {
     "name": "stdout",
     "output_type": "stream",
     "text": [
      "main index  0 nested index  0\n",
      "main index  1 nested index  1\n",
      "main index  2 nested index  0\n",
      "main index  4 nested index  0\n",
      "main index  5 nested index  0\n",
      "second element of nested string is 1\n",
      "second element of nested string is changed\n",
      "second element of nested string is 1\n",
      "second element of nested string is 1\n",
      "second element of nested string is 1\n"
     ]
    }
   ],
   "source": [
    "for i in l:\n",
    "    if type(i) == list:\n",
    "        for j in i:\n",
    "            if type(j)==str:\n",
    "                print(\"main index \",l.index(i),\"nested index \",(l[l.index(i)]).index(j))\n",
    "                l[l.index(i)][(l[l.index(i)]).index(j)] = \"changed\"\n",
    "            continue\n",
    "    continue\n",
    "for i in l:\n",
    "    if type(i)==list:\n",
    "        print(\"second element of nested string is\",l[l.index(i)][1])"
   ]
  },
  {
   "cell_type": "code",
   "execution_count": 121,
   "id": "a5717d0f",
   "metadata": {},
   "outputs": [
    {
     "data": {
      "text/plain": [
       "[['changed', 1, 2],\n",
       " [1, 'changed', 2],\n",
       " ['changed', 1, 5],\n",
       " (3+4j),\n",
       " ['changed', 1, 2],\n",
       " ['changed', 1, 2],\n",
       " 1,\n",
       " 2]"
      ]
     },
     "execution_count": 121,
     "metadata": {},
     "output_type": "execute_result"
    }
   ],
   "source": [
    "l"
   ]
  },
  {
   "cell_type": "code",
   "execution_count": 123,
   "id": "271d31a2",
   "metadata": {},
   "outputs": [],
   "source": [
    "#list as an input "
   ]
  },
  {
   "cell_type": "code",
   "execution_count": 124,
   "id": "6a14be20",
   "metadata": {},
   "outputs": [
    {
     "name": "stdout",
     "output_type": "stream",
     "text": [
      "1\n",
      "2\n",
      "3\n",
      "4\n",
      "5\n",
      "6\n",
      "7\n",
      "88\n",
      "99\n",
      "010\n"
     ]
    }
   ],
   "source": [
    "l=[]\n",
    "for i in range(10):\n",
    "    l.append(int(input()))"
   ]
  },
  {
   "cell_type": "code",
   "execution_count": 125,
   "id": "119097c6",
   "metadata": {},
   "outputs": [
    {
     "data": {
      "text/plain": [
       "[1, 2, 3, 4, 5, 6, 7, 88, 99, 10]"
      ]
     },
     "execution_count": 125,
     "metadata": {},
     "output_type": "execute_result"
    }
   ],
   "source": [
    "l"
   ]
  },
  {
   "cell_type": "markdown",
   "id": "15d196bf",
   "metadata": {},
   "source": [
    "#  List Comprehension Operations"
   ]
  },
  {
   "cell_type": "markdown",
   "id": "1a191995",
   "metadata": {},
   "source": [
    "##### for multiline code into a single line code"
   ]
  },
  {
   "cell_type": "code",
   "execution_count": 127,
   "id": "826bfb07",
   "metadata": {},
   "outputs": [],
   "source": [
    "l = [1,2,3,4]"
   ]
  },
  {
   "cell_type": "code",
   "execution_count": 128,
   "id": "0a0771c8",
   "metadata": {},
   "outputs": [],
   "source": [
    "l1=[]"
   ]
  },
  {
   "cell_type": "code",
   "execution_count": 129,
   "id": "2d748373",
   "metadata": {},
   "outputs": [],
   "source": [
    "for i in l:\n",
    "    l1.append(i)"
   ]
  },
  {
   "cell_type": "code",
   "execution_count": 130,
   "id": "65280924",
   "metadata": {},
   "outputs": [
    {
     "data": {
      "text/plain": [
       "[1, 2, 3, 4]"
      ]
     },
     "execution_count": 130,
     "metadata": {},
     "output_type": "execute_result"
    }
   ],
   "source": [
    "l1"
   ]
  },
  {
   "cell_type": "code",
   "execution_count": 132,
   "id": "e0605a71",
   "metadata": {},
   "outputs": [],
   "source": [
    "#now using list comprehension in short way"
   ]
  },
  {
   "cell_type": "code",
   "execution_count": 135,
   "id": "cb01b1a6",
   "metadata": {},
   "outputs": [
    {
     "data": {
      "text/plain": [
       "['s', 'u', 'd', 'h']"
      ]
     },
     "execution_count": 135,
     "metadata": {},
     "output_type": "execute_result"
    }
   ],
   "source": [
    "[i for i in 'sudh'] #comprehension approach"
   ]
  },
  {
   "cell_type": "code",
   "execution_count": 136,
   "id": "f3c9eccf",
   "metadata": {},
   "outputs": [
    {
     "data": {
      "text/plain": [
       "[['s'], ['u'], ['d'], ['h']]"
      ]
     },
     "execution_count": 136,
     "metadata": {},
     "output_type": "execute_result"
    }
   ],
   "source": [
    "[[i] for i in 'sudh']"
   ]
  },
  {
   "cell_type": "code",
   "execution_count": 138,
   "id": "bd88ff90",
   "metadata": {},
   "outputs": [],
   "source": [
    "l=[]\n",
    "for i in range(10):\n",
    "    if i%2==0:\n",
    "        l.append(i)"
   ]
  },
  {
   "cell_type": "code",
   "execution_count": 139,
   "id": "f4b3e300",
   "metadata": {},
   "outputs": [
    {
     "data": {
      "text/plain": [
       "[0, 2, 4, 6, 8]"
      ]
     },
     "execution_count": 139,
     "metadata": {},
     "output_type": "execute_result"
    }
   ],
   "source": [
    "l"
   ]
  },
  {
   "cell_type": "code",
   "execution_count": 140,
   "id": "4c96ee91",
   "metadata": {},
   "outputs": [
    {
     "data": {
      "text/plain": [
       "[0, 2, 4, 6, 8]"
      ]
     },
     "execution_count": 140,
     "metadata": {},
     "output_type": "execute_result"
    }
   ],
   "source": [
    "#in one line\n",
    "[i for i in range(10) if i%2==0]"
   ]
  },
  {
   "cell_type": "code",
   "execution_count": 144,
   "id": "e8dcbd09",
   "metadata": {},
   "outputs": [],
   "source": [
    "l=[]\n",
    "for i in range(10):\n",
    "    if i %2 !=0:\n",
    "        l.append('odd')\n",
    "    else:\n",
    "        l.append('even')"
   ]
  },
  {
   "cell_type": "code",
   "execution_count": 145,
   "id": "484f7416",
   "metadata": {},
   "outputs": [
    {
     "data": {
      "text/plain": [
       "['even', 'odd', 'even', 'odd', 'even', 'odd', 'even', 'odd', 'even', 'odd']"
      ]
     },
     "execution_count": 145,
     "metadata": {},
     "output_type": "execute_result"
    }
   ],
   "source": [
    "l"
   ]
  },
  {
   "cell_type": "code",
   "execution_count": 147,
   "id": "1e5ba88f",
   "metadata": {},
   "outputs": [
    {
     "data": {
      "text/plain": [
       "['even', 'odd', 'even', 'odd', 'even', 'odd', 'even', 'odd', 'even', 'odd']"
      ]
     },
     "execution_count": 147,
     "metadata": {},
     "output_type": "execute_result"
    }
   ],
   "source": [
    "[\"odd\" if i%2!=0 else \"even\" for i in range(10)] #using list comprehension"
   ]
  },
  {
   "cell_type": "code",
   "execution_count": 152,
   "id": "0a6814b6",
   "metadata": {},
   "outputs": [],
   "source": [
    "mat = []                      #creating a nested list\n",
    "for i in range(3):\n",
    "    mat.append([])\n",
    "    for j in range(3):\n",
    "        mat[i].append(j)"
   ]
  },
  {
   "cell_type": "code",
   "execution_count": 153,
   "id": "c4fde912",
   "metadata": {},
   "outputs": [
    {
     "data": {
      "text/plain": [
       "[[0, 1, 2], [0, 1, 2], [0, 1, 2]]"
      ]
     },
     "execution_count": 153,
     "metadata": {},
     "output_type": "execute_result"
    }
   ],
   "source": [
    "mat"
   ]
  },
  {
   "cell_type": "code",
   "execution_count": 159,
   "id": "2f5cee91",
   "metadata": {},
   "outputs": [],
   "source": [
    "mat_short = [[j for j in range(3)] for i in range(3)]    #creating nested list using list comprehension"
   ]
  },
  {
   "cell_type": "code",
   "execution_count": 160,
   "id": "8713767b",
   "metadata": {},
   "outputs": [
    {
     "data": {
      "text/plain": [
       "[[0, 1, 2], [0, 1, 2], [0, 1, 2]]"
      ]
     },
     "execution_count": 160,
     "metadata": {},
     "output_type": "execute_result"
    }
   ],
   "source": [
    "mat_short"
   ]
  },
  {
   "cell_type": "code",
   "execution_count": 166,
   "id": "524379c8",
   "metadata": {},
   "outputs": [
    {
     "data": {
      "text/plain": [
       "[0, 6]"
      ]
     },
     "execution_count": 166,
     "metadata": {},
     "output_type": "execute_result"
    }
   ],
   "source": [
    "[i for i in range(10) if (i%2==0 and i%3==0)] #shortform"
   ]
  },
  {
   "cell_type": "code",
   "execution_count": 167,
   "id": "be08808a",
   "metadata": {},
   "outputs": [],
   "source": [
    "l = []\n",
    "for i in range(10):\n",
    "    if i%2==0 and i%3==0:\n",
    "        l.append(i)"
   ]
  },
  {
   "cell_type": "code",
   "execution_count": 168,
   "id": "b6ba3047",
   "metadata": {},
   "outputs": [
    {
     "data": {
      "text/plain": [
       "[0, 6]"
      ]
     },
     "execution_count": 168,
     "metadata": {},
     "output_type": "execute_result"
    }
   ],
   "source": [
    "l"
   ]
  },
  {
   "cell_type": "code",
   "execution_count": 170,
   "id": "a2095e83",
   "metadata": {},
   "outputs": [],
   "source": [
    "l=[]\n",
    "for i in range(10):\n",
    "    l.append(i)"
   ]
  },
  {
   "cell_type": "code",
   "execution_count": 171,
   "id": "c961ba11",
   "metadata": {},
   "outputs": [
    {
     "data": {
      "text/plain": [
       "[0, 1, 2, 3, 4, 5, 6, 7, 8, 9]"
      ]
     },
     "execution_count": 171,
     "metadata": {},
     "output_type": "execute_result"
    }
   ],
   "source": [
    "l"
   ]
  },
  {
   "cell_type": "code",
   "execution_count": 173,
   "id": "bd54d3f0",
   "metadata": {},
   "outputs": [
    {
     "data": {
      "text/plain": [
       "['zero', 'one', 'none', 'none', 'none', 'none', 'none', 'none', 'none', 'none']"
      ]
     },
     "execution_count": 173,
     "metadata": {},
     "output_type": "execute_result"
    }
   ],
   "source": [
    "[\"zero\" if i==0 else \"one\" if i==1 else 'none' for i in l] #elif statement in short form"
   ]
  },
  {
   "cell_type": "code",
   "execution_count": 175,
   "id": "73e08996",
   "metadata": {},
   "outputs": [
    {
     "data": {
      "text/plain": [
       "[0, 1, 2, 3, 4, 5, 6, 7, 8, 9]"
      ]
     },
     "execution_count": 175,
     "metadata": {},
     "output_type": "execute_result"
    }
   ],
   "source": [
    "l"
   ]
  },
  {
   "cell_type": "code",
   "execution_count": 178,
   "id": "3fd06e11",
   "metadata": {},
   "outputs": [
    {
     "data": {
      "text/plain": [
       "['zero', 'one', 'none', 'none', 'none', 'none', 'none', 'none', 'none', 'none']"
      ]
     },
     "execution_count": 178,
     "metadata": {},
     "output_type": "execute_result"
    }
   ],
   "source": [
    "l1=[]                                        #long way\n",
    "for i in l:\n",
    "    if i==0:\n",
    "        l1.append('zero')\n",
    "    elif i==1:\n",
    "        l1.append('one')\n",
    "    else:\n",
    "        l1.append('none')\n",
    "l1"
   ]
  },
  {
   "cell_type": "code",
   "execution_count": null,
   "id": "1447d48d",
   "metadata": {},
   "outputs": [],
   "source": []
  }
 ],
 "metadata": {
  "kernelspec": {
   "display_name": "Python 3 (ipykernel)",
   "language": "python",
   "name": "python3"
  },
  "language_info": {
   "codemirror_mode": {
    "name": "ipython",
    "version": 3
   },
   "file_extension": ".py",
   "mimetype": "text/x-python",
   "name": "python",
   "nbconvert_exporter": "python",
   "pygments_lexer": "ipython3",
   "version": "3.9.7"
  }
 },
 "nbformat": 4,
 "nbformat_minor": 5
}
