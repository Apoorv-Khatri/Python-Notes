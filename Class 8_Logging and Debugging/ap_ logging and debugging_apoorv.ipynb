{
 "cells": [
  {
   "cell_type": "code",
   "execution_count": null,
   "id": "e1ac0fb0",
   "metadata": {},
   "outputs": [],
   "source": [
    "#we can log following information in a file system or something else -  \n",
    "#1 DEBUG - detailed information of each and every process\n",
    "#2 INFO - Information \n",
    "#3 WARNING - to give warning to the user\n",
    "#4 ERROR\n",
    "# CRITICAL"
   ]
  },
  {
   "cell_type": "code",
   "execution_count": null,
   "id": "16367cb3",
   "metadata": {},
   "outputs": [],
   "source": [
    "# to import logging module"
   ]
  },
  {
   "cell_type": "code",
   "execution_count": null,
   "id": "9f8841fb",
   "metadata": {},
   "outputs": [],
   "source": [
    "import logging as lg #logging package #lg is alias you can give any name"
   ]
  },
  {
   "cell_type": "code",
   "execution_count": null,
   "id": "570358ea",
   "metadata": {},
   "outputs": [],
   "source": [
    "import os"
   ]
  },
  {
   "cell_type": "code",
   "execution_count": null,
   "id": "dddf42dd",
   "metadata": {},
   "outputs": [],
   "source": [
    "os.mkdir('logging') #rantwice"
   ]
  },
  {
   "cell_type": "code",
   "execution_count": null,
   "id": "7a3dbc4a",
   "metadata": {},
   "outputs": [],
   "source": [
    "os.chdir('logging')"
   ]
  },
  {
   "cell_type": "code",
   "execution_count": null,
   "id": "4d237009",
   "metadata": {},
   "outputs": [],
   "source": [
    "pwd()"
   ]
  },
  {
   "cell_type": "code",
   "execution_count": null,
   "id": "cf00c996",
   "metadata": {},
   "outputs": [],
   "source": [
    "lg.basicConfig(filename='test.log',level = lg.ERROR,format= '%(asctime)s %(message)s') #format of loging"
   ]
  },
  {
   "cell_type": "code",
   "execution_count": null,
   "id": "bb66a0d4",
   "metadata": {},
   "outputs": [],
   "source": [
    "lg.info(\"iam going to start my program\")"
   ]
  },
  {
   "cell_type": "code",
   "execution_count": null,
   "id": "cd675b89",
   "metadata": {},
   "outputs": [],
   "source": [
    "lg.warning(\"this is a first warning of my program so modify it \")"
   ]
  },
  {
   "cell_type": "code",
   "execution_count": null,
   "id": "642bff43",
   "metadata": {},
   "outputs": [],
   "source": [
    "lg.warning('hello')"
   ]
  },
  {
   "cell_type": "code",
   "execution_count": null,
   "id": "e0c8662c",
   "metadata": {},
   "outputs": [],
   "source": [
    "lg.info(\"hi this is info\")"
   ]
  },
  {
   "cell_type": "code",
   "execution_count": null,
   "id": "5a9b008a",
   "metadata": {},
   "outputs": [],
   "source": [
    "lg.error('This is a message for a error')"
   ]
  },
  {
   "cell_type": "code",
   "execution_count": null,
   "id": "2caa19fc",
   "metadata": {},
   "outputs": [],
   "source": [
    "#level is used to dump or capture data"
   ]
  },
  {
   "cell_type": "code",
   "execution_count": null,
   "id": "524109e0",
   "metadata": {},
   "outputs": [],
   "source": [
    "def test(a,b):\n",
    "    try:\n",
    "        lg.info(str(a)+str(b))\n",
    "        div=a/b\n",
    "        return a/b\n",
    "    except Exception as e:\n",
    "        print('you can check your log for more info')\n",
    "        lg.error(\"error has occur at divided by 0\")\n",
    "        lg.exception(str(e))"
   ]
  },
  {
   "cell_type": "code",
   "execution_count": null,
   "id": "ec7abec8",
   "metadata": {},
   "outputs": [],
   "source": [
    "test(4,0) #we get an error as infinity dne in python"
   ]
  },
  {
   "cell_type": "code",
   "execution_count": null,
   "id": "da489ebc",
   "metadata": {},
   "outputs": [],
   "source": [
    "#if we want to log the error automatically"
   ]
  },
  {
   "cell_type": "code",
   "execution_count": null,
   "id": "8654c23f",
   "metadata": {},
   "outputs": [],
   "source": [
    "#but we have to write a kind of exception so that it can"
   ]
  },
  {
   "cell_type": "code",
   "execution_count": null,
   "id": "c3a411e4",
   "metadata": {},
   "outputs": [],
   "source": [
    "#handle it, we have to write try and except "
   ]
  },
  {
   "cell_type": "code",
   "execution_count": null,
   "id": "e01905d4",
   "metadata": {},
   "outputs": [],
   "source": [
    "\n",
    "#in file system we can see this\n",
    "\n",
    "#2022-04-01 14:27:39,815 40\n",
    "#2022-04-01 14:27:39,816 error has occur at divided by 0\n",
    "#2022-04-01 14:27:39,816 division by zero\n",
    "#Traceback (most recent call last):\n",
    "#  File \"C:\\Users\\h.p\\AppData\\Local\\Temp/ipykernel_20756/3601236270.py\", line 4, in test\n",
    "#    div=a/b\n",
    "#ZeroDivisionError: division by zero"
   ]
  },
  {
   "cell_type": "code",
   "execution_count": null,
   "id": "2f0acd98",
   "metadata": {},
   "outputs": [],
   "source": [
    "#pwd"
   ]
  },
  {
   "cell_type": "code",
   "execution_count": null,
   "id": "3b287e1d",
   "metadata": {},
   "outputs": [],
   "source": [
    "#use of logging to log when we go through the program\n",
    "\n",
    "import logging as lg\n",
    "lg.basicConfig(filename='C:\\\\Users\\\\h.p\\\\Desktop\\\\DATA SCIENCE\\\\1 Python Programming\\\\Class 8_Logging and Debugging\\\\logging\\\\test2.log')\n",
    "def addin(a,b):\n",
    "    lg.info(\"this is the start of function\")\n",
    "    return(a+b)"
   ]
  },
  {
   "cell_type": "code",
   "execution_count": null,
   "id": "a127aa9c",
   "metadata": {},
   "outputs": [],
   "source": [
    "addin(5,6)"
   ]
  },
  {
   "cell_type": "code",
   "execution_count": null,
   "id": "8c523eb4",
   "metadata": {},
   "outputs": [],
   "source": [
    "addin(7,8)"
   ]
  },
  {
   "cell_type": "code",
   "execution_count": null,
   "id": "7ddce546",
   "metadata": {},
   "outputs": [],
   "source": [
    "lg.shutdown()"
   ]
  },
  {
   "cell_type": "code",
   "execution_count": null,
   "id": "82308e9c",
   "metadata": {},
   "outputs": [],
   "source": [
    "pwd()"
   ]
  },
  {
   "cell_type": "code",
   "execution_count": null,
   "id": "d94f8c14",
   "metadata": {},
   "outputs": [],
   "source": [
    "import logging\n",
    "logging.basicConfig(filename='C:\\\\Users\\\\h.p\\\\Desktop\\\\DATA SCIENCE\\\\1 Python Programming\\\\Class 8_Logging and Debugging\\\\logging\\\\test3.log')\n",
    "logging.debug(\"this is for debugging\")\n",
    "logging.info(\"this is for info\")\n",
    "logging.warning('this is warning')\n",
    "logging.error('this is warning')          #different labels in logging\n",
    "logging.critical('this is critical')\n",
    "logging.exception('this is exception')"
   ]
  },
  {
   "cell_type": "markdown",
   "id": "ff3b3f34",
   "metadata": {},
   "source": [
    "# Practice Question "
   ]
  },
  {
   "cell_type": "markdown",
   "id": "c2cba388",
   "metadata": {},
   "source": [
    "1. Create a logger in your code\n",
    "2. Create one function which can take any number of inputs as an argument and it will be able to \n",
    "return sum of it.\n",
    "3. capture the  user input in the log\n",
    "4. Give your user instruction in log file\n",
    "5. read a log file from python code and show all the logs in console"
   ]
  },
  {
   "cell_type": "code",
   "execution_count": null,
   "id": "6b429575",
   "metadata": {},
   "outputs": [],
   "source": [
    "import logging as lg\n",
    "lg.basicConfig(filename='C:\\\\Users\\\\h.p\\\\Desktop\\\\DATA SCIENCE\\\\1 Python Programming\\\\Class 8_Logging and Debugging\\\\logging\\\\assignmenttest.log')\n",
    "def addfunc(*args):\n",
    "    lg.critical(\"Enter the ints or floats only, the addfunc() function only does numerical addition\")\n",
    "    for i in args:\n",
    "        lg.info(\"The number is\"+i)\n",
    "    sum=0\n",
    "    for i in args:\n",
    "        sum=sum+i\n",
    "    return sum\n",
    "\n",
    "import os\n",
    "f = open(\"assignmenttest.log\",'r+')\n",
    "print(f.read())"
   ]
  },
  {
   "cell_type": "code",
   "execution_count": null,
   "id": "c7b86046",
   "metadata": {},
   "outputs": [],
   "source": [
    "####CHECK###\n",
    "#pwd()"
   ]
  },
  {
   "cell_type": "code",
   "execution_count": null,
   "id": "e0241f99",
   "metadata": {},
   "outputs": [],
   "source": [
    "import os\n",
    "#os.chdir(\"logging\")"
   ]
  },
  {
   "cell_type": "code",
   "execution_count": null,
   "id": "2baaede9",
   "metadata": {},
   "outputs": [],
   "source": [
    "#pwd()"
   ]
  },
  {
   "cell_type": "code",
   "execution_count": null,
   "id": "0eddc4d0",
   "metadata": {},
   "outputs": [],
   "source": [
    "#def addin(*args):\n",
    " #   sum=0\n",
    "  #  for i in args:\n",
    "   #     sum=sum+i\n",
    "    #return sum"
   ]
  },
  {
   "cell_type": "code",
   "execution_count": null,
   "id": "b306dc64",
   "metadata": {},
   "outputs": [],
   "source": [
    "#addin(1,2,3,4,5)"
   ]
  },
  {
   "cell_type": "markdown",
   "id": "9de27e92",
   "metadata": {},
   "source": [
    "# Logging : Some more Information "
   ]
  },
  {
   "cell_type": "code",
   "execution_count": 3,
   "id": "e6251830",
   "metadata": {},
   "outputs": [],
   "source": [
    "os.chdir('logging')"
   ]
  },
  {
   "cell_type": "code",
   "execution_count": 14,
   "id": "fb956bdd",
   "metadata": {},
   "outputs": [],
   "source": [
    "import logging"
   ]
  },
  {
   "cell_type": "code",
   "execution_count": 16,
   "id": "d9b52f77",
   "metadata": {},
   "outputs": [
    {
     "name": "stderr",
     "output_type": "stream",
     "text": [
      "%(asctime)s %(name)s %(levelname)s %(message)s\n",
      "%(asctime)s %(name)s %(levelname)s %(message)s\n",
      "%(asctime)s %(name)s %(levelname)s %(message)s\n",
      "%(asctime)s %(name)s %(levelname)s %(message)s\n",
      "%(asctime)s %(name)s %(levelname)s %(message)s\n",
      "%(asctime)s %(name)s %(levelname)s %(message)s\n",
      "%(asctime)s %(name)s %(levelname)s %(message)s\n",
      "%(asctime)s %(name)s %(levelname)s %(message)s\n",
      "%(asctime)s %(name)s %(levelname)s %(message)s\n"
     ]
    }
   ],
   "source": [
    "logging.basicConfig(filename='test10.log',level=logging.DEBUG,format = '%(asctime)s %(levelname)s %(message)s',filemode='w')\n",
    "\n",
    "#create stream handlers(outputing the logs into console)\n",
    "console_log=logging.StreamHandler() #to print logging information in console as well\n",
    "console_log.setLevel(logging.INFO) #onlyshow INFO log\n",
    "format = '%(asctime)s %(name)s %(levelname)s %(message)s' #example of format\n",
    "console_log.setFormatter(format)\n",
    "\n",
    "#adding loggers\n",
    "logging.getLogger('').addHandler(console_log)\n",
    "logging.info(\"this is my first test code for log\")\n",
    "logger1=logging.getLogger('logger1.area1')#any string name poss  to name  alogger#creating a log seperation #to define area if 2 users are there\n",
    "logger2=logging.getLogger('logger2.area2')#creating a log seperation #to define area if 2 users are there\n",
    "logger1.info(\"this is info for logger one\")\n",
    "logger2.debug(\"this is a debug for logger two\")\n",
    "logger2.info(\"this is a info for logger two\")\n",
    "#getting this print messages due to stream handler only messages\n",
    "#that you have written in streamhandler"
   ]
  },
  {
   "cell_type": "markdown",
   "id": "cd518f44",
   "metadata": {},
   "source": [
    "# How to apply debugging in jupyter "
   ]
  },
  {
   "cell_type": "code",
   "execution_count": 17,
   "id": "dcb11e39",
   "metadata": {},
   "outputs": [],
   "source": [
    "def testdebug():\n",
    "    l=[]\n",
    "    for i in range(10):\n",
    "        l.append(i)\n",
    "        print('We have appended your data in list')\n",
    "    return l"
   ]
  },
  {
   "cell_type": "code",
   "execution_count": 18,
   "id": "792070e8",
   "metadata": {},
   "outputs": [
    {
     "name": "stdout",
     "output_type": "stream",
     "text": [
      "We have appended your data in list\n",
      "We have appended your data in list\n",
      "We have appended your data in list\n",
      "We have appended your data in list\n",
      "We have appended your data in list\n",
      "We have appended your data in list\n",
      "We have appended your data in list\n",
      "We have appended your data in list\n",
      "We have appended your data in list\n",
      "We have appended your data in list\n"
     ]
    },
    {
     "data": {
      "text/plain": [
       "[0, 1, 2, 3, 4, 5, 6, 7, 8, 9]"
      ]
     },
     "execution_count": 18,
     "metadata": {},
     "output_type": "execute_result"
    }
   ],
   "source": [
    "testdebug()"
   ]
  },
  {
   "cell_type": "code",
   "execution_count": 19,
   "id": "f0869073",
   "metadata": {},
   "outputs": [],
   "source": [
    " #we have to install debuger\n"
   ]
  },
  {
   "cell_type": "code",
   "execution_count": 20,
   "id": "ad352e85",
   "metadata": {},
   "outputs": [],
   "source": [
    "#CONSOLE BASED DEBUGGER"
   ]
  },
  {
   "cell_type": "code",
   "execution_count": 23,
   "id": "db72a7e0",
   "metadata": {},
   "outputs": [],
   "source": [
    "#pip and #conda are 2 kinds of repositories from which we can get some packages"
   ]
  },
  {
   "cell_type": "code",
   "execution_count": 24,
   "id": "8a02ea3a",
   "metadata": {},
   "outputs": [
    {
     "ename": "ModuleNotFoundError",
     "evalue": "No module named 'ipdp'",
     "output_type": "error",
     "traceback": [
      "\u001b[1;31m---------------------------------------------------------------------------\u001b[0m",
      "\u001b[1;31mModuleNotFoundError\u001b[0m                       Traceback (most recent call last)",
      "\u001b[1;32m~\\AppData\\Local\\Temp/ipykernel_24500/513458203.py\u001b[0m in \u001b[0;36m<module>\u001b[1;34m\u001b[0m\n\u001b[1;32m----> 1\u001b[1;33m \u001b[1;32mimport\u001b[0m \u001b[0mipdp\u001b[0m\u001b[1;33m\u001b[0m\u001b[1;33m\u001b[0m\u001b[0m\n\u001b[0m",
      "\u001b[1;31mModuleNotFoundError\u001b[0m: No module named 'ipdp'"
     ]
    }
   ],
   "source": [
    "import ipdp #because we have to download the package"
   ]
  },
  {
   "cell_type": "code",
   "execution_count": 26,
   "id": "68bce3b2",
   "metadata": {},
   "outputs": [
    {
     "name": "stdout",
     "output_type": "stream",
     "text": [
      "Collecting ipdb\n",
      "  Downloading ipdb-0.13.9.tar.gz (16 kB)\n",
      "Requirement already satisfied: setuptools in d:\\anaconda\\lib\\site-packages (from ipdb) (58.0.4)\n",
      "Requirement already satisfied: ipython>=7.17.0 in d:\\anaconda\\lib\\site-packages (from ipdb) (7.29.0)\n",
      "Requirement already satisfied: toml>=0.10.2 in d:\\anaconda\\lib\\site-packages (from ipdb) (0.10.2)\n",
      "Requirement already satisfied: decorator in d:\\anaconda\\lib\\site-packages (from ipdb) (5.1.0)\n",
      "Requirement already satisfied: matplotlib-inline in d:\\anaconda\\lib\\site-packages (from ipython>=7.17.0->ipdb) (0.1.2)\n",
      "Requirement already satisfied: pygments in d:\\anaconda\\lib\\site-packages (from ipython>=7.17.0->ipdb) (2.10.0)\n",
      "Requirement already satisfied: prompt-toolkit!=3.0.0,!=3.0.1,<3.1.0,>=2.0.0 in d:\\anaconda\\lib\\site-packages (from ipython>=7.17.0->ipdb) (3.0.20)\n",
      "Requirement already satisfied: pickleshare in d:\\anaconda\\lib\\site-packages (from ipython>=7.17.0->ipdb) (0.7.5)\n",
      "Requirement already satisfied: backcall in d:\\anaconda\\lib\\site-packages (from ipython>=7.17.0->ipdb) (0.2.0)\n",
      "Requirement already satisfied: traitlets>=4.2 in d:\\anaconda\\lib\\site-packages (from ipython>=7.17.0->ipdb) (5.1.0)\n",
      "Requirement already satisfied: colorama in d:\\anaconda\\lib\\site-packages (from ipython>=7.17.0->ipdb) (0.4.4)\n",
      "Requirement already satisfied: jedi>=0.16 in d:\\anaconda\\lib\\site-packages (from ipython>=7.17.0->ipdb) (0.18.0)\n",
      "Requirement already satisfied: parso<0.9.0,>=0.8.0 in d:\\anaconda\\lib\\site-packages (from jedi>=0.16->ipython>=7.17.0->ipdb) (0.8.2)\n",
      "Requirement already satisfied: wcwidth in d:\\anaconda\\lib\\site-packages (from prompt-toolkit!=3.0.0,!=3.0.1,<3.1.0,>=2.0.0->ipython>=7.17.0->ipdb) (0.2.5)\n",
      "Building wheels for collected packages: ipdb\n",
      "  Building wheel for ipdb (setup.py): started\n",
      "  Building wheel for ipdb (setup.py): finished with status 'done'\n",
      "  Created wheel for ipdb: filename=ipdb-0.13.9-py3-none-any.whl size=11648 sha256=6447fc41358883be4a931cfecc4d56c029a9fe3e1ea8b02c9115f497e8c01b43\n",
      "  Stored in directory: c:\\users\\h.p\\appdata\\local\\pip\\cache\\wheels\\f7\\29\\9a\\cf774cd86e9802f075a0be1c9e0830bc062d07897b2e9e87cd\n",
      "Successfully built ipdb\n",
      "Installing collected packages: ipdb\n",
      "Successfully installed ipdb-0.13.9\n"
     ]
    }
   ],
   "source": [
    "!pip install ipdb "
   ]
  },
  {
   "cell_type": "code",
   "execution_count": 2,
   "id": "f4f023af",
   "metadata": {},
   "outputs": [],
   "source": [
    "import ipdb #now we can import ipdb package"
   ]
  },
  {
   "cell_type": "code",
   "execution_count": 3,
   "id": "719c4705",
   "metadata": {},
   "outputs": [],
   "source": [
    "def testdebug():\n",
    "    ipdb.set_trace()  #-> from where to where my code is moving it will show it with ------> \n",
    "    l = []\n",
    "    for i in range(10):\n",
    "        for j in range(5):\n",
    "            l.append(i)\n",
    "            if i == 4 :\n",
    "                continue\n",
    "            print(\"we have appended your data in list \")\n",
    "    return l"
   ]
  },
  {
   "cell_type": "code",
   "execution_count": 4,
   "id": "6c1fc31f",
   "metadata": {},
   "outputs": [
    {
     "name": "stdout",
     "output_type": "stream",
     "text": [
      "> \u001b[1;32mc:\\users\\h.p\\appdata\\local\\temp\\ipykernel_24752\\778366721.py\u001b[0m(3)\u001b[0;36mtestdebug\u001b[1;34m()\u001b[0m\n",
      "\n",
      "ipdb> n\n",
      "> \u001b[1;32mc:\\users\\h.p\\appdata\\local\\temp\\ipykernel_24752\\778366721.py\u001b[0m(4)\u001b[0;36mtestdebug\u001b[1;34m()\u001b[0m\n",
      "\n",
      "ipdb> n\n",
      "> \u001b[1;32mc:\\users\\h.p\\appdata\\local\\temp\\ipykernel_24752\\778366721.py\u001b[0m(5)\u001b[0;36mtestdebug\u001b[1;34m()\u001b[0m\n",
      "\n",
      "ipdb> n\n",
      "> \u001b[1;32mc:\\users\\h.p\\appdata\\local\\temp\\ipykernel_24752\\778366721.py\u001b[0m(6)\u001b[0;36mtestdebug\u001b[1;34m()\u001b[0m\n",
      "\n",
      "ipdb> n\n",
      "> \u001b[1;32mc:\\users\\h.p\\appdata\\local\\temp\\ipykernel_24752\\778366721.py\u001b[0m(7)\u001b[0;36mtestdebug\u001b[1;34m()\u001b[0m\n",
      "\n",
      "ipdb> n\n",
      "> \u001b[1;32mc:\\users\\h.p\\appdata\\local\\temp\\ipykernel_24752\\778366721.py\u001b[0m(9)\u001b[0;36mtestdebug\u001b[1;34m()\u001b[0m\n",
      "\n",
      "ipdb> n\n",
      "we have appended your data in list \n",
      "> \u001b[1;32mc:\\users\\h.p\\appdata\\local\\temp\\ipykernel_24752\\778366721.py\u001b[0m(5)\u001b[0;36mtestdebug\u001b[1;34m()\u001b[0m\n",
      "\n",
      "ipdb> n\n",
      "> \u001b[1;32mc:\\users\\h.p\\appdata\\local\\temp\\ipykernel_24752\\778366721.py\u001b[0m(6)\u001b[0;36mtestdebug\u001b[1;34m()\u001b[0m\n",
      "\n",
      "ipdb> n\n",
      "> \u001b[1;32mc:\\users\\h.p\\appdata\\local\\temp\\ipykernel_24752\\778366721.py\u001b[0m(7)\u001b[0;36mtestdebug\u001b[1;34m()\u001b[0m\n",
      "\n",
      "ipdb> i\n",
      "0\n",
      "ipdb> n\n",
      "> \u001b[1;32mc:\\users\\h.p\\appdata\\local\\temp\\ipykernel_24752\\778366721.py\u001b[0m(9)\u001b[0;36mtestdebug\u001b[1;34m()\u001b[0m\n",
      "\n",
      "ipdb> n\n",
      "we have appended your data in list \n",
      "> \u001b[1;32mc:\\users\\h.p\\appdata\\local\\temp\\ipykernel_24752\\778366721.py\u001b[0m(5)\u001b[0;36mtestdebug\u001b[1;34m()\u001b[0m\n",
      "\n",
      "ipdb> n\n",
      "> \u001b[1;32mc:\\users\\h.p\\appdata\\local\\temp\\ipykernel_24752\\778366721.py\u001b[0m(6)\u001b[0;36mtestdebug\u001b[1;34m()\u001b[0m\n",
      "\n",
      "ipdb> i\n",
      "0\n",
      "ipdb> n\n",
      "> \u001b[1;32mc:\\users\\h.p\\appdata\\local\\temp\\ipykernel_24752\\778366721.py\u001b[0m(7)\u001b[0;36mtestdebug\u001b[1;34m()\u001b[0m\n",
      "\n",
      "ipdb> n\n",
      "> \u001b[1;32mc:\\users\\h.p\\appdata\\local\\temp\\ipykernel_24752\\778366721.py\u001b[0m(9)\u001b[0;36mtestdebug\u001b[1;34m()\u001b[0m\n",
      "\n",
      "ipdb> i\n",
      "0\n",
      "ipdb> n\n",
      "we have appended your data in list \n",
      "> \u001b[1;32mc:\\users\\h.p\\appdata\\local\\temp\\ipykernel_24752\\778366721.py\u001b[0m(5)\u001b[0;36mtestdebug\u001b[1;34m()\u001b[0m\n",
      "\n",
      "ipdb> n\n",
      "> \u001b[1;32mc:\\users\\h.p\\appdata\\local\\temp\\ipykernel_24752\\778366721.py\u001b[0m(6)\u001b[0;36mtestdebug\u001b[1;34m()\u001b[0m\n",
      "\n",
      "ipdb> n\n",
      "> \u001b[1;32mc:\\users\\h.p\\appdata\\local\\temp\\ipykernel_24752\\778366721.py\u001b[0m(7)\u001b[0;36mtestdebug\u001b[1;34m()\u001b[0m\n",
      "\n",
      "ipdb> i\n",
      "0\n",
      "ipdb> n\n",
      "> \u001b[1;32mc:\\users\\h.p\\appdata\\local\\temp\\ipykernel_24752\\778366721.py\u001b[0m(9)\u001b[0;36mtestdebug\u001b[1;34m()\u001b[0m\n",
      "\n",
      "ipdb> n\n",
      "we have appended your data in list \n",
      "> \u001b[1;32mc:\\users\\h.p\\appdata\\local\\temp\\ipykernel_24752\\778366721.py\u001b[0m(5)\u001b[0;36mtestdebug\u001b[1;34m()\u001b[0m\n",
      "\n",
      "ipdb> i\n",
      "0\n",
      "ipdb> n\n",
      "> \u001b[1;32mc:\\users\\h.p\\appdata\\local\\temp\\ipykernel_24752\\778366721.py\u001b[0m(6)\u001b[0;36mtestdebug\u001b[1;34m()\u001b[0m\n",
      "\n",
      "ipdb> n\n",
      "> \u001b[1;32mc:\\users\\h.p\\appdata\\local\\temp\\ipykernel_24752\\778366721.py\u001b[0m(7)\u001b[0;36mtestdebug\u001b[1;34m()\u001b[0m\n",
      "\n",
      "ipdb> n\n",
      "> \u001b[1;32mc:\\users\\h.p\\appdata\\local\\temp\\ipykernel_24752\\778366721.py\u001b[0m(9)\u001b[0;36mtestdebug\u001b[1;34m()\u001b[0m\n",
      "\n",
      "ipdb> n\n",
      "we have appended your data in list \n",
      "> \u001b[1;32mc:\\users\\h.p\\appdata\\local\\temp\\ipykernel_24752\\778366721.py\u001b[0m(5)\u001b[0;36mtestdebug\u001b[1;34m()\u001b[0m\n",
      "\n",
      "ipdb> n\n",
      "> \u001b[1;32mc:\\users\\h.p\\appdata\\local\\temp\\ipykernel_24752\\778366721.py\u001b[0m(4)\u001b[0;36mtestdebug\u001b[1;34m()\u001b[0m\n",
      "\n",
      "ipdb> n\n",
      "> \u001b[1;32mc:\\users\\h.p\\appdata\\local\\temp\\ipykernel_24752\\778366721.py\u001b[0m(5)\u001b[0;36mtestdebug\u001b[1;34m()\u001b[0m\n",
      "\n",
      "ipdb> n\n",
      "> \u001b[1;32mc:\\users\\h.p\\appdata\\local\\temp\\ipykernel_24752\\778366721.py\u001b[0m(6)\u001b[0;36mtestdebug\u001b[1;34m()\u001b[0m\n",
      "\n",
      "ipdb> n\n",
      "> \u001b[1;32mc:\\users\\h.p\\appdata\\local\\temp\\ipykernel_24752\\778366721.py\u001b[0m(7)\u001b[0;36mtestdebug\u001b[1;34m()\u001b[0m\n",
      "\n",
      "ipdb> n\n",
      "> \u001b[1;32mc:\\users\\h.p\\appdata\\local\\temp\\ipykernel_24752\\778366721.py\u001b[0m(9)\u001b[0;36mtestdebug\u001b[1;34m()\u001b[0m\n",
      "\n",
      "ipdb> nn\n",
      "*** NameError: name 'nn' is not defined\n",
      "ipdb> \n",
      "*** NameError: name 'nn' is not defined\n",
      "ipdb> n\n",
      "we have appended your data in list \n",
      "> \u001b[1;32mc:\\users\\h.p\\appdata\\local\\temp\\ipykernel_24752\\778366721.py\u001b[0m(5)\u001b[0;36mtestdebug\u001b[1;34m()\u001b[0m\n",
      "\n",
      "ipdb> n\n",
      "> \u001b[1;32mc:\\users\\h.p\\appdata\\local\\temp\\ipykernel_24752\\778366721.py\u001b[0m(6)\u001b[0;36mtestdebug\u001b[1;34m()\u001b[0m\n",
      "\n",
      "ipdb> n\n",
      "> \u001b[1;32mc:\\users\\h.p\\appdata\\local\\temp\\ipykernel_24752\\778366721.py\u001b[0m(7)\u001b[0;36mtestdebug\u001b[1;34m()\u001b[0m\n",
      "\n",
      "ipdb> exit\n"
     ]
    },
    {
     "ename": "BdbQuit",
     "evalue": "",
     "output_type": "error",
     "traceback": [
      "\u001b[1;31m---------------------------------------------------------------------------\u001b[0m",
      "\u001b[1;31mBdbQuit\u001b[0m                                   Traceback (most recent call last)",
      "\u001b[1;32m~\\AppData\\Local\\Temp/ipykernel_24752/3801750879.py\u001b[0m in \u001b[0;36m<module>\u001b[1;34m\u001b[0m\n\u001b[1;32m----> 1\u001b[1;33m \u001b[0mtestdebug\u001b[0m\u001b[1;33m(\u001b[0m\u001b[1;33m)\u001b[0m\u001b[1;33m\u001b[0m\u001b[1;33m\u001b[0m\u001b[0m\n\u001b[0m",
      "\u001b[1;32m~\\AppData\\Local\\Temp/ipykernel_24752/778366721.py\u001b[0m in \u001b[0;36mtestdebug\u001b[1;34m()\u001b[0m\n\u001b[0;32m      5\u001b[0m         \u001b[1;32mfor\u001b[0m \u001b[0mj\u001b[0m \u001b[1;32min\u001b[0m \u001b[0mrange\u001b[0m\u001b[1;33m(\u001b[0m\u001b[1;36m5\u001b[0m\u001b[1;33m)\u001b[0m\u001b[1;33m:\u001b[0m\u001b[1;33m\u001b[0m\u001b[1;33m\u001b[0m\u001b[0m\n\u001b[0;32m      6\u001b[0m             \u001b[0ml\u001b[0m\u001b[1;33m.\u001b[0m\u001b[0mappend\u001b[0m\u001b[1;33m(\u001b[0m\u001b[0mi\u001b[0m\u001b[1;33m)\u001b[0m\u001b[1;33m\u001b[0m\u001b[1;33m\u001b[0m\u001b[0m\n\u001b[1;32m----> 7\u001b[1;33m             \u001b[1;32mif\u001b[0m \u001b[0mi\u001b[0m \u001b[1;33m==\u001b[0m \u001b[1;36m4\u001b[0m \u001b[1;33m:\u001b[0m\u001b[1;33m\u001b[0m\u001b[1;33m\u001b[0m\u001b[0m\n\u001b[0m\u001b[0;32m      8\u001b[0m                 \u001b[1;32mcontinue\u001b[0m\u001b[1;33m\u001b[0m\u001b[1;33m\u001b[0m\u001b[0m\n\u001b[0;32m      9\u001b[0m             \u001b[0mprint\u001b[0m\u001b[1;33m(\u001b[0m\u001b[1;34m\"we have appended your data in list \"\u001b[0m\u001b[1;33m)\u001b[0m\u001b[1;33m\u001b[0m\u001b[1;33m\u001b[0m\u001b[0m\n",
      "\u001b[1;32m~\\AppData\\Local\\Temp/ipykernel_24752/778366721.py\u001b[0m in \u001b[0;36mtestdebug\u001b[1;34m()\u001b[0m\n\u001b[0;32m      5\u001b[0m         \u001b[1;32mfor\u001b[0m \u001b[0mj\u001b[0m \u001b[1;32min\u001b[0m \u001b[0mrange\u001b[0m\u001b[1;33m(\u001b[0m\u001b[1;36m5\u001b[0m\u001b[1;33m)\u001b[0m\u001b[1;33m:\u001b[0m\u001b[1;33m\u001b[0m\u001b[1;33m\u001b[0m\u001b[0m\n\u001b[0;32m      6\u001b[0m             \u001b[0ml\u001b[0m\u001b[1;33m.\u001b[0m\u001b[0mappend\u001b[0m\u001b[1;33m(\u001b[0m\u001b[0mi\u001b[0m\u001b[1;33m)\u001b[0m\u001b[1;33m\u001b[0m\u001b[1;33m\u001b[0m\u001b[0m\n\u001b[1;32m----> 7\u001b[1;33m             \u001b[1;32mif\u001b[0m \u001b[0mi\u001b[0m \u001b[1;33m==\u001b[0m \u001b[1;36m4\u001b[0m \u001b[1;33m:\u001b[0m\u001b[1;33m\u001b[0m\u001b[1;33m\u001b[0m\u001b[0m\n\u001b[0m\u001b[0;32m      8\u001b[0m                 \u001b[1;32mcontinue\u001b[0m\u001b[1;33m\u001b[0m\u001b[1;33m\u001b[0m\u001b[0m\n\u001b[0;32m      9\u001b[0m             \u001b[0mprint\u001b[0m\u001b[1;33m(\u001b[0m\u001b[1;34m\"we have appended your data in list \"\u001b[0m\u001b[1;33m)\u001b[0m\u001b[1;33m\u001b[0m\u001b[1;33m\u001b[0m\u001b[0m\n",
      "\u001b[1;32mD:\\Anaconda\\lib\\bdb.py\u001b[0m in \u001b[0;36mtrace_dispatch\u001b[1;34m(self, frame, event, arg)\u001b[0m\n\u001b[0;32m     86\u001b[0m             \u001b[1;32mreturn\u001b[0m \u001b[1;31m# None\u001b[0m\u001b[1;33m\u001b[0m\u001b[1;33m\u001b[0m\u001b[0m\n\u001b[0;32m     87\u001b[0m         \u001b[1;32mif\u001b[0m \u001b[0mevent\u001b[0m \u001b[1;33m==\u001b[0m \u001b[1;34m'line'\u001b[0m\u001b[1;33m:\u001b[0m\u001b[1;33m\u001b[0m\u001b[1;33m\u001b[0m\u001b[0m\n\u001b[1;32m---> 88\u001b[1;33m             \u001b[1;32mreturn\u001b[0m \u001b[0mself\u001b[0m\u001b[1;33m.\u001b[0m\u001b[0mdispatch_line\u001b[0m\u001b[1;33m(\u001b[0m\u001b[0mframe\u001b[0m\u001b[1;33m)\u001b[0m\u001b[1;33m\u001b[0m\u001b[1;33m\u001b[0m\u001b[0m\n\u001b[0m\u001b[0;32m     89\u001b[0m         \u001b[1;32mif\u001b[0m \u001b[0mevent\u001b[0m \u001b[1;33m==\u001b[0m \u001b[1;34m'call'\u001b[0m\u001b[1;33m:\u001b[0m\u001b[1;33m\u001b[0m\u001b[1;33m\u001b[0m\u001b[0m\n\u001b[0;32m     90\u001b[0m             \u001b[1;32mreturn\u001b[0m \u001b[0mself\u001b[0m\u001b[1;33m.\u001b[0m\u001b[0mdispatch_call\u001b[0m\u001b[1;33m(\u001b[0m\u001b[0mframe\u001b[0m\u001b[1;33m,\u001b[0m \u001b[0marg\u001b[0m\u001b[1;33m)\u001b[0m\u001b[1;33m\u001b[0m\u001b[1;33m\u001b[0m\u001b[0m\n",
      "\u001b[1;32mD:\\Anaconda\\lib\\bdb.py\u001b[0m in \u001b[0;36mdispatch_line\u001b[1;34m(self, frame)\u001b[0m\n\u001b[0;32m    111\u001b[0m         \u001b[1;32mif\u001b[0m \u001b[0mself\u001b[0m\u001b[1;33m.\u001b[0m\u001b[0mstop_here\u001b[0m\u001b[1;33m(\u001b[0m\u001b[0mframe\u001b[0m\u001b[1;33m)\u001b[0m \u001b[1;32mor\u001b[0m \u001b[0mself\u001b[0m\u001b[1;33m.\u001b[0m\u001b[0mbreak_here\u001b[0m\u001b[1;33m(\u001b[0m\u001b[0mframe\u001b[0m\u001b[1;33m)\u001b[0m\u001b[1;33m:\u001b[0m\u001b[1;33m\u001b[0m\u001b[1;33m\u001b[0m\u001b[0m\n\u001b[0;32m    112\u001b[0m             \u001b[0mself\u001b[0m\u001b[1;33m.\u001b[0m\u001b[0muser_line\u001b[0m\u001b[1;33m(\u001b[0m\u001b[0mframe\u001b[0m\u001b[1;33m)\u001b[0m\u001b[1;33m\u001b[0m\u001b[1;33m\u001b[0m\u001b[0m\n\u001b[1;32m--> 113\u001b[1;33m             \u001b[1;32mif\u001b[0m \u001b[0mself\u001b[0m\u001b[1;33m.\u001b[0m\u001b[0mquitting\u001b[0m\u001b[1;33m:\u001b[0m \u001b[1;32mraise\u001b[0m \u001b[0mBdbQuit\u001b[0m\u001b[1;33m\u001b[0m\u001b[1;33m\u001b[0m\u001b[0m\n\u001b[0m\u001b[0;32m    114\u001b[0m         \u001b[1;32mreturn\u001b[0m \u001b[0mself\u001b[0m\u001b[1;33m.\u001b[0m\u001b[0mtrace_dispatch\u001b[0m\u001b[1;33m\u001b[0m\u001b[1;33m\u001b[0m\u001b[0m\n\u001b[0;32m    115\u001b[0m \u001b[1;33m\u001b[0m\u001b[0m\n",
      "\u001b[1;31mBdbQuit\u001b[0m: "
     ]
    }
   ],
   "source": [
    "testdebug()"
   ]
  },
  {
   "cell_type": "code",
   "execution_count": 6,
   "id": "3d21df60",
   "metadata": {},
   "outputs": [],
   "source": [
    "#in my jupyter it is not coming well #not very much important though"
   ]
  },
  {
   "cell_type": "code",
   "execution_count": 8,
   "id": "5da62633",
   "metadata": {},
   "outputs": [],
   "source": [
    "#pycharm and VSCode have actually use visual rather than codes to do \n",
    "#debugging"
   ]
  },
  {
   "cell_type": "markdown",
   "id": "9ade7b66",
   "metadata": {},
   "source": []
  }
 ],
 "metadata": {
  "kernelspec": {
   "display_name": "Python 3 (ipykernel)",
   "language": "python",
   "name": "python3"
  },
  "language_info": {
   "codemirror_mode": {
    "name": "ipython",
    "version": 3
   },
   "file_extension": ".py",
   "mimetype": "text/x-python",
   "name": "python",
   "nbconvert_exporter": "python",
   "pygments_lexer": "ipython3",
   "version": "3.9.7"
  }
 },
 "nbformat": 4,
 "nbformat_minor": 5
}
