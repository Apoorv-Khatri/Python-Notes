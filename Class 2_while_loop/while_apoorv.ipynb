{
 "cells": [
  {
   "cell_type": "markdown",
   "id": "978600c7",
   "metadata": {},
   "source": [
    "# and/or"
   ]
  },
  {
   "cell_type": "code",
   "execution_count": 4,
   "id": "6f883e09",
   "metadata": {},
   "outputs": [
    {
     "name": "stdout",
     "output_type": "stream",
     "text": [
      "not valid\n"
     ]
    }
   ],
   "source": [
    "a=10\n",
    "b=20\n",
    "\n",
    "if a==10 and b>20:\n",
    "    print(\"this is valid statement\")\n",
    "else:\n",
    "    print(\"not valid\")"
   ]
  },
  {
   "cell_type": "code",
   "execution_count": 5,
   "id": "18d8facb",
   "metadata": {},
   "outputs": [
    {
     "data": {
      "text/plain": [
       "False"
      ]
     },
     "execution_count": 5,
     "metadata": {},
     "output_type": "execute_result"
    }
   ],
   "source": [
    "True and False"
   ]
  },
  {
   "cell_type": "code",
   "execution_count": 6,
   "id": "9ab59e65",
   "metadata": {},
   "outputs": [
    {
     "data": {
      "text/plain": [
       "True"
      ]
     },
     "execution_count": 6,
     "metadata": {},
     "output_type": "execute_result"
    }
   ],
   "source": [
    "True and True"
   ]
  },
  {
   "cell_type": "code",
   "execution_count": 7,
   "id": "cf7aeab2",
   "metadata": {},
   "outputs": [
    {
     "data": {
      "text/plain": [
       "True"
      ]
     },
     "execution_count": 7,
     "metadata": {},
     "output_type": "execute_result"
    }
   ],
   "source": [
    "True or False"
   ]
  },
  {
   "cell_type": "markdown",
   "id": "0a012c00",
   "metadata": {},
   "source": [
    "# While Statement"
   ]
  },
  {
   "cell_type": "code",
   "execution_count": 19,
   "id": "5a5ae4e4",
   "metadata": {},
   "outputs": [
    {
     "name": "stdout",
     "output_type": "stream",
     "text": [
      "value is 1\n",
      "value is 2\n",
      "value is 3\n",
      "value is 4\n",
      "value is 5\n",
      "value is 6\n",
      "value is 7\n",
      "value is 8\n",
      "value is 9\n",
      "value is 10\n"
     ]
    }
   ],
   "source": [
    "#simple use\n",
    "\n",
    "n=1\n",
    "while n<=10:\n",
    "    print(\"value is\",n)\n",
    "    n=n+1\n",
    "    \n"
   ]
  },
  {
   "cell_type": "code",
   "execution_count": 24,
   "id": "e276f88b",
   "metadata": {},
   "outputs": [
    {
     "name": "stdout",
     "output_type": "stream",
     "text": [
      "speed 0\n",
      "speed 1\n",
      "speed 2\n",
      "speed 3\n",
      "speed 4\n",
      "speed 5\n",
      "speed 6\n",
      "speed 7\n",
      "speed 8\n",
      "speed 9\n"
     ]
    }
   ],
   "source": [
    "initial_speed = 0\n",
    "final_speed = 10\n",
    "\n",
    "while initial_speed < final_speed:\n",
    "    print(\"speed\",initial_speed)\n",
    "    initial_speed = initial_speed+1\n",
    "    \n"
   ]
  },
  {
   "cell_type": "code",
   "execution_count": 23,
   "id": "a0246f83",
   "metadata": {},
   "outputs": [
    {
     "name": "stdout",
     "output_type": "stream",
     "text": [
      "speed 1\n",
      "speed 2\n",
      "speed 3\n",
      "speed 4\n",
      "speed 5\n",
      "speed 6\n",
      "speed 7\n",
      "speed 8\n",
      "speed 9\n"
     ]
    }
   ],
   "source": [
    "initial_speed = 0\n",
    "final_speed = 10\n",
    "count = 1\n",
    "while initial_speed < final_speed:\n",
    "    print(\"speed\",count)\n",
    "    count = count +1\n",
    "    if count ==10:\n",
    "        break   #break is used to go out of loop \n",
    "        \n"
   ]
  },
  {
   "cell_type": "code",
   "execution_count": 25,
   "id": "7a32ea42",
   "metadata": {},
   "outputs": [
    {
     "name": "stdout",
     "output_type": "stream",
     "text": [
      "1\n",
      "2\n",
      "3\n",
      "4\n"
     ]
    }
   ],
   "source": [
    "i = 1\n",
    "j = 5\n",
    "while i < j:\n",
    "    print(i)\n",
    "    i = i +1"
   ]
  },
  {
   "cell_type": "code",
   "execution_count": null,
   "id": "b15629e0",
   "metadata": {},
   "outputs": [],
   "source": []
  }
 ],
 "metadata": {
  "kernelspec": {
   "display_name": "Python 3 (ipykernel)",
   "language": "python",
   "name": "python3"
  },
  "language_info": {
   "codemirror_mode": {
    "name": "ipython",
    "version": 3
   },
   "file_extension": ".py",
   "mimetype": "text/x-python",
   "name": "python",
   "nbconvert_exporter": "python",
   "pygments_lexer": "ipython3",
   "version": "3.9.7"
  }
 },
 "nbformat": 4,
 "nbformat_minor": 5
}
