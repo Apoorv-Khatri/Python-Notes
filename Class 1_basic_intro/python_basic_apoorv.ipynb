{
 "cells": [
  {
   "cell_type": "code",
   "execution_count": 28,
   "id": "2a42ddf5",
   "metadata": {},
   "outputs": [
    {
     "name": "stdout",
     "output_type": "stream",
     "text": [
      "apoorv\n"
     ]
    }
   ],
   "source": [
    "print(\"apoorv\") #to print"
   ]
  },
  {
   "cell_type": "code",
   "execution_count": 29,
   "id": "ac279b73",
   "metadata": {},
   "outputs": [
    {
     "ename": "SyntaxError",
     "evalue": "invalid syntax (Temp/ipykernel_22532/26957918.py, line 1)",
     "output_type": "error",
     "traceback": [
      "\u001b[1;36m  File \u001b[1;32m\"C:\\Users\\h.p\\AppData\\Local\\Temp/ipykernel_22532/26957918.py\"\u001b[1;36m, line \u001b[1;32m1\u001b[0m\n\u001b[1;33m    print \"apoorv khatri is my name\" #this is valid in 2.x not 3.x, without ()\u001b[0m\n\u001b[1;37m          ^\u001b[0m\n\u001b[1;31mSyntaxError\u001b[0m\u001b[1;31m:\u001b[0m invalid syntax\n"
     ]
    }
   ],
   "source": [
    "print \"apoorv khatri is my name\" #this is valid in 2.x not 3.x, without ()"
   ]
  },
  {
   "cell_type": "code",
   "execution_count": 30,
   "id": "ce4830d3",
   "metadata": {},
   "outputs": [
    {
     "data": {
      "text/plain": [
       "3"
      ]
     },
     "execution_count": 30,
     "metadata": {},
     "output_type": "execute_result"
    }
   ],
   "source": [
    "1+2"
   ]
  },
  {
   "cell_type": "code",
   "execution_count": 31,
   "id": "7c1288bf",
   "metadata": {},
   "outputs": [
    {
     "ename": "NameError",
     "evalue": "name 'apoorv' is not defined",
     "output_type": "error",
     "traceback": [
      "\u001b[1;31m---------------------------------------------------------------------------\u001b[0m",
      "\u001b[1;31mNameError\u001b[0m                                 Traceback (most recent call last)",
      "\u001b[1;32m~\\AppData\\Local\\Temp/ipykernel_22532/3671790649.py\u001b[0m in \u001b[0;36m<module>\u001b[1;34m\u001b[0m\n\u001b[1;32m----> 1\u001b[1;33m \u001b[0mapoorv\u001b[0m\u001b[1;33m\u001b[0m\u001b[1;33m\u001b[0m\u001b[0m\n\u001b[0m",
      "\u001b[1;31mNameError\u001b[0m: name 'apoorv' is not defined"
     ]
    }
   ],
   "source": [
    "apoorv"
   ]
  },
  {
   "cell_type": "code",
   "execution_count": 32,
   "id": "1787426f",
   "metadata": {},
   "outputs": [],
   "source": [
    "# -> for single line comment\n",
    "#apoorv"
   ]
  },
  {
   "cell_type": "code",
   "execution_count": 33,
   "id": "61b3a833",
   "metadata": {},
   "outputs": [
    {
     "data": {
      "text/plain": [
       "'tripple quotes\\nis used to make \\nmultiple line comment'"
      ]
     },
     "execution_count": 33,
     "metadata": {},
     "output_type": "execute_result"
    }
   ],
   "source": [
    "\n",
    "\"\"\"tripple quotes\n",
    "is used to make \n",
    "multiple line comment\"\"\""
   ]
  },
  {
   "cell_type": "code",
   "execution_count": 34,
   "id": "5c63aa1f",
   "metadata": {},
   "outputs": [],
   "source": [
    "\n",
    "a = 100 #variable creation"
   ]
  },
  {
   "cell_type": "code",
   "execution_count": 35,
   "id": "8c501fa1",
   "metadata": {},
   "outputs": [
    {
     "data": {
      "text/plain": [
       "100"
      ]
     },
     "execution_count": 35,
     "metadata": {},
     "output_type": "execute_result"
    }
   ],
   "source": [
    "a"
   ]
  },
  {
   "cell_type": "code",
   "execution_count": 36,
   "id": "79ed3919",
   "metadata": {},
   "outputs": [
    {
     "name": "stdout",
     "output_type": "stream",
     "text": [
      "enter the number\n"
     ]
    }
   ],
   "source": [
    "\n",
    "\n",
    "a=input(\"enter the number\")"
   ]
  },
  {
   "cell_type": "code",
   "execution_count": 37,
   "id": "15cd7cfb",
   "metadata": {},
   "outputs": [
    {
     "ename": "TypeError",
     "evalue": "can only concatenate str (not \"int\") to str",
     "output_type": "error",
     "traceback": [
      "\u001b[1;31m---------------------------------------------------------------------------\u001b[0m",
      "\u001b[1;31mTypeError\u001b[0m                                 Traceback (most recent call last)",
      "\u001b[1;32m~\\AppData\\Local\\Temp/ipykernel_22532/2850499023.py\u001b[0m in \u001b[0;36m<module>\u001b[1;34m\u001b[0m\n\u001b[1;32m----> 1\u001b[1;33m \u001b[0ma\u001b[0m \u001b[1;33m+\u001b[0m \u001b[1;36m12\u001b[0m\u001b[1;33m\u001b[0m\u001b[1;33m\u001b[0m\u001b[0m\n\u001b[0m",
      "\u001b[1;31mTypeError\u001b[0m: can only concatenate str (not \"int\") to str"
     ]
    }
   ],
   "source": [
    "a + 12"
   ]
  },
  {
   "cell_type": "code",
   "execution_count": 38,
   "id": "674c2222",
   "metadata": {},
   "outputs": [
    {
     "ename": "ValueError",
     "evalue": "invalid literal for int() with base 10: ''",
     "output_type": "error",
     "traceback": [
      "\u001b[1;31m---------------------------------------------------------------------------\u001b[0m",
      "\u001b[1;31mValueError\u001b[0m                                Traceback (most recent call last)",
      "\u001b[1;32m~\\AppData\\Local\\Temp/ipykernel_22532/2629493554.py\u001b[0m in \u001b[0;36m<module>\u001b[1;34m\u001b[0m\n\u001b[1;32m----> 1\u001b[1;33m \u001b[0ml\u001b[0m \u001b[1;33m=\u001b[0m \u001b[0mint\u001b[0m\u001b[1;33m(\u001b[0m\u001b[0ma\u001b[0m\u001b[1;33m)\u001b[0m\u001b[1;33m\u001b[0m\u001b[1;33m\u001b[0m\u001b[0m\n\u001b[0m",
      "\u001b[1;31mValueError\u001b[0m: invalid literal for int() with base 10: ''"
     ]
    }
   ],
   "source": [
    "l = int(a)"
   ]
  },
  {
   "cell_type": "code",
   "execution_count": 39,
   "id": "484d43b3",
   "metadata": {},
   "outputs": [
    {
     "data": {
      "text/plain": [
       "24"
      ]
     },
     "execution_count": 39,
     "metadata": {},
     "output_type": "execute_result"
    }
   ],
   "source": [
    "l + 12"
   ]
  },
  {
   "cell_type": "code",
   "execution_count": 40,
   "id": "19b21053",
   "metadata": {},
   "outputs": [],
   "source": [
    "#RAM is a temporary storage "
   ]
  },
  {
   "cell_type": "code",
   "execution_count": 41,
   "id": "c0b1f46e",
   "metadata": {},
   "outputs": [],
   "source": [
    "\n",
    "a = 10"
   ]
  },
  {
   "cell_type": "code",
   "execution_count": 42,
   "id": "4f9e77ff",
   "metadata": {},
   "outputs": [
    {
     "data": {
      "text/plain": [
       "int"
      ]
     },
     "execution_count": 42,
     "metadata": {},
     "output_type": "execute_result"
    }
   ],
   "source": [
    "type (a) #type is one of inbuilt functions"
   ]
  },
  {
   "cell_type": "code",
   "execution_count": 43,
   "id": "5c56348e",
   "metadata": {},
   "outputs": [],
   "source": [
    "b= \"apoorv\""
   ]
  },
  {
   "cell_type": "code",
   "execution_count": 44,
   "id": "68a8fd55",
   "metadata": {},
   "outputs": [
    {
     "data": {
      "text/plain": [
       "str"
      ]
     },
     "execution_count": 44,
     "metadata": {},
     "output_type": "execute_result"
    }
   ],
   "source": [
    "type(b)"
   ]
  },
  {
   "cell_type": "code",
   "execution_count": 45,
   "id": "b49e82c8",
   "metadata": {},
   "outputs": [
    {
     "data": {
      "text/plain": [
       "'apoorv'"
      ]
     },
     "execution_count": 45,
     "metadata": {},
     "output_type": "execute_result"
    }
   ],
   "source": [
    "b #calling a variable"
   ]
  },
  {
   "cell_type": "code",
   "execution_count": 47,
   "id": "2b79c4d8",
   "metadata": {},
   "outputs": [
    {
     "name": "stdout",
     "output_type": "stream",
     "text": [
      "apoorv\n"
     ]
    }
   ],
   "source": [
    "print(b) #' ' won't be there"
   ]
  },
  {
   "cell_type": "code",
   "execution_count": 48,
   "id": "f4446a57",
   "metadata": {},
   "outputs": [
    {
     "name": "stdout",
     "output_type": "stream",
     "text": [
      "apoorv khatri\n"
     ]
    }
   ],
   "source": [
    "print(b,\"khatri\")"
   ]
  },
  {
   "cell_type": "code",
   "execution_count": 49,
   "id": "e4cfface",
   "metadata": {},
   "outputs": [],
   "source": [
    "v,m = 1, \"a\"\n"
   ]
  },
  {
   "cell_type": "code",
   "execution_count": 50,
   "id": "acab312e",
   "metadata": {},
   "outputs": [
    {
     "data": {
      "text/plain": [
       "1"
      ]
     },
     "execution_count": 50,
     "metadata": {},
     "output_type": "execute_result"
    }
   ],
   "source": [
    "v"
   ]
  },
  {
   "cell_type": "code",
   "execution_count": 51,
   "id": "6864678a",
   "metadata": {},
   "outputs": [
    {
     "data": {
      "text/plain": [
       "'a'"
      ]
     },
     "execution_count": 51,
     "metadata": {},
     "output_type": "execute_result"
    }
   ],
   "source": [
    "m"
   ]
  },
  {
   "cell_type": "code",
   "execution_count": 52,
   "id": "629200d8",
   "metadata": {},
   "outputs": [
    {
     "name": "stdout",
     "output_type": "stream",
     "text": [
      "1 a\n"
     ]
    }
   ],
   "source": [
    "print(v,m)"
   ]
  },
  {
   "cell_type": "code",
   "execution_count": 53,
   "id": "f2eccab8",
   "metadata": {},
   "outputs": [
    {
     "data": {
      "text/plain": [
       "(1, 'a')"
      ]
     },
     "execution_count": 53,
     "metadata": {},
     "output_type": "execute_result"
    }
   ],
   "source": [
    "v,m"
   ]
  },
  {
   "cell_type": "code",
   "execution_count": 54,
   "id": "ed4bc9f9",
   "metadata": {},
   "outputs": [],
   "source": [
    "#this is a tuple"
   ]
  },
  {
   "cell_type": "code",
   "execution_count": 57,
   "id": "5237ff92",
   "metadata": {},
   "outputs": [],
   "source": [
    "m = v,m #proof that this  a tuple\n"
   ]
  },
  {
   "cell_type": "code",
   "execution_count": 58,
   "id": "dd5d8f62",
   "metadata": {},
   "outputs": [
    {
     "data": {
      "text/plain": [
       "tuple"
      ]
     },
     "execution_count": 58,
     "metadata": {},
     "output_type": "execute_result"
    }
   ],
   "source": [
    "type(m)"
   ]
  },
  {
   "cell_type": "code",
   "execution_count": 59,
   "id": "0e5d73ec",
   "metadata": {},
   "outputs": [
    {
     "ename": "SyntaxError",
     "evalue": "invalid syntax (Temp/ipykernel_22532/1962567830.py, line 1)",
     "output_type": "error",
     "traceback": [
      "\u001b[1;36m  File \u001b[1;32m\"C:\\Users\\h.p\\AppData\\Local\\Temp/ipykernel_22532/1962567830.py\"\u001b[1;36m, line \u001b[1;32m1\u001b[0m\n\u001b[1;33m    1b = \"apoorv\" #invalid variable name as it starts with number\u001b[0m\n\u001b[1;37m     ^\u001b[0m\n\u001b[1;31mSyntaxError\u001b[0m\u001b[1;31m:\u001b[0m invalid syntax\n"
     ]
    }
   ],
   "source": [
    "1b = \"apoorv\" #invalid variable name as it starts with number"
   ]
  },
  {
   "cell_type": "code",
   "execution_count": 60,
   "id": "e73b0065",
   "metadata": {},
   "outputs": [],
   "source": [
    "_ap = 10 #can start with _\n"
   ]
  },
  {
   "cell_type": "code",
   "execution_count": 62,
   "id": "6c9a679a",
   "metadata": {},
   "outputs": [
    {
     "data": {
      "text/plain": [
       "10"
      ]
     },
     "execution_count": 62,
     "metadata": {},
     "output_type": "execute_result"
    }
   ],
   "source": [
    "_ap"
   ]
  },
  {
   "cell_type": "code",
   "execution_count": 63,
   "id": "0ac33f1b",
   "metadata": {},
   "outputs": [],
   "source": [
    "a = 1.6"
   ]
  },
  {
   "cell_type": "code",
   "execution_count": 64,
   "id": "03df796a",
   "metadata": {},
   "outputs": [
    {
     "data": {
      "text/plain": [
       "float"
      ]
     },
     "execution_count": 64,
     "metadata": {},
     "output_type": "execute_result"
    }
   ],
   "source": [
    "type(a)"
   ]
  },
  {
   "cell_type": "code",
   "execution_count": 65,
   "id": "ff147fcf",
   "metadata": {},
   "outputs": [],
   "source": [
    "#python understand the data type itself "
   ]
  },
  {
   "cell_type": "code",
   "execution_count": 66,
   "id": "52a04f5d",
   "metadata": {},
   "outputs": [],
   "source": [
    "g = True\n",
    "f = False"
   ]
  },
  {
   "cell_type": "code",
   "execution_count": 67,
   "id": "67a4bae7",
   "metadata": {},
   "outputs": [
    {
     "data": {
      "text/plain": [
       "True"
      ]
     },
     "execution_count": 67,
     "metadata": {},
     "output_type": "execute_result"
    }
   ],
   "source": [
    "g"
   ]
  },
  {
   "cell_type": "code",
   "execution_count": 69,
   "id": "3a0f219a",
   "metadata": {},
   "outputs": [
    {
     "data": {
      "text/plain": [
       "bool"
      ]
     },
     "execution_count": 69,
     "metadata": {},
     "output_type": "execute_result"
    }
   ],
   "source": [
    "type(g) #g is boolean"
   ]
  },
  {
   "cell_type": "code",
   "execution_count": 70,
   "id": "99f41214",
   "metadata": {},
   "outputs": [
    {
     "data": {
      "text/plain": [
       "4"
      ]
     },
     "execution_count": 70,
     "metadata": {},
     "output_type": "execute_result"
    }
   ],
   "source": [
    "True + True + True + False + True"
   ]
  },
  {
   "cell_type": "code",
   "execution_count": 71,
   "id": "2a523e6c",
   "metadata": {},
   "outputs": [],
   "source": [
    "# Value of True = 1 and False  = 0\n"
   ]
  },
  {
   "cell_type": "code",
   "execution_count": 72,
   "id": "759ab31f",
   "metadata": {},
   "outputs": [
    {
     "data": {
      "text/plain": [
       "0"
      ]
     },
     "execution_count": 72,
     "metadata": {},
     "output_type": "execute_result"
    }
   ],
   "source": [
    "False - True + True"
   ]
  },
  {
   "cell_type": "code",
   "execution_count": 73,
   "id": "08dde7ba",
   "metadata": {},
   "outputs": [
    {
     "data": {
      "text/plain": [
       "True"
      ]
     },
     "execution_count": 73,
     "metadata": {},
     "output_type": "execute_result"
    }
   ],
   "source": [
    "True"
   ]
  },
  {
   "cell_type": "code",
   "execution_count": 81,
   "id": "4acdcd1c",
   "metadata": {},
   "outputs": [
    {
     "ename": "ZeroDivisionError",
     "evalue": "division by zero",
     "output_type": "error",
     "traceback": [
      "\u001b[1;31m---------------------------------------------------------------------------\u001b[0m",
      "\u001b[1;31mZeroDivisionError\u001b[0m                         Traceback (most recent call last)",
      "\u001b[1;32m~\\AppData\\Local\\Temp/ipykernel_22532/3627988756.py\u001b[0m in \u001b[0;36m<module>\u001b[1;34m\u001b[0m\n\u001b[1;32m----> 1\u001b[1;33m \u001b[1;32mTrue\u001b[0m \u001b[1;33m/\u001b[0m \u001b[1;32mFalse\u001b[0m \u001b[1;31m#in python it is undefined, but in numpy it is possible and = infy\u001b[0m\u001b[1;33m\u001b[0m\u001b[1;33m\u001b[0m\u001b[0m\n\u001b[0m",
      "\u001b[1;31mZeroDivisionError\u001b[0m: division by zero"
     ]
    }
   ],
   "source": [
    "True / False #in python it is undefined, but in numpy it is possible and = infy"
   ]
  },
  {
   "cell_type": "code",
   "execution_count": 75,
   "id": "fada792c",
   "metadata": {},
   "outputs": [
    {
     "data": {
      "text/plain": [
       "0.0"
      ]
     },
     "execution_count": 75,
     "metadata": {},
     "output_type": "execute_result"
    }
   ],
   "source": [
    "False/True"
   ]
  },
  {
   "cell_type": "code",
   "execution_count": 76,
   "id": "9de0031e",
   "metadata": {},
   "outputs": [
    {
     "data": {
      "text/plain": [
       "float"
      ]
     },
     "execution_count": 76,
     "metadata": {},
     "output_type": "execute_result"
    }
   ],
   "source": [
    "type(False/True)"
   ]
  },
  {
   "cell_type": "code",
   "execution_count": 77,
   "id": "ff24a293",
   "metadata": {},
   "outputs": [],
   "source": [
    "import numpy"
   ]
  },
  {
   "cell_type": "code",
   "execution_count": 86,
   "id": "ec26b606",
   "metadata": {},
   "outputs": [],
   "source": [
    "#complex number\n",
    "\n",
    "n = 45 + 6j #45 -> Real part, 6 _> imaginary part, j is only notation "
   ]
  },
  {
   "cell_type": "code",
   "execution_count": 87,
   "id": "1a1c714a",
   "metadata": {},
   "outputs": [
    {
     "data": {
      "text/plain": [
       "complex"
      ]
     },
     "execution_count": 87,
     "metadata": {},
     "output_type": "execute_result"
    }
   ],
   "source": [
    "type(n)\n"
   ]
  },
  {
   "cell_type": "code",
   "execution_count": 89,
   "id": "aae20517",
   "metadata": {},
   "outputs": [
    {
     "data": {
      "text/plain": [
       "45.0"
      ]
     },
     "execution_count": 89,
     "metadata": {},
     "output_type": "execute_result"
    }
   ],
   "source": [
    "n.real #45.0 upcasting the data type to float"
   ]
  },
  {
   "cell_type": "code",
   "execution_count": 99,
   "id": "01508195",
   "metadata": {},
   "outputs": [
    {
     "data": {
      "text/plain": [
       "6.0"
      ]
     },
     "execution_count": 99,
     "metadata": {},
     "output_type": "execute_result"
    }
   ],
   "source": [
    "n.imag #6.0 upcasting the data type to float"
   ]
  },
  {
   "cell_type": "code",
   "execution_count": 100,
   "id": "74b9906f",
   "metadata": {},
   "outputs": [
    {
     "ename": "TypeError",
     "evalue": "unsupported operand type(s) for +: 'int' and 'str'",
     "output_type": "error",
     "traceback": [
      "\u001b[1;31m---------------------------------------------------------------------------\u001b[0m",
      "\u001b[1;31mTypeError\u001b[0m                                 Traceback (most recent call last)",
      "\u001b[1;32m~\\AppData\\Local\\Temp/ipykernel_22532/469887736.py\u001b[0m in \u001b[0;36m<module>\u001b[1;34m\u001b[0m\n\u001b[1;32m----> 1\u001b[1;33m \u001b[1;36m1\u001b[0m \u001b[1;33m+\u001b[0m \u001b[1;34m\"subh\"\u001b[0m \u001b[1;31m#error\u001b[0m\u001b[1;33m\u001b[0m\u001b[1;33m\u001b[0m\u001b[0m\n\u001b[0m",
      "\u001b[1;31mTypeError\u001b[0m: unsupported operand type(s) for +: 'int' and 'str'"
     ]
    }
   ],
   "source": [
    "1 + \"subh\" #error"
   ]
  },
  {
   "cell_type": "code",
   "execution_count": 101,
   "id": "a19234d4",
   "metadata": {},
   "outputs": [],
   "source": [
    "#error because you can't add int and str"
   ]
  },
  {
   "cell_type": "code",
   "execution_count": 102,
   "id": "92610da7",
   "metadata": {},
   "outputs": [
    {
     "data": {
      "text/plain": [
       "'ppaa'"
      ]
     },
     "execution_count": 102,
     "metadata": {},
     "output_type": "execute_result"
    }
   ],
   "source": [
    "\"pp\"+\"aa\""
   ]
  },
  {
   "cell_type": "code",
   "execution_count": 103,
   "id": "ff2ed648",
   "metadata": {},
   "outputs": [
    {
     "data": {
      "text/plain": [
       "'1subh'"
      ]
     },
     "execution_count": 103,
     "metadata": {},
     "output_type": "execute_result"
    }
   ],
   "source": [
    "str(1) + \"subh\" #concatenation"
   ]
  },
  {
   "cell_type": "code",
   "execution_count": 104,
   "id": "fb3d9ffe",
   "metadata": {},
   "outputs": [
    {
     "data": {
      "text/plain": [
       "'it is called TYPECASTING - converting one data type into other datatype.'"
      ]
     },
     "execution_count": 104,
     "metadata": {},
     "output_type": "execute_result"
    }
   ],
   "source": [
    "\"\"\"it is called TYPECASTING - converting one data type into other datatype.\"\"\""
   ]
  },
  {
   "cell_type": "code",
   "execution_count": 105,
   "id": "37a4aae3",
   "metadata": {},
   "outputs": [
    {
     "data": {
      "text/plain": [
       "2.12"
      ]
     },
     "execution_count": 105,
     "metadata": {},
     "output_type": "execute_result"
    }
   ],
   "source": [
    "1 + 1.12"
   ]
  },
  {
   "cell_type": "code",
   "execution_count": 98,
   "id": "3e9fe396",
   "metadata": {},
   "outputs": [],
   "source": [
    "#upcasting the data type"
   ]
  },
  {
   "cell_type": "code",
   "execution_count": 106,
   "id": "301ba397",
   "metadata": {},
   "outputs": [
    {
     "data": {
      "text/plain": [
       "'apoorvapoorvapoorv'"
      ]
     },
     "execution_count": 106,
     "metadata": {},
     "output_type": "execute_result"
    }
   ],
   "source": [
    "\"apoorv\"*3"
   ]
  },
  {
   "cell_type": "code",
   "execution_count": 1,
   "id": "1763b260",
   "metadata": {},
   "outputs": [
    {
     "name": "stdout",
     "output_type": "stream",
     "text": [
      "10\n"
     ]
    }
   ],
   "source": [
    "a = input()"
   ]
  },
  {
   "cell_type": "code",
   "execution_count": 2,
   "id": "270cc66e",
   "metadata": {},
   "outputs": [
    {
     "data": {
      "text/plain": [
       "'10'"
      ]
     },
     "execution_count": 2,
     "metadata": {},
     "output_type": "execute_result"
    }
   ],
   "source": [
    "a #in str\n"
   ]
  },
  {
   "cell_type": "code",
   "execution_count": 3,
   "id": "13a77551",
   "metadata": {},
   "outputs": [],
   "source": [
    "a = int(a)"
   ]
  },
  {
   "cell_type": "code",
   "execution_count": 4,
   "id": "ffee991b",
   "metadata": {},
   "outputs": [
    {
     "data": {
      "text/plain": [
       "10"
      ]
     },
     "execution_count": 4,
     "metadata": {},
     "output_type": "execute_result"
    }
   ],
   "source": [
    "a"
   ]
  },
  {
   "cell_type": "code",
   "execution_count": 5,
   "id": "55f915a2",
   "metadata": {},
   "outputs": [],
   "source": [
    "l = 4+9j"
   ]
  },
  {
   "cell_type": "code",
   "execution_count": 6,
   "id": "69fa8272",
   "metadata": {},
   "outputs": [
    {
     "data": {
      "text/plain": [
       "complex"
      ]
     },
     "execution_count": 6,
     "metadata": {},
     "output_type": "execute_result"
    }
   ],
   "source": [
    "type(l)"
   ]
  },
  {
   "cell_type": "code",
   "execution_count": 7,
   "id": "f102a6f5",
   "metadata": {},
   "outputs": [
    {
     "name": "stdout",
     "output_type": "stream",
     "text": [
      "(4+9j) hi\n"
     ]
    }
   ],
   "source": [
    "print(l,\"hi\")"
   ]
  },
  {
   "cell_type": "code",
   "execution_count": 8,
   "id": "f6a4d6fc",
   "metadata": {},
   "outputs": [
    {
     "name": "stdout",
     "output_type": "stream",
     "text": [
      "enter 3 number12,12,10\n"
     ]
    },
    {
     "ename": "ValueError",
     "evalue": "too many values to unpack (expected 3)",
     "output_type": "error",
     "traceback": [
      "\u001b[1;31m---------------------------------------------------------------------------\u001b[0m",
      "\u001b[1;31mValueError\u001b[0m                                Traceback (most recent call last)",
      "\u001b[1;32m~\\AppData\\Local\\Temp/ipykernel_22844/255400899.py\u001b[0m in \u001b[0;36m<module>\u001b[1;34m\u001b[0m\n\u001b[1;32m----> 1\u001b[1;33m \u001b[0ma\u001b[0m\u001b[1;33m,\u001b[0m\u001b[0mb\u001b[0m\u001b[1;33m,\u001b[0m\u001b[0mc\u001b[0m \u001b[1;33m=\u001b[0m \u001b[0minput\u001b[0m\u001b[1;33m(\u001b[0m\u001b[1;34m\"enter 3 number\"\u001b[0m\u001b[1;33m)\u001b[0m\u001b[1;33m\u001b[0m\u001b[1;33m\u001b[0m\u001b[0m\n\u001b[0m",
      "\u001b[1;31mValueError\u001b[0m: too many values to unpack (expected 3)"
     ]
    }
   ],
   "source": [
    "a,b,c = input(\"enter 3 number\")"
   ]
  },
  {
   "cell_type": "code",
   "execution_count": 12,
   "id": "0f1c6105",
   "metadata": {},
   "outputs": [
    {
     "name": "stdout",
     "output_type": "stream",
     "text": [
      "12\n",
      "12\n",
      "10\n"
     ]
    }
   ],
   "source": [
    "a = int(input())\n",
    "b = int(input())\n",
    "c= int(input())"
   ]
  },
  {
   "cell_type": "code",
   "execution_count": 13,
   "id": "9b4124e5",
   "metadata": {},
   "outputs": [],
   "source": [
    " o1 = (a+b)/c"
   ]
  },
  {
   "cell_type": "code",
   "execution_count": 14,
   "id": "28a709e0",
   "metadata": {},
   "outputs": [
    {
     "name": "stdout",
     "output_type": "stream",
     "text": [
      "2.4\n"
     ]
    }
   ],
   "source": [
    "print(o1)"
   ]
  },
  {
   "cell_type": "code",
   "execution_count": 15,
   "id": "af24b9d9",
   "metadata": {},
   "outputs": [],
   "source": [
    "l = o1 + 3+9j"
   ]
  },
  {
   "cell_type": "code",
   "execution_count": 16,
   "id": "b59790fc",
   "metadata": {},
   "outputs": [
    {
     "data": {
      "text/plain": [
       "complex"
      ]
     },
     "execution_count": 16,
     "metadata": {},
     "output_type": "execute_result"
    }
   ],
   "source": [
    "type(l)"
   ]
  },
  {
   "cell_type": "code",
   "execution_count": 17,
   "id": "d66d008b",
   "metadata": {},
   "outputs": [
    {
     "data": {
      "text/plain": [
       "(5.4+9j)"
      ]
     },
     "execution_count": 17,
     "metadata": {},
     "output_type": "execute_result"
    }
   ],
   "source": [
    "l"
   ]
  },
  {
   "cell_type": "code",
   "execution_count": 19,
   "id": "d53c6bbc",
   "metadata": {},
   "outputs": [
    {
     "name": "stdout",
     "output_type": "stream",
     "text": [
      "(5.4+9j) apoorv\n"
     ]
    }
   ],
   "source": [
    "print(l,\"apoorv\")"
   ]
  },
  {
   "cell_type": "code",
   "execution_count": 20,
   "id": "ef1b0a89",
   "metadata": {},
   "outputs": [
    {
     "ename": "TypeError",
     "evalue": "unsupported operand type(s) for +: 'complex' and 'str'",
     "output_type": "error",
     "traceback": [
      "\u001b[1;31m---------------------------------------------------------------------------\u001b[0m",
      "\u001b[1;31mTypeError\u001b[0m                                 Traceback (most recent call last)",
      "\u001b[1;32m~\\AppData\\Local\\Temp/ipykernel_22844/2509853617.py\u001b[0m in \u001b[0;36m<module>\u001b[1;34m\u001b[0m\n\u001b[1;32m----> 1\u001b[1;33m \u001b[0ml\u001b[0m\u001b[1;33m+\u001b[0m\u001b[1;34m\"a\"\u001b[0m\u001b[1;33m\u001b[0m\u001b[1;33m\u001b[0m\u001b[0m\n\u001b[0m",
      "\u001b[1;31mTypeError\u001b[0m: unsupported operand type(s) for +: 'complex' and 'str'"
     ]
    }
   ],
   "source": [
    "l+\"a\""
   ]
  },
  {
   "cell_type": "code",
   "execution_count": 22,
   "id": "56e7b0e9",
   "metadata": {},
   "outputs": [
    {
     "data": {
      "text/plain": [
       "'(5.4+9j)a'"
      ]
     },
     "execution_count": 22,
     "metadata": {},
     "output_type": "execute_result"
    }
   ],
   "source": [
    "str(l)+\"a\" #concatenate"
   ]
  },
  {
   "cell_type": "markdown",
   "id": "4ddac21c",
   "metadata": {},
   "source": [
    "# If/else/elif - Conditional Statements"
   ]
  },
  {
   "cell_type": "code",
   "execution_count": 25,
   "id": "c88ef83c",
   "metadata": {},
   "outputs": [
    {
     "name": "stdout",
     "output_type": "stream",
     "text": [
      "input a number lesser than 34...89\n",
      "less than 100\n"
     ]
    }
   ],
   "source": [
    "a = int(input(\"input a number lesser than 34...\"))\n",
    "if a<34:\n",
    "    print(\"less than 34\") #indentation shows heirarchy in pyhton, we don't use {}\n",
    "elif a<100:\n",
    "    print(\"less than 100\")\n",
    "else:\n",
    "    print('greater than 34')  "
   ]
  },
  {
   "cell_type": "code",
   "execution_count": 27,
   "id": "e4adceb6",
   "metadata": {},
   "outputs": [
    {
     "name": "stdout",
     "output_type": "stream",
     "text": [
      "input a number lesser than 34...12231\n",
      "greater than 34 and 100\n"
     ]
    }
   ],
   "source": [
    "a = int(input(\"input a number lesser than 34...\"))\n",
    "if a<34:\n",
    "    print(\"less than 34\") #indentation shows heirarchy in pyhton, we don't use {}\n",
    "elif a<100:\n",
    "    print(\"less than 100\")\n",
    "else:\n",
    "    print('greater than 34 and 100')"
   ]
  },
  {
   "cell_type": "code",
   "execution_count": 30,
   "id": "e8be2102",
   "metadata": {},
   "outputs": [
    {
     "name": "stdout",
     "output_type": "stream",
     "text": [
      "what is your salary4\n",
      "i will buy a car\n"
     ]
    }
   ],
   "source": [
    "sal = int(input(\"what is your salary\"))\n",
    "if sal<1000:\n",
    "    print(\"i will buy a car\")\n",
    "elif sal<500:\n",
    "    print(\"i will go for a bike\")\n",
    "elif sal<100:\n",
    "    print(\"i will not buy anything\")\n",
    "else:\n",
    "    print(\"i will go for saving\")"
   ]
  },
  {
   "cell_type": "code",
   "execution_count": 32,
   "id": "c8b2cfc5",
   "metadata": {},
   "outputs": [
    {
     "name": "stdout",
     "output_type": "stream",
     "text": [
      "what is your salary45000\n",
      "your salary is good\n",
      "i will go with car nano\n"
     ]
    }
   ],
   "source": [
    "#nested if else\n",
    "\n",
    "sal = int(input(\"what is your salary\"))\n",
    "if sal>1000:\n",
    "    print(\"your salary is good\")\n",
    "    if sal>5000:\n",
    "        print(\"i will go with car nano\")\n",
    "    elif sal>10000:\n",
    "        print(\"i will go for mauruti\")\n",
    "    elif sal>50000:\n",
    "        print(\"i will go for toyota\")\n",
    "    else:\n",
    "        print(\"I will rent a car\")\n",
    "elif sal>500:\n",
    "    print(\"i will go for a bike\")\n",
    "elif sal>100:\n",
    "    print(\"i will not buy anything\")\n",
    "else:\n",
    "    print(\"i will go for saving\")"
   ]
  },
  {
   "cell_type": "code",
   "execution_count": 33,
   "id": "3743a8b8",
   "metadata": {},
   "outputs": [
    {
     "data": {
      "text/plain": [
       "'take care of the flow of \\nthe code'"
      ]
     },
     "execution_count": 33,
     "metadata": {},
     "output_type": "execute_result"
    }
   ],
   "source": [
    "\"\"\"take care of the flow of \n",
    "the code\"\"\"\n"
   ]
  },
  {
   "cell_type": "code",
   "execution_count": 34,
   "id": "8a280d22",
   "metadata": {},
   "outputs": [],
   "source": [
    "#use keyword **pass** if you don' want to run anything in the body of\n",
    "#if/else/elif"
   ]
  },
  {
   "cell_type": "code",
   "execution_count": null,
   "id": "3f345058",
   "metadata": {},
   "outputs": [],
   "source": []
  },
  {
   "cell_type": "code",
   "execution_count": null,
   "id": "30dcc5f7",
   "metadata": {},
   "outputs": [],
   "source": []
  },
  {
   "cell_type": "code",
   "execution_count": null,
   "id": "617e920d",
   "metadata": {},
   "outputs": [],
   "source": []
  },
  {
   "cell_type": "code",
   "execution_count": null,
   "id": "8c1dd62a",
   "metadata": {},
   "outputs": [],
   "source": []
  }
 ],
 "metadata": {
  "kernelspec": {
   "display_name": "Python 3 (ipykernel)",
   "language": "python",
   "name": "python3"
  },
  "language_info": {
   "codemirror_mode": {
    "name": "ipython",
    "version": 3
   },
   "file_extension": ".py",
   "mimetype": "text/x-python",
   "name": "python",
   "nbconvert_exporter": "python",
   "pygments_lexer": "ipython3",
   "version": "3.9.7"
  }
 },
 "nbformat": 4,
 "nbformat_minor": 5
}
