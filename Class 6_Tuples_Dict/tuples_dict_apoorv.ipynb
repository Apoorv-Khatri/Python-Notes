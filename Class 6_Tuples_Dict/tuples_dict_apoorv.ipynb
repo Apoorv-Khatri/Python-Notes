{
 "cells": [
  {
   "cell_type": "code",
   "execution_count": 1,
   "id": "55ea8ab8",
   "metadata": {},
   "outputs": [],
   "source": [
    "t = ()"
   ]
  },
  {
   "cell_type": "code",
   "execution_count": 2,
   "id": "18b1c68b",
   "metadata": {},
   "outputs": [
    {
     "data": {
      "text/plain": [
       "tuple"
      ]
     },
     "execution_count": 2,
     "metadata": {},
     "output_type": "execute_result"
    }
   ],
   "source": [
    "type(t)"
   ]
  },
  {
   "cell_type": "code",
   "execution_count": 3,
   "id": "79f70821",
   "metadata": {},
   "outputs": [],
   "source": [
    "t1 = ('apoorv',123,3.5,True) #can contain hetrogeneoud data"
   ]
  },
  {
   "cell_type": "code",
   "execution_count": 4,
   "id": "f5a9cf7d",
   "metadata": {},
   "outputs": [
    {
     "data": {
      "text/plain": [
       "123"
      ]
     },
     "execution_count": 4,
     "metadata": {},
     "output_type": "execute_result"
    }
   ],
   "source": [
    "t1[1]"
   ]
  },
  {
   "cell_type": "code",
   "execution_count": 5,
   "id": "c16908ab",
   "metadata": {},
   "outputs": [
    {
     "ename": "TypeError",
     "evalue": "'tuple' object is not callable",
     "output_type": "error",
     "traceback": [
      "\u001b[1;31m---------------------------------------------------------------------------\u001b[0m",
      "\u001b[1;31mTypeError\u001b[0m                                 Traceback (most recent call last)",
      "\u001b[1;32m~\\AppData\\Local\\Temp/ipykernel_3900/153678413.py\u001b[0m in \u001b[0;36m<module>\u001b[1;34m\u001b[0m\n\u001b[1;32m----> 1\u001b[1;33m \u001b[0mt1\u001b[0m\u001b[1;33m(\u001b[0m\u001b[1;36m10\u001b[0m\u001b[1;33m)\u001b[0m \u001b[1;31m#will give error as there is no 10 index\u001b[0m\u001b[1;33m\u001b[0m\u001b[1;33m\u001b[0m\u001b[0m\n\u001b[0m",
      "\u001b[1;31mTypeError\u001b[0m: 'tuple' object is not callable"
     ]
    }
   ],
   "source": [
    "t1(10) #will give error as there is no 10 index"
   ]
  },
  {
   "cell_type": "code",
   "execution_count": 6,
   "id": "d3294964",
   "metadata": {},
   "outputs": [
    {
     "data": {
      "text/plain": [
       "('apoorv', 123)"
      ]
     },
     "execution_count": 6,
     "metadata": {},
     "output_type": "execute_result"
    }
   ],
   "source": [
    "t1[0:2] #slicing is possible"
   ]
  },
  {
   "cell_type": "code",
   "execution_count": 7,
   "id": "15f2ace0",
   "metadata": {},
   "outputs": [
    {
     "data": {
      "text/plain": [
       "(True, 3.5, 123, 'apoorv')"
      ]
     },
     "execution_count": 7,
     "metadata": {},
     "output_type": "execute_result"
    }
   ],
   "source": [
    "t1[::-1]#to reverse"
   ]
  },
  {
   "cell_type": "code",
   "execution_count": 8,
   "id": "df1a76f3",
   "metadata": {},
   "outputs": [],
   "source": [
    "l1=[1,2,3,4]"
   ]
  },
  {
   "cell_type": "code",
   "execution_count": 9,
   "id": "1ad1d9ed",
   "metadata": {},
   "outputs": [],
   "source": [
    "l1[0] = 100 #list allows mutation"
   ]
  },
  {
   "cell_type": "code",
   "execution_count": 10,
   "id": "ff04565d",
   "metadata": {},
   "outputs": [
    {
     "data": {
      "text/plain": [
       "[100, 2, 3, 4]"
      ]
     },
     "execution_count": 10,
     "metadata": {},
     "output_type": "execute_result"
    }
   ],
   "source": [
    "l1"
   ]
  },
  {
   "cell_type": "code",
   "execution_count": 11,
   "id": "3b6655c5",
   "metadata": {},
   "outputs": [],
   "source": [
    "t1=(1,2,3,4)"
   ]
  },
  {
   "cell_type": "code",
   "execution_count": 12,
   "id": "445a4c26",
   "metadata": {},
   "outputs": [
    {
     "ename": "TypeError",
     "evalue": "'tuple' object does not support item assignment",
     "output_type": "error",
     "traceback": [
      "\u001b[1;31m---------------------------------------------------------------------------\u001b[0m",
      "\u001b[1;31mTypeError\u001b[0m                                 Traceback (most recent call last)",
      "\u001b[1;32m~\\AppData\\Local\\Temp/ipykernel_3900/1081420958.py\u001b[0m in \u001b[0;36m<module>\u001b[1;34m\u001b[0m\n\u001b[1;32m----> 1\u001b[1;33m \u001b[0mt1\u001b[0m\u001b[1;33m[\u001b[0m\u001b[1;36m0\u001b[0m\u001b[1;33m]\u001b[0m\u001b[1;33m=\u001b[0m\u001b[1;36m100\u001b[0m \u001b[1;31m#tuples are immutable\u001b[0m\u001b[1;33m\u001b[0m\u001b[1;33m\u001b[0m\u001b[0m\n\u001b[0m",
      "\u001b[1;31mTypeError\u001b[0m: 'tuple' object does not support item assignment"
     ]
    }
   ],
   "source": [
    "t1[0]=100 #tuples are immutable"
   ]
  },
  {
   "cell_type": "code",
   "execution_count": 13,
   "id": "fbff1407",
   "metadata": {},
   "outputs": [],
   "source": [
    "tt = (123,12)"
   ]
  },
  {
   "cell_type": "code",
   "execution_count": 14,
   "id": "5896d6f2",
   "metadata": {},
   "outputs": [
    {
     "data": {
      "text/plain": [
       "(1, 2, 3, 4, 123, 12)"
      ]
     },
     "execution_count": 14,
     "metadata": {},
     "output_type": "execute_result"
    }
   ],
   "source": [
    "t1+tt #appending one tuple to other"
   ]
  },
  {
   "cell_type": "code",
   "execution_count": 15,
   "id": "7089020f",
   "metadata": {},
   "outputs": [
    {
     "data": {
      "text/plain": [
       "(123, 12, 123, 12, 123, 12, 123, 12)"
      ]
     },
     "execution_count": 15,
     "metadata": {},
     "output_type": "execute_result"
    }
   ],
   "source": [
    "tt*4"
   ]
  },
  {
   "cell_type": "code",
   "execution_count": 16,
   "id": "1e2284db",
   "metadata": {},
   "outputs": [],
   "source": [
    "tp = (12,14,\"apoorv\",True,23.1)"
   ]
  },
  {
   "cell_type": "code",
   "execution_count": 17,
   "id": "7333f58c",
   "metadata": {},
   "outputs": [
    {
     "data": {
      "text/plain": [
       "(12, 14, 'apoorv', True, 23.1)"
      ]
     },
     "execution_count": 17,
     "metadata": {},
     "output_type": "execute_result"
    }
   ],
   "source": [
    "tp"
   ]
  },
  {
   "cell_type": "code",
   "execution_count": 18,
   "id": "95bec7ed",
   "metadata": {},
   "outputs": [
    {
     "data": {
      "text/plain": [
       "True"
      ]
     },
     "execution_count": 18,
     "metadata": {},
     "output_type": "execute_result"
    }
   ],
   "source": [
    "23.1 in tp"
   ]
  },
  {
   "cell_type": "code",
   "execution_count": 19,
   "id": "be292b9f",
   "metadata": {},
   "outputs": [
    {
     "data": {
      "text/plain": [
       "False"
      ]
     },
     "execution_count": 19,
     "metadata": {},
     "output_type": "execute_result"
    }
   ],
   "source": [
    "43 in tp"
   ]
  },
  {
   "cell_type": "code",
   "execution_count": 20,
   "id": "2b4febe7",
   "metadata": {},
   "outputs": [
    {
     "data": {
      "text/plain": [
       "4"
      ]
     },
     "execution_count": 20,
     "metadata": {},
     "output_type": "execute_result"
    }
   ],
   "source": [
    "t1 = (1,2,3,4)\n",
    "max(t1)"
   ]
  },
  {
   "cell_type": "code",
   "execution_count": 21,
   "id": "78c29664",
   "metadata": {},
   "outputs": [],
   "source": [
    "t2=('as','zz') #max acc to dictonary"
   ]
  },
  {
   "cell_type": "code",
   "execution_count": 22,
   "id": "bda4cf00",
   "metadata": {},
   "outputs": [
    {
     "data": {
      "text/plain": [
       "'zz'"
      ]
     },
     "execution_count": 22,
     "metadata": {},
     "output_type": "execute_result"
    }
   ],
   "source": [
    "max(t2)"
   ]
  },
  {
   "cell_type": "code",
   "execution_count": 23,
   "id": "3e46e29c",
   "metadata": {},
   "outputs": [],
   "source": [
    "t3=(12,14,\"apoorv\",True,23.1)"
   ]
  },
  {
   "cell_type": "code",
   "execution_count": 24,
   "id": "d6f80dc1",
   "metadata": {},
   "outputs": [
    {
     "data": {
      "text/plain": [
       "1"
      ]
     },
     "execution_count": 24,
     "metadata": {},
     "output_type": "execute_result"
    }
   ],
   "source": [
    "t3.count(12) #total occurences of a object"
   ]
  },
  {
   "cell_type": "code",
   "execution_count": 25,
   "id": "8827057d",
   "metadata": {},
   "outputs": [
    {
     "data": {
      "text/plain": [
       "0"
      ]
     },
     "execution_count": 25,
     "metadata": {},
     "output_type": "execute_result"
    }
   ],
   "source": [
    "t3.index(12) #index of first occurence of the object"
   ]
  },
  {
   "cell_type": "code",
   "execution_count": 26,
   "id": "4fd78a4b",
   "metadata": {},
   "outputs": [
    {
     "data": {
      "text/plain": [
       "1"
      ]
     },
     "execution_count": 26,
     "metadata": {},
     "output_type": "execute_result"
    }
   ],
   "source": [
    "min(t1)"
   ]
  },
  {
   "cell_type": "code",
   "execution_count": 27,
   "id": "9cec8909",
   "metadata": {},
   "outputs": [
    {
     "ename": "TypeError",
     "evalue": "'<' not supported between instances of 'str' and 'int'",
     "output_type": "error",
     "traceback": [
      "\u001b[1;31m---------------------------------------------------------------------------\u001b[0m",
      "\u001b[1;31mTypeError\u001b[0m                                 Traceback (most recent call last)",
      "\u001b[1;32m~\\AppData\\Local\\Temp/ipykernel_3900/639690999.py\u001b[0m in \u001b[0;36m<module>\u001b[1;34m\u001b[0m\n\u001b[1;32m----> 1\u001b[1;33m \u001b[0mmin\u001b[0m\u001b[1;33m(\u001b[0m\u001b[0mt3\u001b[0m\u001b[1;33m)\u001b[0m \u001b[1;31m#as mix of string and int can't be compared\u001b[0m\u001b[1;33m\u001b[0m\u001b[1;33m\u001b[0m\u001b[0m\n\u001b[0m",
      "\u001b[1;31mTypeError\u001b[0m: '<' not supported between instances of 'str' and 'int'"
     ]
    }
   ],
   "source": [
    "min(t3) #as mix of string and int can't be compared"
   ]
  },
  {
   "cell_type": "code",
   "execution_count": 28,
   "id": "a522d0cd",
   "metadata": {},
   "outputs": [],
   "source": [
    "t = (1,2,3)"
   ]
  },
  {
   "cell_type": "code",
   "execution_count": 29,
   "id": "ce2f18bd",
   "metadata": {},
   "outputs": [],
   "source": [
    "list1 = list(t)"
   ]
  },
  {
   "cell_type": "code",
   "execution_count": 30,
   "id": "fe1d2fb2",
   "metadata": {},
   "outputs": [
    {
     "data": {
      "text/plain": [
       "[1, 2, 3]"
      ]
     },
     "execution_count": 30,
     "metadata": {},
     "output_type": "execute_result"
    }
   ],
   "source": [
    "list1"
   ]
  },
  {
   "cell_type": "code",
   "execution_count": 31,
   "id": "797b1d79",
   "metadata": {},
   "outputs": [],
   "source": [
    "list1.insert(1,45)"
   ]
  },
  {
   "cell_type": "code",
   "execution_count": 32,
   "id": "64cc2031",
   "metadata": {},
   "outputs": [
    {
     "data": {
      "text/plain": [
       "[1, 45, 2, 3]"
      ]
     },
     "execution_count": 32,
     "metadata": {},
     "output_type": "execute_result"
    }
   ],
   "source": [
    "list1"
   ]
  },
  {
   "cell_type": "code",
   "execution_count": 33,
   "id": "7d24af6d",
   "metadata": {},
   "outputs": [],
   "source": [
    "tup = tuple(list1)"
   ]
  },
  {
   "cell_type": "code",
   "execution_count": 34,
   "id": "3e7d4e14",
   "metadata": {},
   "outputs": [
    {
     "data": {
      "text/plain": [
       "(1, 45, 2, 3)"
      ]
     },
     "execution_count": 34,
     "metadata": {},
     "output_type": "execute_result"
    }
   ],
   "source": [
    "tup"
   ]
  },
  {
   "cell_type": "code",
   "execution_count": 35,
   "id": "2704f5b0",
   "metadata": {},
   "outputs": [
    {
     "data": {
      "text/plain": [
       "(1, 2, 3)"
      ]
     },
     "execution_count": 35,
     "metadata": {},
     "output_type": "execute_result"
    }
   ],
   "source": [
    "t"
   ]
  },
  {
   "cell_type": "code",
   "execution_count": 36,
   "id": "0d5cdf58",
   "metadata": {},
   "outputs": [],
   "source": [
    "t = ((3,4,5),('apoorv',1,2),(1,2,3),[1,2,3]) #nested tuples are allowed"
   ]
  },
  {
   "cell_type": "code",
   "execution_count": 37,
   "id": "5bca3f59",
   "metadata": {},
   "outputs": [
    {
     "data": {
      "text/plain": [
       "2"
      ]
     },
     "execution_count": 37,
     "metadata": {},
     "output_type": "execute_result"
    }
   ],
   "source": [
    "t[3][1] #accessing the second element in the list above"
   ]
  },
  {
   "cell_type": "code",
   "execution_count": 38,
   "id": "d5f6fc9a",
   "metadata": {},
   "outputs": [
    {
     "data": {
      "text/plain": [
       "4"
      ]
     },
     "execution_count": 38,
     "metadata": {},
     "output_type": "execute_result"
    }
   ],
   "source": [
    "t[0][1]"
   ]
  },
  {
   "cell_type": "code",
   "execution_count": 39,
   "id": "1a086f9b",
   "metadata": {},
   "outputs": [
    {
     "name": "stdout",
     "output_type": "stream",
     "text": [
      "3\n",
      "apoorv\n",
      "1\n"
     ]
    }
   ],
   "source": [
    "for i in t:\n",
    "    if type(i)==tuple:\n",
    "        print(i[0])"
   ]
  },
  {
   "cell_type": "code",
   "execution_count": 40,
   "id": "b16899c6",
   "metadata": {},
   "outputs": [],
   "source": [
    "t1 = (1,2,343,4)\n",
    "t2 = (2,4,5,5,5,5,5)"
   ]
  },
  {
   "cell_type": "code",
   "execution_count": 41,
   "id": "cf6c51b9",
   "metadata": {},
   "outputs": [
    {
     "name": "stdout",
     "output_type": "stream",
     "text": [
      "not same\n"
     ]
    }
   ],
   "source": [
    "if len(t1)==len(t2):\n",
    "    print(\"its same\")\n",
    "else:\n",
    "    print('not same')"
   ]
  },
  {
   "cell_type": "code",
   "execution_count": 42,
   "id": "9c6185c5",
   "metadata": {},
   "outputs": [],
   "source": [
    "tg = (9,1,'apoorv',2.4,\"kumar\")"
   ]
  },
  {
   "cell_type": "code",
   "execution_count": 43,
   "id": "8e04737f",
   "metadata": {},
   "outputs": [
    {
     "name": "stdout",
     "output_type": "stream",
     "text": [
      "take user input\n",
      "not available\n"
     ]
    }
   ],
   "source": [
    "i  = input(\"take user input\")\n",
    "if i in tg:\n",
    "    print(\"avaiable\")\n",
    "else:\n",
    "    print('not available')"
   ]
  },
  {
   "cell_type": "code",
   "execution_count": 44,
   "id": "47534bd7",
   "metadata": {},
   "outputs": [
    {
     "data": {
      "text/plain": [
       "(9, 1, 'apoorv', 2.4, 'kumar')"
      ]
     },
     "execution_count": 44,
     "metadata": {},
     "output_type": "execute_result"
    }
   ],
   "source": [
    "tg"
   ]
  },
  {
   "cell_type": "code",
   "execution_count": 45,
   "id": "fa87ad84",
   "metadata": {},
   "outputs": [],
   "source": [
    "del(tg)"
   ]
  },
  {
   "cell_type": "code",
   "execution_count": 46,
   "id": "d1fcd573",
   "metadata": {},
   "outputs": [
    {
     "ename": "NameError",
     "evalue": "name 'tg' is not defined",
     "output_type": "error",
     "traceback": [
      "\u001b[1;31m---------------------------------------------------------------------------\u001b[0m",
      "\u001b[1;31mNameError\u001b[0m                                 Traceback (most recent call last)",
      "\u001b[1;32m~\\AppData\\Local\\Temp/ipykernel_3900/1240772290.py\u001b[0m in \u001b[0;36m<module>\u001b[1;34m\u001b[0m\n\u001b[1;32m----> 1\u001b[1;33m \u001b[0mtg\u001b[0m \u001b[1;31m#tg tuples is deleted can be used for a list too\u001b[0m\u001b[1;33m\u001b[0m\u001b[1;33m\u001b[0m\u001b[0m\n\u001b[0m",
      "\u001b[1;31mNameError\u001b[0m: name 'tg' is not defined"
     ]
    }
   ],
   "source": [
    "tg #tg tuples is deleted can be used for a list too"
   ]
  },
  {
   "cell_type": "code",
   "execution_count": 47,
   "id": "bd41ca06",
   "metadata": {},
   "outputs": [
    {
     "data": {
      "text/plain": [
       "'\\ntuples and strings are immutable and \\nlists are mutable'"
      ]
     },
     "execution_count": 47,
     "metadata": {},
     "output_type": "execute_result"
    }
   ],
   "source": [
    "\"\"\"\n",
    "tuples and strings are immutable and \n",
    "lists are mutable\"\"\"\n"
   ]
  },
  {
   "cell_type": "code",
   "execution_count": 48,
   "id": "2ba99280",
   "metadata": {},
   "outputs": [],
   "source": [
    "#ONLY COUNT AND INDEX OPERATIONS ARE THERE IN TUPLES."
   ]
  },
  {
   "cell_type": "markdown",
   "id": "56abf839",
   "metadata": {},
   "source": [
    "# SET "
   ]
  },
  {
   "cell_type": "code",
   "execution_count": 49,
   "id": "4d48fa7b",
   "metadata": {},
   "outputs": [],
   "source": [
    "x = set()"
   ]
  },
  {
   "cell_type": "code",
   "execution_count": 50,
   "id": "4f911105",
   "metadata": {},
   "outputs": [
    {
     "data": {
      "text/plain": [
       "set"
      ]
     },
     "execution_count": 50,
     "metadata": {},
     "output_type": "execute_result"
    }
   ],
   "source": [
    "type(x)"
   ]
  },
  {
   "cell_type": "code",
   "execution_count": 51,
   "id": "7a9d637e",
   "metadata": {},
   "outputs": [],
   "source": [
    "l = [34,45,45,45,64,34,56,78,34,'sudh','kumar','kumar']"
   ]
  },
  {
   "cell_type": "code",
   "execution_count": 52,
   "id": "4338f385",
   "metadata": {},
   "outputs": [],
   "source": [
    "#we want to remove the repeated elements "
   ]
  },
  {
   "cell_type": "code",
   "execution_count": 53,
   "id": "eda6dbcb",
   "metadata": {},
   "outputs": [],
   "source": [
    "#this is where set comes into picture"
   ]
  },
  {
   "cell_type": "code",
   "execution_count": 54,
   "id": "59dd3710",
   "metadata": {},
   "outputs": [],
   "source": [
    "l1 = list(set(l))"
   ]
  },
  {
   "cell_type": "code",
   "execution_count": 55,
   "id": "d0c7227d",
   "metadata": {},
   "outputs": [
    {
     "data": {
      "text/plain": [
       "[64, 34, 45, 78, 'sudh', 'kumar', 56]"
      ]
     },
     "execution_count": 55,
     "metadata": {},
     "output_type": "execute_result"
    }
   ],
   "source": [
    "l1"
   ]
  },
  {
   "cell_type": "code",
   "execution_count": 56,
   "id": "39fbc23c",
   "metadata": {},
   "outputs": [],
   "source": [
    "#set is a collection which will try to only hold distinct elements in it (CASE SENSITIVE)"
   ]
  },
  {
   "cell_type": "code",
   "execution_count": 57,
   "id": "f518fe60",
   "metadata": {},
   "outputs": [],
   "source": [
    "#can perform iteration operation in sets"
   ]
  },
  {
   "cell_type": "code",
   "execution_count": 58,
   "id": "acf0fcfa",
   "metadata": {},
   "outputs": [],
   "source": [
    "s= set(l)"
   ]
  },
  {
   "cell_type": "code",
   "execution_count": 59,
   "id": "c1d47118",
   "metadata": {},
   "outputs": [
    {
     "data": {
      "text/plain": [
       "{34, 45, 56, 64, 78, 'kumar', 'sudh'}"
      ]
     },
     "execution_count": 59,
     "metadata": {},
     "output_type": "execute_result"
    }
   ],
   "source": [
    "s"
   ]
  },
  {
   "cell_type": "code",
   "execution_count": 60,
   "id": "b76b1b99",
   "metadata": {},
   "outputs": [
    {
     "ename": "TypeError",
     "evalue": "'set' object is not subscriptable",
     "output_type": "error",
     "traceback": [
      "\u001b[1;31m---------------------------------------------------------------------------\u001b[0m",
      "\u001b[1;31mTypeError\u001b[0m                                 Traceback (most recent call last)",
      "\u001b[1;32m~\\AppData\\Local\\Temp/ipykernel_3900/243613605.py\u001b[0m in \u001b[0;36m<module>\u001b[1;34m\u001b[0m\n\u001b[1;32m----> 1\u001b[1;33m \u001b[0ms\u001b[0m\u001b[1;33m[\u001b[0m\u001b[1;36m0\u001b[0m\u001b[1;33m]\u001b[0m\u001b[1;33m\u001b[0m\u001b[1;33m\u001b[0m\u001b[0m\n\u001b[0m",
      "\u001b[1;31mTypeError\u001b[0m: 'set' object is not subscriptable"
     ]
    }
   ],
   "source": [
    "s[0]"
   ]
  },
  {
   "cell_type": "code",
   "execution_count": 61,
   "id": "2f69f2e9",
   "metadata": {},
   "outputs": [],
   "source": [
    "#we can do indexing operation in sets"
   ]
  },
  {
   "cell_type": "code",
   "execution_count": 62,
   "id": "70d34b3d",
   "metadata": {},
   "outputs": [],
   "source": [
    "## SET DOESN'T BUILT AN ORDERED COLLECTION, IT IS A ILLUSION"
   ]
  },
  {
   "cell_type": "code",
   "execution_count": 63,
   "id": "b83203b7",
   "metadata": {},
   "outputs": [
    {
     "data": {
      "text/plain": [
       "{34, 45, 56, 64, 78, 'kumar', 'sudh'}"
      ]
     },
     "execution_count": 63,
     "metadata": {},
     "output_type": "execute_result"
    }
   ],
   "source": [
    "s"
   ]
  },
  {
   "cell_type": "code",
   "execution_count": 64,
   "id": "68706ca0",
   "metadata": {},
   "outputs": [],
   "source": [
    "s.add(34)"
   ]
  },
  {
   "cell_type": "code",
   "execution_count": 65,
   "id": "257718fe",
   "metadata": {},
   "outputs": [
    {
     "data": {
      "text/plain": [
       "{34, 45, 56, 64, 78, 'kumar', 'sudh'}"
      ]
     },
     "execution_count": 65,
     "metadata": {},
     "output_type": "execute_result"
    }
   ],
   "source": [
    "s"
   ]
  },
  {
   "cell_type": "code",
   "execution_count": 66,
   "id": "e47938b3",
   "metadata": {},
   "outputs": [],
   "source": [
    "s.add(443)"
   ]
  },
  {
   "cell_type": "code",
   "execution_count": 67,
   "id": "b3242d05",
   "metadata": {},
   "outputs": [
    {
     "data": {
      "text/plain": [
       "{34, 443, 45, 56, 64, 78, 'kumar', 'sudh'}"
      ]
     },
     "execution_count": 67,
     "metadata": {},
     "output_type": "execute_result"
    }
   ],
   "source": [
    "s"
   ]
  },
  {
   "cell_type": "code",
   "execution_count": 68,
   "id": "a9efc96a",
   "metadata": {},
   "outputs": [
    {
     "ename": "TypeError",
     "evalue": "unhashable type: 'list'",
     "output_type": "error",
     "traceback": [
      "\u001b[1;31m---------------------------------------------------------------------------\u001b[0m",
      "\u001b[1;31mTypeError\u001b[0m                                 Traceback (most recent call last)",
      "\u001b[1;32m~\\AppData\\Local\\Temp/ipykernel_3900/2653372470.py\u001b[0m in \u001b[0;36m<module>\u001b[1;34m\u001b[0m\n\u001b[1;32m----> 1\u001b[1;33m \u001b[0ms\u001b[0m\u001b[1;33m.\u001b[0m\u001b[0madd\u001b[0m\u001b[1;33m(\u001b[0m\u001b[1;33m[\u001b[0m\u001b[1;36m1\u001b[0m\u001b[1;33m,\u001b[0m\u001b[1;36m2\u001b[0m\u001b[1;33m]\u001b[0m\u001b[1;33m)\u001b[0m \u001b[1;31m#sets can't do for nested datas\u001b[0m\u001b[1;33m\u001b[0m\u001b[1;33m\u001b[0m\u001b[0m\n\u001b[0m",
      "\u001b[1;31mTypeError\u001b[0m: unhashable type: 'list'"
     ]
    }
   ],
   "source": [
    "\n",
    "s.add([1,2]) #sets can't do for nested datas"
   ]
  },
  {
   "cell_type": "code",
   "execution_count": 69,
   "id": "b9659a0a",
   "metadata": {},
   "outputs": [
    {
     "ename": "TypeError",
     "evalue": "set.add() takes exactly one argument (3 given)",
     "output_type": "error",
     "traceback": [
      "\u001b[1;31m---------------------------------------------------------------------------\u001b[0m",
      "\u001b[1;31mTypeError\u001b[0m                                 Traceback (most recent call last)",
      "\u001b[1;32m~\\AppData\\Local\\Temp/ipykernel_3900/1516137984.py\u001b[0m in \u001b[0;36m<module>\u001b[1;34m\u001b[0m\n\u001b[1;32m----> 1\u001b[1;33m \u001b[0ms\u001b[0m\u001b[1;33m.\u001b[0m\u001b[0madd\u001b[0m\u001b[1;33m(\u001b[0m\u001b[1;36m1\u001b[0m\u001b[1;33m,\u001b[0m\u001b[1;36m2\u001b[0m\u001b[1;33m,\u001b[0m\u001b[1;36m3\u001b[0m\u001b[1;33m)\u001b[0m \u001b[1;31m#takes only one argument\u001b[0m\u001b[1;33m\u001b[0m\u001b[1;33m\u001b[0m\u001b[0m\n\u001b[0m",
      "\u001b[1;31mTypeError\u001b[0m: set.add() takes exactly one argument (3 given)"
     ]
    }
   ],
   "source": [
    "s.add(1,2,3) #takes only one argument"
   ]
  },
  {
   "cell_type": "code",
   "execution_count": 70,
   "id": "02fa5caa",
   "metadata": {},
   "outputs": [],
   "source": [
    "s.remove(45) #remove operation works fine"
   ]
  },
  {
   "cell_type": "code",
   "execution_count": 71,
   "id": "24251700",
   "metadata": {},
   "outputs": [
    {
     "data": {
      "text/plain": [
       "{34, 443, 56, 64, 78, 'kumar', 'sudh'}"
      ]
     },
     "execution_count": 71,
     "metadata": {},
     "output_type": "execute_result"
    }
   ],
   "source": [
    "s"
   ]
  },
  {
   "cell_type": "code",
   "execution_count": 72,
   "id": "ae329045",
   "metadata": {},
   "outputs": [],
   "source": [
    "#s.clear() wipes out all data in s"
   ]
  },
  {
   "cell_type": "code",
   "execution_count": 73,
   "id": "b7455226",
   "metadata": {},
   "outputs": [],
   "source": [
    "l = {1,2,3,4,4,6,78}\n",
    "s1 =set(l)"
   ]
  },
  {
   "cell_type": "code",
   "execution_count": 74,
   "id": "74fa94de",
   "metadata": {},
   "outputs": [
    {
     "data": {
      "text/plain": [
       "{1, 2, 3, 4, 6, 78}"
      ]
     },
     "execution_count": 74,
     "metadata": {},
     "output_type": "execute_result"
    }
   ],
   "source": [
    "s1"
   ]
  },
  {
   "cell_type": "code",
   "execution_count": 75,
   "id": "6abbab1e",
   "metadata": {},
   "outputs": [
    {
     "data": {
      "text/plain": [
       "{34, 443, 56, 64, 78, 'kumar', 'sudh'}"
      ]
     },
     "execution_count": 75,
     "metadata": {},
     "output_type": "execute_result"
    }
   ],
   "source": [
    "s"
   ]
  },
  {
   "cell_type": "code",
   "execution_count": 76,
   "id": "49209890",
   "metadata": {},
   "outputs": [
    {
     "ename": "TypeError",
     "evalue": "unsupported operand type(s) for +: 'set' and 'set'",
     "output_type": "error",
     "traceback": [
      "\u001b[1;31m---------------------------------------------------------------------------\u001b[0m",
      "\u001b[1;31mTypeError\u001b[0m                                 Traceback (most recent call last)",
      "\u001b[1;32m~\\AppData\\Local\\Temp/ipykernel_3900/4185294954.py\u001b[0m in \u001b[0;36m<module>\u001b[1;34m\u001b[0m\n\u001b[1;32m----> 1\u001b[1;33m \u001b[0ms\u001b[0m\u001b[1;33m+\u001b[0m\u001b[0ms1\u001b[0m \u001b[1;31m#not allowed s*4 not allowed\u001b[0m\u001b[1;33m\u001b[0m\u001b[1;33m\u001b[0m\u001b[0m\n\u001b[0m",
      "\u001b[1;31mTypeError\u001b[0m: unsupported operand type(s) for +: 'set' and 'set'"
     ]
    }
   ],
   "source": [
    "s+s1 #not allowed s*4 not allowed"
   ]
  },
  {
   "cell_type": "code",
   "execution_count": 77,
   "id": "b0b9d7c4",
   "metadata": {},
   "outputs": [],
   "source": [
    "#we canc convert to list and then we can add"
   ]
  },
  {
   "cell_type": "code",
   "execution_count": 78,
   "id": "f30be166",
   "metadata": {},
   "outputs": [
    {
     "data": {
      "text/plain": [
       "(64, 34, 78, 'sudh', 'kumar', 56, 443)"
      ]
     },
     "execution_count": 78,
     "metadata": {},
     "output_type": "execute_result"
    }
   ],
   "source": [
    "tuple(s)"
   ]
  },
  {
   "cell_type": "code",
   "execution_count": 79,
   "id": "288554d1",
   "metadata": {},
   "outputs": [
    {
     "data": {
      "text/plain": [
       "{34, 443, 56, 64, 78, 'kumar', 'sudh'}"
      ]
     },
     "execution_count": 79,
     "metadata": {},
     "output_type": "execute_result"
    }
   ],
   "source": [
    "s"
   ]
  },
  {
   "cell_type": "code",
   "execution_count": 80,
   "id": "869f4546",
   "metadata": {},
   "outputs": [
    {
     "data": {
      "text/plain": [
       "{34, 443, 56, 64, 78, 'kumar', 'sudh'}"
      ]
     },
     "execution_count": 80,
     "metadata": {},
     "output_type": "execute_result"
    }
   ],
   "source": [
    "s"
   ]
  },
  {
   "cell_type": "code",
   "execution_count": 81,
   "id": "9ae13183",
   "metadata": {},
   "outputs": [],
   "source": [
    "#arrays don't exist in core python"
   ]
  },
  {
   "cell_type": "code",
   "execution_count": 82,
   "id": "b960f76e",
   "metadata": {},
   "outputs": [],
   "source": [
    "s = {}"
   ]
  },
  {
   "cell_type": "code",
   "execution_count": 83,
   "id": "09ca1cc3",
   "metadata": {},
   "outputs": [
    {
     "data": {
      "text/plain": [
       "dict"
      ]
     },
     "execution_count": 83,
     "metadata": {},
     "output_type": "execute_result"
    }
   ],
   "source": [
    "type(s)"
   ]
  },
  {
   "cell_type": "code",
   "execution_count": 84,
   "id": "9e5d4223",
   "metadata": {},
   "outputs": [],
   "source": [
    "x1={3,4}"
   ]
  },
  {
   "cell_type": "code",
   "execution_count": 85,
   "id": "7e864510",
   "metadata": {},
   "outputs": [
    {
     "data": {
      "text/plain": [
       "set"
      ]
     },
     "execution_count": 85,
     "metadata": {},
     "output_type": "execute_result"
    }
   ],
   "source": [
    "type(x1)"
   ]
  },
  {
   "cell_type": "markdown",
   "id": "e4e53da5",
   "metadata": {},
   "source": [
    "# Dictonaries "
   ]
  },
  {
   "cell_type": "code",
   "execution_count": 86,
   "id": "26f1b8ca",
   "metadata": {},
   "outputs": [],
   "source": [
    "#hold data in key and value form"
   ]
  },
  {
   "cell_type": "code",
   "execution_count": 89,
   "id": "e058ee6c",
   "metadata": {},
   "outputs": [],
   "source": [
    "x = {'name':'apoorv','age':100}"
   ]
  },
  {
   "cell_type": "code",
   "execution_count": 90,
   "id": "46a3f936",
   "metadata": {},
   "outputs": [
    {
     "data": {
      "text/plain": [
       "dict"
      ]
     },
     "execution_count": 90,
     "metadata": {},
     "output_type": "execute_result"
    }
   ],
   "source": [
    "type(x)"
   ]
  },
  {
   "cell_type": "code",
   "execution_count": 91,
   "id": "ff463d58",
   "metadata": {},
   "outputs": [],
   "source": [
    "x = {'name':'apoorv','age':100,'name':'kango',\"nature\":False}"
   ]
  },
  {
   "cell_type": "code",
   "execution_count": 93,
   "id": "8e8cdb6e",
   "metadata": {},
   "outputs": [
    {
     "data": {
      "text/plain": [
       "{'name': 'kango', 'age': 100, 'nature': False}"
      ]
     },
     "execution_count": 93,
     "metadata": {},
     "output_type": "execute_result"
    }
   ],
   "source": [
    "x #name only hold second occourance one"
   ]
  },
  {
   "cell_type": "code",
   "execution_count": 94,
   "id": "0e4fa6ec",
   "metadata": {},
   "outputs": [],
   "source": [
    "#key should be unique and values can be same."
   ]
  },
  {
   "cell_type": "code",
   "execution_count": 95,
   "id": "2500b804",
   "metadata": {},
   "outputs": [],
   "source": [
    "#key value can't take special characters _/% etc"
   ]
  },
  {
   "cell_type": "code",
   "execution_count": 97,
   "id": "51203905",
   "metadata": {},
   "outputs": [],
   "source": [
    "x = {'name':'apoorv','age':100,'name':'kango',\"nature\":{12,134,212},\"lists\":[12,12,12]}"
   ]
  },
  {
   "cell_type": "code",
   "execution_count": 98,
   "id": "ca3b0543",
   "metadata": {},
   "outputs": [],
   "source": [
    "#value can be list, tuples,set"
   ]
  },
  {
   "cell_type": "code",
   "execution_count": 99,
   "id": "dc9a1353",
   "metadata": {},
   "outputs": [],
   "source": [
    "#dict inside other dict is also allowed"
   ]
  },
  {
   "cell_type": "code",
   "execution_count": 101,
   "id": "90fbbb06",
   "metadata": {},
   "outputs": [],
   "source": [
    "#keys can be tuples but lists or sets as keys are not allowed"
   ]
  },
  {
   "cell_type": "code",
   "execution_count": 102,
   "id": "254c2886",
   "metadata": {},
   "outputs": [],
   "source": [
    "#key can be string, number, tuples, bool "
   ]
  },
  {
   "cell_type": "code",
   "execution_count": 112,
   "id": "83cf58ba",
   "metadata": {},
   "outputs": [],
   "source": [
    "x = {'nameo':'apoorv','age':100,'name':'kango',\"nature\":{12,134,212},\"lists\":[132,132,122],(1,2,3):\"hello\",45:23,True:\"what\"}"
   ]
  },
  {
   "cell_type": "code",
   "execution_count": 113,
   "id": "cde87374",
   "metadata": {},
   "outputs": [
    {
     "data": {
      "text/plain": [
       "{'nameo': 'apoorv',\n",
       " 'age': 100,\n",
       " 'name': 'kango',\n",
       " 'nature': {12, 134, 212},\n",
       " 'lists': [132, 132, 122],\n",
       " (1, 2, 3): 'hello',\n",
       " 45: 23,\n",
       " True: 'what'}"
      ]
     },
     "execution_count": 113,
     "metadata": {},
     "output_type": "execute_result"
    }
   ],
   "source": [
    "x"
   ]
  },
  {
   "cell_type": "code",
   "execution_count": 114,
   "id": "a691c39f",
   "metadata": {},
   "outputs": [
    {
     "data": {
      "text/plain": [
       "100"
      ]
     },
     "execution_count": 114,
     "metadata": {},
     "output_type": "execute_result"
    }
   ],
   "source": [
    "x['age'] #pass key get it's respective value"
   ]
  },
  {
   "cell_type": "code",
   "execution_count": 115,
   "id": "39d7cea9",
   "metadata": {},
   "outputs": [
    {
     "data": {
      "text/plain": [
       "'what'"
      ]
     },
     "execution_count": 115,
     "metadata": {},
     "output_type": "execute_result"
    }
   ],
   "source": [
    "x[True]"
   ]
  },
  {
   "cell_type": "code",
   "execution_count": 118,
   "id": "5d32c62b",
   "metadata": {},
   "outputs": [
    {
     "data": {
      "text/plain": [
       "122"
      ]
     },
     "execution_count": 118,
     "metadata": {},
     "output_type": "execute_result"
    }
   ],
   "source": [
    "(x[\"lists\"])[2]"
   ]
  },
  {
   "cell_type": "code",
   "execution_count": 128,
   "id": "58495f32",
   "metadata": {},
   "outputs": [],
   "source": [
    "x2={'apooorv':{'apoorvcx':123}} #dictonary inside a dictonary"
   ]
  },
  {
   "cell_type": "code",
   "execution_count": 130,
   "id": "f8096fc2",
   "metadata": {},
   "outputs": [
    {
     "data": {
      "text/plain": [
       "123"
      ]
     },
     "execution_count": 130,
     "metadata": {},
     "output_type": "execute_result"
    }
   ],
   "source": [
    "(x2['apooorv'])['apoorvcx']"
   ]
  },
  {
   "cell_type": "code",
   "execution_count": 131,
   "id": "f7a376fe",
   "metadata": {},
   "outputs": [],
   "source": [
    "x3 = {5:'a','b':[1,2,3]}\n",
    "x4 = {'g':234}"
   ]
  },
  {
   "cell_type": "code",
   "execution_count": 133,
   "id": "a578b93a",
   "metadata": {},
   "outputs": [
    {
     "ename": "TypeError",
     "evalue": "unsupported operand type(s) for +: 'dict' and 'dict'",
     "output_type": "error",
     "traceback": [
      "\u001b[1;31m---------------------------------------------------------------------------\u001b[0m",
      "\u001b[1;31mTypeError\u001b[0m                                 Traceback (most recent call last)",
      "\u001b[1;32m~\\AppData\\Local\\Temp/ipykernel_3900/4147700552.py\u001b[0m in \u001b[0;36m<module>\u001b[1;34m\u001b[0m\n\u001b[1;32m----> 1\u001b[1;33m \u001b[0mx3\u001b[0m\u001b[1;33m+\u001b[0m\u001b[0mx4\u001b[0m \u001b[1;31m#addition not allowed\u001b[0m\u001b[1;33m\u001b[0m\u001b[1;33m\u001b[0m\u001b[0m\n\u001b[0m",
      "\u001b[1;31mTypeError\u001b[0m: unsupported operand type(s) for +: 'dict' and 'dict'"
     ]
    }
   ],
   "source": [
    "x3+x4 #addition not allowed"
   ]
  },
  {
   "cell_type": "code",
   "execution_count": 139,
   "id": "362a7812",
   "metadata": {},
   "outputs": [],
   "source": [
    "x3['b']='apoorv' #mutable"
   ]
  },
  {
   "cell_type": "code",
   "execution_count": 140,
   "id": "c69d3424",
   "metadata": {},
   "outputs": [
    {
     "data": {
      "text/plain": [
       "{5: 'a', 'b': 'apoorv'}"
      ]
     },
     "execution_count": 140,
     "metadata": {},
     "output_type": "execute_result"
    }
   ],
   "source": [
    "x3"
   ]
  },
  {
   "cell_type": "code",
   "execution_count": 141,
   "id": "d630ba47",
   "metadata": {},
   "outputs": [
    {
     "data": {
      "text/plain": [
       "{5: 'a', 'b': 'apoorv'}"
      ]
     },
     "execution_count": 141,
     "metadata": {},
     "output_type": "execute_result"
    }
   ],
   "source": [
    "x3"
   ]
  },
  {
   "cell_type": "code",
   "execution_count": 143,
   "id": "9522265b",
   "metadata": {},
   "outputs": [
    {
     "data": {
      "text/plain": [
       "dict_keys([5, 'b'])"
      ]
     },
     "execution_count": 143,
     "metadata": {},
     "output_type": "execute_result"
    }
   ],
   "source": [
    "x3.keys() #get all keys"
   ]
  },
  {
   "cell_type": "code",
   "execution_count": 144,
   "id": "e7184665",
   "metadata": {},
   "outputs": [
    {
     "data": {
      "text/plain": [
       "dict_keys"
      ]
     },
     "execution_count": 144,
     "metadata": {},
     "output_type": "execute_result"
    }
   ],
   "source": [
    "type(x3.keys())"
   ]
  },
  {
   "cell_type": "code",
   "execution_count": 145,
   "id": "6104326d",
   "metadata": {},
   "outputs": [
    {
     "data": {
      "text/plain": [
       "False"
      ]
     },
     "execution_count": 145,
     "metadata": {},
     "output_type": "execute_result"
    }
   ],
   "source": [
    "'5' in x3.keys()"
   ]
  },
  {
   "cell_type": "code",
   "execution_count": 148,
   "id": "7d1457d5",
   "metadata": {},
   "outputs": [
    {
     "name": "stdout",
     "output_type": "stream",
     "text": [
      "5\n",
      "b\n"
     ]
    }
   ],
   "source": [
    "for i in x3.keys(): #extracting of keys\n",
    "    print(i)"
   ]
  },
  {
   "cell_type": "code",
   "execution_count": 149,
   "id": "497c4294",
   "metadata": {},
   "outputs": [
    {
     "name": "stdout",
     "output_type": "stream",
     "text": [
      "a\n",
      "apoorv\n"
     ]
    }
   ],
   "source": [
    "for i in x3.keys(): #extracting of keys' values\n",
    "    print(x3[i])"
   ]
  },
  {
   "cell_type": "code",
   "execution_count": 153,
   "id": "bad599e1",
   "metadata": {},
   "outputs": [
    {
     "data": {
      "text/plain": [
       "dict_items([(5, 'a'), ('b', 'apoorv')])"
      ]
     },
     "execution_count": 153,
     "metadata": {},
     "output_type": "execute_result"
    }
   ],
   "source": [
    "x3.items() #list of tuples of keys and values pair"
   ]
  },
  {
   "cell_type": "code",
   "execution_count": 155,
   "id": "65b533fa",
   "metadata": {},
   "outputs": [
    {
     "name": "stdout",
     "output_type": "stream",
     "text": [
      "5\n",
      "b\n"
     ]
    }
   ],
   "source": [
    "for i in x3.items():\n",
    "    print(i[0]) #to get all the keys"
   ]
  },
  {
   "cell_type": "code",
   "execution_count": 156,
   "id": "fc88fbd5",
   "metadata": {},
   "outputs": [],
   "source": [
    "x5 = {(1,2,3):'apoorv'}"
   ]
  },
  {
   "cell_type": "code",
   "execution_count": 157,
   "id": "8a5e7272",
   "metadata": {},
   "outputs": [
    {
     "data": {
      "text/plain": [
       "'apoorv'"
      ]
     },
     "execution_count": 157,
     "metadata": {},
     "output_type": "execute_result"
    }
   ],
   "source": [
    "x5[(1,2,3)]"
   ]
  },
  {
   "cell_type": "code",
   "execution_count": 159,
   "id": "a1f7ffee",
   "metadata": {},
   "outputs": [
    {
     "data": {
      "text/plain": [
       "1"
      ]
     },
     "execution_count": 159,
     "metadata": {},
     "output_type": "execute_result"
    }
   ],
   "source": [
    "len(x5) #no of key:value pairs"
   ]
  },
  {
   "cell_type": "markdown",
   "id": "a08f80bb",
   "metadata": {},
   "source": [
    "#  Dictinoary comprehension"
   ]
  },
  {
   "cell_type": "code",
   "execution_count": 190,
   "id": "a44d84cc",
   "metadata": {},
   "outputs": [],
   "source": [
    "d = {'comp':'ibm','course':'full stack','year':2022}"
   ]
  },
  {
   "cell_type": "code",
   "execution_count": 191,
   "id": "2e2013f5",
   "metadata": {},
   "outputs": [
    {
     "name": "stdout",
     "output_type": "stream",
     "text": [
      "print a key comp value is ibm\n",
      "print a key course value is full stack\n",
      "print a key year value is 2022\n"
     ]
    }
   ],
   "source": [
    "for i in d:\n",
    "    print(\"print a key\",i,'value is',d[i])"
   ]
  },
  {
   "cell_type": "code",
   "execution_count": 194,
   "id": "5ce75855",
   "metadata": {},
   "outputs": [
    {
     "data": {
      "text/plain": [
       "True"
      ]
     },
     "execution_count": 194,
     "metadata": {},
     "output_type": "execute_result"
    }
   ],
   "source": [
    "'course' in d"
   ]
  },
  {
   "cell_type": "code",
   "execution_count": 196,
   "id": "6c97cb1d",
   "metadata": {},
   "outputs": [
    {
     "name": "stdout",
     "output_type": "stream",
     "text": [
      "Year is fine\n"
     ]
    },
    {
     "data": {
      "text/plain": [
       "{'comp': 'ibm', 'course': 'full stack', 'year': 2022}"
      ]
     },
     "execution_count": 196,
     "metadata": {},
     "output_type": "execute_result"
    }
   ],
   "source": [
    "for i in d:\n",
    "    if i=='year':\n",
    "        if d[i] >2021:\n",
    "            print(\"Year is fine\")\n",
    "        else:\n",
    "            d[i]=2022\n",
    "d"
   ]
  },
  {
   "cell_type": "code",
   "execution_count": 197,
   "id": "4805d105",
   "metadata": {},
   "outputs": [],
   "source": [
    "#hence year is updated to 2022"
   ]
  },
  {
   "cell_type": "code",
   "execution_count": 199,
   "id": "8522152d",
   "metadata": {},
   "outputs": [],
   "source": [
    "#dict comprehension"
   ]
  },
  {
   "cell_type": "code",
   "execution_count": 201,
   "id": "3f7bba29",
   "metadata": {},
   "outputs": [],
   "source": [
    "b={}\n",
    "for i in range(10):\n",
    "    b[i]=i*i"
   ]
  },
  {
   "cell_type": "code",
   "execution_count": 202,
   "id": "192a8e35",
   "metadata": {},
   "outputs": [
    {
     "data": {
      "text/plain": [
       "{0: 0, 1: 1, 2: 4, 3: 9, 4: 16, 5: 25, 6: 36, 7: 49, 8: 64, 9: 81}"
      ]
     },
     "execution_count": 202,
     "metadata": {},
     "output_type": "execute_result"
    }
   ],
   "source": [
    "b"
   ]
  },
  {
   "cell_type": "code",
   "execution_count": 205,
   "id": "ec5d79b5",
   "metadata": {},
   "outputs": [],
   "source": [
    "d['apoorv'] = \"hello\" #revision way to add key:value"
   ]
  },
  {
   "cell_type": "code",
   "execution_count": 206,
   "id": "2b98c068",
   "metadata": {},
   "outputs": [
    {
     "data": {
      "text/plain": [
       "{'comp': 'ibm', 'course': 'full stack', 'year': 2022, 'apoorv': 'hello'}"
      ]
     },
     "execution_count": 206,
     "metadata": {},
     "output_type": "execute_result"
    }
   ],
   "source": [
    "d"
   ]
  },
  {
   "cell_type": "code",
   "execution_count": 210,
   "id": "f1c68076",
   "metadata": {},
   "outputs": [],
   "source": [
    "#in comprehensiion way\n",
    "p = {i:i*i for i in range(10)}"
   ]
  },
  {
   "cell_type": "code",
   "execution_count": 211,
   "id": "dc8b5299",
   "metadata": {},
   "outputs": [
    {
     "data": {
      "text/plain": [
       "{0: 0, 1: 1, 2: 4, 3: 9, 4: 16, 5: 25, 6: 36, 7: 49, 8: 64, 9: 81}"
      ]
     },
     "execution_count": 211,
     "metadata": {},
     "output_type": "execute_result"
    }
   ],
   "source": [
    "p"
   ]
  },
  {
   "cell_type": "code",
   "execution_count": null,
   "id": "cbd2fb32",
   "metadata": {},
   "outputs": [],
   "source": []
  }
 ],
 "metadata": {
  "kernelspec": {
   "display_name": "Python 3 (ipykernel)",
   "language": "python",
   "name": "python3"
  },
  "language_info": {
   "codemirror_mode": {
    "name": "ipython",
    "version": 3
   },
   "file_extension": ".py",
   "mimetype": "text/x-python",
   "name": "python",
   "nbconvert_exporter": "python",
   "pygments_lexer": "ipython3",
   "version": "3.9.7"
  }
 },
 "nbformat": 4,
 "nbformat_minor": 5
}
