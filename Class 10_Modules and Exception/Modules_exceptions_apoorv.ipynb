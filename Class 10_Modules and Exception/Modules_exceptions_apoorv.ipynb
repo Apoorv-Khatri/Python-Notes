{
 "cells": [
  {
   "cell_type": "markdown",
   "id": "17e6f5c8",
   "metadata": {},
   "source": [
    "# Modules "
   ]
  },
  {
   "cell_type": "code",
   "execution_count": 2,
   "id": "b0e74935",
   "metadata": {},
   "outputs": [],
   "source": [
    "import math #module called as math\n",
    "\n",
    "#there are many modules"
   ]
  },
  {
   "cell_type": "code",
   "execution_count": 7,
   "id": "714bf785",
   "metadata": {},
   "outputs": [
    {
     "data": {
      "text/plain": [
       "0.4997701026431024"
      ]
     },
     "execution_count": 7,
     "metadata": {},
     "output_type": "execute_result"
    }
   ],
   "source": [
    "math.sin(3.14/6) #value is radians"
   ]
  },
  {
   "cell_type": "code",
   "execution_count": 8,
   "id": "a93b2d17",
   "metadata": {},
   "outputs": [
    {
     "ename": "NameError",
     "evalue": "name 'sqrt' is not defined",
     "output_type": "error",
     "traceback": [
      "\u001b[1;31m---------------------------------------------------------------------------\u001b[0m",
      "\u001b[1;31mNameError\u001b[0m                                 Traceback (most recent call last)",
      "\u001b[1;32m~\\AppData\\Local\\Temp/ipykernel_9120/1649453156.py\u001b[0m in \u001b[0;36m<module>\u001b[1;34m\u001b[0m\n\u001b[1;32m----> 1\u001b[1;33m \u001b[0msqrt\u001b[0m\u001b[1;33m(\u001b[0m\u001b[1;36m5\u001b[0m\u001b[1;33m)\u001b[0m\u001b[1;33m\u001b[0m\u001b[1;33m\u001b[0m\u001b[0m\n\u001b[0m",
      "\u001b[1;31mNameError\u001b[0m: name 'sqrt' is not defined"
     ]
    }
   ],
   "source": [
    "sqrt(5)"
   ]
  },
  {
   "cell_type": "code",
   "execution_count": 9,
   "id": "5e89ea09",
   "metadata": {},
   "outputs": [
    {
     "data": {
      "text/plain": [
       "2.23606797749979"
      ]
     },
     "execution_count": 9,
     "metadata": {},
     "output_type": "execute_result"
    }
   ],
   "source": [
    "math.sqrt(5)"
   ]
  },
  {
   "cell_type": "code",
   "execution_count": 10,
   "id": "7b8710d9",
   "metadata": {},
   "outputs": [
    {
     "ename": "NameError",
     "evalue": "name 'sqrt' is not defined",
     "output_type": "error",
     "traceback": [
      "\u001b[1;31m---------------------------------------------------------------------------\u001b[0m",
      "\u001b[1;31mNameError\u001b[0m                                 Traceback (most recent call last)",
      "\u001b[1;32m~\\AppData\\Local\\Temp/ipykernel_9120/3148451022.py\u001b[0m in \u001b[0;36m<module>\u001b[1;34m\u001b[0m\n\u001b[1;32m----> 1\u001b[1;33m \u001b[0msqrt\u001b[0m\u001b[1;33m(\u001b[0m\u001b[1;33m)\u001b[0m\u001b[1;33m\u001b[0m\u001b[1;33m\u001b[0m\u001b[0m\n\u001b[0m",
      "\u001b[1;31mNameError\u001b[0m: name 'sqrt' is not defined"
     ]
    }
   ],
   "source": [
    "sqrt()"
   ]
  },
  {
   "cell_type": "code",
   "execution_count": 12,
   "id": "afeefb97",
   "metadata": {},
   "outputs": [],
   "source": [
    "from math import sqrt"
   ]
  },
  {
   "cell_type": "code",
   "execution_count": 13,
   "id": "c41c7696",
   "metadata": {},
   "outputs": [
    {
     "data": {
      "text/plain": [
       "2.23606797749979"
      ]
     },
     "execution_count": 13,
     "metadata": {},
     "output_type": "execute_result"
    }
   ],
   "source": [
    "sqrt(5)"
   ]
  },
  {
   "cell_type": "code",
   "execution_count": 14,
   "id": "6882f34e",
   "metadata": {},
   "outputs": [
    {
     "ename": "NameError",
     "evalue": "name 'pi' is not defined",
     "output_type": "error",
     "traceback": [
      "\u001b[1;31m---------------------------------------------------------------------------\u001b[0m",
      "\u001b[1;31mNameError\u001b[0m                                 Traceback (most recent call last)",
      "\u001b[1;32m~\\AppData\\Local\\Temp/ipykernel_9120/3440806613.py\u001b[0m in \u001b[0;36m<module>\u001b[1;34m\u001b[0m\n\u001b[1;32m----> 1\u001b[1;33m \u001b[0mpi\u001b[0m\u001b[1;33m\u001b[0m\u001b[1;33m\u001b[0m\u001b[0m\n\u001b[0m",
      "\u001b[1;31mNameError\u001b[0m: name 'pi' is not defined"
     ]
    }
   ],
   "source": [
    "pi"
   ]
  },
  {
   "cell_type": "code",
   "execution_count": 15,
   "id": "856e23ca",
   "metadata": {},
   "outputs": [
    {
     "data": {
      "text/plain": [
       "3.141592653589793"
      ]
     },
     "execution_count": 15,
     "metadata": {},
     "output_type": "execute_result"
    }
   ],
   "source": [
    "math.pi"
   ]
  },
  {
   "cell_type": "code",
   "execution_count": 16,
   "id": "e696add3",
   "metadata": {},
   "outputs": [],
   "source": [
    "from math import pi"
   ]
  },
  {
   "cell_type": "code",
   "execution_count": 17,
   "id": "bfc535c6",
   "metadata": {},
   "outputs": [
    {
     "data": {
      "text/plain": [
       "3.141592653589793"
      ]
     },
     "execution_count": 17,
     "metadata": {},
     "output_type": "execute_result"
    }
   ],
   "source": [
    "pi"
   ]
  },
  {
   "cell_type": "code",
   "execution_count": 21,
   "id": "9e1777b9",
   "metadata": {},
   "outputs": [],
   "source": [
    "from math import * #* will import everything from the module"
   ]
  },
  {
   "cell_type": "code",
   "execution_count": 22,
   "id": "e0ac39f0",
   "metadata": {},
   "outputs": [
    {
     "data": {
      "text/plain": [
       "3.141592653589793"
      ]
     },
     "execution_count": 22,
     "metadata": {},
     "output_type": "execute_result"
    }
   ],
   "source": [
    "pi"
   ]
  },
  {
   "cell_type": "code",
   "execution_count": 23,
   "id": "8a1248c9",
   "metadata": {},
   "outputs": [
    {
     "data": {
      "text/plain": [
       "0.0"
      ]
     },
     "execution_count": 23,
     "metadata": {},
     "output_type": "execute_result"
    }
   ],
   "source": [
    "sin(0)"
   ]
  },
  {
   "cell_type": "code",
   "execution_count": 1,
   "id": "51511086",
   "metadata": {},
   "outputs": [
    {
     "data": {
      "text/plain": [
       "'C:\\\\Users\\\\h.p\\\\Desktop\\\\DATA SCIENCE\\\\1 Python Programming\\\\Class 10_Modules and Exception'"
      ]
     },
     "execution_count": 1,
     "metadata": {},
     "output_type": "execute_result"
    }
   ],
   "source": [
    "pwd()"
   ]
  },
  {
   "cell_type": "code",
   "execution_count": 2,
   "id": "28a5b938",
   "metadata": {},
   "outputs": [
    {
     "name": "stdout",
     "output_type": "stream",
     "text": [
      "this is my first module\n"
     ]
    }
   ],
   "source": [
    "import test1 #test1 is py file #we are able to import everthing in jupyter file"
   ]
  },
  {
   "cell_type": "code",
   "execution_count": 3,
   "id": "d311e5c1",
   "metadata": {},
   "outputs": [],
   "source": [
    "import test1 #second time no data is coming out"
   ]
  },
  {
   "cell_type": "code",
   "execution_count": 4,
   "id": "6d45e408",
   "metadata": {},
   "outputs": [],
   "source": [
    "#how to get data again"
   ]
  },
  {
   "cell_type": "code",
   "execution_count": 5,
   "id": "c60db90a",
   "metadata": {},
   "outputs": [],
   "source": [
    "import imp"
   ]
  },
  {
   "cell_type": "code",
   "execution_count": 7,
   "id": "21b55f3e",
   "metadata": {},
   "outputs": [
    {
     "name": "stdout",
     "output_type": "stream",
     "text": [
      "this is my first module\n"
     ]
    },
    {
     "data": {
      "text/plain": [
       "<module 'test1' from 'C:\\\\Users\\\\h.p\\\\Desktop\\\\DATA SCIENCE\\\\1 Python Programming\\\\Class 10_Modules and Exception\\\\test1.py'>"
      ]
     },
     "execution_count": 7,
     "metadata": {},
     "output_type": "execute_result"
    }
   ],
   "source": [
    "imp.reload(test1) #again able to reload the .py file again"
   ]
  },
  {
   "cell_type": "code",
   "execution_count": 8,
   "id": "1ceb5d13",
   "metadata": {},
   "outputs": [],
   "source": [
    "import addition"
   ]
  },
  {
   "cell_type": "code",
   "execution_count": 10,
   "id": "2be9167e",
   "metadata": {},
   "outputs": [
    {
     "data": {
      "text/plain": [
       "6"
      ]
     },
     "execution_count": 10,
     "metadata": {},
     "output_type": "execute_result"
    }
   ],
   "source": [
    "addition.addition1(2,4)"
   ]
  },
  {
   "cell_type": "code",
   "execution_count": 11,
   "id": "71196c77",
   "metadata": {},
   "outputs": [],
   "source": [
    "from addition import addition1"
   ]
  },
  {
   "cell_type": "code",
   "execution_count": 12,
   "id": "4cd53048",
   "metadata": {},
   "outputs": [
    {
     "data": {
      "text/plain": [
       "5"
      ]
     },
     "execution_count": 12,
     "metadata": {},
     "output_type": "execute_result"
    }
   ],
   "source": [
    "addition1(1,4)"
   ]
  },
  {
   "cell_type": "code",
   "execution_count": 13,
   "id": "a7256ee3",
   "metadata": {},
   "outputs": [],
   "source": [
    "from testmethods import * #imports all the functions in the the testmethod package"
   ]
  },
  {
   "cell_type": "code",
   "execution_count": 14,
   "id": "a55d038d",
   "metadata": {},
   "outputs": [
    {
     "data": {
      "text/plain": [
       "7"
      ]
     },
     "execution_count": 14,
     "metadata": {},
     "output_type": "execute_result"
    }
   ],
   "source": [
    "addition(3,4)"
   ]
  },
  {
   "cell_type": "code",
   "execution_count": 15,
   "id": "c55a1e06",
   "metadata": {},
   "outputs": [
    {
     "data": {
      "text/plain": [
       "3"
      ]
     },
     "execution_count": 15,
     "metadata": {},
     "output_type": "execute_result"
    }
   ],
   "source": [
    "mul(1,3)"
   ]
  },
  {
   "cell_type": "code",
   "execution_count": 16,
   "id": "d13856f7",
   "metadata": {},
   "outputs": [
    {
     "data": {
      "text/plain": [
       "9"
      ]
     },
     "execution_count": 16,
     "metadata": {},
     "output_type": "execute_result"
    }
   ],
   "source": [
    "power(3,2)"
   ]
  },
  {
   "cell_type": "code",
   "execution_count": 21,
   "id": "61497c18",
   "metadata": {},
   "outputs": [],
   "source": [
    "import test6"
   ]
  },
  {
   "cell_type": "code",
   "execution_count": 22,
   "id": "6b1d6166",
   "metadata": {},
   "outputs": [
    {
     "data": {
      "text/plain": [
       "'this is my class'"
      ]
     },
     "execution_count": 22,
     "metadata": {},
     "output_type": "execute_result"
    }
   ],
   "source": [
    "test6.msg()"
   ]
  },
  {
   "cell_type": "code",
   "execution_count": 25,
   "id": "6339fbad",
   "metadata": {},
   "outputs": [
    {
     "data": {
      "text/plain": [
       "['ml', 'dl', 'ai', 'py', 'stats']"
      ]
     },
     "execution_count": 25,
     "metadata": {},
     "output_type": "execute_result"
    }
   ],
   "source": [
    "test6.get_course()"
   ]
  },
  {
   "cell_type": "code",
   "execution_count": 26,
   "id": "9aa83103",
   "metadata": {},
   "outputs": [],
   "source": [
    "from test6 import get_course"
   ]
  },
  {
   "cell_type": "code",
   "execution_count": 27,
   "id": "32e86ed7",
   "metadata": {},
   "outputs": [
    {
     "data": {
      "text/plain": [
       "['ml', 'dl', 'ai', 'py', 'stats']"
      ]
     },
     "execution_count": 27,
     "metadata": {},
     "output_type": "execute_result"
    }
   ],
   "source": [
    "get_course()"
   ]
  },
  {
   "cell_type": "markdown",
   "id": "a8276cdc",
   "metadata": {},
   "source": [
    "# Question\n",
    "\n",
    "One directory TestDir\n",
    "\n",
    "3 Modules Mod1, Mod2, Mod 3 with functions 11,12,13,21,22,23,31,32,33 and import all the modules within and outside the directory"
   ]
  },
  {
   "cell_type": "code",
   "execution_count": 31,
   "id": "34aecebd",
   "metadata": {},
   "outputs": [],
   "source": [
    "os.chdir('testfolder')"
   ]
  },
  {
   "cell_type": "code",
   "execution_count": 32,
   "id": "c10f6492",
   "metadata": {},
   "outputs": [
    {
     "data": {
      "text/plain": [
       "'C:\\\\Users\\\\h.p\\\\Desktop\\\\DATA SCIENCE\\\\1 Python Programming\\\\Class 10_Modules and Exception\\\\testfolder'"
      ]
     },
     "execution_count": 32,
     "metadata": {},
     "output_type": "execute_result"
    }
   ],
   "source": [
    "pwd()"
   ]
  },
  {
   "cell_type": "code",
   "execution_count": 34,
   "id": "05260e45",
   "metadata": {},
   "outputs": [],
   "source": [
    "#answers are done in other folders"
   ]
  },
  {
   "cell_type": "code",
   "execution_count": 35,
   "id": "83a1a2cf",
   "metadata": {},
   "outputs": [
    {
     "data": {
      "text/plain": [
       "'C:\\\\Users\\\\h.p\\\\Desktop\\\\DATA SCIENCE\\\\1 Python Programming\\\\Class 10_Modules and Exception\\\\testfolder'"
      ]
     },
     "execution_count": 35,
     "metadata": {},
     "output_type": "execute_result"
    }
   ],
   "source": [
    "pwd()"
   ]
  },
  {
   "cell_type": "code",
   "execution_count": 37,
   "id": "32b63a49",
   "metadata": {},
   "outputs": [],
   "source": [
    "os.chdir('C:\\\\Users\\\\h.p\\\\Desktop\\\\DATA SCIENCE\\\\1 Python Programming\\\\Class 10_Modules and Exception')"
   ]
  },
  {
   "cell_type": "code",
   "execution_count": 38,
   "id": "fe81999f",
   "metadata": {},
   "outputs": [
    {
     "data": {
      "text/plain": [
       "'C:\\\\Users\\\\h.p\\\\Desktop\\\\DATA SCIENCE\\\\1 Python Programming\\\\Class 10_Modules and Exception'"
      ]
     },
     "execution_count": 38,
     "metadata": {},
     "output_type": "execute_result"
    }
   ],
   "source": [
    "pwd()"
   ]
  },
  {
   "cell_type": "code",
   "execution_count": 39,
   "id": "a4e949da",
   "metadata": {},
   "outputs": [],
   "source": [
    "import Testfolder"
   ]
  },
  {
   "cell_type": "code",
   "execution_count": 72,
   "id": "fc080097",
   "metadata": {},
   "outputs": [],
   "source": [
    "from Testfolder.folder1.newfile import newfunc \n",
    "#or from Testfolder.folder1.newfile import * to import all the functions inside the module"
   ]
  },
  {
   "cell_type": "code",
   "execution_count": 71,
   "id": "50d93e0f",
   "metadata": {},
   "outputs": [
    {
     "name": "stdout",
     "output_type": "stream",
     "text": [
      "this is the newfile's new function\n"
     ]
    }
   ],
   "source": [
    "newfunc()"
   ]
  },
  {
   "cell_type": "code",
   "execution_count": 64,
   "id": "e2acc724",
   "metadata": {},
   "outputs": [
    {
     "data": {
      "text/plain": [
       "<module 'Testfolder' (namespace)>"
      ]
     },
     "execution_count": 64,
     "metadata": {},
     "output_type": "execute_result"
    }
   ],
   "source": [
    "Testfolder"
   ]
  },
  {
   "cell_type": "code",
   "execution_count": 65,
   "id": "c5ae8218",
   "metadata": {},
   "outputs": [
    {
     "data": {
      "text/plain": [
       "<module 'Testfolder.folder1' (namespace)>"
      ]
     },
     "execution_count": 65,
     "metadata": {},
     "output_type": "execute_result"
    }
   ],
   "source": [
    "folder1"
   ]
  },
  {
   "cell_type": "code",
   "execution_count": 66,
   "id": "a40134b9",
   "metadata": {},
   "outputs": [
    {
     "data": {
      "text/plain": [
       "<module 'Testfolder.folder1.newfile' from 'C:\\\\Users\\\\h.p\\\\Desktop\\\\DATA SCIENCE\\\\1 Python Programming\\\\Class 10_Modules and Exception\\\\Testfolder\\\\folder1\\\\newfile.py'>"
      ]
     },
     "execution_count": 66,
     "metadata": {},
     "output_type": "execute_result"
    }
   ],
   "source": [
    "newfile"
   ]
  },
  {
   "cell_type": "code",
   "execution_count": 69,
   "id": "34608c9b",
   "metadata": {},
   "outputs": [
    {
     "name": "stdout",
     "output_type": "stream",
     "text": [
      "this is the newfile's new function\n"
     ]
    }
   ],
   "source": [
    "newfunc()"
   ]
  },
  {
   "cell_type": "markdown",
   "id": "33734203",
   "metadata": {},
   "source": [
    "# EXCEPTION HANDLING "
   ]
  },
  {
   "cell_type": "code",
   "execution_count": 73,
   "id": "c758bc62",
   "metadata": {},
   "outputs": [
    {
     "ename": "SyntaxError",
     "evalue": "EOL while scanning string literal (Temp/ipykernel_13744/1783792631.py, line 1)",
     "output_type": "error",
     "traceback": [
      "\u001b[1;36m  File \u001b[1;32m\"C:\\Users\\h.p\\AppData\\Local\\Temp/ipykernel_13744/1783792631.py\"\u001b[1;36m, line \u001b[1;32m1\u001b[0m\n\u001b[1;33m    print('asdasda)\u001b[0m\n\u001b[1;37m                   ^\u001b[0m\n\u001b[1;31mSyntaxError\u001b[0m\u001b[1;31m:\u001b[0m EOL while scanning string literal\n"
     ]
    }
   ],
   "source": [
    "print('asdasda)"
   ]
  },
  {
   "cell_type": "code",
   "execution_count": 74,
   "id": "aa47b5a6",
   "metadata": {},
   "outputs": [],
   "source": [
    "def test(a,b):\n",
    "    return a/b"
   ]
  },
  {
   "cell_type": "code",
   "execution_count": 76,
   "id": "90f741c9",
   "metadata": {},
   "outputs": [
    {
     "ename": "TypeError",
     "evalue": "test() takes 0 positional arguments but 2 were given",
     "output_type": "error",
     "traceback": [
      "\u001b[1;31m---------------------------------------------------------------------------\u001b[0m",
      "\u001b[1;31mTypeError\u001b[0m                                 Traceback (most recent call last)",
      "\u001b[1;32m~\\AppData\\Local\\Temp/ipykernel_13744/2318398676.py\u001b[0m in \u001b[0;36m<module>\u001b[1;34m\u001b[0m\n\u001b[1;32m----> 1\u001b[1;33m \u001b[0mtest\u001b[0m\u001b[1;33m(\u001b[0m\u001b[1;36m5\u001b[0m\u001b[1;33m,\u001b[0m\u001b[1;36m0\u001b[0m\u001b[1;33m)\u001b[0m\u001b[1;33m\u001b[0m\u001b[1;33m\u001b[0m\u001b[0m\n\u001b[0m",
      "\u001b[1;31mTypeError\u001b[0m: test() takes 0 positional arguments but 2 were given"
     ]
    }
   ],
   "source": [
    "test(5,0)"
   ]
  },
  {
   "cell_type": "markdown",
   "id": "f7b2b9e2",
   "metadata": {},
   "source": [
    "First one is a syntactical error it is a compile time issue. You have to handle it by yourself\n",
    "\n",
    "Second one is runtime error, we can handle this error using expetion handling"
   ]
  },
  {
   "cell_type": "code",
   "execution_count": 77,
   "id": "2f60d834",
   "metadata": {},
   "outputs": [
    {
     "ename": "FileNotFoundError",
     "evalue": "[Errno 2] No such file or directory: 'test.txt'",
     "output_type": "error",
     "traceback": [
      "\u001b[1;31m---------------------------------------------------------------------------\u001b[0m",
      "\u001b[1;31mFileNotFoundError\u001b[0m                         Traceback (most recent call last)",
      "\u001b[1;32m~\\AppData\\Local\\Temp/ipykernel_13744/2162777846.py\u001b[0m in \u001b[0;36m<module>\u001b[1;34m\u001b[0m\n\u001b[1;32m----> 1\u001b[1;33m \u001b[0ma\u001b[0m \u001b[1;33m=\u001b[0m \u001b[0mopen\u001b[0m\u001b[1;33m(\u001b[0m\u001b[1;34m'test.txt'\u001b[0m\u001b[1;33m,\u001b[0m\u001b[1;34m'r'\u001b[0m\u001b[1;33m)\u001b[0m\u001b[1;33m\u001b[0m\u001b[1;33m\u001b[0m\u001b[0m\n\u001b[0m",
      "\u001b[1;31mFileNotFoundError\u001b[0m: [Errno 2] No such file or directory: 'test.txt'"
     ]
    }
   ],
   "source": [
    "#a = open('test.txt','r')"
   ]
  },
  {
   "cell_type": "code",
   "execution_count": 80,
   "id": "32ecaf87",
   "metadata": {},
   "outputs": [
    {
     "name": "stdout",
     "output_type": "stream",
     "text": [
      "The file might not exist\n"
     ]
    }
   ],
   "source": [
    "#HANDLING THE ERROR\n",
    "\n",
    "try:\n",
    "    a = open('test.txt','r')\n",
    "\n",
    "except:\n",
    "    print(\"The file might not exist\")"
   ]
  },
  {
   "cell_type": "code",
   "execution_count": 81,
   "id": "96c60935",
   "metadata": {},
   "outputs": [
    {
     "ename": "SyntaxError",
     "evalue": "invalid syntax (Temp/ipykernel_13744/680073473.py, line 4)",
     "output_type": "error",
     "traceback": [
      "\u001b[1;36m  File \u001b[1;32m\"C:\\Users\\h.p\\AppData\\Local\\Temp/ipykernel_13744/680073473.py\"\u001b[1;36m, line \u001b[1;32m4\u001b[0m\n\u001b[1;33m    except:\u001b[0m\n\u001b[1;37m    ^\u001b[0m\n\u001b[1;31mSyntaxError\u001b[0m\u001b[1;31m:\u001b[0m invalid syntax\n"
     ]
    }
   ],
   "source": [
    "try:\n",
    "    a = open('test.txt','r'\n",
    "\n",
    "except:\n",
    "    print(\"The file might not exist\")"
   ]
  },
  {
   "cell_type": "markdown",
   "id": "adb83d98",
   "metadata": {},
   "source": [
    "This time it won't work becasue it is compile time error, exception handling handles only the runtime issues "
   ]
  },
  {
   "cell_type": "code",
   "execution_count": 82,
   "id": "f6d1a40b",
   "metadata": {},
   "outputs": [
    {
     "name": "stdout",
     "output_type": "stream",
     "text": [
      "The file might not exist\n"
     ]
    }
   ],
   "source": [
    "try:\n",
    "    a = 5/0\n",
    "\n",
    "except:\n",
    "    print(\"The file might not exist\")"
   ]
  },
  {
   "cell_type": "code",
   "execution_count": 85,
   "id": "b6065a05",
   "metadata": {},
   "outputs": [
    {
     "ename": "ZeroDivisionError",
     "evalue": "division by zero",
     "output_type": "error",
     "traceback": [
      "\u001b[1;31m---------------------------------------------------------------------------\u001b[0m",
      "\u001b[1;31mZeroDivisionError\u001b[0m                         Traceback (most recent call last)",
      "\u001b[1;32m~\\AppData\\Local\\Temp/ipykernel_13744/430529860.py\u001b[0m in \u001b[0;36m<module>\u001b[1;34m\u001b[0m\n\u001b[0;32m      1\u001b[0m \u001b[1;32mtry\u001b[0m\u001b[1;33m:\u001b[0m\u001b[1;33m\u001b[0m\u001b[1;33m\u001b[0m\u001b[0m\n\u001b[1;32m----> 2\u001b[1;33m     \u001b[0ma\u001b[0m \u001b[1;33m=\u001b[0m \u001b[1;36m5\u001b[0m\u001b[1;33m/\u001b[0m\u001b[1;36m0\u001b[0m\u001b[1;33m\u001b[0m\u001b[1;33m\u001b[0m\u001b[0m\n\u001b[0m\u001b[0;32m      3\u001b[0m \u001b[1;33m\u001b[0m\u001b[0m\n\u001b[0;32m      4\u001b[0m \u001b[1;32mexcept\u001b[0m \u001b[0mIOError\u001b[0m\u001b[1;33m:\u001b[0m  \u001b[1;31m#it will be able to catch only the input output error\u001b[0m\u001b[1;33m\u001b[0m\u001b[1;33m\u001b[0m\u001b[0m\n\u001b[0;32m      5\u001b[0m     \u001b[0mprint\u001b[0m\u001b[1;33m(\u001b[0m\u001b[1;34m\"The file might not exist\"\u001b[0m\u001b[1;33m)\u001b[0m\u001b[1;33m\u001b[0m\u001b[1;33m\u001b[0m\u001b[0m\n",
      "\u001b[1;31mZeroDivisionError\u001b[0m: division by zero"
     ]
    }
   ],
   "source": [
    "try:\n",
    "    a = 5/0\n",
    "\n",
    "except IOError:  #it will be able to catch only the input output error\n",
    "    print(\"The file might not exist\")"
   ]
  },
  {
   "cell_type": "code",
   "execution_count": 86,
   "id": "479d7304",
   "metadata": {},
   "outputs": [
    {
     "name": "stdout",
     "output_type": "stream",
     "text": [
      "The file might not exist\n"
     ]
    }
   ],
   "source": [
    "try:\n",
    "    a = 5/0\n",
    "\n",
    "except ArithmeticError:   #it will be able to catch only the arithmetic error\n",
    "    print(\"The file might not exist\")"
   ]
  },
  {
   "cell_type": "code",
   "execution_count": 87,
   "id": "0e7bf01b",
   "metadata": {},
   "outputs": [
    {
     "name": "stdout",
     "output_type": "stream",
     "text": [
      "The file might not exist division by zero\n"
     ]
    }
   ],
   "source": [
    "try:\n",
    "    a = 5/0\n",
    "\n",
    "except ArithmeticError as e:   #it will be able to catch only the arithmetic error #e will help to print the error which is given out\n",
    "    print(\"The file might not exist\",e)"
   ]
  },
  {
   "cell_type": "markdown",
   "id": "082f5abd",
   "metadata": {},
   "source": [
    "## try except else "
   ]
  },
  {
   "cell_type": "code",
   "execution_count": 89,
   "id": "79b25e13",
   "metadata": {},
   "outputs": [
    {
     "name": "stdout",
     "output_type": "stream",
     "text": [
      "error giving out division by zero\n"
     ]
    }
   ],
   "source": [
    "try:\n",
    "    a=5/0\n",
    "except ArithmeticError as e:\n",
    "    print('error giving out',e)\n",
    "else:\n",
    "    print(\"try block executed successfully\")"
   ]
  },
  {
   "cell_type": "code",
   "execution_count": 90,
   "id": "c31ae512",
   "metadata": {},
   "outputs": [
    {
     "name": "stdout",
     "output_type": "stream",
     "text": [
      "try block executed successfully\n"
     ]
    }
   ],
   "source": [
    "try:\n",
    "    a=5/4\n",
    "except ArithmeticError as e:\n",
    "    print('error giving out',e)\n",
    "else:\n",
    "    print(\"try block executed successfully\")"
   ]
  },
  {
   "cell_type": "code",
   "execution_count": 91,
   "id": "76ec3090",
   "metadata": {},
   "outputs": [],
   "source": [
    "#ELSE will be run when the try statement is executed successfull else\n",
    "#except only will be implemented"
   ]
  },
  {
   "cell_type": "code",
   "execution_count": 94,
   "id": "57618519",
   "metadata": {},
   "outputs": [
    {
     "name": "stdout",
     "output_type": "stream",
     "text": [
      "try block executed successfully\n",
      "file does not exist\n"
     ]
    }
   ],
   "source": [
    "try:\n",
    "    a=5/4\n",
    "except ArithmeticError as e:\n",
    "    print('error giving out',e)\n",
    "else:\n",
    "    print(\"try block executed successfully\")\n",
    "    try:\n",
    "        f=open(\"test7.txt\",'r')\n",
    "    except:\n",
    "        print(\"file does not exist\")"
   ]
  },
  {
   "cell_type": "code",
   "execution_count": 95,
   "id": "29010d8d",
   "metadata": {},
   "outputs": [
    {
     "name": "stdout",
     "output_type": "stream",
     "text": [
      "enter the first number4\n",
      "enter the second number6\n",
      "try block executed successfully\n",
      "file does not exist\n"
     ]
    }
   ],
   "source": [
    "try:\n",
    "    a= int(input(\"enter the first number\"))\n",
    "    b= int(input(\"enter the second number\"))\n",
    "    c=a/b\n",
    "except ArithmeticError as e:\n",
    "    print('error giving out',e)\n",
    "    f=open(\"test9.txt\",'w')\n",
    "else:\n",
    "    print(\"try block executed successfully\")\n",
    "    try:\n",
    "        f=open(\"test7.txt\",'r')\n",
    "    except:\n",
    "        print(\"file does not exist\")"
   ]
  },
  {
   "cell_type": "code",
   "execution_count": 96,
   "id": "52f0dad4",
   "metadata": {},
   "outputs": [
    {
     "name": "stdout",
     "output_type": "stream",
     "text": [
      "enter the first number5\n",
      "enter the second number0\n",
      "error giving out division by zero\n"
     ]
    }
   ],
   "source": [
    "try:\n",
    "    a= int(input(\"enter the first number\"))\n",
    "    b= int(input(\"enter the second number\"))\n",
    "    c=a/b\n",
    "except ArithmeticError as e:\n",
    "    print('error giving out',e)\n",
    "    f=open(\"test9.txt\",'w')\n",
    "else:\n",
    "    print(\"try block executed successfully\")\n",
    "    try:\n",
    "        f=open(\"test7.txt\",'r')\n",
    "    except:\n",
    "        print(\"file does not exist\")"
   ]
  },
  {
   "cell_type": "code",
   "execution_count": 97,
   "id": "1f265f9b",
   "metadata": {},
   "outputs": [],
   "source": [
    "# test9 file also created when we run the upper cell"
   ]
  },
  {
   "cell_type": "code",
   "execution_count": 103,
   "id": "477a0579",
   "metadata": {},
   "outputs": [
    {
     "name": "stdout",
     "output_type": "stream",
     "text": [
      "(4, 5, 6, 7, 8, 9)\n"
     ]
    },
    {
     "ename": "TypeError",
     "evalue": "'tuple' object does not support item assignment",
     "output_type": "error",
     "traceback": [
      "\u001b[1;31m---------------------------------------------------------------------------\u001b[0m",
      "\u001b[1;31mTypeError\u001b[0m                                 Traceback (most recent call last)",
      "\u001b[1;32m~\\AppData\\Local\\Temp/ipykernel_13744/1448302570.py\u001b[0m in \u001b[0;36m<module>\u001b[1;34m\u001b[0m\n\u001b[0;32m      3\u001b[0m \u001b[0mt\u001b[0m\u001b[1;33m=\u001b[0m\u001b[1;33m(\u001b[0m\u001b[1;36m4\u001b[0m\u001b[1;33m,\u001b[0m\u001b[1;36m5\u001b[0m\u001b[1;33m,\u001b[0m\u001b[1;36m6\u001b[0m\u001b[1;33m,\u001b[0m\u001b[1;36m7\u001b[0m\u001b[1;33m,\u001b[0m\u001b[1;36m8\u001b[0m\u001b[1;33m,\u001b[0m\u001b[1;36m9\u001b[0m\u001b[1;33m)\u001b[0m\u001b[1;33m\u001b[0m\u001b[1;33m\u001b[0m\u001b[0m\n\u001b[0;32m      4\u001b[0m \u001b[0mprint\u001b[0m\u001b[1;33m(\u001b[0m\u001b[0mt\u001b[0m\u001b[1;33m)\u001b[0m\u001b[1;33m\u001b[0m\u001b[1;33m\u001b[0m\u001b[0m\n\u001b[1;32m----> 5\u001b[1;33m \u001b[0mt\u001b[0m\u001b[1;33m[\u001b[0m\u001b[1;36m0\u001b[0m\u001b[1;33m]\u001b[0m\u001b[1;33m=\u001b[0m\u001b[1;34m'apoo'\u001b[0m\u001b[1;33m\u001b[0m\u001b[1;33m\u001b[0m\u001b[0m\n\u001b[0m",
      "\u001b[1;31mTypeError\u001b[0m: 'tuple' object does not support item assignment"
     ]
    }
   ],
   "source": [
    "l=[4,5,6,7,8,9,0]\n",
    "#l[100] #out of range error\n",
    "t=(4,5,6,7,8,9)\n",
    "print(t)\n",
    "t[0]='apoo'"
   ]
  },
  {
   "cell_type": "code",
   "execution_count": 104,
   "id": "9add368f",
   "metadata": {},
   "outputs": [
    {
     "name": "stdout",
     "output_type": "stream",
     "text": [
      "there is an issue\n",
      "(4, 5, 6, 7, 8, 9)\n",
      "error inside the tuple\n"
     ]
    }
   ],
   "source": [
    "try:\n",
    "    l=[4,5,6,7,8,9,0]\n",
    "    l[100]\n",
    "except:\n",
    "    print(\"there is an issue\")\n",
    "    t=(4,5,6,7,8,9)\n",
    "    print(t)\n",
    "    try:\n",
    "        t[0]='apoo'\n",
    "    except:\n",
    "        print(\"error inside the tuple\")\n",
    "else:\n",
    "    print('there is no issue with my code')\n",
    "\n",
    "    "
   ]
  },
  {
   "cell_type": "code",
   "execution_count": 107,
   "id": "a7f108f2",
   "metadata": {},
   "outputs": [
    {
     "name": "stdout",
     "output_type": "stream",
     "text": [
      "error exception\n",
      "finally section\n"
     ]
    }
   ],
   "source": [
    "try:\n",
    "    5/0\n",
    "except:\n",
    "    print(\"error exception\")\n",
    "else:\n",
    "    print(\"else will be printed when the try block is success\")\n",
    "finally:                        #finally will always run\n",
    "    print(\"finally section\")        "
   ]
  },
  {
   "cell_type": "code",
   "execution_count": 108,
   "id": "8591d1e7",
   "metadata": {},
   "outputs": [
    {
     "name": "stdout",
     "output_type": "stream",
     "text": [
      "else will be printed when the try block is success\n",
      "finally section\n"
     ]
    }
   ],
   "source": [
    "try:\n",
    "    5/4\n",
    "except:\n",
    "    print(\"error exception\")\n",
    "else:\n",
    "    print(\"else will be printed when the try block is success\")\n",
    "finally:     #finally will always run\n",
    "    print(\"finally section\")"
   ]
  },
  {
   "cell_type": "code",
   "execution_count": 113,
   "id": "17093eac",
   "metadata": {},
   "outputs": [
    {
     "name": "stdout",
     "output_type": "stream",
     "text": [
      "else will execute if try will execute with suc\n",
      "finally i will execute in any case \n"
     ]
    }
   ],
   "source": [
    "try :\n",
    "    f = open(\"test1.txt\" , 'w+')\n",
    "except :\n",
    "    pass\n",
    "else :\n",
    "    print(\"else will execute if try will execute with suc\")\n",
    "finally:\n",
    "    print(\"finally i will execute in any case \")\n",
    "    l = [4,5,6,7]\n",
    "    try :\n",
    "        print(l[10])\n",
    "    except:\n",
    "        pass"
   ]
  },
  {
   "cell_type": "markdown",
   "id": "52a0997e",
   "metadata": {},
   "source": [
    "# Custom Exceptions "
   ]
  },
  {
   "cell_type": "code",
   "execution_count": 1,
   "id": "c03e4dd8",
   "metadata": {},
   "outputs": [
    {
     "name": "stdout",
     "output_type": "stream",
     "text": [
      "This is error [Errno 2] No such file or directory: 'testo.txt'\n"
     ]
    }
   ],
   "source": [
    "try :\n",
    "    f =open(\"testo.txt\",'r')\n",
    "except IOError as e:\n",
    "    print(\"This is error\",e)\n",
    "    "
   ]
  },
  {
   "cell_type": "code",
   "execution_count": 2,
   "id": "fd038f4d",
   "metadata": {},
   "outputs": [],
   "source": [
    "def askforint():\n",
    "    while True:\n",
    "        try:\n",
    "            a = int(input(\"enter a an integer\"))\n",
    "        except Exception as e: #is a superclass of all the errors, doesn't matter which exception\n",
    "            print(\"this is my error message\",e)\n",
    "        else:\n",
    "            print(\"this is the integer\",a)\n",
    "        finally:\n",
    "            print(\"close this issue\")"
   ]
  },
  {
   "cell_type": "code",
   "execution_count": 3,
   "id": "556855da",
   "metadata": {},
   "outputs": [
    {
     "name": "stdout",
     "output_type": "stream",
     "text": [
      "enter a an integeral\n",
      "this is my error message invalid literal for int() with base 10: 'al'\n",
      "close this issue\n",
      "enter a an integer5.4\n",
      "this is my error message invalid literal for int() with base 10: '5.4'\n",
      "close this issue\n",
      "enter a an integer1\n",
      "this is the integer 1\n",
      "close this issue\n",
      "close this issue\n"
     ]
    },
    {
     "ename": "KeyboardInterrupt",
     "evalue": "Interrupted by user",
     "output_type": "error",
     "traceback": [
      "\u001b[1;31m---------------------------------------------------------------------------\u001b[0m",
      "\u001b[1;31mKeyboardInterrupt\u001b[0m                         Traceback (most recent call last)",
      "\u001b[1;32m~\\AppData\\Local\\Temp/ipykernel_20996/861601814.py\u001b[0m in \u001b[0;36m<module>\u001b[1;34m\u001b[0m\n\u001b[1;32m----> 1\u001b[1;33m \u001b[0maskforint\u001b[0m\u001b[1;33m(\u001b[0m\u001b[1;33m)\u001b[0m\u001b[1;33m\u001b[0m\u001b[1;33m\u001b[0m\u001b[0m\n\u001b[0m",
      "\u001b[1;32m~\\AppData\\Local\\Temp/ipykernel_20996/4073149934.py\u001b[0m in \u001b[0;36maskforint\u001b[1;34m()\u001b[0m\n\u001b[0;32m      2\u001b[0m     \u001b[1;32mwhile\u001b[0m \u001b[1;32mTrue\u001b[0m\u001b[1;33m:\u001b[0m\u001b[1;33m\u001b[0m\u001b[1;33m\u001b[0m\u001b[0m\n\u001b[0;32m      3\u001b[0m         \u001b[1;32mtry\u001b[0m\u001b[1;33m:\u001b[0m\u001b[1;33m\u001b[0m\u001b[1;33m\u001b[0m\u001b[0m\n\u001b[1;32m----> 4\u001b[1;33m             \u001b[0ma\u001b[0m \u001b[1;33m=\u001b[0m \u001b[0mint\u001b[0m\u001b[1;33m(\u001b[0m\u001b[0minput\u001b[0m\u001b[1;33m(\u001b[0m\u001b[1;34m\"enter a an integer\"\u001b[0m\u001b[1;33m)\u001b[0m\u001b[1;33m)\u001b[0m\u001b[1;33m\u001b[0m\u001b[1;33m\u001b[0m\u001b[0m\n\u001b[0m\u001b[0;32m      5\u001b[0m         \u001b[1;32mexcept\u001b[0m \u001b[0mException\u001b[0m \u001b[1;32mas\u001b[0m \u001b[0me\u001b[0m\u001b[1;33m:\u001b[0m\u001b[1;33m\u001b[0m\u001b[1;33m\u001b[0m\u001b[0m\n\u001b[0;32m      6\u001b[0m             \u001b[0mprint\u001b[0m\u001b[1;33m(\u001b[0m\u001b[1;34m\"this is my error message\"\u001b[0m\u001b[1;33m,\u001b[0m\u001b[0me\u001b[0m\u001b[1;33m)\u001b[0m\u001b[1;33m\u001b[0m\u001b[1;33m\u001b[0m\u001b[0m\n",
      "\u001b[1;32mD:\\Anaconda\\lib\\site-packages\\ipykernel\\kernelbase.py\u001b[0m in \u001b[0;36mraw_input\u001b[1;34m(self, prompt)\u001b[0m\n\u001b[0;32m   1004\u001b[0m                 \u001b[1;34m\"raw_input was called, but this frontend does not support input requests.\"\u001b[0m\u001b[1;33m\u001b[0m\u001b[1;33m\u001b[0m\u001b[0m\n\u001b[0;32m   1005\u001b[0m             )\n\u001b[1;32m-> 1006\u001b[1;33m         return self._input_request(\n\u001b[0m\u001b[0;32m   1007\u001b[0m             \u001b[0mstr\u001b[0m\u001b[1;33m(\u001b[0m\u001b[0mprompt\u001b[0m\u001b[1;33m)\u001b[0m\u001b[1;33m,\u001b[0m\u001b[1;33m\u001b[0m\u001b[1;33m\u001b[0m\u001b[0m\n\u001b[0;32m   1008\u001b[0m             \u001b[0mself\u001b[0m\u001b[1;33m.\u001b[0m\u001b[0m_parent_ident\u001b[0m\u001b[1;33m[\u001b[0m\u001b[1;34m\"shell\"\u001b[0m\u001b[1;33m]\u001b[0m\u001b[1;33m,\u001b[0m\u001b[1;33m\u001b[0m\u001b[1;33m\u001b[0m\u001b[0m\n",
      "\u001b[1;32mD:\\Anaconda\\lib\\site-packages\\ipykernel\\kernelbase.py\u001b[0m in \u001b[0;36m_input_request\u001b[1;34m(self, prompt, ident, parent, password)\u001b[0m\n\u001b[0;32m   1049\u001b[0m             \u001b[1;32mexcept\u001b[0m \u001b[0mKeyboardInterrupt\u001b[0m\u001b[1;33m:\u001b[0m\u001b[1;33m\u001b[0m\u001b[1;33m\u001b[0m\u001b[0m\n\u001b[0;32m   1050\u001b[0m                 \u001b[1;31m# re-raise KeyboardInterrupt, to truncate traceback\u001b[0m\u001b[1;33m\u001b[0m\u001b[1;33m\u001b[0m\u001b[0m\n\u001b[1;32m-> 1051\u001b[1;33m                 \u001b[1;32mraise\u001b[0m \u001b[0mKeyboardInterrupt\u001b[0m\u001b[1;33m(\u001b[0m\u001b[1;34m\"Interrupted by user\"\u001b[0m\u001b[1;33m)\u001b[0m \u001b[1;32mfrom\u001b[0m \u001b[1;32mNone\u001b[0m\u001b[1;33m\u001b[0m\u001b[1;33m\u001b[0m\u001b[0m\n\u001b[0m\u001b[0;32m   1052\u001b[0m             \u001b[1;32mexcept\u001b[0m \u001b[0mException\u001b[0m\u001b[1;33m:\u001b[0m\u001b[1;33m\u001b[0m\u001b[1;33m\u001b[0m\u001b[0m\n\u001b[0;32m   1053\u001b[0m                 \u001b[0mself\u001b[0m\u001b[1;33m.\u001b[0m\u001b[0mlog\u001b[0m\u001b[1;33m.\u001b[0m\u001b[0mwarning\u001b[0m\u001b[1;33m(\u001b[0m\u001b[1;34m\"Invalid Message:\"\u001b[0m\u001b[1;33m,\u001b[0m \u001b[0mexc_info\u001b[0m\u001b[1;33m=\u001b[0m\u001b[1;32mTrue\u001b[0m\u001b[1;33m)\u001b[0m\u001b[1;33m\u001b[0m\u001b[1;33m\u001b[0m\u001b[0m\n",
      "\u001b[1;31mKeyboardInterrupt\u001b[0m: Interrupted by user"
     ]
    }
   ],
   "source": [
    "askforint()"
   ]
  },
  {
   "cell_type": "code",
   "execution_count": 4,
   "id": "2fe2df5a",
   "metadata": {},
   "outputs": [],
   "source": [
    "def askforint():\n",
    "    while True:\n",
    "        try:\n",
    "            a = int(input(\"enter a an integer\"))\n",
    "        except Exception as e: #is a superclass of all the errors, doesn't matter which exception\n",
    "            print(\"this is my error message\",e)\n",
    "        else:\n",
    "            print(\"this is the integer\",a)\n",
    "            break\n",
    "        finally:\n",
    "            print(\"close this issue\") #it will come to finally block even after using break, no matter what we will go into finally\n",
    "        "
   ]
  },
  {
   "cell_type": "code",
   "execution_count": 5,
   "id": "b5f109b6",
   "metadata": {},
   "outputs": [
    {
     "name": "stdout",
     "output_type": "stream",
     "text": [
      "enter a an integer5\n",
      "this is the integer 5\n",
      "close this issue\n"
     ]
    }
   ],
   "source": [
    "askforint()"
   ]
  },
  {
   "cell_type": "code",
   "execution_count": 6,
   "id": "bd825331",
   "metadata": {},
   "outputs": [
    {
     "name": "stdout",
     "output_type": "stream",
     "text": [
      "enter a an integerapo\n",
      "this is my error message invalid literal for int() with base 10: 'apo'\n",
      "close this issue\n",
      "enter a an integer8.9\n",
      "this is my error message invalid literal for int() with base 10: '8.9'\n",
      "close this issue\n",
      "enter a an integer556\n",
      "this is the integer 556\n",
      "close this issue\n"
     ]
    }
   ],
   "source": [
    "askforint()"
   ]
  },
  {
   "cell_type": "code",
   "execution_count": 8,
   "id": "f8d98f82",
   "metadata": {},
   "outputs": [],
   "source": [
    "def askforint():\n",
    "    while True:\n",
    "        try:\n",
    "            a = int(input(\"enter a an integer\"))\n",
    "        except Exception as e: #is a superclass of all the errors, doesn't matter which exception\n",
    "            print(\"this is my error message\",e)\n",
    "        else:\n",
    "            print(\"this is the integer\",a)\n",
    "            break\n",
    "        finally:\n",
    "            print(\"close this issue\")"
   ]
  },
  {
   "cell_type": "code",
   "execution_count": 9,
   "id": "2329bba0",
   "metadata": {},
   "outputs": [],
   "source": [
    "def askforint():\n",
    "    while True:\n",
    "        try :\n",
    "            a = int(input(\"enter an integer\"))\n",
    "        except FileNotFoundError as e :\n",
    "            print(\"this is my error msg \" , e )\n",
    "        except IOError as e :\n",
    "            print(e)\n",
    "        else :\n",
    "            print(\"person has entered a correct value \") \n",
    "            break\n",
    "        finally :\n",
    "            print(\"close this issue \")\n",
    "            "
   ]
  },
  {
   "cell_type": "code",
   "execution_count": 10,
   "id": "7db7905d",
   "metadata": {},
   "outputs": [
    {
     "name": "stdout",
     "output_type": "stream",
     "text": [
      "enter an integersd\n",
      "close this issue \n"
     ]
    },
    {
     "ename": "ValueError",
     "evalue": "invalid literal for int() with base 10: 'sd'",
     "output_type": "error",
     "traceback": [
      "\u001b[1;31m---------------------------------------------------------------------------\u001b[0m",
      "\u001b[1;31mValueError\u001b[0m                                Traceback (most recent call last)",
      "\u001b[1;32m~\\AppData\\Local\\Temp/ipykernel_20996/861601814.py\u001b[0m in \u001b[0;36m<module>\u001b[1;34m\u001b[0m\n\u001b[1;32m----> 1\u001b[1;33m \u001b[0maskforint\u001b[0m\u001b[1;33m(\u001b[0m\u001b[1;33m)\u001b[0m\u001b[1;33m\u001b[0m\u001b[1;33m\u001b[0m\u001b[0m\n\u001b[0m",
      "\u001b[1;32m~\\AppData\\Local\\Temp/ipykernel_20996/2893690690.py\u001b[0m in \u001b[0;36maskforint\u001b[1;34m()\u001b[0m\n\u001b[0;32m      2\u001b[0m     \u001b[1;32mwhile\u001b[0m \u001b[1;32mTrue\u001b[0m\u001b[1;33m:\u001b[0m\u001b[1;33m\u001b[0m\u001b[1;33m\u001b[0m\u001b[0m\n\u001b[0;32m      3\u001b[0m         \u001b[1;32mtry\u001b[0m \u001b[1;33m:\u001b[0m\u001b[1;33m\u001b[0m\u001b[1;33m\u001b[0m\u001b[0m\n\u001b[1;32m----> 4\u001b[1;33m             \u001b[0ma\u001b[0m \u001b[1;33m=\u001b[0m \u001b[0mint\u001b[0m\u001b[1;33m(\u001b[0m\u001b[0minput\u001b[0m\u001b[1;33m(\u001b[0m\u001b[1;34m\"enter an integer\"\u001b[0m\u001b[1;33m)\u001b[0m\u001b[1;33m)\u001b[0m\u001b[1;33m\u001b[0m\u001b[1;33m\u001b[0m\u001b[0m\n\u001b[0m\u001b[0;32m      5\u001b[0m         \u001b[1;32mexcept\u001b[0m \u001b[0mFileNotFoundError\u001b[0m \u001b[1;32mas\u001b[0m \u001b[0me\u001b[0m \u001b[1;33m:\u001b[0m\u001b[1;33m\u001b[0m\u001b[1;33m\u001b[0m\u001b[0m\n\u001b[0;32m      6\u001b[0m             \u001b[0mprint\u001b[0m\u001b[1;33m(\u001b[0m\u001b[1;34m\"this is my error msg \"\u001b[0m \u001b[1;33m,\u001b[0m \u001b[0me\u001b[0m \u001b[1;33m)\u001b[0m\u001b[1;33m\u001b[0m\u001b[1;33m\u001b[0m\u001b[0m\n",
      "\u001b[1;31mValueError\u001b[0m: invalid literal for int() with base 10: 'sd'"
     ]
    }
   ],
   "source": [
    "askforint() #it will show an error"
   ]
  },
  {
   "cell_type": "code",
   "execution_count": 11,
   "id": "cd815766",
   "metadata": {},
   "outputs": [],
   "source": [
    "def askforint():\n",
    "    while True:\n",
    "        try :\n",
    "            a = int(input(\"enter an integer\"))\n",
    "        except FileNotFoundError as e :\n",
    "            print(\"this is my error msg \" , e )\n",
    "        except IOError as e :\n",
    "            print(e)\n",
    "        except ValueError as e :\n",
    "            print(e)\n",
    "        else :\n",
    "            print(\"person has entered a correct value \") \n",
    "            break\n",
    "        finally :\n",
    "            print(\"close this issue \")\n",
    "            \n",
    "   #now it won't show any error         "
   ]
  },
  {
   "cell_type": "code",
   "execution_count": 12,
   "id": "c3eb49ba",
   "metadata": {},
   "outputs": [
    {
     "name": "stdout",
     "output_type": "stream",
     "text": [
      "enter an integerapoorv\n",
      "invalid literal for int() with base 10: 'apoorv'\n",
      "close this issue \n",
      "enter an integer23\n",
      "person has entered a correct value \n",
      "close this issue \n"
     ]
    }
   ],
   "source": [
    "askforint()"
   ]
  },
  {
   "cell_type": "code",
   "execution_count": 15,
   "id": "1eb28429",
   "metadata": {},
   "outputs": [],
   "source": [
    "def askforint():\n",
    "    while True:\n",
    "        try :\n",
    "            a = int(input(\"enter an integer\"))\n",
    "            c = 8/a\n",
    "        except FileNotFoundError as e :\n",
    "            print(\"this is my error msg \" , e )\n",
    "        except IOError as e :\n",
    "            print(e)\n",
    "        except ValueError as e :\n",
    "            print(e)\n",
    "        except ZeroDivisionError as e : #handling of 0 div error\n",
    "            print(e)\n",
    "        except Exception as e :\n",
    "            print(\"this is comming from parent class \" ,e)\n",
    "        except ArithmeticError as e :\n",
    "            print(\"this is a arithimetic error\",e)\n",
    "\n",
    "        else :\n",
    "            print(\"person has entered a correct value \") \n",
    "            break\n",
    "        finally :\n",
    "            print(\"close this issue \")"
   ]
  },
  {
   "cell_type": "code",
   "execution_count": 16,
   "id": "3eac1373",
   "metadata": {},
   "outputs": [
    {
     "name": "stdout",
     "output_type": "stream",
     "text": [
      "enter an integerapo\n",
      "invalid literal for int() with base 10: 'apo'\n",
      "close this issue \n",
      "enter an integer0\n",
      "division by zero\n",
      "close this issue \n",
      "enter an integer9\n",
      "person has entered a correct value \n",
      "close this issue \n"
     ]
    }
   ],
   "source": [
    "askforint()"
   ]
  },
  {
   "cell_type": "code",
   "execution_count": 17,
   "id": "c719b9cb",
   "metadata": {},
   "outputs": [],
   "source": [
    "#the exception which handles the error in first place\n",
    "#will be used. it won't do inside anyone else which are\n",
    "#at lower order. \n",
    "\n",
    "#Exception is super handler"
   ]
  },
  {
   "cell_type": "markdown",
   "id": "12b099b8",
   "metadata": {},
   "source": [
    "# Creating custom exception "
   ]
  },
  {
   "cell_type": "code",
   "execution_count": 20,
   "id": "1b970bec",
   "metadata": {},
   "outputs": [],
   "source": [
    "def create_your_exception(a):\n",
    "    if a==6:\n",
    "        raise Exception(a)"
   ]
  },
  {
   "cell_type": "code",
   "execution_count": 21,
   "id": "e40c7d2e",
   "metadata": {},
   "outputs": [
    {
     "ename": "Exception",
     "evalue": "6",
     "output_type": "error",
     "traceback": [
      "\u001b[1;31m---------------------------------------------------------------------------\u001b[0m",
      "\u001b[1;31mException\u001b[0m                                 Traceback (most recent call last)",
      "\u001b[1;32m~\\AppData\\Local\\Temp/ipykernel_20996/2402796548.py\u001b[0m in \u001b[0;36m<module>\u001b[1;34m\u001b[0m\n\u001b[1;32m----> 1\u001b[1;33m \u001b[0mcreate_your_exception\u001b[0m\u001b[1;33m(\u001b[0m\u001b[1;36m6\u001b[0m\u001b[1;33m)\u001b[0m\u001b[1;33m\u001b[0m\u001b[1;33m\u001b[0m\u001b[0m\n\u001b[0m",
      "\u001b[1;32m~\\AppData\\Local\\Temp/ipykernel_20996/2419253797.py\u001b[0m in \u001b[0;36mcreate_your_exception\u001b[1;34m(a)\u001b[0m\n\u001b[0;32m      1\u001b[0m \u001b[1;32mdef\u001b[0m \u001b[0mcreate_your_exception\u001b[0m\u001b[1;33m(\u001b[0m\u001b[0ma\u001b[0m\u001b[1;33m)\u001b[0m\u001b[1;33m:\u001b[0m\u001b[1;33m\u001b[0m\u001b[1;33m\u001b[0m\u001b[0m\n\u001b[0;32m      2\u001b[0m     \u001b[1;32mif\u001b[0m \u001b[0ma\u001b[0m\u001b[1;33m==\u001b[0m\u001b[1;36m6\u001b[0m\u001b[1;33m:\u001b[0m\u001b[1;33m\u001b[0m\u001b[1;33m\u001b[0m\u001b[0m\n\u001b[1;32m----> 3\u001b[1;33m         \u001b[1;32mraise\u001b[0m \u001b[0mException\u001b[0m\u001b[1;33m(\u001b[0m\u001b[0ma\u001b[0m\u001b[1;33m)\u001b[0m\u001b[1;33m\u001b[0m\u001b[1;33m\u001b[0m\u001b[0m\n\u001b[0m",
      "\u001b[1;31mException\u001b[0m: 6"
     ]
    }
   ],
   "source": [
    "create_your_exception(6)"
   ]
  },
  {
   "cell_type": "code",
   "execution_count": 25,
   "id": "885999ca",
   "metadata": {},
   "outputs": [
    {
     "name": "stdout",
     "output_type": "stream",
     "text": [
      "7\n"
     ]
    }
   ],
   "source": [
    "def create_your_exception(a):\n",
    "    if a==6:\n",
    "        raise Exception(a)\n",
    "    return a\n",
    "a = create_your_exception(7)\n",
    "print(a)"
   ]
  },
  {
   "cell_type": "code",
   "execution_count": 27,
   "id": "0c71790b",
   "metadata": {},
   "outputs": [
    {
     "name": "stdout",
     "output_type": "stream",
     "text": [
      "6\n"
     ]
    }
   ],
   "source": [
    "try:\n",
    "    create_your_exception(6)\n",
    "except Exception as e:\n",
    "    print(e)"
   ]
  },
  {
   "cell_type": "markdown",
   "id": "2f2f6a19",
   "metadata": {},
   "source": [
    "# Question\n",
    "\n",
    "Create folder test inside that create module mod1.py inside that you are supposed to write a logic to print all the even numbers.\n",
    "create a jupyter file and call this mod1.py and print all the even values\n",
    "while calling this module you are supposed to take input from user and allow someone to enter only a interger"
   ]
  },
  {
   "cell_type": "code",
   "execution_count": 28,
   "id": "dd64b7a3",
   "metadata": {},
   "outputs": [],
   "source": [
    "import os"
   ]
  },
  {
   "cell_type": "code",
   "execution_count": 29,
   "id": "07905150",
   "metadata": {},
   "outputs": [
    {
     "data": {
      "text/plain": [
       "'C:\\\\Users\\\\h.p\\\\Desktop\\\\DATA SCIENCE\\\\1 Python Programming\\\\Class 10_Modules and Exception'"
      ]
     },
     "execution_count": 29,
     "metadata": {},
     "output_type": "execute_result"
    }
   ],
   "source": [
    "pwd()"
   ]
  },
  {
   "cell_type": "code",
   "execution_count": 30,
   "id": "6ce4d7b8",
   "metadata": {},
   "outputs": [],
   "source": [
    "os.chdir(\"Testi\")"
   ]
  },
  {
   "cell_type": "code",
   "execution_count": 40,
   "id": "9d10226a",
   "metadata": {},
   "outputs": [
    {
     "data": {
      "text/plain": [
       "'C:\\\\Users\\\\h.p\\\\Desktop\\\\DATA SCIENCE\\\\1 Python Programming\\\\Class 10_Modules and Exception\\\\Testi'"
      ]
     },
     "execution_count": 40,
     "metadata": {},
     "output_type": "execute_result"
    }
   ],
   "source": [
    "pwd()"
   ]
  },
  {
   "cell_type": "code",
   "execution_count": 46,
   "id": "8c457e72",
   "metadata": {},
   "outputs": [],
   "source": [
    "import mod1"
   ]
  },
  {
   "cell_type": "code",
   "execution_count": 52,
   "id": "1724ed5b",
   "metadata": {},
   "outputs": [
    {
     "name": "stdout",
     "output_type": "stream",
     "text": [
      "9\n"
     ]
    },
    {
     "ename": "KeyboardInterrupt",
     "evalue": "Interrupted by user",
     "output_type": "error",
     "traceback": [
      "\u001b[1;31m---------------------------------------------------------------------------\u001b[0m",
      "\u001b[1;31mKeyboardInterrupt\u001b[0m                         Traceback (most recent call last)",
      "\u001b[1;32m~\\AppData\\Local\\Temp/ipykernel_20996/2269364406.py\u001b[0m in \u001b[0;36m<module>\u001b[1;34m\u001b[0m\n\u001b[0;32m      4\u001b[0m \u001b[1;32mwhile\u001b[0m \u001b[1;32mTrue\u001b[0m\u001b[1;33m:\u001b[0m\u001b[1;33m\u001b[0m\u001b[1;33m\u001b[0m\u001b[0m\n\u001b[0;32m      5\u001b[0m     \u001b[1;32mtry\u001b[0m\u001b[1;33m:\u001b[0m\u001b[1;33m\u001b[0m\u001b[1;33m\u001b[0m\u001b[0m\n\u001b[1;32m----> 6\u001b[1;33m         \u001b[0minp\u001b[0m \u001b[1;33m=\u001b[0m \u001b[0mint\u001b[0m\u001b[1;33m(\u001b[0m\u001b[0minput\u001b[0m\u001b[1;33m(\u001b[0m\u001b[1;33m)\u001b[0m\u001b[1;33m)\u001b[0m\u001b[1;33m\u001b[0m\u001b[1;33m\u001b[0m\u001b[0m\n\u001b[0m\u001b[0;32m      7\u001b[0m         \u001b[0mprint\u001b[0m\u001b[1;33m(\u001b[0m\u001b[0mprintEven\u001b[0m\u001b[1;33m(\u001b[0m\u001b[0minp\u001b[0m\u001b[1;33m)\u001b[0m\u001b[1;33m)\u001b[0m\u001b[1;33m\u001b[0m\u001b[1;33m\u001b[0m\u001b[0m\n\u001b[0;32m      8\u001b[0m     \u001b[1;32mexcept\u001b[0m \u001b[0mException\u001b[0m \u001b[1;32mas\u001b[0m \u001b[0me\u001b[0m\u001b[1;33m:\u001b[0m\u001b[1;33m\u001b[0m\u001b[1;33m\u001b[0m\u001b[0m\n",
      "\u001b[1;32mD:\\Anaconda\\lib\\site-packages\\ipykernel\\kernelbase.py\u001b[0m in \u001b[0;36mraw_input\u001b[1;34m(self, prompt)\u001b[0m\n\u001b[0;32m   1004\u001b[0m                 \u001b[1;34m\"raw_input was called, but this frontend does not support input requests.\"\u001b[0m\u001b[1;33m\u001b[0m\u001b[1;33m\u001b[0m\u001b[0m\n\u001b[0;32m   1005\u001b[0m             )\n\u001b[1;32m-> 1006\u001b[1;33m         return self._input_request(\n\u001b[0m\u001b[0;32m   1007\u001b[0m             \u001b[0mstr\u001b[0m\u001b[1;33m(\u001b[0m\u001b[0mprompt\u001b[0m\u001b[1;33m)\u001b[0m\u001b[1;33m,\u001b[0m\u001b[1;33m\u001b[0m\u001b[1;33m\u001b[0m\u001b[0m\n\u001b[0;32m   1008\u001b[0m             \u001b[0mself\u001b[0m\u001b[1;33m.\u001b[0m\u001b[0m_parent_ident\u001b[0m\u001b[1;33m[\u001b[0m\u001b[1;34m\"shell\"\u001b[0m\u001b[1;33m]\u001b[0m\u001b[1;33m,\u001b[0m\u001b[1;33m\u001b[0m\u001b[1;33m\u001b[0m\u001b[0m\n",
      "\u001b[1;32mD:\\Anaconda\\lib\\site-packages\\ipykernel\\kernelbase.py\u001b[0m in \u001b[0;36m_input_request\u001b[1;34m(self, prompt, ident, parent, password)\u001b[0m\n\u001b[0;32m   1049\u001b[0m             \u001b[1;32mexcept\u001b[0m \u001b[0mKeyboardInterrupt\u001b[0m\u001b[1;33m:\u001b[0m\u001b[1;33m\u001b[0m\u001b[1;33m\u001b[0m\u001b[0m\n\u001b[0;32m   1050\u001b[0m                 \u001b[1;31m# re-raise KeyboardInterrupt, to truncate traceback\u001b[0m\u001b[1;33m\u001b[0m\u001b[1;33m\u001b[0m\u001b[0m\n\u001b[1;32m-> 1051\u001b[1;33m                 \u001b[1;32mraise\u001b[0m \u001b[0mKeyboardInterrupt\u001b[0m\u001b[1;33m(\u001b[0m\u001b[1;34m\"Interrupted by user\"\u001b[0m\u001b[1;33m)\u001b[0m \u001b[1;32mfrom\u001b[0m \u001b[1;32mNone\u001b[0m\u001b[1;33m\u001b[0m\u001b[1;33m\u001b[0m\u001b[0m\n\u001b[0m\u001b[0;32m   1052\u001b[0m             \u001b[1;32mexcept\u001b[0m \u001b[0mException\u001b[0m\u001b[1;33m:\u001b[0m\u001b[1;33m\u001b[0m\u001b[1;33m\u001b[0m\u001b[0m\n\u001b[0;32m   1053\u001b[0m                 \u001b[0mself\u001b[0m\u001b[1;33m.\u001b[0m\u001b[0mlog\u001b[0m\u001b[1;33m.\u001b[0m\u001b[0mwarning\u001b[0m\u001b[1;33m(\u001b[0m\u001b[1;34m\"Invalid Message:\"\u001b[0m\u001b[1;33m,\u001b[0m \u001b[0mexc_info\u001b[0m\u001b[1;33m=\u001b[0m\u001b[1;32mTrue\u001b[0m\u001b[1;33m)\u001b[0m\u001b[1;33m\u001b[0m\u001b[1;33m\u001b[0m\u001b[0m\n",
      "\u001b[1;31mKeyboardInterrupt\u001b[0m: Interrupted by user"
     ]
    }
   ],
   "source": [
    "from mod1 import *\n",
    "import logging as log\n",
    "log.basicConfig(filename = 'even.log', level = log.ERROR)\n",
    "while True:\n",
    "    try:\n",
    "        inp = int(input())\n",
    "        print(printEven(inp))\n",
    "    except Exception as e:\n",
    "        log.exception(e)"
   ]
  },
  {
   "cell_type": "code",
   "execution_count": null,
   "id": "abc64042",
   "metadata": {},
   "outputs": [],
   "source": []
  },
  {
   "cell_type": "code",
   "execution_count": null,
   "id": "91b59dd5",
   "metadata": {},
   "outputs": [],
   "source": []
  }
 ],
 "metadata": {
  "kernelspec": {
   "display_name": "Python 3 (ipykernel)",
   "language": "python",
   "name": "python3"
  },
  "language_info": {
   "codemirror_mode": {
    "name": "ipython",
    "version": 3
   },
   "file_extension": ".py",
   "mimetype": "text/x-python",
   "name": "python",
   "nbconvert_exporter": "python",
   "pygments_lexer": "ipython3",
   "version": "3.9.7"
  }
 },
 "nbformat": 4,
 "nbformat_minor": 5
}
