{
 "cells": [
  {
   "cell_type": "code",
   "execution_count": 1,
   "id": "26df562e",
   "metadata": {},
   "outputs": [
    {
     "data": {
      "text/plain": [
       "'C:\\\\Users\\\\h.p\\\\Desktop\\\\DATA SCIENCE\\\\1 Python Programming\\\\Class 10_Modules and Exception'"
      ]
     },
     "execution_count": 1,
     "metadata": {},
     "output_type": "execute_result"
    }
   ],
   "source": [
    "pwd()"
   ]
  },
  {
   "cell_type": "code",
   "execution_count": 2,
   "id": "31730c72",
   "metadata": {},
   "outputs": [],
   "source": [
    "import os\n",
    "os.chdir('testfolder')"
   ]
  },
  {
   "cell_type": "code",
   "execution_count": 3,
   "id": "28767ab4",
   "metadata": {},
   "outputs": [
    {
     "data": {
      "text/plain": [
       "'C:\\\\Users\\\\h.p\\\\Desktop\\\\DATA SCIENCE\\\\1 Python Programming\\\\Class 10_Modules and Exception\\\\testfolder'"
      ]
     },
     "execution_count": 3,
     "metadata": {},
     "output_type": "execute_result"
    }
   ],
   "source": [
    "pwd()"
   ]
  },
  {
   "cell_type": "code",
   "execution_count": 4,
   "id": "b6fa7ce4",
   "metadata": {},
   "outputs": [],
   "source": [
    "import mod1\n",
    "import mod2\n",
    "import mod3"
   ]
  },
  {
   "cell_type": "code",
   "execution_count": 8,
   "id": "279046f0",
   "metadata": {},
   "outputs": [
    {
     "name": "stdout",
     "output_type": "stream",
     "text": [
      "this is fun1\n",
      "this is fun22\n",
      "this is fun33\n",
      "None\n"
     ]
    }
   ],
   "source": [
    "print(mod1.fun1())\n",
    "print(mod2.fun22())\n",
    "print(mod3.fun33())"
   ]
  },
  {
   "cell_type": "code",
   "execution_count": 9,
   "id": "e913b863",
   "metadata": {},
   "outputs": [],
   "source": [
    "#we can also import using"
   ]
  },
  {
   "cell_type": "code",
   "execution_count": 10,
   "id": "fd962511",
   "metadata": {},
   "outputs": [
    {
     "data": {
      "text/plain": [
       "'C:\\\\Users\\\\h.p\\\\Desktop\\\\DATA SCIENCE\\\\1 Python Programming\\\\Class 10_Modules and Exception\\\\testfolder'"
      ]
     },
     "execution_count": 10,
     "metadata": {},
     "output_type": "execute_result"
    }
   ],
   "source": [
    "pwd()"
   ]
  },
  {
   "cell_type": "code",
   "execution_count": 13,
   "id": "1359c84b",
   "metadata": {},
   "outputs": [],
   "source": [
    "os.chdir('C:\\\\Users\\\\h.p\\\\Desktop\\\\DATA SCIENCE\\\\1 Python Programming\\\\Class 10_Modules and Exception')"
   ]
  },
  {
   "cell_type": "code",
   "execution_count": 1,
   "id": "2376ca28",
   "metadata": {},
   "outputs": [
    {
     "data": {
      "text/plain": [
       "'C:\\\\Users\\\\h.p\\\\Desktop\\\\DATA SCIENCE\\\\1 Python Programming\\\\Class 10_Modules and Exception'"
      ]
     },
     "execution_count": 1,
     "metadata": {},
     "output_type": "execute_result"
    }
   ],
   "source": [
    "pwd()"
   ]
  },
  {
   "cell_type": "code",
   "execution_count": 11,
   "id": "7a5b5bbc",
   "metadata": {},
   "outputs": [],
   "source": [
    "import Testfolder.mod1"
   ]
  },
  {
   "cell_type": "code",
   "execution_count": 14,
   "id": "7d23b36a",
   "metadata": {},
   "outputs": [
    {
     "name": "stdout",
     "output_type": "stream",
     "text": [
      "this is fun1\n"
     ]
    }
   ],
   "source": [
    "print(Testfolder.mod1.fun1())"
   ]
  },
  {
   "cell_type": "code",
   "execution_count": 15,
   "id": "29278f73",
   "metadata": {},
   "outputs": [],
   "source": [
    "from Testfolder import mod2 #one another wat"
   ]
  },
  {
   "cell_type": "code",
   "execution_count": 16,
   "id": "a5f0b191",
   "metadata": {},
   "outputs": [
    {
     "name": "stdout",
     "output_type": "stream",
     "text": [
      "this is fun22\n"
     ]
    }
   ],
   "source": [
    "print(mod2.fun22())"
   ]
  },
  {
   "cell_type": "code",
   "execution_count": null,
   "id": "a3ab0a04",
   "metadata": {},
   "outputs": [],
   "source": []
  }
 ],
 "metadata": {
  "kernelspec": {
   "display_name": "Python 3 (ipykernel)",
   "language": "python",
   "name": "python3"
  },
  "language_info": {
   "codemirror_mode": {
    "name": "ipython",
    "version": 3
   },
   "file_extension": ".py",
   "mimetype": "text/x-python",
   "name": "python",
   "nbconvert_exporter": "python",
   "pygments_lexer": "ipython3",
   "version": "3.9.7"
  }
 },
 "nbformat": 4,
 "nbformat_minor": 5
}
