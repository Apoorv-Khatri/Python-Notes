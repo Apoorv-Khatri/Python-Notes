{
 "cells": [
  {
   "cell_type": "code",
   "execution_count": 1,
   "id": "70278346",
   "metadata": {},
   "outputs": [],
   "source": [
    "a = 'apoorv'"
   ]
  },
  {
   "cell_type": "code",
   "execution_count": 2,
   "id": "3962b3b9",
   "metadata": {},
   "outputs": [],
   "source": [
    "c = \"this is my first class for full stack data science, good day\""
   ]
  },
  {
   "cell_type": "code",
   "execution_count": 3,
   "id": "906c1b52",
   "metadata": {},
   "outputs": [
    {
     "data": {
      "text/plain": [
       "'this is my first class for full stack data science, good day'"
      ]
     },
     "execution_count": 3,
     "metadata": {},
     "output_type": "execute_result"
    }
   ],
   "source": [
    "c"
   ]
  },
  {
   "cell_type": "code",
   "execution_count": 4,
   "id": "e40a9be8",
   "metadata": {},
   "outputs": [],
   "source": [
    "s = \"this is a full stack class\""
   ]
  },
  {
   "cell_type": "code",
   "execution_count": 5,
   "id": "91251dcd",
   "metadata": {},
   "outputs": [
    {
     "data": {
      "text/plain": [
       "'t'"
      ]
     },
     "execution_count": 5,
     "metadata": {},
     "output_type": "execute_result"
    }
   ],
   "source": [
    "s[0]"
   ]
  },
  {
   "cell_type": "code",
   "execution_count": 6,
   "id": "d936b65e",
   "metadata": {},
   "outputs": [
    {
     "data": {
      "text/plain": [
       "'s'"
      ]
     },
     "execution_count": 6,
     "metadata": {},
     "output_type": "execute_result"
    }
   ],
   "source": [
    "s[-1]"
   ]
  },
  {
   "cell_type": "code",
   "execution_count": 7,
   "id": "33266644",
   "metadata": {},
   "outputs": [
    {
     "data": {
      "text/plain": [
       "26"
      ]
     },
     "execution_count": 7,
     "metadata": {},
     "output_type": "execute_result"
    }
   ],
   "source": [
    "len(s)"
   ]
  },
  {
   "cell_type": "code",
   "execution_count": 8,
   "id": "e0fb44f2",
   "metadata": {},
   "outputs": [
    {
     "data": {
      "text/plain": [
       "'ssalc kcats lluf a si siht'"
      ]
     },
     "execution_count": 8,
     "metadata": {},
     "output_type": "execute_result"
    }
   ],
   "source": [
    "s[::-1]"
   ]
  },
  {
   "cell_type": "code",
   "execution_count": 10,
   "id": "c518fc44",
   "metadata": {},
   "outputs": [
    {
     "name": "stdout",
     "output_type": "stream",
     "text": [
      "txhxixsx xixsx xax xfxuxlxlx xsxtxaxcxkx xcxlxaxsxsx"
     ]
    }
   ],
   "source": [
    "for i in s:\n",
    "    print(i,end=\"x\")"
   ]
  },
  {
   "cell_type": "code",
   "execution_count": 11,
   "id": "14fe8093",
   "metadata": {},
   "outputs": [
    {
     "data": {
      "text/plain": [
       "'this is a full stack class'"
      ]
     },
     "execution_count": 11,
     "metadata": {},
     "output_type": "execute_result"
    }
   ],
   "source": [
    "s"
   ]
  },
  {
   "cell_type": "code",
   "execution_count": 19,
   "id": "089db92e",
   "metadata": {},
   "outputs": [
    {
     "ename": "TypeError",
     "evalue": "'str' object does not support item assignment",
     "output_type": "error",
     "traceback": [
      "\u001b[1;31m---------------------------------------------------------------------------\u001b[0m",
      "\u001b[1;31mTypeError\u001b[0m                                 Traceback (most recent call last)",
      "\u001b[1;32m~\\AppData\\Local\\Temp/ipykernel_10764/4287505171.py\u001b[0m in \u001b[0;36m<module>\u001b[1;34m\u001b[0m\n\u001b[1;32m----> 1\u001b[1;33m \u001b[0ms\u001b[0m\u001b[1;33m[\u001b[0m\u001b[1;36m0\u001b[0m\u001b[1;33m]\u001b[0m\u001b[1;33m=\u001b[0m\u001b[1;34m\"j\"\u001b[0m  \u001b[1;31m# strings are immutable i.e. doesn't support item assignment\u001b[0m\u001b[1;33m\u001b[0m\u001b[1;33m\u001b[0m\u001b[0m\n\u001b[0m",
      "\u001b[1;31mTypeError\u001b[0m: 'str' object does not support item assignment"
     ]
    }
   ],
   "source": [
    "s[0]=\"j\"  # strings are immutable i.e. doesn't support item assignment"
   ]
  },
  {
   "cell_type": "code",
   "execution_count": 20,
   "id": "f73f0db9",
   "metadata": {},
   "outputs": [],
   "source": [
    "list1 = [121,232,'asd']"
   ]
  },
  {
   "cell_type": "code",
   "execution_count": 21,
   "id": "dcd78bbe",
   "metadata": {},
   "outputs": [],
   "source": [
    "list1[0] = 'apoorv'"
   ]
  },
  {
   "cell_type": "code",
   "execution_count": 22,
   "id": "5461b459",
   "metadata": {},
   "outputs": [
    {
     "data": {
      "text/plain": [
       "['apoorv', 232, 'asd']"
      ]
     },
     "execution_count": 22,
     "metadata": {},
     "output_type": "execute_result"
    }
   ],
   "source": [
    "list1"
   ]
  },
  {
   "cell_type": "code",
   "execution_count": 18,
   "id": "3aefc96f",
   "metadata": {},
   "outputs": [],
   "source": [
    "#list is mutable as you can seen no error is thrown"
   ]
  },
  {
   "cell_type": "code",
   "execution_count": 24,
   "id": "10a0e257",
   "metadata": {},
   "outputs": [
    {
     "data": {
      "text/plain": [
       "'ab'"
      ]
     },
     "execution_count": 24,
     "metadata": {},
     "output_type": "execute_result"
    }
   ],
   "source": [
    "\"a\"+\"b\""
   ]
  },
  {
   "cell_type": "code",
   "execution_count": 25,
   "id": "e6fc4b54",
   "metadata": {},
   "outputs": [],
   "source": [
    "a = 'apoorv'"
   ]
  },
  {
   "cell_type": "code",
   "execution_count": 26,
   "id": "d46a0a1c",
   "metadata": {},
   "outputs": [
    {
     "data": {
      "text/plain": [
       "'APOORV'"
      ]
     },
     "execution_count": 26,
     "metadata": {},
     "output_type": "execute_result"
    }
   ],
   "source": [
    "a.upper()"
   ]
  },
  {
   "cell_type": "code",
   "execution_count": 27,
   "id": "e6a3c5d0",
   "metadata": {},
   "outputs": [
    {
     "data": {
      "text/plain": [
       "'apoorv'"
      ]
     },
     "execution_count": 27,
     "metadata": {},
     "output_type": "execute_result"
    }
   ],
   "source": [
    "a"
   ]
  },
  {
   "cell_type": "code",
   "execution_count": 28,
   "id": "b481fbfd",
   "metadata": {},
   "outputs": [],
   "source": [
    "#after a. press tab and you can see all the inbuilt methods"
   ]
  },
  {
   "cell_type": "code",
   "execution_count": 32,
   "id": "92da25c9",
   "metadata": {},
   "outputs": [
    {
     "data": {
      "text/plain": [
       "2"
      ]
     },
     "execution_count": 32,
     "metadata": {},
     "output_type": "execute_result"
    }
   ],
   "source": [
    "a.find('o') #tell only about first occourance index"
   ]
  },
  {
   "cell_type": "code",
   "execution_count": 34,
   "id": "8061f5a8",
   "metadata": {},
   "outputs": [
    {
     "data": {
      "text/plain": [
       "-1"
      ]
     },
     "execution_count": 34,
     "metadata": {},
     "output_type": "execute_result"
    }
   ],
   "source": [
    "a.find('DS') #if something is not avaiable it will give -1"
   ]
  },
  {
   "cell_type": "code",
   "execution_count": 35,
   "id": "a41dbe5c",
   "metadata": {},
   "outputs": [
    {
     "data": {
      "text/plain": [
       "0"
      ]
     },
     "execution_count": 35,
     "metadata": {},
     "output_type": "execute_result"
    }
   ],
   "source": [
    "a.find('ap')"
   ]
  },
  {
   "cell_type": "code",
   "execution_count": 36,
   "id": "de761c7a",
   "metadata": {},
   "outputs": [],
   "source": [
    "n = 'my name is'"
   ]
  },
  {
   "cell_type": "code",
   "execution_count": 37,
   "id": "1e1c0580",
   "metadata": {},
   "outputs": [],
   "source": [
    "a = n.find('name')"
   ]
  },
  {
   "cell_type": "code",
   "execution_count": 38,
   "id": "52c865f6",
   "metadata": {},
   "outputs": [
    {
     "name": "stdout",
     "output_type": "stream",
     "text": [
      "3\n",
      "4\n",
      "5\n",
      "6\n"
     ]
    }
   ],
   "source": [
    "for i in range(a,a+4):\n",
    "    print(i)"
   ]
  },
  {
   "cell_type": "code",
   "execution_count": 44,
   "id": "f828b561",
   "metadata": {},
   "outputs": [],
   "source": [
    "b = 'apoorv my name , is apoorv'"
   ]
  },
  {
   "cell_type": "code",
   "execution_count": 45,
   "id": "227c1868",
   "metadata": {},
   "outputs": [
    {
     "data": {
      "text/plain": [
       "4"
      ]
     },
     "execution_count": 45,
     "metadata": {},
     "output_type": "execute_result"
    }
   ],
   "source": [
    "b.count('o') #case-sensitive"
   ]
  },
  {
   "cell_type": "code",
   "execution_count": 51,
   "id": "6ac631b8",
   "metadata": {},
   "outputs": [
    {
     "data": {
      "text/plain": [
       "['apoorv', 'my', 'name', ',', 'is', 'apoorv']"
      ]
     },
     "execution_count": 51,
     "metadata": {},
     "output_type": "execute_result"
    }
   ],
   "source": [
    "b.split() #into list splitted#by default seperator is the space here"
   ]
  },
  {
   "cell_type": "code",
   "execution_count": 53,
   "id": "760f8539",
   "metadata": {},
   "outputs": [],
   "source": [
    "ss = b.split(',') #i want to split between ,"
   ]
  },
  {
   "cell_type": "code",
   "execution_count": 54,
   "id": "63275e67",
   "metadata": {},
   "outputs": [
    {
     "data": {
      "text/plain": [
       "['apoorv my name ', ' is apoorv']"
      ]
     },
     "execution_count": 54,
     "metadata": {},
     "output_type": "execute_result"
    }
   ],
   "source": [
    "ss"
   ]
  },
  {
   "cell_type": "code",
   "execution_count": 55,
   "id": "031b52a5",
   "metadata": {},
   "outputs": [
    {
     "data": {
      "text/plain": [
       "list"
      ]
     },
     "execution_count": 55,
     "metadata": {},
     "output_type": "execute_result"
    }
   ],
   "source": [
    "type(ss)"
   ]
  },
  {
   "cell_type": "code",
   "execution_count": 57,
   "id": "7a971345",
   "metadata": {},
   "outputs": [
    {
     "data": {
      "text/plain": [
       "'THIS IS A FULL STACK CLASS'"
      ]
     },
     "execution_count": 57,
     "metadata": {},
     "output_type": "execute_result"
    }
   ],
   "source": [
    "s.upper() #all the data into upper case, s.lower() into lower case"
   ]
  },
  {
   "cell_type": "code",
   "execution_count": 59,
   "id": "3c038541",
   "metadata": {},
   "outputs": [
    {
     "data": {
      "text/plain": [
       "'APOORV MY NAME , IS APOORV'"
      ]
     },
     "execution_count": 59,
     "metadata": {},
     "output_type": "execute_result"
    }
   ],
   "source": [
    "b.swapcase() # upperinto lower, lower into upper case"
   ]
  },
  {
   "cell_type": "code",
   "execution_count": 61,
   "id": "d5a8fbb6",
   "metadata": {},
   "outputs": [
    {
     "data": {
      "text/plain": [
       "'a.p.o.o.r.v. .m.y. .n.a.m.e. .,. .i.s. .a.p.o.o.r.v'"
      ]
     },
     "execution_count": 61,
     "metadata": {},
     "output_type": "execute_result"
    }
   ],
   "source": [
    "\".\".join(b) #join \" \" value in between each element"
   ]
  },
  {
   "cell_type": "code",
   "execution_count": 66,
   "id": "01e3c709",
   "metadata": {},
   "outputs": [
    {
     "data": {
      "text/plain": [
       "<reversed at 0x1a5557acdf0>"
      ]
     },
     "execution_count": 66,
     "metadata": {},
     "output_type": "execute_result"
    }
   ],
   "source": [
    "reversed(s) #returns the object only"
   ]
  },
  {
   "cell_type": "code",
   "execution_count": 67,
   "id": "2d592434",
   "metadata": {},
   "outputs": [
    {
     "data": {
      "text/plain": [
       "['s',\n",
       " 's',\n",
       " 'a',\n",
       " 'l',\n",
       " 'c',\n",
       " ' ',\n",
       " 'k',\n",
       " 'c',\n",
       " 'a',\n",
       " 't',\n",
       " 's',\n",
       " ' ',\n",
       " 'l',\n",
       " 'l',\n",
       " 'u',\n",
       " 'f',\n",
       " ' ',\n",
       " 'a',\n",
       " ' ',\n",
       " 's',\n",
       " 'i',\n",
       " ' ',\n",
       " 's',\n",
       " 'i',\n",
       " 'h',\n",
       " 't']"
      ]
     },
     "execution_count": 67,
     "metadata": {},
     "output_type": "execute_result"
    }
   ],
   "source": [
    "list(reversed(s))"
   ]
  },
  {
   "cell_type": "code",
   "execution_count": 71,
   "id": "f30730e4",
   "metadata": {},
   "outputs": [],
   "source": [
    "s= ' ap orv '"
   ]
  },
  {
   "cell_type": "code",
   "execution_count": 73,
   "id": "a3f12cfe",
   "metadata": {},
   "outputs": [
    {
     "data": {
      "text/plain": [
       "'ap orv'"
      ]
     },
     "execution_count": 73,
     "metadata": {},
     "output_type": "execute_result"
    }
   ],
   "source": [
    "s.strip() #space removed before and after not inbetweeen"
   ]
  },
  {
   "cell_type": "code",
   "execution_count": 75,
   "id": "bbc4c908",
   "metadata": {},
   "outputs": [
    {
     "data": {
      "text/plain": [
       "'ap orv '"
      ]
     },
     "execution_count": 75,
     "metadata": {},
     "output_type": "execute_result"
    }
   ],
   "source": [
    "s.lstrip() #left hand side stripped"
   ]
  },
  {
   "cell_type": "code",
   "execution_count": 76,
   "id": "c8da6ebb",
   "metadata": {},
   "outputs": [
    {
     "data": {
      "text/plain": [
       "' ap orv'"
      ]
     },
     "execution_count": 76,
     "metadata": {},
     "output_type": "execute_result"
    }
   ],
   "source": [
    "s.rstrip() #right hand side stripped"
   ]
  },
  {
   "cell_type": "code",
   "execution_count": 77,
   "id": "1c9325ca",
   "metadata": {},
   "outputs": [],
   "source": [
    "s = \"greeting from ineuron\""
   ]
  },
  {
   "cell_type": "code",
   "execution_count": 79,
   "id": "27e58a76",
   "metadata": {},
   "outputs": [
    {
     "data": {
      "text/plain": [
       "'sreetins from ineuron'"
      ]
     },
     "execution_count": 79,
     "metadata": {},
     "output_type": "execute_result"
    }
   ],
   "source": [
    "s.replace(\"g\",'s') #replaced g by s throughout"
   ]
  },
  {
   "cell_type": "code",
   "execution_count": 80,
   "id": "9afd4996",
   "metadata": {},
   "outputs": [
    {
     "data": {
      "text/plain": [
       "'greeting from ineuron'"
      ]
     },
     "execution_count": 80,
     "metadata": {},
     "output_type": "execute_result"
    }
   ],
   "source": [
    "s\n"
   ]
  },
  {
   "cell_type": "code",
   "execution_count": 81,
   "id": "263a0a5c",
   "metadata": {},
   "outputs": [],
   "source": [
    "#string is immutable object, reconsutruction into different variable is possible but chaging the orignal is not allowed"
   ]
  },
  {
   "cell_type": "code",
   "execution_count": 82,
   "id": "1511d71d",
   "metadata": {},
   "outputs": [],
   "source": [
    "l = \"apoorv\""
   ]
  },
  {
   "cell_type": "code",
   "execution_count": 86,
   "id": "db2ce8de",
   "metadata": {},
   "outputs": [
    {
     "data": {
      "text/plain": [
       "'oooooooapoorvooooooo'"
      ]
     },
     "execution_count": 86,
     "metadata": {},
     "output_type": "execute_result"
    }
   ],
   "source": [
    "l.center(20,'o') #put string in centre and it will put o at starting and end (but only one character)"
   ]
  },
  {
   "cell_type": "code",
   "execution_count": 87,
   "id": "6a467a2f",
   "metadata": {},
   "outputs": [],
   "source": [
    "s = 'sudh\\tkumar'"
   ]
  },
  {
   "cell_type": "code",
   "execution_count": 88,
   "id": "760a76a8",
   "metadata": {},
   "outputs": [
    {
     "data": {
      "text/plain": [
       "'sudh\\tkumar'"
      ]
     },
     "execution_count": 88,
     "metadata": {},
     "output_type": "execute_result"
    }
   ],
   "source": [
    "s"
   ]
  },
  {
   "cell_type": "code",
   "execution_count": 90,
   "id": "7ae065ae",
   "metadata": {},
   "outputs": [
    {
     "data": {
      "text/plain": [
       "'sudh    kumar'"
      ]
     },
     "execution_count": 90,
     "metadata": {},
     "output_type": "execute_result"
    }
   ],
   "source": [
    "s.expandtabs() #\\t stands for tab space"
   ]
  },
  {
   "cell_type": "code",
   "execution_count": 94,
   "id": "7e35adea",
   "metadata": {},
   "outputs": [],
   "source": [
    "a = 'we all are a part of Full Stack'"
   ]
  },
  {
   "cell_type": "code",
   "execution_count": 95,
   "id": "4f59a2f6",
   "metadata": {},
   "outputs": [
    {
     "data": {
      "text/plain": [
       "'we all are a part of full stack'"
      ]
     },
     "execution_count": 95,
     "metadata": {},
     "output_type": "execute_result"
    }
   ],
   "source": [
    "a.lower()"
   ]
  },
  {
   "cell_type": "code",
   "execution_count": 96,
   "id": "209f115d",
   "metadata": {},
   "outputs": [
    {
     "data": {
      "text/plain": [
       "5"
      ]
     },
     "execution_count": 96,
     "metadata": {},
     "output_type": "execute_result"
    }
   ],
   "source": [
    "\n",
    "a.count('a')"
   ]
  },
  {
   "cell_type": "code",
   "execution_count": 97,
   "id": "602b19a4",
   "metadata": {},
   "outputs": [
    {
     "data": {
      "text/plain": [
       "'we iNeuronll iNeuronre iNeuron piNeuronrt of Full StiNeuronck'"
      ]
     },
     "execution_count": 97,
     "metadata": {},
     "output_type": "execute_result"
    }
   ],
   "source": [
    "a.replace('a','iNeuron')"
   ]
  },
  {
   "cell_type": "code",
   "execution_count": 103,
   "id": "bce63697",
   "metadata": {},
   "outputs": [
    {
     "data": {
      "text/plain": [
       "['we', 'all', 'are', 'a', 'part', 'of', 'Full', 'Stack']"
      ]
     },
     "execution_count": 103,
     "metadata": {},
     "output_type": "execute_result"
    }
   ],
   "source": [
    "a.split(\" \")"
   ]
  },
  {
   "cell_type": "code",
   "execution_count": 106,
   "id": "c5f9d6c1",
   "metadata": {},
   "outputs": [
    {
     "name": "stdout",
     "output_type": "stream",
     "text": [
      "3\n",
      "7\n",
      "11\n",
      "14\n",
      "28\n"
     ]
    }
   ],
   "source": [
    "for i in range(len(a)):\n",
    "    if a[i]=='a':\n",
    "        print(i)\n",
    "    continue"
   ]
  },
  {
   "cell_type": "code",
   "execution_count": 107,
   "id": "42532261",
   "metadata": {},
   "outputs": [],
   "source": [
    "#checking method"
   ]
  },
  {
   "cell_type": "code",
   "execution_count": 108,
   "id": "4b5af4a1",
   "metadata": {},
   "outputs": [],
   "source": [
    "m = 'sudh'"
   ]
  },
  {
   "cell_type": "code",
   "execution_count": 109,
   "id": "77ca59aa",
   "metadata": {},
   "outputs": [
    {
     "data": {
      "text/plain": [
       "False"
      ]
     },
     "execution_count": 109,
     "metadata": {},
     "output_type": "execute_result"
    }
   ],
   "source": [
    "s.isupper()"
   ]
  },
  {
   "cell_type": "code",
   "execution_count": 110,
   "id": "2093252f",
   "metadata": {},
   "outputs": [
    {
     "data": {
      "text/plain": [
       "True"
      ]
     },
     "execution_count": 110,
     "metadata": {},
     "output_type": "execute_result"
    }
   ],
   "source": [
    "(s.upper()).isupper()"
   ]
  },
  {
   "cell_type": "code",
   "execution_count": 111,
   "id": "795ed245",
   "metadata": {},
   "outputs": [
    {
     "data": {
      "text/plain": [
       "True"
      ]
     },
     "execution_count": 111,
     "metadata": {},
     "output_type": "execute_result"
    }
   ],
   "source": [
    "s.islower()"
   ]
  },
  {
   "cell_type": "code",
   "execution_count": 113,
   "id": "925464d0",
   "metadata": {},
   "outputs": [
    {
     "data": {
      "text/plain": [
       "False"
      ]
     },
     "execution_count": 113,
     "metadata": {},
     "output_type": "execute_result"
    }
   ],
   "source": [
    "s.isspace() #checks if everything is in string is space"
   ]
  },
  {
   "cell_type": "code",
   "execution_count": 116,
   "id": "8aed037c",
   "metadata": {},
   "outputs": [
    {
     "data": {
      "text/plain": [
       "False"
      ]
     },
     "execution_count": 116,
     "metadata": {},
     "output_type": "execute_result"
    }
   ],
   "source": [
    "s.isdigit() #checks if the string is digit"
   ]
  },
  {
   "cell_type": "code",
   "execution_count": 117,
   "id": "d5818eb0",
   "metadata": {},
   "outputs": [
    {
     "data": {
      "text/plain": [
       "False"
      ]
     },
     "execution_count": 117,
     "metadata": {},
     "output_type": "execute_result"
    }
   ],
   "source": [
    "\"sdf34\".isdigit()"
   ]
  },
  {
   "cell_type": "code",
   "execution_count": 118,
   "id": "f6bd6bef",
   "metadata": {},
   "outputs": [
    {
     "data": {
      "text/plain": [
       "True"
      ]
     },
     "execution_count": 118,
     "metadata": {},
     "output_type": "execute_result"
    }
   ],
   "source": [
    "\"24323\".isdigit()"
   ]
  },
  {
   "cell_type": "code",
   "execution_count": 119,
   "id": "356fea62",
   "metadata": {},
   "outputs": [
    {
     "data": {
      "text/plain": [
       "False"
      ]
     },
     "execution_count": 119,
     "metadata": {},
     "output_type": "execute_result"
    }
   ],
   "source": [
    "s.startswith(\"a\")"
   ]
  },
  {
   "cell_type": "code",
   "execution_count": 121,
   "id": "98db24f5",
   "metadata": {},
   "outputs": [
    {
     "data": {
      "text/plain": [
       "True"
      ]
     },
     "execution_count": 121,
     "metadata": {},
     "output_type": "execute_result"
    }
   ],
   "source": [
    "m.endswith('h')"
   ]
  },
  {
   "cell_type": "code",
   "execution_count": 127,
   "id": "136b5883",
   "metadata": {},
   "outputs": [
    {
     "data": {
      "text/plain": [
       "False"
      ]
     },
     "execution_count": 127,
     "metadata": {},
     "output_type": "execute_result"
    }
   ],
   "source": [
    "s.isalpha() #all characters are alpha numeric"
   ]
  },
  {
   "cell_type": "code",
   "execution_count": 130,
   "id": "9dbebd12",
   "metadata": {},
   "outputs": [
    {
     "data": {
      "text/plain": [
       "False"
      ]
     },
     "execution_count": 130,
     "metadata": {},
     "output_type": "execute_result"
    }
   ],
   "source": [
    "m.istitle() #is first character is available in upper case or not"
   ]
  },
  {
   "cell_type": "code",
   "execution_count": 131,
   "id": "8f84135a",
   "metadata": {},
   "outputs": [
    {
     "data": {
      "text/plain": [
       "True"
      ]
     },
     "execution_count": 131,
     "metadata": {},
     "output_type": "execute_result"
    }
   ],
   "source": [
    "\"Apoorv\".istitle()"
   ]
  },
  {
   "cell_type": "code",
   "execution_count": 132,
   "id": "62aa304c",
   "metadata": {},
   "outputs": [],
   "source": [
    "s = \"this is a full stack batch\""
   ]
  },
  {
   "cell_type": "code",
   "execution_count": 133,
   "id": "86930b7e",
   "metadata": {},
   "outputs": [
    {
     "name": "stdout",
     "output_type": "stream",
     "text": [
      "t\n",
      "h\n",
      "i\n",
      "s\n",
      " \n",
      "i\n",
      "s\n",
      " \n",
      "a\n",
      " \n",
      "f\n",
      "u\n",
      "l\n",
      "l\n",
      " \n",
      "s\n",
      "t\n",
      "a\n",
      "c\n",
      "k\n",
      " \n",
      "b\n",
      "a\n",
      "t\n",
      "c\n",
      "h\n"
     ]
    }
   ],
   "source": [
    "for i in s:\n",
    "    print(i)"
   ]
  },
  {
   "cell_type": "code",
   "execution_count": 134,
   "id": "8cef413b",
   "metadata": {},
   "outputs": [
    {
     "name": "stdout",
     "output_type": "stream",
     "text": [
      "26\n"
     ]
    }
   ],
   "source": [
    "count = 0\n",
    "for i in s:\n",
    "    count = count +1 \n",
    "print(count)\n",
    "\n"
   ]
  },
  {
   "cell_type": "code",
   "execution_count": 135,
   "id": "08fcdd27",
   "metadata": {},
   "outputs": [
    {
     "data": {
      "text/plain": [
       "26"
      ]
     },
     "execution_count": 135,
     "metadata": {},
     "output_type": "execute_result"
    }
   ],
   "source": [
    "len(s)"
   ]
  },
  {
   "cell_type": "code",
   "execution_count": 141,
   "id": "c687ec1a",
   "metadata": {},
   "outputs": [
    {
     "name": "stdout",
     "output_type": "stream",
     "text": [
      "h\n",
      "c\n",
      "t\n",
      "a\n",
      "b\n",
      " \n",
      "k\n",
      "c\n",
      "a\n",
      "t\n",
      "s\n",
      " \n",
      "l\n",
      "l\n",
      "u\n",
      "f\n",
      " \n",
      "a\n",
      " \n",
      "s\n",
      "i\n",
      " \n",
      "s\n",
      "i\n",
      "h\n",
      "t\n"
     ]
    }
   ],
   "source": [
    "#string reversal code\n",
    "\n",
    "for i in range(1,len(s)):\n",
    "    print(s[-i])\n",
    "print(s[0])"
   ]
  },
  {
   "cell_type": "code",
   "execution_count": 144,
   "id": "511d8c8f",
   "metadata": {},
   "outputs": [
    {
     "name": "stdout",
     "output_type": "stream",
     "text": [
      "s\n",
      "u\n",
      "d\n",
      "h\n"
     ]
    }
   ],
   "source": [
    "#reversal using while loop only\n",
    "\n",
    "s = 'sudh'\n",
    "i=0\n",
    "while i<=(len(s)-1):\n",
    "    print(s[i])\n",
    "    i=i+1"
   ]
  },
  {
   "cell_type": "code",
   "execution_count": 148,
   "id": "391bfce4",
   "metadata": {},
   "outputs": [
    {
     "name": "stdout",
     "output_type": "stream",
     "text": [
      "i is a vowel\n",
      "n is not a vowel\n",
      "e is a vowel\n",
      "u is a vowel\n",
      "r is not a vowel\n",
      "o is a vowel\n",
      "n is not a vowel\n"
     ]
    }
   ],
   "source": [
    "#finding vowel or not for each element in string\n",
    "\n",
    "name = 'ineuron'\n",
    "vowels = \"aAeEiIoOuU\"\n",
    "for i in name:\n",
    "    if i in vowels:\n",
    "        print(i,\"is a vowel\") #or print(\"{} is a vowel\".format(i))\n",
    "    else:\n",
    "        print(i,\"is not a vowel\") #or print(\"{} is not a vowel\".format(i))\n",
    "        "
   ]
  },
  {
   "cell_type": "code",
   "execution_count": 149,
   "id": "8c60912d",
   "metadata": {},
   "outputs": [
    {
     "data": {
      "text/plain": [
       "'my name is sufh'"
      ]
     },
     "execution_count": 149,
     "metadata": {},
     "output_type": "execute_result"
    }
   ],
   "source": [
    "\"{} name is sufh\".format(\"my\")"
   ]
  },
  {
   "cell_type": "code",
   "execution_count": 151,
   "id": "b1a40a98",
   "metadata": {},
   "outputs": [
    {
     "data": {
      "text/plain": [
       "' my name is apoorv '"
      ]
     },
     "execution_count": 151,
     "metadata": {},
     "output_type": "execute_result"
    }
   ],
   "source": [
    "\" {} name is {} \".format(\"my\",\"apoorv\")"
   ]
  },
  {
   "cell_type": "code",
   "execution_count": 152,
   "id": "96642914",
   "metadata": {},
   "outputs": [],
   "source": [
    "#palindrome problem"
   ]
  },
  {
   "cell_type": "code",
   "execution_count": 157,
   "id": "b45efbf1",
   "metadata": {},
   "outputs": [
    {
     "name": "stdout",
     "output_type": "stream",
     "text": [
      "enter a data for which you would like to check palindrome...nitin\n",
      "Same\n"
     ]
    }
   ],
   "source": [
    "\n",
    "\n",
    "\n",
    "a='aybya'\n",
    "s=input(\"enter a data for which you would like to check palindrome...\")\n",
    "s1=s[::-1]\n",
    "if s==s1:\n",
    "    print(\"Same\")\n",
    "else:\n",
    "    print(\"Not Same\")"
   ]
  },
  {
   "cell_type": "markdown",
   "id": "f7d73f83",
   "metadata": {},
   "source": [
    "# List"
   ]
  },
  {
   "cell_type": "code",
   "execution_count": 158,
   "id": "2a475100",
   "metadata": {},
   "outputs": [],
   "source": [
    "l=[123,'apoorv',999]"
   ]
  },
  {
   "cell_type": "code",
   "execution_count": 159,
   "id": "81d58a94",
   "metadata": {},
   "outputs": [
    {
     "data": {
      "text/plain": [
       "999"
      ]
     },
     "execution_count": 159,
     "metadata": {},
     "output_type": "execute_result"
    }
   ],
   "source": [
    "l[2]"
   ]
  },
  {
   "cell_type": "code",
   "execution_count": 160,
   "id": "adb5f191",
   "metadata": {},
   "outputs": [
    {
     "data": {
      "text/plain": [
       "[999, 'apoorv', 123]"
      ]
     },
     "execution_count": 160,
     "metadata": {},
     "output_type": "execute_result"
    }
   ],
   "source": [
    "l[::-1]"
   ]
  },
  {
   "cell_type": "code",
   "execution_count": 161,
   "id": "bac94fda",
   "metadata": {},
   "outputs": [],
   "source": [
    "s=\"apu\""
   ]
  },
  {
   "cell_type": "code",
   "execution_count": 162,
   "id": "5d9ebf71",
   "metadata": {},
   "outputs": [],
   "source": [
    "l.append(s) "
   ]
  },
  {
   "cell_type": "code",
   "execution_count": 163,
   "id": "6a2801db",
   "metadata": {},
   "outputs": [
    {
     "data": {
      "text/plain": [
       "[123, 'apoorv', 999, 'apu']"
      ]
     },
     "execution_count": 163,
     "metadata": {},
     "output_type": "execute_result"
    }
   ],
   "source": [
    "l"
   ]
  },
  {
   "cell_type": "code",
   "execution_count": 166,
   "id": "edf10113",
   "metadata": {},
   "outputs": [],
   "source": [
    "g = 'asas'\n",
    "g=list(g) #seperate all characters"
   ]
  },
  {
   "cell_type": "code",
   "execution_count": 167,
   "id": "0140d870",
   "metadata": {},
   "outputs": [
    {
     "data": {
      "text/plain": [
       "[123, 'apoorv', 999, 'apu', 'a', 's', 'a', 's']"
      ]
     },
     "execution_count": 167,
     "metadata": {},
     "output_type": "execute_result"
    }
   ],
   "source": [
    "l+g"
   ]
  },
  {
   "cell_type": "code",
   "execution_count": 168,
   "id": "d6a65d47",
   "metadata": {},
   "outputs": [
    {
     "data": {
      "text/plain": [
       "[123, 'apoorv', 999, 'apu', 'asas']"
      ]
     },
     "execution_count": 168,
     "metadata": {},
     "output_type": "execute_result"
    }
   ],
   "source": [
    "l + ['asas']"
   ]
  },
  {
   "cell_type": "code",
   "execution_count": 172,
   "id": "a1fffb96",
   "metadata": {},
   "outputs": [
    {
     "data": {
      "text/plain": [
       "[123, 'apoorv', 999, 'apu', 123, 'apoorv', 999, 'apu']"
      ]
     },
     "execution_count": 172,
     "metadata": {},
     "output_type": "execute_result"
    }
   ],
   "source": [
    "l*2 #n times the all elements"
   ]
  },
  {
   "cell_type": "code",
   "execution_count": 173,
   "id": "8724ac85",
   "metadata": {},
   "outputs": [
    {
     "data": {
      "text/plain": [
       "4"
      ]
     },
     "execution_count": 173,
     "metadata": {},
     "output_type": "execute_result"
    }
   ],
   "source": [
    "len(l) #elements in list"
   ]
  },
  {
   "cell_type": "code",
   "execution_count": 175,
   "id": "5f95c22d",
   "metadata": {},
   "outputs": [
    {
     "data": {
      "text/plain": [
       "True"
      ]
     },
     "execution_count": 175,
     "metadata": {},
     "output_type": "execute_result"
    }
   ],
   "source": [
    "\"apoorv\" in l #to check if available in list or not"
   ]
  },
  {
   "cell_type": "code",
   "execution_count": null,
   "id": "785f5ba4",
   "metadata": {},
   "outputs": [],
   "source": []
  }
 ],
 "metadata": {
  "kernelspec": {
   "display_name": "Python 3 (ipykernel)",
   "language": "python",
   "name": "python3"
  },
  "language_info": {
   "codemirror_mode": {
    "name": "ipython",
    "version": 3
   },
   "file_extension": ".py",
   "mimetype": "text/x-python",
   "name": "python",
   "nbconvert_exporter": "python",
   "pygments_lexer": "ipython3",
   "version": "3.9.7"
  }
 },
 "nbformat": 4,
 "nbformat_minor": 5
}
