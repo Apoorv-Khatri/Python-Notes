{
 "cells": [
  {
   "cell_type": "code",
   "execution_count": 2,
   "id": "b08eff07",
   "metadata": {},
   "outputs": [
    {
     "name": "stdout",
     "output_type": "stream",
     "text": [
      "1\n",
      "2\n",
      "3\n",
      "4\n",
      "no 10rs notes are available\n"
     ]
    }
   ],
   "source": [
    "notes = 5\n",
    "i =1\n",
    "while i<notes:                                                \n",
    "    print(i)\n",
    "    i = i+1                                                   #or i+=1\n",
    "else:     #you can use while-else condition                             \n",
    "    print(\"no 10rs notes are available\")"
   ]
  },
  {
   "cell_type": "code",
   "execution_count": 3,
   "id": "a818fb14",
   "metadata": {},
   "outputs": [],
   "source": [
    "#break  - come out of the loop\n",
    "#continue - continue witht the loop"
   ]
  },
  {
   "cell_type": "code",
   "execution_count": 4,
   "id": "d2031809",
   "metadata": {},
   "outputs": [],
   "source": [
    "n = \"apoorv\""
   ]
  },
  {
   "cell_type": "code",
   "execution_count": 5,
   "id": "b8882f1c",
   "metadata": {},
   "outputs": [],
   "source": [
    "#indexation a-0,p-1,o-2,o-3,r-4,v-5"
   ]
  },
  {
   "cell_type": "code",
   "execution_count": 6,
   "id": "d6266aaf",
   "metadata": {},
   "outputs": [
    {
     "data": {
      "text/plain": [
       "'apoorv'"
      ]
     },
     "execution_count": 6,
     "metadata": {},
     "output_type": "execute_result"
    }
   ],
   "source": [
    "n"
   ]
  },
  {
   "cell_type": "code",
   "execution_count": 8,
   "id": "945f694d",
   "metadata": {},
   "outputs": [
    {
     "data": {
      "text/plain": [
       "'a'"
      ]
     },
     "execution_count": 8,
     "metadata": {},
     "output_type": "execute_result"
    }
   ],
   "source": [
    "n[0] #index 0 value of string"
   ]
  },
  {
   "cell_type": "code",
   "execution_count": 10,
   "id": "66e56f29",
   "metadata": {},
   "outputs": [
    {
     "ename": "IndexError",
     "evalue": "string index out of range",
     "output_type": "error",
     "traceback": [
      "\u001b[1;31m---------------------------------------------------------------------------\u001b[0m",
      "\u001b[1;31mIndexError\u001b[0m                                Traceback (most recent call last)",
      "\u001b[1;32m~\\AppData\\Local\\Temp/ipykernel_21680/971938900.py\u001b[0m in \u001b[0;36m<module>\u001b[1;34m\u001b[0m\n\u001b[1;32m----> 1\u001b[1;33m \u001b[0mn\u001b[0m\u001b[1;33m[\u001b[0m\u001b[1;36m20\u001b[0m\u001b[1;33m]\u001b[0m \u001b[1;31m#we don't have 20 indices therefore error\u001b[0m\u001b[1;33m\u001b[0m\u001b[1;33m\u001b[0m\u001b[0m\n\u001b[0m",
      "\u001b[1;31mIndexError\u001b[0m: string index out of range"
     ]
    }
   ],
   "source": [
    " n[20] #we don't have 20 indices therefore error"
   ]
  },
  {
   "cell_type": "code",
   "execution_count": 11,
   "id": "70bf7880",
   "metadata": {},
   "outputs": [],
   "source": [
    "sent = \"my name is apoorv\""
   ]
  },
  {
   "cell_type": "markdown",
   "id": "e5727960",
   "metadata": {},
   "source": [
    "# String operation "
   ]
  },
  {
   "cell_type": "code",
   "execution_count": 13,
   "id": "cf60d6fb",
   "metadata": {},
   "outputs": [
    {
     "data": {
      "text/plain": [
       "'n'"
      ]
     },
     "execution_count": 13,
     "metadata": {},
     "output_type": "execute_result"
    }
   ],
   "source": [
    "sent[3]"
   ]
  },
  {
   "cell_type": "code",
   "execution_count": 16,
   "id": "33379a99",
   "metadata": {},
   "outputs": [
    {
     "data": {
      "text/plain": [
       "'name is'"
      ]
     },
     "execution_count": 16,
     "metadata": {},
     "output_type": "execute_result"
    }
   ],
   "source": [
    "sent[3:10] #3 is starting point 10 is end point #it will exclude end point i.e. at 10 position"
   ]
  },
  {
   "cell_type": "code",
   "execution_count": 21,
   "id": "24689f48",
   "metadata": {},
   "outputs": [
    {
     "data": {
      "text/plain": [
       "'nm s'"
      ]
     },
     "execution_count": 21,
     "metadata": {},
     "output_type": "execute_result"
    }
   ],
   "source": [
    "sent[3:10:2] #2 is the step size or jump size #by default it will be equal to one"
   ]
  },
  {
   "cell_type": "code",
   "execution_count": 33,
   "id": "1d1e3152",
   "metadata": {},
   "outputs": [
    {
     "data": {
      "text/plain": [
       "' si ema'"
      ]
     },
     "execution_count": 33,
     "metadata": {},
     "output_type": "execute_result"
    }
   ],
   "source": [
    "sent[10:3:-1] #sent[10:3] won't work as step size will be equal to 1 as we wanted to inverse we have to do -1\n",
    "#3 position will be excluded as last position is excluded"
   ]
  },
  {
   "cell_type": "code",
   "execution_count": 34,
   "id": "8bb50e75",
   "metadata": {},
   "outputs": [
    {
     "data": {
      "text/plain": [
       "'vroopa si eman ym'"
      ]
     },
     "execution_count": 34,
     "metadata": {},
     "output_type": "execute_result"
    }
   ],
   "source": [
    "sent[-1::-1] #INVERSION OF THE STRING"
   ]
  },
  {
   "cell_type": "code",
   "execution_count": 39,
   "id": "8ed7cf2f",
   "metadata": {},
   "outputs": [
    {
     "data": {
      "text/plain": [
       "'vroopa si eman ym'"
      ]
     },
     "execution_count": 39,
     "metadata": {},
     "output_type": "execute_result"
    }
   ],
   "source": [
    "sent[::-1] #INVERSION OF THE STRING"
   ]
  },
  {
   "cell_type": "code",
   "execution_count": 40,
   "id": "c976bd81",
   "metadata": {},
   "outputs": [
    {
     "data": {
      "text/plain": [
       "'my name is apoorv'"
      ]
     },
     "execution_count": 40,
     "metadata": {},
     "output_type": "execute_result"
    }
   ],
   "source": [
    "sent[::1]"
   ]
  },
  {
   "cell_type": "code",
   "execution_count": 42,
   "id": "918544a6",
   "metadata": {},
   "outputs": [
    {
     "data": {
      "text/plain": [
       "' name is '"
      ]
     },
     "execution_count": 42,
     "metadata": {},
     "output_type": "execute_result"
    }
   ],
   "source": [
    "sent[2:-6]"
   ]
  },
  {
   "cell_type": "code",
   "execution_count": 44,
   "id": "401c053e",
   "metadata": {},
   "outputs": [],
   "source": [
    "#-1 is the last element in reverse direction, similarly second last is -2"
   ]
  },
  {
   "cell_type": "markdown",
   "id": "539325e0",
   "metadata": {},
   "source": [
    "# For Loop "
   ]
  },
  {
   "cell_type": "code",
   "execution_count": 45,
   "id": "b0b5942a",
   "metadata": {},
   "outputs": [],
   "source": [
    "n = \"apoorv\""
   ]
  },
  {
   "cell_type": "code",
   "execution_count": 48,
   "id": "b9c707fd",
   "metadata": {},
   "outputs": [
    {
     "name": "stdout",
     "output_type": "stream",
     "text": [
      "a\n",
      "p\n",
      "o\n",
      "o\n",
      "r\n",
      "v\n"
     ]
    }
   ],
   "source": [
    "for i in n: #i is the string values\n",
    "    print(i)"
   ]
  },
  {
   "cell_type": "code",
   "execution_count": 51,
   "id": "0c889404",
   "metadata": {},
   "outputs": [
    {
     "name": "stdout",
     "output_type": "stream",
     "text": [
      "a\n",
      "p\n",
      "o\n",
      "o\n",
      "r\n",
      "v\n",
      "this is an else condition\n"
     ]
    }
   ],
   "source": [
    "for i in n:\n",
    "    print(i)\n",
    "else:\n",
    "    if i==\"u\":\n",
    "        print(\"last char was u\")\n",
    "    print(\"this is an else condition\")"
   ]
  },
  {
   "cell_type": "code",
   "execution_count": 56,
   "id": "36635d6a",
   "metadata": {},
   "outputs": [
    {
     "name": "stdout",
     "output_type": "stream",
     "text": [
      "a\n",
      "p\n"
     ]
    }
   ],
   "source": [
    "for i in n:\n",
    "    if i == 'o':\n",
    "        break         #break out of for-else loop #it will not go to else\n",
    "    print(i)\n",
    "else:\n",
    "    if i==\"u\":\n",
    "        print(\"last char was u\")\n",
    "    print(\"this is an else condition\")"
   ]
  },
  {
   "cell_type": "code",
   "execution_count": 58,
   "id": "6ec0526b",
   "metadata": {},
   "outputs": [
    {
     "name": "stdout",
     "output_type": "stream",
     "text": [
      "a\n",
      "p\n",
      "r\n",
      "v\n",
      "this is an else condition\n"
     ]
    }
   ],
   "source": [
    "for i in n:\n",
    "    if i == 'o':\n",
    "        continue          #continue means next statement will not be excuted it will go to loop starting again\n",
    "    print(i)\n",
    "else:\n",
    "    if i==\"u\":\n",
    "        print(\"last char was u\")\n",
    "    print(\"this is an else condition\")"
   ]
  },
  {
   "cell_type": "code",
   "execution_count": 70,
   "id": "53ceeb93",
   "metadata": {},
   "outputs": [
    {
     "name": "stdout",
     "output_type": "stream",
     "text": [
      "ameof\n"
     ]
    }
   ],
   "source": [
    "a = \"namneof\"\n",
    "ab = ''\n",
    "for i in range(len(a)): #len(var) -> total length of string ##range(int) -> 0,1,2,..int-1 #range(2) -> 0,1\n",
    "    if a[i]=='n':\n",
    "        continue\n",
    "    else:\n",
    "        ab = ab + a[i]\n",
    "print(ab)"
   ]
  },
  {
   "cell_type": "markdown",
   "id": "454ceaaf",
   "metadata": {},
   "source": [
    "# Nested for loop "
   ]
  },
  {
   "cell_type": "code",
   "execution_count": 85,
   "id": "83a64b93",
   "metadata": {},
   "outputs": [
    {
     "name": "stdout",
     "output_type": "stream",
     "text": [
      "+ \r\n",
      "+ + \r\n",
      "+ + + \r\n",
      "+ + + + \r\n",
      "+ + + + + \r\n",
      "+ + + + + + \r\n",
      "+ + + + + + + \r\n"
     ]
    }
   ],
   "source": [
    "n = 7\n",
    "for i in range(0,n):\n",
    "    for j in range(0,i+1):\n",
    "        print(\"+ \",end='')  #(end=' ') indicates that the end character has to be identified by whitespace and not a newline.\n",
    "    print(\"\\r\") #\"\\r\" moves the cursor to the begining of the line"
   ]
  },
  {
   "cell_type": "code",
   "execution_count": 99,
   "id": "9960c1b7",
   "metadata": {},
   "outputs": [
    {
     "name": "stdout",
     "output_type": "stream",
     "text": [
      "enter the top number5\n",
      "* * * * * \n",
      " * * * * \n",
      "  * * * \n",
      "   * * \n",
      "    * \n"
     ]
    }
   ],
   "source": [
    "n=int(input(\"enter the top number\"))\n",
    "for i in range(n,0,-1):\n",
    "    print(\" \"*(n-i),end='')\n",
    "    for j in range(0,i):\n",
    "        print('*',end=' ')\n",
    "    print('\\r')\n",
    "    "
   ]
  },
  {
   "cell_type": "code",
   "execution_count": 13,
   "id": "924b36c4",
   "metadata": {},
   "outputs": [
    {
     "name": "stdout",
     "output_type": "stream",
     "text": [
      "enter the base number7\n",
      "       * \n",
      "     * * * \n",
      "   * * * * * \n",
      " * * * * * * * \n"
     ]
    }
   ],
   "source": [
    "n = int(input(\"enter the base number\"))\n",
    "i=1\n",
    "while i<=n:\n",
    "    print(\" \"*(n-i),\"* \"*i)\n",
    "    i=i+2\n",
    "    "
   ]
  },
  {
   "cell_type": "markdown",
   "id": "014ac968",
   "metadata": {},
   "source": [
    "# List "
   ]
  },
  {
   "cell_type": "code",
   "execution_count": 14,
   "id": "870d2023",
   "metadata": {},
   "outputs": [],
   "source": [
    "#there is no arrays in python"
   ]
  },
  {
   "cell_type": "code",
   "execution_count": 15,
   "id": "e4ea296f",
   "metadata": {},
   "outputs": [],
   "source": [
    "#list is alternative to array."
   ]
  },
  {
   "cell_type": "code",
   "execution_count": 17,
   "id": "17b16f6c",
   "metadata": {},
   "outputs": [],
   "source": [
    "#holds hetrogeneous data"
   ]
  },
  {
   "cell_type": "code",
   "execution_count": 18,
   "id": "b1b7a6ea",
   "metadata": {},
   "outputs": [],
   "source": [
    "l= ['apoorv',123,\"aoorvhouse\"]"
   ]
  },
  {
   "cell_type": "code",
   "execution_count": 19,
   "id": "8015ef8a",
   "metadata": {},
   "outputs": [
    {
     "data": {
      "text/plain": [
       "['apoorv', 123, 'aoorvhouse']"
      ]
     },
     "execution_count": 19,
     "metadata": {},
     "output_type": "execute_result"
    }
   ],
   "source": [
    "l"
   ]
  },
  {
   "cell_type": "code",
   "execution_count": 20,
   "id": "28c358c5",
   "metadata": {},
   "outputs": [
    {
     "data": {
      "text/plain": [
       "'apoorv'"
      ]
     },
     "execution_count": 20,
     "metadata": {},
     "output_type": "execute_result"
    }
   ],
   "source": [
    "l[0]"
   ]
  },
  {
   "cell_type": "code",
   "execution_count": 21,
   "id": "d9e6d1ff",
   "metadata": {},
   "outputs": [
    {
     "data": {
      "text/plain": [
       "'aoorvhouse'"
      ]
     },
     "execution_count": 21,
     "metadata": {},
     "output_type": "execute_result"
    }
   ],
   "source": [
    "l[2]"
   ]
  },
  {
   "cell_type": "code",
   "execution_count": 22,
   "id": "a2dc0df6",
   "metadata": {},
   "outputs": [
    {
     "data": {
      "text/plain": [
       "list"
      ]
     },
     "execution_count": 22,
     "metadata": {},
     "output_type": "execute_result"
    }
   ],
   "source": [
    "type(l)"
   ]
  },
  {
   "cell_type": "code",
   "execution_count": 24,
   "id": "570fbed6",
   "metadata": {},
   "outputs": [],
   "source": [
    "l1=[]"
   ]
  },
  {
   "cell_type": "code",
   "execution_count": 25,
   "id": "ad4fdda7",
   "metadata": {},
   "outputs": [
    {
     "data": {
      "text/plain": [
       "list"
      ]
     },
     "execution_count": 25,
     "metadata": {},
     "output_type": "execute_result"
    }
   ],
   "source": [
    "type(l1)"
   ]
  },
  {
   "cell_type": "code",
   "execution_count": 28,
   "id": "ce18b2b2",
   "metadata": {},
   "outputs": [],
   "source": [
    "l2 = list() #another way of creating list"
   ]
  },
  {
   "cell_type": "code",
   "execution_count": 29,
   "id": "670e504a",
   "metadata": {},
   "outputs": [
    {
     "data": {
      "text/plain": [
       "list"
      ]
     },
     "execution_count": 29,
     "metadata": {},
     "output_type": "execute_result"
    }
   ],
   "source": [
    "type(l2)"
   ]
  },
  {
   "cell_type": "code",
   "execution_count": 30,
   "id": "08f22554",
   "metadata": {},
   "outputs": [],
   "source": [
    "#we can also store list inside a list"
   ]
  },
  {
   "cell_type": "code",
   "execution_count": 36,
   "id": "cc519d96",
   "metadata": {},
   "outputs": [
    {
     "name": "stdout",
     "output_type": "stream",
     "text": [
      "<class 'str'>\n",
      "<class 'int'>\n"
     ]
    }
   ],
   "source": [
    "x = ['apoorv',123,[\"123ss\",124]]\n",
    "for i in x:\n",
    "    if type(i) is list:\n",
    "        for j in i:\n",
    "            print(type(j))"
   ]
  },
  {
   "cell_type": "code",
   "execution_count": 38,
   "id": "6fe12d5f",
   "metadata": {},
   "outputs": [
    {
     "data": {
      "text/plain": [
       "['apoorv', 123]"
      ]
     },
     "execution_count": 38,
     "metadata": {},
     "output_type": "execute_result"
    }
   ],
   "source": [
    "x[0:2]"
   ]
  },
  {
   "cell_type": "code",
   "execution_count": 44,
   "id": "38297399",
   "metadata": {},
   "outputs": [
    {
     "data": {
      "text/plain": [
       "[['123ss', 124], 123]"
      ]
     },
     "execution_count": 44,
     "metadata": {},
     "output_type": "execute_result"
    }
   ],
   "source": [
    "x[100:0:-1]   #non given elements are ignored"
   ]
  },
  {
   "cell_type": "code",
   "execution_count": 46,
   "id": "3838bf25",
   "metadata": {},
   "outputs": [
    {
     "name": "stdout",
     "output_type": "stream",
     "text": [
      "apoorv\n",
      "123\n",
      "['123ss', 124]\n"
     ]
    }
   ],
   "source": [
    "for i in x:\n",
    "    print(i)"
   ]
  },
  {
   "cell_type": "code",
   "execution_count": 48,
   "id": "83995200",
   "metadata": {},
   "outputs": [
    {
     "data": {
      "text/plain": [
       "[0, 1, 2, 3, 4, 5, 6, 7, 8, 9]"
      ]
     },
     "execution_count": 48,
     "metadata": {},
     "output_type": "execute_result"
    }
   ],
   "source": [
    "list(range(10)) #elements from 0 to 9 excluding 2"
   ]
  },
  {
   "cell_type": "code",
   "execution_count": null,
   "id": "7e5572fc",
   "metadata": {},
   "outputs": [],
   "source": []
  }
 ],
 "metadata": {
  "kernelspec": {
   "display_name": "Python 3 (ipykernel)",
   "language": "python",
   "name": "python3"
  },
  "language_info": {
   "codemirror_mode": {
    "name": "ipython",
    "version": 3
   },
   "file_extension": ".py",
   "mimetype": "text/x-python",
   "name": "python",
   "nbconvert_exporter": "python",
   "pygments_lexer": "ipython3",
   "version": "3.9.7"
  }
 },
 "nbformat": 4,
 "nbformat_minor": 5
}
