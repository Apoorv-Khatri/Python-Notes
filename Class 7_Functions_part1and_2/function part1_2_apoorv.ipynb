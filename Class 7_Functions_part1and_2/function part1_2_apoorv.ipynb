{
 "cells": [
  {
   "cell_type": "markdown",
   "id": "b315aa89",
   "metadata": {},
   "source": [
    "# Functions "
   ]
  },
  {
   "cell_type": "code",
   "execution_count": 73,
   "id": "ce6ddca2",
   "metadata": {},
   "outputs": [],
   "source": [
    "#python functions are easy.\n",
    "#len() etc were predefined functions"
   ]
  },
  {
   "cell_type": "code",
   "execution_count": 74,
   "id": "f94e6eee",
   "metadata": {},
   "outputs": [],
   "source": [
    "def test(x,y): #x and y are arguments that will enter the function #we don't define data type in python\n",
    "    pass       #here we made a function that doesn't do anything "
   ]
  },
  {
   "cell_type": "code",
   "execution_count": 75,
   "id": "6e680209",
   "metadata": {},
   "outputs": [
    {
     "data": {
      "text/plain": [
       "<function __main__.test(x, y)>"
      ]
     },
     "execution_count": 75,
     "metadata": {},
     "output_type": "execute_result"
    }
   ],
   "source": [
    "test"
   ]
  },
  {
   "cell_type": "code",
   "execution_count": 76,
   "id": "bd7af2cc",
   "metadata": {},
   "outputs": [
    {
     "ename": "TypeError",
     "evalue": "test() missing 2 required positional arguments: 'x' and 'y'",
     "output_type": "error",
     "traceback": [
      "\u001b[1;31m---------------------------------------------------------------------------\u001b[0m",
      "\u001b[1;31mTypeError\u001b[0m                                 Traceback (most recent call last)",
      "\u001b[1;32m~\\AppData\\Local\\Temp/ipykernel_15996/3808045514.py\u001b[0m in \u001b[0;36m<module>\u001b[1;34m\u001b[0m\n\u001b[1;32m----> 1\u001b[1;33m \u001b[0mtest\u001b[0m\u001b[1;33m(\u001b[0m\u001b[1;33m)\u001b[0m \u001b[1;31m#because when i will call you, i have to pass some data\u001b[0m\u001b[1;33m\u001b[0m\u001b[1;33m\u001b[0m\u001b[0m\n\u001b[0m",
      "\u001b[1;31mTypeError\u001b[0m: test() missing 2 required positional arguments: 'x' and 'y'"
     ]
    }
   ],
   "source": [
    "test() #because when i will call you, i have to pass some data"
   ]
  },
  {
   "cell_type": "code",
   "execution_count": 77,
   "id": "59a2edde",
   "metadata": {},
   "outputs": [],
   "source": [
    "a = test(12,12)"
   ]
  },
  {
   "cell_type": "code",
   "execution_count": 78,
   "id": "e941dd3f",
   "metadata": {},
   "outputs": [
    {
     "name": "stdout",
     "output_type": "stream",
     "text": [
      "None\n"
     ]
    }
   ],
   "source": [
    "print(a)"
   ]
  },
  {
   "cell_type": "code",
   "execution_count": 79,
   "id": "0a32a499",
   "metadata": {},
   "outputs": [],
   "source": [
    "\n",
    "def sumints(x,y):\n",
    "    print(x+y)"
   ]
  },
  {
   "cell_type": "code",
   "execution_count": 80,
   "id": "9b2d61ee",
   "metadata": {},
   "outputs": [
    {
     "name": "stdout",
     "output_type": "stream",
     "text": [
      "14\n"
     ]
    }
   ],
   "source": [
    "sumints(12,2) #this function prints x+y"
   ]
  },
  {
   "cell_type": "code",
   "execution_count": 81,
   "id": "52ef89f0",
   "metadata": {},
   "outputs": [
    {
     "name": "stdout",
     "output_type": "stream",
     "text": [
      "57\n"
     ]
    }
   ],
   "source": [
    "sumints(34,23)"
   ]
  },
  {
   "cell_type": "code",
   "execution_count": 82,
   "id": "f2b580a4",
   "metadata": {},
   "outputs": [],
   "source": [
    "def test1(x,y):\n",
    "    return x*y #return doesn't mean print it just returns the data "
   ]
  },
  {
   "cell_type": "code",
   "execution_count": 83,
   "id": "2644c7ea",
   "metadata": {},
   "outputs": [
    {
     "data": {
      "text/plain": [
       "4"
      ]
     },
     "execution_count": 83,
     "metadata": {},
     "output_type": "execute_result"
    }
   ],
   "source": [
    "test1(2,2)"
   ]
  },
  {
   "cell_type": "code",
   "execution_count": 84,
   "id": "c00bf408",
   "metadata": {},
   "outputs": [
    {
     "data": {
      "text/plain": [
       "6"
      ]
     },
     "execution_count": 84,
     "metadata": {},
     "output_type": "execute_result"
    }
   ],
   "source": [
    "test1(2,2)+2 #can do operation as it was return and not print "
   ]
  },
  {
   "cell_type": "code",
   "execution_count": 85,
   "id": "68767b11",
   "metadata": {},
   "outputs": [
    {
     "data": {
      "text/plain": [
       "NoneType"
      ]
     },
     "execution_count": 85,
     "metadata": {},
     "output_type": "execute_result"
    }
   ],
   "source": [
    "type(test(1,2)) #as it is a print statement"
   ]
  },
  {
   "cell_type": "code",
   "execution_count": 86,
   "id": "97c63eb4",
   "metadata": {},
   "outputs": [
    {
     "data": {
      "text/plain": [
       "int"
      ]
     },
     "execution_count": 86,
     "metadata": {},
     "output_type": "execute_result"
    }
   ],
   "source": [
    "type(test1(2,2)) #as it returns multliplication"
   ]
  },
  {
   "cell_type": "code",
   "execution_count": 87,
   "id": "b8c4f278",
   "metadata": {},
   "outputs": [],
   "source": [
    "\n",
    "\n",
    "\n",
    "a = test(1,2) #print one"
   ]
  },
  {
   "cell_type": "code",
   "execution_count": 88,
   "id": "4347c327",
   "metadata": {},
   "outputs": [],
   "source": [
    "a"
   ]
  },
  {
   "cell_type": "code",
   "execution_count": 89,
   "id": "0d1c9837",
   "metadata": {},
   "outputs": [],
   "source": [
    "b = test1(2,2) #return one"
   ]
  },
  {
   "cell_type": "code",
   "execution_count": 90,
   "id": "59bd544f",
   "metadata": {},
   "outputs": [
    {
     "data": {
      "text/plain": [
       "4"
      ]
     },
     "execution_count": 90,
     "metadata": {},
     "output_type": "execute_result"
    }
   ],
   "source": [
    "b"
   ]
  },
  {
   "cell_type": "code",
   "execution_count": 91,
   "id": "78b6e9f2",
   "metadata": {},
   "outputs": [],
   "source": [
    "def test2(x,y,z):\n",
    "    return(x+y)"
   ]
  },
  {
   "cell_type": "code",
   "execution_count": 92,
   "id": "5e1c084a",
   "metadata": {},
   "outputs": [
    {
     "ename": "TypeError",
     "evalue": "test2() missing 1 required positional argument: 'z'",
     "output_type": "error",
     "traceback": [
      "\u001b[1;31m---------------------------------------------------------------------------\u001b[0m",
      "\u001b[1;31mTypeError\u001b[0m                                 Traceback (most recent call last)",
      "\u001b[1;32m~\\AppData\\Local\\Temp/ipykernel_15996/1863489538.py\u001b[0m in \u001b[0;36m<module>\u001b[1;34m\u001b[0m\n\u001b[1;32m----> 1\u001b[1;33m \u001b[0mtest2\u001b[0m\u001b[1;33m(\u001b[0m\u001b[1;36m1\u001b[0m\u001b[1;33m,\u001b[0m\u001b[1;36m2\u001b[0m\u001b[1;33m)\u001b[0m \u001b[1;31m#definatino wise function was expecting 3 values wether iam using it or not\u001b[0m\u001b[1;33m\u001b[0m\u001b[1;33m\u001b[0m\u001b[0m\n\u001b[0m",
      "\u001b[1;31mTypeError\u001b[0m: test2() missing 1 required positional argument: 'z'"
     ]
    }
   ],
   "source": [
    "\n",
    "\n",
    "test2(1,2) #definatino wise function was expecting 3 values wether iam using it or not"
   ]
  },
  {
   "cell_type": "code",
   "execution_count": 93,
   "id": "85602278",
   "metadata": {},
   "outputs": [
    {
     "data": {
      "text/plain": [
       "3"
      ]
     },
     "execution_count": 93,
     "metadata": {},
     "output_type": "execute_result"
    }
   ],
   "source": [
    "test2(1,2,3) #1+2->3"
   ]
  },
  {
   "cell_type": "code",
   "execution_count": 94,
   "id": "8a78f882",
   "metadata": {},
   "outputs": [],
   "source": [
    "def test3(n,m):\n",
    "    return n*10,m*40 #try to return 3 data"
   ]
  },
  {
   "cell_type": "code",
   "execution_count": 95,
   "id": "30fcfb1d",
   "metadata": {},
   "outputs": [
    {
     "data": {
      "text/plain": [
       "(20, 120)"
      ]
     },
     "execution_count": 95,
     "metadata": {},
     "output_type": "execute_result"
    }
   ],
   "source": [
    "\n",
    "test3(2,3) #a return of a tuple"
   ]
  },
  {
   "cell_type": "code",
   "execution_count": 96,
   "id": "e77ae32f",
   "metadata": {},
   "outputs": [],
   "source": [
    "#how to store all outputs in different variables"
   ]
  },
  {
   "cell_type": "code",
   "execution_count": 97,
   "id": "1cc053bd",
   "metadata": {},
   "outputs": [],
   "source": [
    "\n",
    "a,b=test3(2,3)"
   ]
  },
  {
   "cell_type": "code",
   "execution_count": 98,
   "id": "9a2394e8",
   "metadata": {},
   "outputs": [
    {
     "data": {
      "text/plain": [
       "20"
      ]
     },
     "execution_count": 98,
     "metadata": {},
     "output_type": "execute_result"
    }
   ],
   "source": [
    "a"
   ]
  },
  {
   "cell_type": "code",
   "execution_count": 99,
   "id": "016a18a6",
   "metadata": {},
   "outputs": [
    {
     "data": {
      "text/plain": [
       "120"
      ]
     },
     "execution_count": 99,
     "metadata": {},
     "output_type": "execute_result"
    }
   ],
   "source": [
    "b"
   ]
  },
  {
   "cell_type": "code",
   "execution_count": 100,
   "id": "9bff8a4a",
   "metadata": {},
   "outputs": [],
   "source": [
    "c,_=test3(1,2)"
   ]
  },
  {
   "cell_type": "code",
   "execution_count": 101,
   "id": "f1a5842f",
   "metadata": {},
   "outputs": [
    {
     "data": {
      "text/plain": [
       "10"
      ]
     },
     "execution_count": 101,
     "metadata": {},
     "output_type": "execute_result"
    }
   ],
   "source": [
    "c"
   ]
  },
  {
   "cell_type": "code",
   "execution_count": 102,
   "id": "e1cf06e8",
   "metadata": {},
   "outputs": [
    {
     "data": {
      "text/plain": [
       "80"
      ]
     },
     "execution_count": 102,
     "metadata": {},
     "output_type": "execute_result"
    }
   ],
   "source": [
    "_ #_ is a placeholder, means we don;t want to store this (here 2nd data) data anywhere"
   ]
  },
  {
   "cell_type": "code",
   "execution_count": 103,
   "id": "61bb6e32",
   "metadata": {},
   "outputs": [],
   "source": [
    "#we can;t write return more than one time in a function definition"
   ]
  },
  {
   "cell_type": "code",
   "execution_count": 104,
   "id": "b2a4e7c0",
   "metadata": {},
   "outputs": [],
   "source": [
    "def test8(n):\n",
    "    return n*2"
   ]
  },
  {
   "cell_type": "code",
   "execution_count": 105,
   "id": "0b48d65a",
   "metadata": {},
   "outputs": [
    {
     "data": {
      "text/plain": [
       "[1, 23, 1, 23]"
      ]
     },
     "execution_count": 105,
     "metadata": {},
     "output_type": "execute_result"
    }
   ],
   "source": [
    "test8([1,23])"
   ]
  },
  {
   "cell_type": "code",
   "execution_count": 106,
   "id": "a49a2716",
   "metadata": {},
   "outputs": [
    {
     "data": {
      "text/plain": [
       "'apoorvapoorv'"
      ]
     },
     "execution_count": 106,
     "metadata": {},
     "output_type": "execute_result"
    }
   ],
   "source": [
    "test8(\"apoorv\")"
   ]
  },
  {
   "cell_type": "code",
   "execution_count": 107,
   "id": "bbad4927",
   "metadata": {},
   "outputs": [],
   "source": [
    "def test9(m):\n",
    "    return m,m*7"
   ]
  },
  {
   "cell_type": "code",
   "execution_count": 108,
   "id": "9e485b8c",
   "metadata": {},
   "outputs": [
    {
     "data": {
      "text/plain": [
       "([12, 3], [12, 3, 12, 3, 12, 3, 12, 3, 12, 3, 12, 3, 12, 3])"
      ]
     },
     "execution_count": 108,
     "metadata": {},
     "output_type": "execute_result"
    }
   ],
   "source": [
    "test9([12,3])"
   ]
  },
  {
   "cell_type": "code",
   "execution_count": 109,
   "id": "df06afe0",
   "metadata": {},
   "outputs": [],
   "source": [
    "#2 tuples returned one m and one m*7"
   ]
  },
  {
   "cell_type": "code",
   "execution_count": 110,
   "id": "43155ba7",
   "metadata": {},
   "outputs": [],
   "source": [
    "c,d=test9([12,3])"
   ]
  },
  {
   "cell_type": "code",
   "execution_count": 111,
   "id": "6cf96dc5",
   "metadata": {},
   "outputs": [
    {
     "data": {
      "text/plain": [
       "[12, 3]"
      ]
     },
     "execution_count": 111,
     "metadata": {},
     "output_type": "execute_result"
    }
   ],
   "source": [
    "c"
   ]
  },
  {
   "cell_type": "code",
   "execution_count": 112,
   "id": "19931a5d",
   "metadata": {},
   "outputs": [
    {
     "data": {
      "text/plain": [
       "[12, 3, 12, 3, 12, 3, 12, 3, 12, 3, 12, 3, 12, 3]"
      ]
     },
     "execution_count": 112,
     "metadata": {},
     "output_type": "execute_result"
    }
   ],
   "source": [
    "d"
   ]
  },
  {
   "cell_type": "code",
   "execution_count": 113,
   "id": "a6c0c232",
   "metadata": {},
   "outputs": [],
   "source": [
    "def test10(n,m=10): #RULE  default argument should follow a non-default argument. as we have done in test10\n",
    "    return n+m "
   ]
  },
  {
   "cell_type": "code",
   "execution_count": 114,
   "id": "2d75b1d0",
   "metadata": {},
   "outputs": [
    {
     "data": {
      "text/plain": [
       "70"
      ]
     },
     "execution_count": 114,
     "metadata": {},
     "output_type": "execute_result"
    }
   ],
   "source": [
    "test10(60)"
   ]
  },
  {
   "cell_type": "code",
   "execution_count": 115,
   "id": "1490457e",
   "metadata": {},
   "outputs": [
    {
     "data": {
      "text/plain": [
       "80"
      ]
     },
     "execution_count": 115,
     "metadata": {},
     "output_type": "execute_result"
    }
   ],
   "source": [
    "test10(60,20) #default value can be overwrittern as done in this case, second element is overwritten by 20"
   ]
  },
  {
   "cell_type": "code",
   "execution_count": 116,
   "id": "f752c6d3",
   "metadata": {},
   "outputs": [
    {
     "ename": "SyntaxError",
     "evalue": "non-default argument follows default argument (Temp/ipykernel_15996/510963631.py, line 1)",
     "output_type": "error",
     "traceback": [
      "\u001b[1;36m  File \u001b[1;32m\"C:\\Users\\h.p\\AppData\\Local\\Temp/ipykernel_15996/510963631.py\"\u001b[1;36m, line \u001b[1;32m1\u001b[0m\n\u001b[1;33m    def test11(a=10,b): #RULE  default argument should follow a non-default argument. as we have done in test10\u001b[0m\n\u001b[1;37m                     ^\u001b[0m\n\u001b[1;31mSyntaxError\u001b[0m\u001b[1;31m:\u001b[0m non-default argument follows default argument\n"
     ]
    }
   ],
   "source": [
    "def test11(a=10,b): #RULE  default argument should follow a non-default argument. as we have done in test10\n",
    "    return a+b"
   ]
  },
  {
   "cell_type": "code",
   "execution_count": 117,
   "id": "5b68df85",
   "metadata": {},
   "outputs": [],
   "source": [
    "def boolx(x=True,y=False):\n",
    "    return x+y"
   ]
  },
  {
   "cell_type": "code",
   "execution_count": 118,
   "id": "c4bf3052",
   "metadata": {},
   "outputs": [
    {
     "data": {
      "text/plain": [
       "1"
      ]
     },
     "execution_count": 118,
     "metadata": {},
     "output_type": "execute_result"
    }
   ],
   "source": [
    "boolx() #(0+1->1 (True))"
   ]
  },
  {
   "cell_type": "code",
   "execution_count": 119,
   "id": "06e6ec8d",
   "metadata": {},
   "outputs": [
    {
     "data": {
      "text/plain": [
       "0"
      ]
     },
     "execution_count": 119,
     "metadata": {},
     "output_type": "execute_result"
    }
   ],
   "source": [
    "boolx(False) #overwritten the previous the first value"
   ]
  },
  {
   "cell_type": "code",
   "execution_count": 120,
   "id": "fe231679",
   "metadata": {},
   "outputs": [
    {
     "data": {
      "text/plain": [
       "0"
      ]
     },
     "execution_count": 120,
     "metadata": {},
     "output_type": "execute_result"
    }
   ],
   "source": [
    "boolx(False,0) #first argument is False and second is 0 summation -> 0 "
   ]
  },
  {
   "cell_type": "code",
   "execution_count": 121,
   "id": "18456a2f",
   "metadata": {},
   "outputs": [
    {
     "data": {
      "text/plain": [
       "2"
      ]
     },
     "execution_count": 121,
     "metadata": {},
     "output_type": "execute_result"
    }
   ],
   "source": [
    "True + True"
   ]
  },
  {
   "cell_type": "code",
   "execution_count": 122,
   "id": "aa3db703",
   "metadata": {},
   "outputs": [],
   "source": [
    "def travel(bike=True, car=False):\n",
    "    plan_travel=bike or car\n",
    "    return bike,car,plan_travel"
   ]
  },
  {
   "cell_type": "code",
   "execution_count": 123,
   "id": "b5ff62f4",
   "metadata": {},
   "outputs": [
    {
     "data": {
      "text/plain": [
       "(False, False, False)"
      ]
     },
     "execution_count": 123,
     "metadata": {},
     "output_type": "execute_result"
    }
   ],
   "source": [
    "travel(False,False)"
   ]
  },
  {
   "cell_type": "code",
   "execution_count": 124,
   "id": "7bc53695",
   "metadata": {},
   "outputs": [
    {
     "data": {
      "text/plain": [
       "(True, False, True)"
      ]
     },
     "execution_count": 124,
     "metadata": {},
     "output_type": "execute_result"
    }
   ],
   "source": [
    "travel(True,False)"
   ]
  },
  {
   "cell_type": "code",
   "execution_count": 125,
   "id": "7d1cac38",
   "metadata": {},
   "outputs": [
    {
     "data": {
      "text/plain": [
       "(False, False, False)"
      ]
     },
     "execution_count": 125,
     "metadata": {},
     "output_type": "execute_result"
    }
   ],
   "source": [
    "travel(False) #bike value overrideen"
   ]
  },
  {
   "cell_type": "code",
   "execution_count": 126,
   "id": "91c7bd59",
   "metadata": {},
   "outputs": [
    {
     "data": {
      "text/plain": [
       "(True, True, True)"
      ]
     },
     "execution_count": 126,
     "metadata": {},
     "output_type": "execute_result"
    }
   ],
   "source": [
    "travel(car=True) #to override car variable"
   ]
  },
  {
   "cell_type": "code",
   "execution_count": 127,
   "id": "af47472c",
   "metadata": {},
   "outputs": [],
   "source": [
    "def test11(*args,a='apoorv'): #*args allows to pass multiple data sets in function\n",
    "    return args"
   ]
  },
  {
   "cell_type": "code",
   "execution_count": 128,
   "id": "cec69a37",
   "metadata": {},
   "outputs": [
    {
     "data": {
      "text/plain": [
       "('ap', 12, [1, 2])"
      ]
     },
     "execution_count": 128,
     "metadata": {},
     "output_type": "execute_result"
    }
   ],
   "source": [
    "test11(\"ap\",12,[1,2])"
   ]
  },
  {
   "cell_type": "code",
   "execution_count": 129,
   "id": "86ddef41",
   "metadata": {},
   "outputs": [],
   "source": [
    "def joy(*args):               #Concatenation list using functions\n",
    "    a=[]\n",
    "    for i in args:            #args always hold collection of data in tuple as above operation\n",
    "        a=a+i\n",
    "    return a"
   ]
  },
  {
   "cell_type": "code",
   "execution_count": 130,
   "id": "a5c899a7",
   "metadata": {},
   "outputs": [
    {
     "data": {
      "text/plain": [
       "[1, 23, 1, 232, 2, 2, 2]"
      ]
     },
     "execution_count": 130,
     "metadata": {},
     "output_type": "execute_result"
    }
   ],
   "source": [
    "joy([1,23],[1,232],[2,2,2])  #working fine"
   ]
  },
  {
   "cell_type": "code",
   "execution_count": 131,
   "id": "e2960d95",
   "metadata": {},
   "outputs": [],
   "source": [
    "#using list comprehension"
   ]
  },
  {
   "cell_type": "code",
   "execution_count": 132,
   "id": "7c0a8224",
   "metadata": {},
   "outputs": [],
   "source": [
    "def joy2(*args):\n",
    "    return [i for i in args]"
   ]
  },
  {
   "cell_type": "code",
   "execution_count": 133,
   "id": "ec997dbc",
   "metadata": {},
   "outputs": [
    {
     "data": {
      "text/plain": [
       "[[1, 2, 3], [12, 12]]"
      ]
     },
     "execution_count": 133,
     "metadata": {},
     "output_type": "execute_result"
    }
   ],
   "source": [
    "joy2([1,2,3],[12,12])"
   ]
  },
  {
   "cell_type": "code",
   "execution_count": 134,
   "id": "530c91d3",
   "metadata": {},
   "outputs": [],
   "source": [
    "def test16(**kwargs): #kwargs (key word arguments)-> i will be able to provide any number of data into a function\n",
    "                    #but in key value pair.\n",
    "        return kwargs"
   ]
  },
  {
   "cell_type": "code",
   "execution_count": 135,
   "id": "1959a5af",
   "metadata": {},
   "outputs": [
    {
     "ename": "TypeError",
     "evalue": "test16() takes 0 positional arguments but 3 were given",
     "output_type": "error",
     "traceback": [
      "\u001b[1;31m---------------------------------------------------------------------------\u001b[0m",
      "\u001b[1;31mTypeError\u001b[0m                                 Traceback (most recent call last)",
      "\u001b[1;32m~\\AppData\\Local\\Temp/ipykernel_15996/952350815.py\u001b[0m in \u001b[0;36m<module>\u001b[1;34m\u001b[0m\n\u001b[1;32m----> 1\u001b[1;33m \u001b[0mtest16\u001b[0m\u001b[1;33m(\u001b[0m\u001b[1;36m4\u001b[0m\u001b[1;33m,\u001b[0m\u001b[1;36m5\u001b[0m\u001b[1;33m,\u001b[0m\u001b[1;36m5\u001b[0m\u001b[1;33m)\u001b[0m\u001b[1;33m\u001b[0m\u001b[1;33m\u001b[0m\u001b[0m\n\u001b[0m",
      "\u001b[1;31mTypeError\u001b[0m: test16() takes 0 positional arguments but 3 were given"
     ]
    }
   ],
   "source": [
    "test16(4,5,5)"
   ]
  },
  {
   "cell_type": "code",
   "execution_count": 136,
   "id": "493194f1",
   "metadata": {},
   "outputs": [
    {
     "data": {
      "text/plain": [
       "{'a': 8, 'b': 7, 'c': 7, 'd': 78}"
      ]
     },
     "execution_count": 136,
     "metadata": {},
     "output_type": "execute_result"
    }
   ],
   "source": [
    "test16(a=8,b=7,c=7,d=78)"
   ]
  },
  {
   "cell_type": "code",
   "execution_count": 137,
   "id": "8cf5cea8",
   "metadata": {},
   "outputs": [],
   "source": [
    "#in kwargs any number of arguments but only in key value pair format and return a dictonary\n",
    "#but this doesn't mean than you have to enter a dictonary"
   ]
  },
  {
   "cell_type": "code",
   "execution_count": 138,
   "id": "3808bc15",
   "metadata": {},
   "outputs": [],
   "source": [
    "def test17(*args):\n",
    "    return (args)"
   ]
  },
  {
   "cell_type": "code",
   "execution_count": 139,
   "id": "7bfd98f8",
   "metadata": {},
   "outputs": [
    {
     "data": {
      "text/plain": [
       "(5, 6, 7, 8, 'AUDIT', [1, 2, 4])"
      ]
     },
     "execution_count": 139,
     "metadata": {},
     "output_type": "execute_result"
    }
   ],
   "source": [
    "test17(5,6,7,8,'AUDIT',[1,2,4]) #returns tuple"
   ]
  },
  {
   "cell_type": "code",
   "execution_count": 140,
   "id": "60031cc1",
   "metadata": {},
   "outputs": [],
   "source": [
    "#q1 create a function func1, allowing any number of mixed data and try to create a list of seperate data based on data type\n",
    "#q2 create a function func2, allowing a function which will be able to use *args and *kwargs and it will be able to do all \n",
    "#the list value concatenation and return a list"
   ]
  },
  {
   "cell_type": "code",
   "execution_count": 141,
   "id": "69e1358a",
   "metadata": {},
   "outputs": [],
   "source": [
    "def func1(*args):\n",
    "    strings=[]\n",
    "    ints=[]\n",
    "    floats=[]\n",
    "    lists=[]\n",
    "    tuples=[]\n",
    "    for i in args:\n",
    "        if type(i)==str:\n",
    "            strings.append(i)\n",
    "        elif type(i)==int:\n",
    "            ints.append(i)\n",
    "        elif type(i)==float:\n",
    "            floats.append(i)\n",
    "        elif type(i)==list:\n",
    "            lists.append(i)\n",
    "        else:\n",
    "            tuples.append(i)\n",
    "    return strings,ints,floats,lists,tuples\n"
   ]
  },
  {
   "cell_type": "code",
   "execution_count": 142,
   "id": "b164b83d",
   "metadata": {},
   "outputs": [
    {
     "data": {
      "text/plain": [
       "(['apoorv', 'j'], [1, 2, 3], [1.3], [[1, 2, 3]], [(1, 12)])"
      ]
     },
     "execution_count": 142,
     "metadata": {},
     "output_type": "execute_result"
    }
   ],
   "source": [
    "func1(1,2,3,\"apoorv\",'j',(1,12),[1,2,3],1.3)"
   ]
  },
  {
   "cell_type": "code",
   "execution_count": 143,
   "id": "18a3336c",
   "metadata": {},
   "outputs": [],
   "source": [
    "def func2(*args,**kwargs):\n",
    "    l=[]\n",
    "    for i in args:\n",
    "        l.append(i)\n",
    "    for i in kwargs.items():\n",
    "        l.append(i[1])\n",
    "    return l"
   ]
  },
  {
   "cell_type": "code",
   "execution_count": 144,
   "id": "1b8ccfa8",
   "metadata": {},
   "outputs": [
    {
     "ename": "SyntaxError",
     "evalue": "positional argument follows keyword argument (Temp/ipykernel_15996/3396724299.py, line 1)",
     "output_type": "error",
     "traceback": [
      "\u001b[1;36m  File \u001b[1;32m\"C:\\Users\\h.p\\AppData\\Local\\Temp/ipykernel_15996/3396724299.py\"\u001b[1;36m, line \u001b[1;32m1\u001b[0m\n\u001b[1;33m    func2(1,2,3,4,a=1,b=2,5,6) #positional argument can't follow keyword argument\u001b[0m\n\u001b[1;37m                             ^\u001b[0m\n\u001b[1;31mSyntaxError\u001b[0m\u001b[1;31m:\u001b[0m positional argument follows keyword argument\n"
     ]
    }
   ],
   "source": [
    "func2(1,2,3,4,a=1,b=2,5,6) #positional argument can't follow keyword argument"
   ]
  },
  {
   "cell_type": "code",
   "execution_count": 145,
   "id": "525d3cca",
   "metadata": {},
   "outputs": [
    {
     "data": {
      "text/plain": [
       "[1, 2, 3, 4, 1, 12, 122]"
      ]
     },
     "execution_count": 145,
     "metadata": {},
     "output_type": "execute_result"
    }
   ],
   "source": [
    "func2(1,2,3,4,a=1,b=12,c=122)"
   ]
  },
  {
   "cell_type": "code",
   "execution_count": 146,
   "id": "55ce4296",
   "metadata": {},
   "outputs": [],
   "source": [
    "d1={1:2,3:4}"
   ]
  },
  {
   "cell_type": "code",
   "execution_count": 147,
   "id": "4cd5073f",
   "metadata": {},
   "outputs": [
    {
     "data": {
      "text/plain": [
       "dict_items"
      ]
     },
     "execution_count": 147,
     "metadata": {},
     "output_type": "execute_result"
    }
   ],
   "source": [
    "type(d1.items()) #this type is dict items"
   ]
  },
  {
   "cell_type": "code",
   "execution_count": 148,
   "id": "9942f07d",
   "metadata": {},
   "outputs": [
    {
     "data": {
      "text/plain": [
       "dict_items([(1, 2), (3, 4)])"
      ]
     },
     "execution_count": 148,
     "metadata": {},
     "output_type": "execute_result"
    }
   ],
   "source": [
    "d1.items() #in this list of tuples of key:value pair is given"
   ]
  },
  {
   "cell_type": "code",
   "execution_count": 149,
   "id": "6dae081f",
   "metadata": {},
   "outputs": [],
   "source": [
    "\n",
    "#dynamic version of first problem\n",
    "\n",
    "def func1_2(*args):\n",
    "    dt={}\n",
    "    for i in args:\n",
    "        if type(i) in dt:\n",
    "            dt[type(i)].append(i)\n",
    "        else:\n",
    "            dt[type(i)]=[i]\n",
    "    return dt"
   ]
  },
  {
   "cell_type": "code",
   "execution_count": 150,
   "id": "7c84ef64",
   "metadata": {},
   "outputs": [
    {
     "data": {
      "text/plain": [
       "{int: [1, 2, 3],\n",
       " float: [4.5, 1.4],\n",
       " str: ['apoorv', 'apoor'],\n",
       " complex: [(3+8j), (9+7j)]}"
      ]
     },
     "execution_count": 150,
     "metadata": {},
     "output_type": "execute_result"
    }
   ],
   "source": [
    "func1_2(1,2,3,4.5,\"apoorv\",'apoor',1.4,3+8j,9+7j)"
   ]
  },
  {
   "cell_type": "markdown",
   "id": "1e2326f0",
   "metadata": {},
   "source": [
    "# Class2_of_functions "
   ]
  },
  {
   "cell_type": "code",
   "execution_count": 151,
   "id": "65982b77",
   "metadata": {},
   "outputs": [],
   "source": [
    "#Lambda or Anonymous function ->funcn without giving a name"
   ]
  },
  {
   "cell_type": "code",
   "execution_count": 152,
   "id": "3aab126c",
   "metadata": {},
   "outputs": [],
   "source": [
    "def test(name, mail_id):                      #normal way\n",
    "    concat = name  + mail_id\n",
    "    return mail_id, name,concat"
   ]
  },
  {
   "cell_type": "code",
   "execution_count": 153,
   "id": "d642b3a1",
   "metadata": {},
   "outputs": [
    {
     "data": {
      "text/plain": [
       "('apoorv.2018@gmail.com', 'apoorv', 'apoorvapoorv.2018@gmail.com')"
      ]
     },
     "execution_count": 153,
     "metadata": {},
     "output_type": "execute_result"
    }
   ],
   "source": [
    "test(\"apoorv\",'apoorv.2018@gmail.com')"
   ]
  },
  {
   "cell_type": "code",
   "execution_count": 154,
   "id": "10ac36b3",
   "metadata": {},
   "outputs": [],
   "source": [
    "#using lamba"
   ]
  },
  {
   "cell_type": "code",
   "execution_count": 155,
   "id": "0eadc4fb",
   "metadata": {},
   "outputs": [],
   "source": [
    "a=10\n",
    "b=20\n",
    "m = lambda x,y : x+y #usage for lambda function #m is just a variable here #lambda is keyword"
   ]
  },
  {
   "cell_type": "code",
   "execution_count": 156,
   "id": "d09530fb",
   "metadata": {},
   "outputs": [
    {
     "data": {
      "text/plain": [
       "30"
      ]
     },
     "execution_count": 156,
     "metadata": {},
     "output_type": "execute_result"
    }
   ],
   "source": [
    "m(a,b)"
   ]
  },
  {
   "cell_type": "code",
   "execution_count": 157,
   "id": "a64f7030",
   "metadata": {},
   "outputs": [
    {
     "data": {
      "text/plain": [
       "'sudhapoorv'"
      ]
     },
     "execution_count": 157,
     "metadata": {},
     "output_type": "execute_result"
    }
   ],
   "source": [
    "m('sudh','apoorv')"
   ]
  },
  {
   "cell_type": "code",
   "execution_count": 158,
   "id": "956cad15",
   "metadata": {},
   "outputs": [],
   "source": [
    "b='sudh'\n",
    "c='test'"
   ]
  },
  {
   "cell_type": "code",
   "execution_count": 159,
   "id": "2b75bfe6",
   "metadata": {},
   "outputs": [],
   "source": [
    "n = lambda x,y : print(x,y)"
   ]
  },
  {
   "cell_type": "code",
   "execution_count": 160,
   "id": "e19c14a5",
   "metadata": {},
   "outputs": [
    {
     "name": "stdout",
     "output_type": "stream",
     "text": [
      "sudh test\n"
     ]
    }
   ],
   "source": [
    "n(b,c)"
   ]
  },
  {
   "cell_type": "code",
   "execution_count": 161,
   "id": "37f8220f",
   "metadata": {},
   "outputs": [],
   "source": [
    "r = 20\n",
    "def test3(a,b):\n",
    "    r=a/b\n",
    "    return r"
   ]
  },
  {
   "cell_type": "code",
   "execution_count": 162,
   "id": "aa2a0001",
   "metadata": {},
   "outputs": [
    {
     "data": {
      "text/plain": [
       "10.0"
      ]
     },
     "execution_count": 162,
     "metadata": {},
     "output_type": "execute_result"
    }
   ],
   "source": [
    "test3(100,10) #r is 10 here initially we wrote r=20"
   ]
  },
  {
   "cell_type": "code",
   "execution_count": 163,
   "id": "2887d92e",
   "metadata": {},
   "outputs": [],
   "source": [
    "#becuase r is local variable and it overwrites the global value that was r->20"
   ]
  },
  {
   "cell_type": "code",
   "execution_count": 164,
   "id": "b9c45717",
   "metadata": {},
   "outputs": [
    {
     "data": {
      "text/plain": [
       "20"
      ]
     },
     "execution_count": 164,
     "metadata": {},
     "output_type": "execute_result"
    }
   ],
   "source": [
    "r #r is 20 only, just inside the funcn the value is r->10"
   ]
  },
  {
   "cell_type": "code",
   "execution_count": 165,
   "id": "440d9af7",
   "metadata": {},
   "outputs": [],
   "source": [
    "#writing the docstring for a function"
   ]
  },
  {
   "cell_type": "code",
   "execution_count": 166,
   "id": "98cea265",
   "metadata": {},
   "outputs": [],
   "source": [
    "def test4():\n",
    "    \"\"\"\n",
    "    this is my test function with the \n",
    "    help of this function you can print my name is apoorv\n",
    "    \n",
    "    \"\"\"\n",
    "    print('my name is apoorv')"
   ]
  },
  {
   "cell_type": "code",
   "execution_count": 167,
   "id": "e52cb9fc",
   "metadata": {},
   "outputs": [
    {
     "name": "stdout",
     "output_type": "stream",
     "text": [
      "my name is apoorv\n"
     ]
    }
   ],
   "source": [
    "test4()"
   ]
  },
  {
   "cell_type": "markdown",
   "id": "4686fe59",
   "metadata": {},
   "source": [
    "# iterator,generator and iterable"
   ]
  },
  {
   "cell_type": "code",
   "execution_count": 168,
   "id": "398e372e",
   "metadata": {},
   "outputs": [],
   "source": [
    "a=10"
   ]
  },
  {
   "cell_type": "code",
   "execution_count": 169,
   "id": "40b66fda",
   "metadata": {},
   "outputs": [
    {
     "ename": "TypeError",
     "evalue": "'int' object is not iterable",
     "output_type": "error",
     "traceback": [
      "\u001b[1;31m---------------------------------------------------------------------------\u001b[0m",
      "\u001b[1;31mTypeError\u001b[0m                                 Traceback (most recent call last)",
      "\u001b[1;32m~\\AppData\\Local\\Temp/ipykernel_15996/652570640.py\u001b[0m in \u001b[0;36m<module>\u001b[1;34m\u001b[0m\n\u001b[1;32m----> 1\u001b[1;33m \u001b[1;32mfor\u001b[0m \u001b[0mi\u001b[0m \u001b[1;32min\u001b[0m \u001b[0ma\u001b[0m\u001b[1;33m:\u001b[0m \u001b[1;31m#'int' object is not iterable\u001b[0m\u001b[1;33m\u001b[0m\u001b[1;33m\u001b[0m\u001b[0m\n\u001b[0m\u001b[0;32m      2\u001b[0m     \u001b[0mprint\u001b[0m\u001b[1;33m(\u001b[0m\u001b[0mi\u001b[0m\u001b[1;33m)\u001b[0m\u001b[1;33m\u001b[0m\u001b[1;33m\u001b[0m\u001b[0m\n",
      "\u001b[1;31mTypeError\u001b[0m: 'int' object is not iterable"
     ]
    }
   ],
   "source": [
    "for i in a: #'int' object is not iterable\n",
    "    print(i)"
   ]
  },
  {
   "cell_type": "code",
   "execution_count": 170,
   "id": "839b7021",
   "metadata": {},
   "outputs": [
    {
     "name": "stdout",
     "output_type": "stream",
     "text": [
      "s\n",
      "u\n",
      "d\n",
      "h\n"
     ]
    }
   ],
   "source": [
    "for i in 'sudh':\n",
    "    print(i)"
   ]
  },
  {
   "cell_type": "code",
   "execution_count": 171,
   "id": "78b9b2c4",
   "metadata": {},
   "outputs": [
    {
     "ename": "TypeError",
     "evalue": "'str' object is not an iterator",
     "output_type": "error",
     "traceback": [
      "\u001b[1;31m---------------------------------------------------------------------------\u001b[0m",
      "\u001b[1;31mTypeError\u001b[0m                                 Traceback (most recent call last)",
      "\u001b[1;32m~\\AppData\\Local\\Temp/ipykernel_15996/1909199935.py\u001b[0m in \u001b[0;36m<module>\u001b[1;34m\u001b[0m\n\u001b[0;32m      1\u001b[0m \u001b[0ms\u001b[0m\u001b[1;33m=\u001b[0m\u001b[1;34m'sudh'\u001b[0m\u001b[1;33m\u001b[0m\u001b[1;33m\u001b[0m\u001b[0m\n\u001b[1;32m----> 2\u001b[1;33m \u001b[0mnext\u001b[0m\u001b[1;33m(\u001b[0m\u001b[0ms\u001b[0m\u001b[1;33m)\u001b[0m\u001b[1;33m\u001b[0m\u001b[1;33m\u001b[0m\u001b[0m\n\u001b[0m",
      "\u001b[1;31mTypeError\u001b[0m: 'str' object is not an iterator"
     ]
    }
   ],
   "source": [
    "s='sudh'\n",
    "next(s)"
   ]
  },
  {
   "cell_type": "code",
   "execution_count": 172,
   "id": "f61921fb",
   "metadata": {},
   "outputs": [],
   "source": [
    "#'str' object is not an iterator\n",
    "#this thing creates confusion"
   ]
  },
  {
   "cell_type": "code",
   "execution_count": 173,
   "id": "cead58e1",
   "metadata": {},
   "outputs": [],
   "source": [
    "#iterator is kind of object or entity from where i can abstract data one by one by indices."
   ]
  },
  {
   "cell_type": "code",
   "execution_count": 174,
   "id": "cda29fcf",
   "metadata": {},
   "outputs": [],
   "source": [
    "#if object is iterable you will be able to covert your data into iterator"
   ]
  },
  {
   "cell_type": "code",
   "execution_count": 175,
   "id": "1727ac89",
   "metadata": {},
   "outputs": [],
   "source": [
    "#therefore str is iterable object but it is not by default an iterator"
   ]
  },
  {
   "cell_type": "code",
   "execution_count": 176,
   "id": "5ca933db",
   "metadata": {},
   "outputs": [],
   "source": [
    "#for loop in sudh example is able to convert str into iterator object"
   ]
  },
  {
   "cell_type": "code",
   "execution_count": 177,
   "id": "bd410283",
   "metadata": {},
   "outputs": [],
   "source": [
    "s1 = iter(s) #iter converts s into interator"
   ]
  },
  {
   "cell_type": "code",
   "execution_count": 178,
   "id": "0ac869d8",
   "metadata": {},
   "outputs": [
    {
     "data": {
      "text/plain": [
       "'s'"
      ]
     },
     "execution_count": 178,
     "metadata": {},
     "output_type": "execute_result"
    }
   ],
   "source": [
    "next(s1)"
   ]
  },
  {
   "cell_type": "code",
   "execution_count": 179,
   "id": "dbe33e7e",
   "metadata": {},
   "outputs": [
    {
     "data": {
      "text/plain": [
       "'u'"
      ]
     },
     "execution_count": 179,
     "metadata": {},
     "output_type": "execute_result"
    }
   ],
   "source": [
    "next(s1)"
   ]
  },
  {
   "cell_type": "code",
   "execution_count": 180,
   "id": "1b240cb7",
   "metadata": {},
   "outputs": [
    {
     "data": {
      "text/plain": [
       "'d'"
      ]
     },
     "execution_count": 180,
     "metadata": {},
     "output_type": "execute_result"
    }
   ],
   "source": [
    "next(s1)"
   ]
  },
  {
   "cell_type": "code",
   "execution_count": 181,
   "id": "e50432b6",
   "metadata": {},
   "outputs": [
    {
     "data": {
      "text/plain": [
       "'h'"
      ]
     },
     "execution_count": 181,
     "metadata": {},
     "output_type": "execute_result"
    }
   ],
   "source": [
    "next(s1)"
   ]
  },
  {
   "cell_type": "code",
   "execution_count": 182,
   "id": "6633ed15",
   "metadata": {},
   "outputs": [
    {
     "ename": "StopIteration",
     "evalue": "",
     "output_type": "error",
     "traceback": [
      "\u001b[1;31m---------------------------------------------------------------------------\u001b[0m",
      "\u001b[1;31mStopIteration\u001b[0m                             Traceback (most recent call last)",
      "\u001b[1;32m~\\AppData\\Local\\Temp/ipykernel_15996/1205934168.py\u001b[0m in \u001b[0;36m<module>\u001b[1;34m\u001b[0m\n\u001b[1;32m----> 1\u001b[1;33m \u001b[0mnext\u001b[0m\u001b[1;33m(\u001b[0m\u001b[0ms1\u001b[0m\u001b[1;33m)\u001b[0m\u001b[1;33m\u001b[0m\u001b[1;33m\u001b[0m\u001b[0m\n\u001b[0m",
      "\u001b[1;31mStopIteration\u001b[0m: "
     ]
    }
   ],
   "source": [
    "next(s1)"
   ]
  },
  {
   "cell_type": "code",
   "execution_count": 183,
   "id": "eeb1a133",
   "metadata": {},
   "outputs": [
    {
     "ename": "TypeError",
     "evalue": "'int' object is not iterable",
     "output_type": "error",
     "traceback": [
      "\u001b[1;31m---------------------------------------------------------------------------\u001b[0m",
      "\u001b[1;31mTypeError\u001b[0m                                 Traceback (most recent call last)",
      "\u001b[1;32m~\\AppData\\Local\\Temp/ipykernel_15996/835024165.py\u001b[0m in \u001b[0;36m<module>\u001b[1;34m\u001b[0m\n\u001b[0;32m      1\u001b[0m \u001b[0ma\u001b[0m\u001b[1;33m=\u001b[0m\u001b[1;36m10\u001b[0m\u001b[1;33m\u001b[0m\u001b[1;33m\u001b[0m\u001b[0m\n\u001b[1;32m----> 2\u001b[1;33m \u001b[0miter\u001b[0m\u001b[1;33m(\u001b[0m\u001b[0ma\u001b[0m\u001b[1;33m)\u001b[0m \u001b[1;31m#as 'int' object is not interable\u001b[0m\u001b[1;33m\u001b[0m\u001b[1;33m\u001b[0m\u001b[0m\n\u001b[0m",
      "\u001b[1;31mTypeError\u001b[0m: 'int' object is not iterable"
     ]
    }
   ],
   "source": [
    "a=10\n",
    "iter(a) #as 'int' object is not interable"
   ]
  },
  {
   "cell_type": "code",
   "execution_count": 184,
   "id": "fbd70846",
   "metadata": {},
   "outputs": [
    {
     "ename": "TypeError",
     "evalue": "'list' object is not an iterator",
     "output_type": "error",
     "traceback": [
      "\u001b[1;31m---------------------------------------------------------------------------\u001b[0m",
      "\u001b[1;31mTypeError\u001b[0m                                 Traceback (most recent call last)",
      "\u001b[1;32m~\\AppData\\Local\\Temp/ipykernel_15996/2262368582.py\u001b[0m in \u001b[0;36m<module>\u001b[1;34m\u001b[0m\n\u001b[0;32m      1\u001b[0m \u001b[0ml\u001b[0m \u001b[1;33m=\u001b[0m\u001b[1;33m[\u001b[0m\u001b[1;36m1\u001b[0m\u001b[1;33m,\u001b[0m\u001b[1;36m2\u001b[0m\u001b[1;33m,\u001b[0m\u001b[1;36m3\u001b[0m\u001b[1;33m,\u001b[0m\u001b[1;36m4\u001b[0m\u001b[1;33m,\u001b[0m\u001b[1;36m5\u001b[0m\u001b[1;33m]\u001b[0m\u001b[1;33m\u001b[0m\u001b[1;33m\u001b[0m\u001b[0m\n\u001b[1;32m----> 2\u001b[1;33m \u001b[0mnext\u001b[0m\u001b[1;33m(\u001b[0m\u001b[0ml\u001b[0m\u001b[1;33m)\u001b[0m\u001b[1;33m\u001b[0m\u001b[1;33m\u001b[0m\u001b[0m\n\u001b[0m",
      "\u001b[1;31mTypeError\u001b[0m: 'list' object is not an iterator"
     ]
    }
   ],
   "source": [
    "l =[1,2,3,4,5]\n",
    "next(l)"
   ]
  },
  {
   "cell_type": "code",
   "execution_count": 185,
   "id": "42fd1d93",
   "metadata": {},
   "outputs": [],
   "source": [
    "#we have to convert l into interable object"
   ]
  },
  {
   "cell_type": "code",
   "execution_count": 186,
   "id": "419bf0ca",
   "metadata": {},
   "outputs": [],
   "source": [
    "l = iter(l)"
   ]
  },
  {
   "cell_type": "code",
   "execution_count": 187,
   "id": "eb5b2730",
   "metadata": {},
   "outputs": [
    {
     "data": {
      "text/plain": [
       "1"
      ]
     },
     "execution_count": 187,
     "metadata": {},
     "output_type": "execute_result"
    }
   ],
   "source": [
    "next(l)"
   ]
  },
  {
   "cell_type": "code",
   "execution_count": 188,
   "id": "70d0103d",
   "metadata": {},
   "outputs": [
    {
     "data": {
      "text/plain": [
       "2"
      ]
     },
     "execution_count": 188,
     "metadata": {},
     "output_type": "execute_result"
    }
   ],
   "source": [
    "next(l)"
   ]
  },
  {
   "cell_type": "code",
   "execution_count": 189,
   "id": "274d4ba2",
   "metadata": {},
   "outputs": [
    {
     "data": {
      "text/plain": [
       "3"
      ]
     },
     "execution_count": 189,
     "metadata": {},
     "output_type": "execute_result"
    }
   ],
   "source": [
    "next(l)"
   ]
  },
  {
   "cell_type": "code",
   "execution_count": 190,
   "id": "1ece7472",
   "metadata": {},
   "outputs": [
    {
     "data": {
      "text/plain": [
       "4"
      ]
     },
     "execution_count": 190,
     "metadata": {},
     "output_type": "execute_result"
    }
   ],
   "source": [
    "next(l)"
   ]
  },
  {
   "cell_type": "code",
   "execution_count": 191,
   "id": "dc8a9700",
   "metadata": {},
   "outputs": [
    {
     "data": {
      "text/plain": [
       "5"
      ]
     },
     "execution_count": 191,
     "metadata": {},
     "output_type": "execute_result"
    }
   ],
   "source": [
    "next(l)"
   ]
  },
  {
   "cell_type": "code",
   "execution_count": 192,
   "id": "d012919b",
   "metadata": {},
   "outputs": [
    {
     "data": {
      "text/plain": [
       "list_iterator"
      ]
     },
     "execution_count": 192,
     "metadata": {},
     "output_type": "execute_result"
    }
   ],
   "source": [
    "type(l) #type of l is list_iterator"
   ]
  },
  {
   "cell_type": "markdown",
   "id": "181dbcec",
   "metadata": {},
   "source": [
    "# GENERATOR "
   ]
  },
  {
   "cell_type": "code",
   "execution_count": 193,
   "id": "b9b4be88",
   "metadata": {},
   "outputs": [],
   "source": [
    "def test4(n):\n",
    "    l=[]\n",
    "    for i in range(1,n+1):\n",
    "        l.append(i**3)\n",
    "    return l"
   ]
  },
  {
   "cell_type": "code",
   "execution_count": 194,
   "id": "93e83247",
   "metadata": {},
   "outputs": [
    {
     "data": {
      "text/plain": [
       "[1, 8, 27, 64, 125]"
      ]
     },
     "execution_count": 194,
     "metadata": {},
     "output_type": "execute_result"
    }
   ],
   "source": [
    "test4(5)  #if n is very large then?"
   ]
  },
  {
   "cell_type": "code",
   "execution_count": 195,
   "id": "0dcada40",
   "metadata": {},
   "outputs": [],
   "source": [
    "#when the no is too high it will take a lot of time to complete all the append operations in for loop becasue we are adding data\n",
    "#in one memory location.\n",
    "#memory will only be free when, you have done all the operations"
   ]
  },
  {
   "cell_type": "code",
   "execution_count": 196,
   "id": "5537d2fe",
   "metadata": {},
   "outputs": [],
   "source": [
    "# WE WILL USE GENERATOR"
   ]
  },
  {
   "cell_type": "code",
   "execution_count": 197,
   "id": "f244b443",
   "metadata": {},
   "outputs": [],
   "source": [
    "def test5(n):\n",
    "    for i in range(n):\n",
    "        yield i**3 #yield is telling a generator function - i will not give output, but i will give you data, ill remember"
   ]
  },
  {
   "cell_type": "code",
   "execution_count": 198,
   "id": "3399e0ff",
   "metadata": {},
   "outputs": [
    {
     "data": {
      "text/plain": [
       "<generator object test5 at 0x0000019861F43120>"
      ]
     },
     "execution_count": 198,
     "metadata": {},
     "output_type": "execute_result"
    }
   ],
   "source": [
    "test5(30)"
   ]
  },
  {
   "cell_type": "code",
   "execution_count": 199,
   "id": "00edbc97",
   "metadata": {},
   "outputs": [],
   "source": [
    "#not getting an output, it it giving generator object"
   ]
  },
  {
   "cell_type": "code",
   "execution_count": 200,
   "id": "1836a4c7",
   "metadata": {},
   "outputs": [
    {
     "data": {
      "text/plain": [
       "range(0, 20)"
      ]
     },
     "execution_count": 200,
     "metadata": {},
     "output_type": "execute_result"
    }
   ],
   "source": [
    "range(20) #one by one giving the data"
   ]
  },
  {
   "cell_type": "code",
   "execution_count": 201,
   "id": "14b97c75",
   "metadata": {},
   "outputs": [
    {
     "data": {
      "text/plain": [
       "[0, 1, 2, 3, 4, 5, 6, 7, 8, 9, 10, 11, 12, 13, 14, 15, 16, 17, 18, 19]"
      ]
     },
     "execution_count": 201,
     "metadata": {},
     "output_type": "execute_result"
    }
   ],
   "source": [
    "list(range(20))"
   ]
  },
  {
   "cell_type": "code",
   "execution_count": 202,
   "id": "b73d0fcf",
   "metadata": {},
   "outputs": [
    {
     "name": "stdout",
     "output_type": "stream",
     "text": [
      "0\n",
      "1\n",
      "8\n",
      "27\n",
      "64\n",
      "125\n",
      "216\n",
      "343\n",
      "512\n",
      "729\n",
      "1000\n",
      "1331\n",
      "1728\n",
      "2197\n",
      "2744\n",
      "3375\n",
      "4096\n",
      "4913\n",
      "5832\n",
      "6859\n",
      "8000\n",
      "9261\n",
      "10648\n",
      "12167\n",
      "13824\n",
      "15625\n",
      "17576\n",
      "19683\n",
      "21952\n",
      "24389\n"
     ]
    }
   ],
   "source": [
    "for i in test5(30):\n",
    "    print(i)"
   ]
  },
  {
   "cell_type": "code",
   "execution_count": 203,
   "id": "472ab00e",
   "metadata": {},
   "outputs": [],
   "source": [
    "#using generator will start giving out data, for large numbers it will take time to give out all the data, but it won't take \n",
    "#memory space."
   ]
  },
  {
   "cell_type": "code",
   "execution_count": 205,
   "id": "3e8237ec",
   "metadata": {},
   "outputs": [
    {
     "data": {
      "text/plain": [
       "[0,\n",
       " 1,\n",
       " 8,\n",
       " 27,\n",
       " 64,\n",
       " 125,\n",
       " 216,\n",
       " 343,\n",
       " 512,\n",
       " 729,\n",
       " 1000,\n",
       " 1331,\n",
       " 1728,\n",
       " 2197,\n",
       " 2744,\n",
       " 3375,\n",
       " 4096,\n",
       " 4913,\n",
       " 5832,\n",
       " 6859,\n",
       " 8000,\n",
       " 9261,\n",
       " 10648,\n",
       " 12167,\n",
       " 13824,\n",
       " 15625,\n",
       " 17576,\n",
       " 19683,\n",
       " 21952,\n",
       " 24389,\n",
       " 27000,\n",
       " 29791,\n",
       " 32768,\n",
       " 35937,\n",
       " 39304,\n",
       " 42875,\n",
       " 46656,\n",
       " 50653,\n",
       " 54872,\n",
       " 59319,\n",
       " 64000,\n",
       " 68921,\n",
       " 74088,\n",
       " 79507,\n",
       " 85184,\n",
       " 91125,\n",
       " 97336,\n",
       " 103823,\n",
       " 110592,\n",
       " 117649,\n",
       " 125000,\n",
       " 132651,\n",
       " 140608,\n",
       " 148877,\n",
       " 157464,\n",
       " 166375,\n",
       " 175616,\n",
       " 185193,\n",
       " 195112,\n",
       " 205379,\n",
       " 216000,\n",
       " 226981,\n",
       " 238328,\n",
       " 250047,\n",
       " 262144,\n",
       " 274625,\n",
       " 287496,\n",
       " 300763,\n",
       " 314432,\n",
       " 328509,\n",
       " 343000,\n",
       " 357911,\n",
       " 373248,\n",
       " 389017,\n",
       " 405224,\n",
       " 421875,\n",
       " 438976,\n",
       " 456533,\n",
       " 474552,\n",
       " 493039,\n",
       " 512000,\n",
       " 531441,\n",
       " 551368,\n",
       " 571787,\n",
       " 592704,\n",
       " 614125,\n",
       " 636056,\n",
       " 658503,\n",
       " 681472,\n",
       " 704969,\n",
       " 729000,\n",
       " 753571,\n",
       " 778688,\n",
       " 804357,\n",
       " 830584,\n",
       " 857375,\n",
       " 884736,\n",
       " 912673,\n",
       " 941192,\n",
       " 970299]"
      ]
     },
     "execution_count": 205,
     "metadata": {},
     "output_type": "execute_result"
    }
   ],
   "source": [
    "list(test5(100)) #to get it in form of a list"
   ]
  },
  {
   "cell_type": "code",
   "execution_count": 223,
   "id": "0bcad34b",
   "metadata": {},
   "outputs": [],
   "source": [
    "def genfib(n):\n",
    "    a=1\n",
    "    b=1\n",
    "    output=[]\n",
    "    for i in range(n):\n",
    "        output.append(a)\n",
    "        a,b=b,a+b  # a is assigne b and b is assigned to a+b (but the new value of b will not be in a as the line was not fully so a is = b but old b)\n",
    "    return output"
   ]
  },
  {
   "cell_type": "code",
   "execution_count": 224,
   "id": "409a557b",
   "metadata": {},
   "outputs": [
    {
     "name": "stdout",
     "output_type": "stream",
     "text": [
      "[1, 1, 2, 3, 5, 8, 13, 21, 34, 55]\n"
     ]
    }
   ],
   "source": [
    "print(genfib(10))"
   ]
  },
  {
   "cell_type": "code",
   "execution_count": 228,
   "id": "6d151010",
   "metadata": {},
   "outputs": [],
   "source": [
    "def genfib2(n):  #using generators to make a fibonacci giving function\n",
    "    a=1\n",
    "    b=1\n",
    "    yield a\n",
    "    a,b=a,a+b"
   ]
  },
  {
   "cell_type": "code",
   "execution_count": 229,
   "id": "9eaf23b9",
   "metadata": {},
   "outputs": [
    {
     "data": {
      "text/plain": [
       "<generator object genfib2 at 0x0000019861F93970>"
      ]
     },
     "execution_count": 229,
     "metadata": {},
     "output_type": "execute_result"
    }
   ],
   "source": [
    "genfib2(10)"
   ]
  },
  {
   "cell_type": "code",
   "execution_count": 230,
   "id": "5b482581",
   "metadata": {},
   "outputs": [
    {
     "data": {
      "text/plain": [
       "[1, 1, 2, 3, 5, 8, 13, 21, 34, 55]"
      ]
     },
     "execution_count": 230,
     "metadata": {},
     "output_type": "execute_result"
    }
   ],
   "source": [
    "list(genfib(10))"
   ]
  },
  {
   "cell_type": "markdown",
   "id": "2626c43d",
   "metadata": {},
   "source": [
    "# FILE HANDLING IN CORE PYTHON "
   ]
  },
  {
   "cell_type": "code",
   "execution_count": 243,
   "id": "715ef303",
   "metadata": {},
   "outputs": [],
   "source": [
    "#create a new file\n",
    "\n",
    "f = open(\"test.txt\",\"w\")"
   ]
  },
  {
   "cell_type": "code",
   "execution_count": 244,
   "id": "5e8f8984",
   "metadata": {},
   "outputs": [
    {
     "data": {
      "text/plain": [
       "17"
      ]
     },
     "execution_count": 244,
     "metadata": {},
     "output_type": "execute_result"
    }
   ],
   "source": [
    "f.write(\"my name is apoorv\")"
   ]
  },
  {
   "cell_type": "code",
   "execution_count": 245,
   "id": "64d01c14",
   "metadata": {},
   "outputs": [],
   "source": [
    "f.close()"
   ]
  },
  {
   "cell_type": "code",
   "execution_count": 246,
   "id": "e5285fbd",
   "metadata": {},
   "outputs": [],
   "source": [
    "f = open(\"test.txt\")"
   ]
  },
  {
   "cell_type": "code",
   "execution_count": 247,
   "id": "ec2e8e27",
   "metadata": {},
   "outputs": [
    {
     "data": {
      "text/plain": [
       "'my name is apoorv'"
      ]
     },
     "execution_count": 247,
     "metadata": {},
     "output_type": "execute_result"
    }
   ],
   "source": [
    "f.read()                                 "
   ]
  },
  {
   "cell_type": "code",
   "execution_count": 249,
   "id": "b4dccd47",
   "metadata": {},
   "outputs": [
    {
     "data": {
      "text/plain": [
       "''"
      ]
     },
     "execution_count": 249,
     "metadata": {},
     "output_type": "execute_result"
    }
   ],
   "source": [
    "f.read()   #-> this time it is blank because cursor has done to the end after that there is no data left to read when we have \n",
    "#already used the read function"
   ]
  },
  {
   "cell_type": "code",
   "execution_count": 254,
   "id": "312a6367",
   "metadata": {},
   "outputs": [
    {
     "data": {
      "text/plain": [
       "5"
      ]
     },
     "execution_count": 254,
     "metadata": {},
     "output_type": "execute_result"
    }
   ],
   "source": [
    "f.seek(5) #-> my cursor will start at 5th index in the text file"
   ]
  },
  {
   "cell_type": "code",
   "execution_count": 255,
   "id": "ebd14752",
   "metadata": {},
   "outputs": [
    {
     "data": {
      "text/plain": [
       "'me is apoorv'"
      ]
     },
     "execution_count": 255,
     "metadata": {},
     "output_type": "execute_result"
    }
   ],
   "source": [
    "f.read() #-> from after fifth position everything is being read"
   ]
  },
  {
   "cell_type": "code",
   "execution_count": 257,
   "id": "24699324",
   "metadata": {},
   "outputs": [
    {
     "data": {
      "text/plain": [
       "''"
      ]
     },
     "execution_count": 257,
     "metadata": {},
     "output_type": "execute_result"
    }
   ],
   "source": [
    "f.read() #-> again cursor is at the last position"
   ]
  },
  {
   "cell_type": "code",
   "execution_count": 263,
   "id": "1e470ddc",
   "metadata": {},
   "outputs": [],
   "source": [
    "f= open(\"test.txt\",'r')"
   ]
  },
  {
   "cell_type": "code",
   "execution_count": 264,
   "id": "0b3c6eab",
   "metadata": {},
   "outputs": [
    {
     "ename": "UnsupportedOperation",
     "evalue": "not writable",
     "output_type": "error",
     "traceback": [
      "\u001b[1;31m---------------------------------------------------------------------------\u001b[0m",
      "\u001b[1;31mUnsupportedOperation\u001b[0m                      Traceback (most recent call last)",
      "\u001b[1;32m~\\AppData\\Local\\Temp/ipykernel_15996/3316347354.py\u001b[0m in \u001b[0;36m<module>\u001b[1;34m\u001b[0m\n\u001b[1;32m----> 1\u001b[1;33m \u001b[0mf\u001b[0m\u001b[1;33m.\u001b[0m\u001b[0mwrite\u001b[0m\u001b[1;33m(\u001b[0m\u001b[1;34m\"apoorv\"\u001b[0m\u001b[1;33m)\u001b[0m \u001b[1;31m#opened in read mode, you cannot write\u001b[0m\u001b[1;33m\u001b[0m\u001b[1;33m\u001b[0m\u001b[0m\n\u001b[0m",
      "\u001b[1;31mUnsupportedOperation\u001b[0m: not writable"
     ]
    }
   ],
   "source": [
    "f.write(\"apoorv\") #opened in read mode, you cannot write"
   ]
  },
  {
   "cell_type": "code",
   "execution_count": 265,
   "id": "2504756c",
   "metadata": {},
   "outputs": [
    {
     "data": {
      "text/plain": [
       "'my name is apoorv'"
      ]
     },
     "execution_count": 265,
     "metadata": {},
     "output_type": "execute_result"
    }
   ],
   "source": [
    "f.read() #but you can read after opening"
   ]
  },
  {
   "cell_type": "code",
   "execution_count": 266,
   "id": "536c944d",
   "metadata": {},
   "outputs": [],
   "source": [
    "f.close()"
   ]
  },
  {
   "cell_type": "code",
   "execution_count": 268,
   "id": "741a0766",
   "metadata": {},
   "outputs": [
    {
     "ename": "ValueError",
     "evalue": "I/O operation on closed file.",
     "output_type": "error",
     "traceback": [
      "\u001b[1;31m---------------------------------------------------------------------------\u001b[0m",
      "\u001b[1;31mValueError\u001b[0m                                Traceback (most recent call last)",
      "\u001b[1;32m~\\AppData\\Local\\Temp/ipykernel_15996/1346146290.py\u001b[0m in \u001b[0;36m<module>\u001b[1;34m\u001b[0m\n\u001b[1;32m----> 1\u001b[1;33m \u001b[0mf\u001b[0m\u001b[1;33m.\u001b[0m\u001b[0mread\u001b[0m\u001b[1;33m(\u001b[0m\u001b[1;33m)\u001b[0m \u001b[1;31m#file is closed now\u001b[0m\u001b[1;33m\u001b[0m\u001b[1;33m\u001b[0m\u001b[0m\n\u001b[0m",
      "\u001b[1;31mValueError\u001b[0m: I/O operation on closed file."
     ]
    }
   ],
   "source": [
    "f.read() #file is closed now"
   ]
  },
  {
   "cell_type": "code",
   "execution_count": 271,
   "id": "1f6526e0",
   "metadata": {},
   "outputs": [],
   "source": [
    "f = open(\"test.txt\",'w')"
   ]
  },
  {
   "cell_type": "code",
   "execution_count": 272,
   "id": "f30687e0",
   "metadata": {},
   "outputs": [
    {
     "data": {
      "text/plain": [
       "6"
      ]
     },
     "execution_count": 272,
     "metadata": {},
     "output_type": "execute_result"
    }
   ],
   "source": [
    "f.write('apoorv')"
   ]
  },
  {
   "cell_type": "code",
   "execution_count": 273,
   "id": "1445eddf",
   "metadata": {},
   "outputs": [],
   "source": [
    "f.close()"
   ]
  },
  {
   "cell_type": "code",
   "execution_count": 278,
   "id": "82a13a0b",
   "metadata": {},
   "outputs": [],
   "source": [
    "f = open(\"test.txt\",'a')"
   ]
  },
  {
   "cell_type": "code",
   "execution_count": 279,
   "id": "ae24d786",
   "metadata": {},
   "outputs": [
    {
     "data": {
      "text/plain": [
       "15"
      ]
     },
     "execution_count": 279,
     "metadata": {},
     "output_type": "execute_result"
    }
   ],
   "source": [
    "f.write(\"nkjnkjnkdnkjnkn\") #you have to close the file in kernel to see changes in txt file"
   ]
  },
  {
   "cell_type": "code",
   "execution_count": 280,
   "id": "03b441cd",
   "metadata": {},
   "outputs": [],
   "source": [
    "f.close()"
   ]
  },
  {
   "cell_type": "code",
   "execution_count": 281,
   "id": "085aa906",
   "metadata": {},
   "outputs": [],
   "source": [
    "f=open('text1.txt','wb') #w -> write,b->binary data"
   ]
  },
  {
   "cell_type": "code",
   "execution_count": 282,
   "id": "d33586b4",
   "metadata": {},
   "outputs": [
    {
     "ename": "TypeError",
     "evalue": "a bytes-like object is required, not 'str'",
     "output_type": "error",
     "traceback": [
      "\u001b[1;31m---------------------------------------------------------------------------\u001b[0m",
      "\u001b[1;31mTypeError\u001b[0m                                 Traceback (most recent call last)",
      "\u001b[1;32m~\\AppData\\Local\\Temp/ipykernel_15996/4123247073.py\u001b[0m in \u001b[0;36m<module>\u001b[1;34m\u001b[0m\n\u001b[1;32m----> 1\u001b[1;33m \u001b[0mf\u001b[0m\u001b[1;33m.\u001b[0m\u001b[0mwrite\u001b[0m\u001b[1;33m(\u001b[0m\u001b[1;34m'asdasdsa'\u001b[0m\u001b[1;33m)\u001b[0m\u001b[1;33m\u001b[0m\u001b[1;33m\u001b[0m\u001b[0m\n\u001b[0m",
      "\u001b[1;31mTypeError\u001b[0m: a bytes-like object is required, not 'str'"
     ]
    }
   ],
   "source": [
    "f.write('asdasdsa')"
   ]
  },
  {
   "cell_type": "code",
   "execution_count": 283,
   "id": "bf73fc4f",
   "metadata": {},
   "outputs": [
    {
     "data": {
      "text/plain": [
       "12"
      ]
     },
     "execution_count": 283,
     "metadata": {},
     "output_type": "execute_result"
    }
   ],
   "source": [
    "f.write(b'apoorvkhatri') #-> b is the notation of binary format and you have to store data in that format only."
   ]
  },
  {
   "cell_type": "code",
   "execution_count": 284,
   "id": "90dd6cee",
   "metadata": {},
   "outputs": [],
   "source": [
    "f.close()"
   ]
  },
  {
   "cell_type": "code",
   "execution_count": 302,
   "id": "df85c525",
   "metadata": {},
   "outputs": [],
   "source": [
    "f = open('text1.txt','rb')"
   ]
  },
  {
   "cell_type": "code",
   "execution_count": 303,
   "id": "d496ecfb",
   "metadata": {},
   "outputs": [
    {
     "data": {
      "text/plain": [
       "b'apoorvkhatri'"
      ]
     },
     "execution_count": 303,
     "metadata": {},
     "output_type": "execute_result"
    }
   ],
   "source": [
    "f.read()"
   ]
  },
  {
   "cell_type": "code",
   "execution_count": 314,
   "id": "df447b03",
   "metadata": {},
   "outputs": [
    {
     "data": {
      "text/plain": [
       "2"
      ]
     },
     "execution_count": 314,
     "metadata": {},
     "output_type": "execute_result"
    }
   ],
   "source": [
    "f.seek(2) #go to second index "
   ]
  },
  {
   "cell_type": "code",
   "execution_count": 315,
   "id": "617dfe63",
   "metadata": {},
   "outputs": [
    {
     "data": {
      "text/plain": [
       "b'o'"
      ]
     },
     "execution_count": 315,
     "metadata": {},
     "output_type": "execute_result"
    }
   ],
   "source": [
    "f.read(1) #after second index only one data"
   ]
  },
  {
   "cell_type": "code",
   "execution_count": 316,
   "id": "aec25aed",
   "metadata": {},
   "outputs": [
    {
     "data": {
      "text/plain": [
       "0"
      ]
     },
     "execution_count": 316,
     "metadata": {},
     "output_type": "execute_result"
    }
   ],
   "source": [
    "f.seek(-3,1) #-> -3 means 3rd bite from end\n",
    "\n",
    "#and The reference point is selected by second (here it is 1) argument. It accepts three values: \n",
    " \n",
    "\n",
    "#0: sets the reference point at the beginning of the file \n",
    " \n",
    "#1: sets the reference point at the current file position \n",
    " \n",
    "#2: sets the reference point at the end of the file \n",
    " "
   ]
  },
  {
   "cell_type": "code",
   "execution_count": 317,
   "id": "b2c74ea3",
   "metadata": {},
   "outputs": [],
   "source": [
    "#therefore here it is at zeroth position because earlier it was 'o''s position so -3 from that to back side is at 0th position"
   ]
  },
  {
   "cell_type": "code",
   "execution_count": 318,
   "id": "1c4bc8a9",
   "metadata": {},
   "outputs": [
    {
     "data": {
      "text/plain": [
       "9"
      ]
     },
     "execution_count": 318,
     "metadata": {},
     "output_type": "execute_result"
    }
   ],
   "source": [
    "f.seek(-3,2) #here the reference was at the end of the file therefore 3 positions back is index 9"
   ]
  },
  {
   "cell_type": "code",
   "execution_count": 319,
   "id": "76c6a7ac",
   "metadata": {},
   "outputs": [],
   "source": [
    "f = open('test2.txt','w')"
   ]
  },
  {
   "cell_type": "code",
   "execution_count": 320,
   "id": "5572398e",
   "metadata": {},
   "outputs": [
    {
     "data": {
      "text/plain": [
       "45"
      ]
     },
     "execution_count": 320,
     "metadata": {},
     "output_type": "execute_result"
    }
   ],
   "source": [
    "f.write('dnfsfjndfnsdnfjdnfnsdknfnodknodsfkdkdsmvldnvk') #-> 45 is total number of characters"
   ]
  },
  {
   "cell_type": "code",
   "execution_count": 321,
   "id": "a2e13995",
   "metadata": {},
   "outputs": [],
   "source": [
    "f.close()"
   ]
  },
  {
   "cell_type": "code",
   "execution_count": 322,
   "id": "c7557556",
   "metadata": {},
   "outputs": [],
   "source": [
    "f = open('test2.txt','r')"
   ]
  },
  {
   "cell_type": "code",
   "execution_count": 323,
   "id": "94ce3eb5",
   "metadata": {},
   "outputs": [
    {
     "data": {
      "text/plain": [
       "'dnfsfjndfnsdnfjdnfnsdknfnodknodsfkdkdsmvldnvk'"
      ]
     },
     "execution_count": 323,
     "metadata": {},
     "output_type": "execute_result"
    }
   ],
   "source": [
    "f.read()"
   ]
  },
  {
   "cell_type": "code",
   "execution_count": 358,
   "id": "f5701501",
   "metadata": {},
   "outputs": [],
   "source": [
    "f.close() #weadded some more lines into the .txt file directly before "
   ]
  },
  {
   "cell_type": "code",
   "execution_count": 377,
   "id": "cdd4d3c8",
   "metadata": {},
   "outputs": [],
   "source": [
    "f=open('test2.txt','r')"
   ]
  },
  {
   "cell_type": "code",
   "execution_count": 378,
   "id": "edac19c9",
   "metadata": {},
   "outputs": [
    {
     "data": {
      "text/plain": [
       "'dnfsfjndfnsdnfjdnfnsdknfnodknodsfkdkdsmvldnvk\\nassdasdasdaddasdadsadas\\nasdasdasadsdasdas\\nsasdaddasda\\nssdasad\\nasda\\nsasdasdsd\\nasasas'"
      ]
     },
     "execution_count": 378,
     "metadata": {},
     "output_type": "execute_result"
    }
   ],
   "source": [
    "f.read()"
   ]
  },
  {
   "cell_type": "code",
   "execution_count": 386,
   "id": "306f9a7c",
   "metadata": {},
   "outputs": [
    {
     "data": {
      "text/plain": [
       "0"
      ]
     },
     "execution_count": 386,
     "metadata": {},
     "output_type": "execute_result"
    }
   ],
   "source": [
    "f.seek(0)"
   ]
  },
  {
   "cell_type": "code",
   "execution_count": 387,
   "id": "23347b9e",
   "metadata": {},
   "outputs": [
    {
     "data": {
      "text/plain": [
       "'dnfsfjndfnsdnfjdnfnsdknfnodknodsfkdkdsmvldnvk\\n'"
      ]
     },
     "execution_count": 387,
     "metadata": {},
     "output_type": "execute_result"
    }
   ],
   "source": [
    "f.readline() #only one line is read"
   ]
  },
  {
   "cell_type": "code",
   "execution_count": 388,
   "id": "12062e79",
   "metadata": {},
   "outputs": [
    {
     "data": {
      "text/plain": [
       "'assdasdasdaddasdadsadas\\n'"
      ]
     },
     "execution_count": 388,
     "metadata": {},
     "output_type": "execute_result"
    }
   ],
   "source": [
    "f.readline() #read the next line"
   ]
  },
  {
   "cell_type": "code",
   "execution_count": 389,
   "id": "f0111820",
   "metadata": {},
   "outputs": [
    {
     "data": {
      "text/plain": [
       "'asdasdasadsdasdas\\n'"
      ]
     },
     "execution_count": 389,
     "metadata": {},
     "output_type": "execute_result"
    }
   ],
   "source": [
    "f.readline()"
   ]
  },
  {
   "cell_type": "code",
   "execution_count": 390,
   "id": "f4961482",
   "metadata": {},
   "outputs": [
    {
     "data": {
      "text/plain": [
       "'sasdaddasda\\n'"
      ]
     },
     "execution_count": 390,
     "metadata": {},
     "output_type": "execute_result"
    }
   ],
   "source": [
    "f.readline()"
   ]
  },
  {
   "cell_type": "code",
   "execution_count": 391,
   "id": "8f81f87b",
   "metadata": {},
   "outputs": [
    {
     "data": {
      "text/plain": [
       "'ssdasad\\n'"
      ]
     },
     "execution_count": 391,
     "metadata": {},
     "output_type": "execute_result"
    }
   ],
   "source": [
    "f.readline()"
   ]
  },
  {
   "cell_type": "code",
   "execution_count": 392,
   "id": "0b9e0199",
   "metadata": {},
   "outputs": [
    {
     "data": {
      "text/plain": [
       "'as'"
      ]
     },
     "execution_count": 392,
     "metadata": {},
     "output_type": "execute_result"
    }
   ],
   "source": [
    "f.readline(2) #read 2"
   ]
  },
  {
   "cell_type": "code",
   "execution_count": 393,
   "id": "4ae8259a",
   "metadata": {},
   "outputs": [
    {
     "data": {
      "text/plain": [
       "'da\\n'"
      ]
     },
     "execution_count": 393,
     "metadata": {},
     "output_type": "execute_result"
    }
   ],
   "source": [
    "f.readline(3)"
   ]
  },
  {
   "cell_type": "code",
   "execution_count": 394,
   "id": "e50ee2ed",
   "metadata": {},
   "outputs": [
    {
     "data": {
      "text/plain": [
       "'sa'"
      ]
     },
     "execution_count": 394,
     "metadata": {},
     "output_type": "execute_result"
    }
   ],
   "source": [
    "f.readline(2)"
   ]
  },
  {
   "cell_type": "code",
   "execution_count": 395,
   "id": "97bcb7e9",
   "metadata": {},
   "outputs": [
    {
     "data": {
      "text/plain": [
       "'sdas'"
      ]
     },
     "execution_count": 395,
     "metadata": {},
     "output_type": "execute_result"
    }
   ],
   "source": [
    "f.readline(4) #read first(n) characters after positon of file handle"
   ]
  },
  {
   "cell_type": "code",
   "execution_count": 396,
   "id": "46fad142",
   "metadata": {},
   "outputs": [],
   "source": [
    "f.close()"
   ]
  },
  {
   "cell_type": "code",
   "execution_count": 2,
   "id": "2edc7e99",
   "metadata": {},
   "outputs": [],
   "source": [
    "f=open('test2.txt','r')"
   ]
  },
  {
   "cell_type": "code",
   "execution_count": 3,
   "id": "01c71f27",
   "metadata": {},
   "outputs": [
    {
     "name": "stdout",
     "output_type": "stream",
     "text": [
      "dnfsfjndfnsdnfjdnfnsdknfnodknodsfkdkdsmvldnvk\n",
      "assdasdasdaddasdadsadas\n",
      "asdasdasadsdasdas\n",
      "sasdaddasda\n",
      "ssdasad\n",
      "asda\n",
      "sasdasdsd\n",
      "asasas"
     ]
    }
   ],
   "source": [
    "for i in f:\n",
    "    print(i,end='')"
   ]
  },
  {
   "cell_type": "code",
   "execution_count": 4,
   "id": "54f1e2f3",
   "metadata": {},
   "outputs": [
    {
     "name": "stdout",
     "output_type": "stream",
     "text": [
      "dnfsfjndfnsdnfjdnfnsdknfnodknodsfkdkdsmvldnvk\n",
      "\n",
      "assdasdasdaddasdadsadas\n",
      "\n",
      "asdasdasadsdasdas\n",
      "\n",
      "sasdaddasda\n",
      "\n",
      "ssdasad\n",
      "\n",
      "asda\n",
      "\n",
      "sasdasdsd\n",
      "\n",
      "asasas\n"
     ]
    }
   ],
   "source": [
    "f.seek(0)\n",
    "for i in f:\n",
    "    print(i) "
   ]
  },
  {
   "cell_type": "code",
   "execution_count": 5,
   "id": "731bf414",
   "metadata": {},
   "outputs": [],
   "source": [
    "#that is why we used end='' because without it it will do 2 identation one form txt file and one that print function does\n",
    "#automatically."
   ]
  },
  {
   "cell_type": "code",
   "execution_count": 6,
   "id": "8335709f",
   "metadata": {},
   "outputs": [],
   "source": [
    "f.close()"
   ]
  },
  {
   "cell_type": "code",
   "execution_count": 7,
   "id": "98ef35b2",
   "metadata": {},
   "outputs": [],
   "source": [
    "f = open('test2.txt','r')"
   ]
  },
  {
   "cell_type": "code",
   "execution_count": 8,
   "id": "79685cba",
   "metadata": {},
   "outputs": [
    {
     "data": {
      "text/plain": [
       "['dnfsfjndfnsdnfjdnfnsdknfnodknodsfkdkdsmvldnvk\\n',\n",
       " 'assdasdasdaddasdadsadas\\n',\n",
       " 'asdasdasadsdasdas\\n',\n",
       " 'sasdaddasda\\n',\n",
       " 'ssdasad\\n',\n",
       " 'asda\\n',\n",
       " 'sasdasdsd\\n',\n",
       " 'asasas']"
      ]
     },
     "execution_count": 8,
     "metadata": {},
     "output_type": "execute_result"
    }
   ],
   "source": [
    "list(f) #-> getting all lines into the list"
   ]
  },
  {
   "cell_type": "code",
   "execution_count": 9,
   "id": "5fa2c957",
   "metadata": {},
   "outputs": [],
   "source": [
    "f.close()"
   ]
  },
  {
   "cell_type": "code",
   "execution_count": 14,
   "id": "05fa8a6a",
   "metadata": {},
   "outputs": [],
   "source": [
    "f=open('test2.txt','r+') #-> r+ stands for both read and write"
   ]
  },
  {
   "cell_type": "code",
   "execution_count": 15,
   "id": "7435645a",
   "metadata": {},
   "outputs": [],
   "source": [
    "f.writelines(\"as as as as\")"
   ]
  },
  {
   "cell_type": "code",
   "execution_count": 16,
   "id": "bb30fe1b",
   "metadata": {},
   "outputs": [],
   "source": [
    "f.close()"
   ]
  },
  {
   "cell_type": "code",
   "execution_count": 17,
   "id": "a0272cbc",
   "metadata": {},
   "outputs": [],
   "source": [
    "f = open('test.txt','r+')"
   ]
  },
  {
   "cell_type": "code",
   "execution_count": 19,
   "id": "3d2cf9fd",
   "metadata": {},
   "outputs": [
    {
     "data": {
      "text/plain": [
       "4"
      ]
     },
     "execution_count": 19,
     "metadata": {},
     "output_type": "execute_result"
    }
   ],
   "source": [
    "f.fileno() #-> just an integer discriptior of file"
   ]
  },
  {
   "cell_type": "markdown",
   "id": "b260c235",
   "metadata": {},
   "source": [
    "#### Another way to create a file"
   ]
  },
  {
   "cell_type": "code",
   "execution_count": 21,
   "id": "5f3ba6f4",
   "metadata": {},
   "outputs": [
    {
     "name": "stdout",
     "output_type": "stream",
     "text": [
      "Writing test5.txt\n"
     ]
    }
   ],
   "source": [
    "%%writefile test5.txt\n",
    "my name is apoorv            #-> first line in txt file\n",
    "iam in second class          #-> Second line in txt file"
   ]
  },
  {
   "cell_type": "markdown",
   "id": "b4492b3f",
   "metadata": {},
   "source": [
    "# OS Operations"
   ]
  },
  {
   "cell_type": "code",
   "execution_count": 39,
   "id": "7aaa8e63",
   "metadata": {},
   "outputs": [],
   "source": [
    "import os"
   ]
  },
  {
   "cell_type": "code",
   "execution_count": 40,
   "id": "8015363e",
   "metadata": {},
   "outputs": [
    {
     "data": {
      "text/plain": [
       "'C:\\\\Users\\\\h.p\\\\Desktop\\\\DATA SCIENCE\\\\1 Python Programming\\\\Class 7_Functions_part1and_2'"
      ]
     },
     "execution_count": 40,
     "metadata": {},
     "output_type": "execute_result"
    }
   ],
   "source": [
    "pwd() #-> present working directory of your jupytrt notebook"
   ]
  },
  {
   "cell_type": "code",
   "execution_count": 41,
   "id": "636fbaa0",
   "metadata": {},
   "outputs": [
    {
     "data": {
      "text/plain": [
       "'C:\\\\Users\\\\h.p\\\\Desktop\\\\DATA SCIENCE\\\\1 Python Programming\\\\Class 7_Functions_part1and_2'"
      ]
     },
     "execution_count": 41,
     "metadata": {},
     "output_type": "execute_result"
    }
   ],
   "source": [
    "os.getcwd() #-> without importing os package if you want to find the directory\n",
    "#current working directory"
   ]
  },
  {
   "cell_type": "code",
   "execution_count": 42,
   "id": "9f3068b3",
   "metadata": {},
   "outputs": [
    {
     "data": {
      "text/plain": [
       "['.ipynb_checkpoints',\n",
       " 'Function and files_part2_ineuron.ipynb',\n",
       " 'Function in python_ineuron.ipynb',\n",
       " 'function part1_2_apoorv.ipynb',\n",
       " 'test.txt',\n",
       " 'test2.txt',\n",
       " 'test5.txt',\n",
       " 'text1.txt']"
      ]
     },
     "execution_count": 42,
     "metadata": {},
     "output_type": "execute_result"
    }
   ],
   "source": [
    "os.listdir() #-> list of all files in current dierctory(folder)"
   ]
  },
  {
   "cell_type": "code",
   "execution_count": 43,
   "id": "2e8ec0d6",
   "metadata": {},
   "outputs": [
    {
     "data": {
      "text/plain": [
       "['Anaconda Navigator (Anaconda).lnk',\n",
       " 'BOOKS PAPERS',\n",
       " 'CAPSTONE',\n",
       " 'DATA SCIENCE',\n",
       " 'desktop.ini',\n",
       " 'EDUSURE ECOTOPPER',\n",
       " 'ISI Exam forms',\n",
       " 'Jupyter Notebook (Anaconda).lnk',\n",
       " 'Local Disk (E) - Shortcut.lnk',\n",
       " 'MADKING PERSONAL',\n",
       " 'OTHER DATA',\n",
       " 'Spyder (Anaconda).lnk',\n",
       " '~$1UPAPOORV.docx',\n",
       " '~$Targets For FAT.xlsx']"
      ]
     },
     "execution_count": 43,
     "metadata": {},
     "output_type": "execute_result"
    }
   ],
   "source": [
    "os.listdir('C:\\\\Users\\\\h.p\\\\Desktop') #-> list of all files in the directory inside ''"
   ]
  },
  {
   "cell_type": "code",
   "execution_count": 44,
   "id": "3cb0eb42",
   "metadata": {},
   "outputs": [
    {
     "data": {
      "text/plain": [
       "'C:\\\\Users\\\\h.p\\\\Desktop\\\\DATA SCIENCE\\\\1 Python Programming\\\\Class 7_Functions_part1and_2'"
      ]
     },
     "execution_count": 44,
     "metadata": {},
     "output_type": "execute_result"
    }
   ],
   "source": [
    "pwd()"
   ]
  },
  {
   "cell_type": "code",
   "execution_count": 45,
   "id": "84155143",
   "metadata": {},
   "outputs": [],
   "source": [
    "os.chdir('C:\\\\Users\\\\h.p\\\\Desktop\\\\DATA SCIENCE') #-> to go into directory inside ()"
   ]
  },
  {
   "cell_type": "code",
   "execution_count": 46,
   "id": "dc607de6",
   "metadata": {},
   "outputs": [
    {
     "data": {
      "text/plain": [
       "'C:\\\\Users\\\\h.p\\\\Desktop\\\\DATA SCIENCE'"
      ]
     },
     "execution_count": 46,
     "metadata": {},
     "output_type": "execute_result"
    }
   ],
   "source": [
    "pwd()"
   ]
  },
  {
   "cell_type": "code",
   "execution_count": 47,
   "id": "dd5a9a50",
   "metadata": {},
   "outputs": [],
   "source": [
    "#->now we are at C:\\\\Users\\\\h.p\\\\Desktop\\\\DATA SCIENCE location"
   ]
  },
  {
   "cell_type": "code",
   "execution_count": 49,
   "id": "7c46df94",
   "metadata": {},
   "outputs": [
    {
     "ename": "FileExistsError",
     "evalue": "[WinError 183] Cannot create a file when that file already exists: 'New Test Folder'",
     "output_type": "error",
     "traceback": [
      "\u001b[1;31m---------------------------------------------------------------------------\u001b[0m",
      "\u001b[1;31mFileExistsError\u001b[0m                           Traceback (most recent call last)",
      "\u001b[1;32m~\\AppData\\Local\\Temp/ipykernel_21956/829902126.py\u001b[0m in \u001b[0;36m<module>\u001b[1;34m\u001b[0m\n\u001b[1;32m----> 1\u001b[1;33m \u001b[0mos\u001b[0m\u001b[1;33m.\u001b[0m\u001b[0mmkdir\u001b[0m\u001b[1;33m(\u001b[0m\u001b[1;34m'New Test Folder'\u001b[0m\u001b[1;33m)\u001b[0m \u001b[1;31m#-> to create\u001b[0m\u001b[1;33m\u001b[0m\u001b[1;33m\u001b[0m\u001b[0m\n\u001b[0m",
      "\u001b[1;31mFileExistsError\u001b[0m: [WinError 183] Cannot create a file when that file already exists: 'New Test Folder'"
     ]
    }
   ],
   "source": [
    "os.mkdir('New Test Folder') #-> to create new file #i created earlier and ran it\n",
    "#twice that is why showing this error"
   ]
  },
  {
   "cell_type": "code",
   "execution_count": 50,
   "id": "52a18e84",
   "metadata": {},
   "outputs": [
    {
     "data": {
      "text/plain": [
       "['1 Python Programming',\n",
       " '2 Python Project',\n",
       " '3 Databases Lectures',\n",
       " '4 Flask',\n",
       " '5 Statistics Lecture',\n",
       " '6 Data Visualization Lecture',\n",
       " 'desktop.ini',\n",
       " 'New Test Folder',\n",
       " 'Pre_Inu_datascience_notes']"
      ]
     },
     "execution_count": 50,
     "metadata": {},
     "output_type": "execute_result"
    }
   ],
   "source": [
    "os.listdir()"
   ]
  },
  {
   "cell_type": "code",
   "execution_count": 56,
   "id": "e0163325",
   "metadata": {},
   "outputs": [
    {
     "name": "stdout",
     "output_type": "stream",
     "text": [
      "good\n"
     ]
    }
   ],
   "source": [
    "if \"New Test Folder\" in os.listdir(): #-> to check if this folder is in the cwd\n",
    "    print('good')\n",
    "else:\n",
    "    print('bad')"
   ]
  },
  {
   "cell_type": "code",
   "execution_count": 60,
   "id": "0ffd1f30",
   "metadata": {},
   "outputs": [],
   "source": [
    "if not os.path.isdir('New Test Folder'):\n",
    "    os.mkdir('New Test Folder')\n",
    "    \n",
    "#-> is there is no file New Test Folder in the cwd then go into if statement \n",
    "#and then we can create the New Test Folder named file\n",
    "\n",
    "#-> No error is coming this time as if have first used if "
   ]
  },
  {
   "cell_type": "code",
   "execution_count": 61,
   "id": "76aed86d",
   "metadata": {},
   "outputs": [],
   "source": [
    "os.chdir('C:\\\\Users\\\\h.p\\\\Desktop\\\\DATA SCIENCE\\\\1 Python Programming\\\\Class 7_Functions_part1and_2')"
   ]
  },
  {
   "cell_type": "code",
   "execution_count": 62,
   "id": "19f0d0ea",
   "metadata": {},
   "outputs": [
    {
     "data": {
      "text/plain": [
       "'C:\\\\Users\\\\h.p\\\\Desktop\\\\DATA SCIENCE\\\\1 Python Programming\\\\Class 7_Functions_part1and_2'"
      ]
     },
     "execution_count": 62,
     "metadata": {},
     "output_type": "execute_result"
    }
   ],
   "source": [
    "pwd()"
   ]
  },
  {
   "cell_type": "code",
   "execution_count": 63,
   "id": "125f0a5a",
   "metadata": {},
   "outputs": [
    {
     "data": {
      "text/plain": [
       "['.ipynb_checkpoints',\n",
       " 'Function and files_part2_ineuron.ipynb',\n",
       " 'Function in python_ineuron.ipynb',\n",
       " 'function part1_2_apoorv.ipynb',\n",
       " 'test.txt',\n",
       " 'test2.txt',\n",
       " 'test5.txt',\n",
       " 'text1.txt']"
      ]
     },
     "execution_count": 63,
     "metadata": {},
     "output_type": "execute_result"
    }
   ],
   "source": [
    "os.listdir()"
   ]
  },
  {
   "cell_type": "code",
   "execution_count": 64,
   "id": "f59de7fd",
   "metadata": {},
   "outputs": [],
   "source": [
    "#to remname test.txt"
   ]
  },
  {
   "cell_type": "code",
   "execution_count": 65,
   "id": "d9ca1818",
   "metadata": {},
   "outputs": [
    {
     "ename": "PermissionError",
     "evalue": "[WinError 32] The process cannot access the file because it is being used by another process: 'test.txt' -> 'testchanged.txt'",
     "output_type": "error",
     "traceback": [
      "\u001b[1;31m---------------------------------------------------------------------------\u001b[0m",
      "\u001b[1;31mPermissionError\u001b[0m                           Traceback (most recent call last)",
      "\u001b[1;32m~\\AppData\\Local\\Temp/ipykernel_21956/1601345987.py\u001b[0m in \u001b[0;36m<module>\u001b[1;34m\u001b[0m\n\u001b[1;32m----> 1\u001b[1;33m \u001b[0mos\u001b[0m\u001b[1;33m.\u001b[0m\u001b[0mrename\u001b[0m\u001b[1;33m(\u001b[0m\u001b[1;34m'test.txt'\u001b[0m\u001b[1;33m,\u001b[0m\u001b[1;34m'testchanged.txt'\u001b[0m\u001b[1;33m)\u001b[0m\u001b[1;33m\u001b[0m\u001b[1;33m\u001b[0m\u001b[0m\n\u001b[0m",
      "\u001b[1;31mPermissionError\u001b[0m: [WinError 32] The process cannot access the file because it is being used by another process: 'test.txt' -> 'testchanged.txt'"
     ]
    }
   ],
   "source": [
    "os.rename('test.txt','testchanged.txt')"
   ]
  },
  {
   "cell_type": "code",
   "execution_count": 74,
   "id": "d17d507b",
   "metadata": {},
   "outputs": [
    {
     "ename": "FileNotFoundError",
     "evalue": "[Errno 2] No such file or directory: 'test.txt'",
     "output_type": "error",
     "traceback": [
      "\u001b[1;31m---------------------------------------------------------------------------\u001b[0m",
      "\u001b[1;31mFileNotFoundError\u001b[0m                         Traceback (most recent call last)",
      "\u001b[1;32m~\\AppData\\Local\\Temp/ipykernel_21956/606559064.py\u001b[0m in \u001b[0;36m<module>\u001b[1;34m\u001b[0m\n\u001b[1;32m----> 1\u001b[1;33m \u001b[0mf\u001b[0m\u001b[1;33m=\u001b[0m\u001b[0mopen\u001b[0m\u001b[1;33m(\u001b[0m\u001b[1;34m'test.txt'\u001b[0m\u001b[1;33m,\u001b[0m\u001b[1;34m'r+'\u001b[0m\u001b[1;33m)\u001b[0m \u001b[1;31m#it is opened, there fore we have to close it first\u001b[0m\u001b[1;33m\u001b[0m\u001b[1;33m\u001b[0m\u001b[0m\n\u001b[0m",
      "\u001b[1;31mFileNotFoundError\u001b[0m: [Errno 2] No such file or directory: 'test.txt'"
     ]
    }
   ],
   "source": [
    "f=open('test.txt','r+') #it is opened, there fore we have to close it first\n",
    "#we ran cell again that's why it's showing an error, as file were renamed it down\n",
    "#next to next cell"
   ]
  },
  {
   "cell_type": "code",
   "execution_count": 73,
   "id": "aa0ff02e",
   "metadata": {},
   "outputs": [],
   "source": [
    "f.close()"
   ]
  },
  {
   "cell_type": "code",
   "execution_count": 71,
   "id": "fcd9edf2",
   "metadata": {},
   "outputs": [
    {
     "ename": "FileNotFoundError",
     "evalue": "[WinError 2] The system cannot find the file specified: 'test.txt' -> 'testchanged.txt'",
     "output_type": "error",
     "traceback": [
      "\u001b[1;31m---------------------------------------------------------------------------\u001b[0m",
      "\u001b[1;31mFileNotFoundError\u001b[0m                         Traceback (most recent call last)",
      "\u001b[1;32m~\\AppData\\Local\\Temp/ipykernel_21956/1601345987.py\u001b[0m in \u001b[0;36m<module>\u001b[1;34m\u001b[0m\n\u001b[1;32m----> 1\u001b[1;33m \u001b[0mos\u001b[0m\u001b[1;33m.\u001b[0m\u001b[0mrename\u001b[0m\u001b[1;33m(\u001b[0m\u001b[1;34m'test.txt'\u001b[0m\u001b[1;33m,\u001b[0m\u001b[1;34m'testchanged.txt'\u001b[0m\u001b[1;33m)\u001b[0m\u001b[1;33m\u001b[0m\u001b[1;33m\u001b[0m\u001b[0m\n\u001b[0m",
      "\u001b[1;31mFileNotFoundError\u001b[0m: [WinError 2] The system cannot find the file specified: 'test.txt' -> 'testchanged.txt'"
     ]
    }
   ],
   "source": [
    "os.rename('test.txt','testchanged.txt')"
   ]
  },
  {
   "cell_type": "code",
   "execution_count": 75,
   "id": "190aebb1",
   "metadata": {},
   "outputs": [],
   "source": [
    "# os.rmdir('name of file') to delete"
   ]
  },
  {
   "cell_type": "code",
   "execution_count": 76,
   "id": "ead31f52",
   "metadata": {},
   "outputs": [],
   "source": [
    "# to move a folder"
   ]
  },
  {
   "cell_type": "code",
   "execution_count": 77,
   "id": "57b5723c",
   "metadata": {},
   "outputs": [],
   "source": [
    "import shutil"
   ]
  },
  {
   "cell_type": "code",
   "execution_count": 80,
   "id": "afad4924",
   "metadata": {},
   "outputs": [],
   "source": [
    "# using code shutil.move('cwd that you want to shit','to where')"
   ]
  },
  {
   "cell_type": "markdown",
   "id": "e6f3f8d1",
   "metadata": {},
   "source": [
    "# Question "
   ]
  },
  {
   "cell_type": "markdown",
   "id": "b82fa972",
   "metadata": {},
   "source": [
    "create a new directory\n",
    "create 10 txt file and write some string in that txt files\n",
    "read all the data from these in console\n",
    "hold all the data in a list\n",
    "write all the data in a new file\n",
    "keep only the new file in present directory and move rest in new directory"
   ]
  },
  {
   "cell_type": "code",
   "execution_count": 89,
   "id": "1c5715d5",
   "metadata": {},
   "outputs": [],
   "source": [
    "import os"
   ]
  },
  {
   "cell_type": "code",
   "execution_count": 90,
   "id": "bdad5215",
   "metadata": {},
   "outputs": [
    {
     "data": {
      "text/plain": [
       "'C:\\\\Users\\\\h.p\\\\Desktop\\\\DATA SCIENCE\\\\1 Python Programming\\\\Class 7_Functions_part1and_2'"
      ]
     },
     "execution_count": 90,
     "metadata": {},
     "output_type": "execute_result"
    }
   ],
   "source": [
    "pwd()"
   ]
  },
  {
   "cell_type": "code",
   "execution_count": 91,
   "id": "824afbbf",
   "metadata": {},
   "outputs": [],
   "source": [
    "os.mkdir(\"Testing File\")"
   ]
  },
  {
   "cell_type": "code",
   "execution_count": 92,
   "id": "87c3a271",
   "metadata": {},
   "outputs": [],
   "source": [
    "os.chdir(\"Testing File\")"
   ]
  },
  {
   "cell_type": "code",
   "execution_count": 93,
   "id": "19f81d2c",
   "metadata": {},
   "outputs": [
    {
     "data": {
      "text/plain": [
       "'C:\\\\Users\\\\h.p\\\\Desktop\\\\DATA SCIENCE\\\\1 Python Programming\\\\Class 7_Functions_part1and_2\\\\Testing File'"
      ]
     },
     "execution_count": 93,
     "metadata": {},
     "output_type": "execute_result"
    }
   ],
   "source": [
    "pwd()"
   ]
  },
  {
   "cell_type": "code",
   "execution_count": 96,
   "id": "77790ccf",
   "metadata": {},
   "outputs": [],
   "source": [
    "for i in range(10):\n",
    "    f = open('file'+str(i),'w')\n",
    "    f.write('apoorv is good boy')\n",
    "    f.close()"
   ]
  },
  {
   "cell_type": "code",
   "execution_count": 97,
   "id": "1dcf6b01",
   "metadata": {},
   "outputs": [
    {
     "name": "stdout",
     "output_type": "stream",
     "text": [
      "apoorv is good boy\n",
      "apoorv is good boy\n",
      "apoorv is good boy\n",
      "apoorv is good boy\n",
      "apoorv is good boy\n",
      "apoorv is good boy\n",
      "apoorv is good boy\n",
      "apoorv is good boy\n",
      "apoorv is good boy\n",
      "apoorv is good boy\n"
     ]
    }
   ],
   "source": [
    "for i in os.listdir():\n",
    "    f=open(i,'r')\n",
    "    print(f.read())\n",
    "    f.close()"
   ]
  },
  {
   "cell_type": "code",
   "execution_count": 99,
   "id": "854db78a",
   "metadata": {},
   "outputs": [
    {
     "name": "stdout",
     "output_type": "stream",
     "text": [
      "['apoorv is good boy', 'apoorv is good boy', 'apoorv is good boy', 'apoorv is good boy', 'apoorv is good boy', 'apoorv is good boy', 'apoorv is good boy', 'apoorv is good boy', 'apoorv is good boy', 'apoorv is good boy']\n"
     ]
    }
   ],
   "source": [
    "list1=[]\n",
    "for i in os.listdir():\n",
    "    f=open(i,'r')\n",
    "    list1.append(f.read())\n",
    "    f.close()\n",
    "print(list1)"
   ]
  },
  {
   "cell_type": "code",
   "execution_count": 109,
   "id": "25abcbb3",
   "metadata": {},
   "outputs": [],
   "source": [
    "g = open('concatfile','r+')\n",
    "for i in list1:\n",
    "    g.write(i+'\\n')\n",
    "g.close()"
   ]
  },
  {
   "cell_type": "code",
   "execution_count": 112,
   "id": "4da0d722",
   "metadata": {},
   "outputs": [
    {
     "ename": "FileExistsError",
     "evalue": "[WinError 183] Cannot create a file when that file already exists: 'transferfile'",
     "output_type": "error",
     "traceback": [
      "\u001b[1;31m---------------------------------------------------------------------------\u001b[0m",
      "\u001b[1;31mFileExistsError\u001b[0m                           Traceback (most recent call last)",
      "\u001b[1;32m~\\AppData\\Local\\Temp/ipykernel_21956/286368221.py\u001b[0m in \u001b[0;36m<module>\u001b[1;34m\u001b[0m\n\u001b[1;32m----> 1\u001b[1;33m \u001b[0mos\u001b[0m\u001b[1;33m.\u001b[0m\u001b[0mmkdir\u001b[0m\u001b[1;33m(\u001b[0m\u001b[1;34m'transferfile'\u001b[0m\u001b[1;33m)\u001b[0m\u001b[1;33m\u001b[0m\u001b[1;33m\u001b[0m\u001b[0m\n\u001b[0m",
      "\u001b[1;31mFileExistsError\u001b[0m: [WinError 183] Cannot create a file when that file already exists: 'transferfile'"
     ]
    }
   ],
   "source": [
    "os.mkdir('transferfile') #doublerun that's why error coming"
   ]
  },
  {
   "cell_type": "code",
   "execution_count": 116,
   "id": "8d50cc18",
   "metadata": {},
   "outputs": [],
   "source": [
    "import shutil\n",
    "for i in range(10):\n",
    "    shutil.move('C:\\\\Users\\\\h.p\\\\Desktop\\\\DATA SCIENCE\\\\1 Python Programming\\\\Class 7_Functions_part1and_2\\\\Testing File'+'\\\\file'+str(i),'C:\\\\Users\\\\h.p\\\\Desktop\\\\DATA SCIENCE\\\\1 Python Programming\\\\Class 7_Functions_part1and_2\\\\Testing File\\\\transferfile')\n",
    "    #shutil.move('sourceaddress','wheretomoveaddress')"
   ]
  },
  {
   "cell_type": "code",
   "execution_count": 117,
   "id": "5f28bad0",
   "metadata": {},
   "outputs": [],
   "source": [
    "#QUESTION COMPLETED"
   ]
  },
  {
   "cell_type": "code",
   "execution_count": null,
   "id": "a418522f",
   "metadata": {},
   "outputs": [],
   "source": []
  }
 ],
 "metadata": {
  "kernelspec": {
   "display_name": "Python 3 (ipykernel)",
   "language": "python",
   "name": "python3"
  },
  "language_info": {
   "codemirror_mode": {
    "name": "ipython",
    "version": 3
   },
   "file_extension": ".py",
   "mimetype": "text/x-python",
   "name": "python",
   "nbconvert_exporter": "python",
   "pygments_lexer": "ipython3",
   "version": "3.9.7"
  }
 },
 "nbformat": 4,
 "nbformat_minor": 5
}
