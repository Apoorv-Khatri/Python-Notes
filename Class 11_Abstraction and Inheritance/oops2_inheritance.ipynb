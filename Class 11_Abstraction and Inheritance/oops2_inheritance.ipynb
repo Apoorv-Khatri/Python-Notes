{
 "cells": [
  {
   "cell_type": "markdown",
   "id": "9aec0cf2",
   "metadata": {},
   "source": [
    "# ABSTRACTION "
   ]
  },
  {
   "cell_type": "code",
   "execution_count": 1,
   "id": "88e958d4",
   "metadata": {},
   "outputs": [],
   "source": [
    "class test:\n",
    "    def __init__(self,a,b,c,d):\n",
    "        self.a=a\n",
    "        self.b=b\n",
    "        self.c=c\n",
    "        self.d=d\n",
    "    def test_custom(self,v):\n",
    "        return v-self.a\n",
    "    def __str__(self):\n",
    "        return \"This is my test code for abstraction\""
   ]
  },
  {
   "cell_type": "code",
   "execution_count": 3,
   "id": "78b89f93",
   "metadata": {},
   "outputs": [],
   "source": [
    "o=test(2,3,4,5)"
   ]
  },
  {
   "cell_type": "code",
   "execution_count": 4,
   "id": "75aae370",
   "metadata": {},
   "outputs": [
    {
     "data": {
      "text/plain": [
       "5"
      ]
     },
     "execution_count": 4,
     "metadata": {},
     "output_type": "execute_result"
    }
   ],
   "source": [
    "o.test_custom(7)"
   ]
  },
  {
   "cell_type": "code",
   "execution_count": 5,
   "id": "34f708db",
   "metadata": {},
   "outputs": [
    {
     "data": {
      "text/plain": [
       "2"
      ]
     },
     "execution_count": 5,
     "metadata": {},
     "output_type": "execute_result"
    }
   ],
   "source": [
    "o.a"
   ]
  },
  {
   "cell_type": "code",
   "execution_count": 18,
   "id": "dc82acc0",
   "metadata": {},
   "outputs": [],
   "source": [
    "class test:\n",
    "    def __init__(self,a,b,c,d):\n",
    "        self.__a=a\n",
    "        self.b=b\n",
    "        self.c=c\n",
    "        self.d=d\n",
    "    def test_custom(self,v):\n",
    "        return v-self.__a\n",
    "    def __str__(self):\n",
    "        return \"This is my test code for abstraction\""
   ]
  },
  {
   "cell_type": "code",
   "execution_count": 7,
   "id": "73d44f74",
   "metadata": {},
   "outputs": [],
   "source": [
    "o=test(2,3,4,5)"
   ]
  },
  {
   "cell_type": "code",
   "execution_count": 8,
   "id": "9794e962",
   "metadata": {},
   "outputs": [
    {
     "data": {
      "text/plain": [
       "5"
      ]
     },
     "execution_count": 8,
     "metadata": {},
     "output_type": "execute_result"
    }
   ],
   "source": [
    "o.test_custom(7) #test is class name"
   ]
  },
  {
   "cell_type": "code",
   "execution_count": 10,
   "id": "b417e4fa",
   "metadata": {},
   "outputs": [
    {
     "ename": "AttributeError",
     "evalue": "'test' object has no attribute '__a'",
     "output_type": "error",
     "traceback": [
      "\u001b[1;31m---------------------------------------------------------------------------\u001b[0m",
      "\u001b[1;31mAttributeError\u001b[0m                            Traceback (most recent call last)",
      "\u001b[1;32m~\\AppData\\Local\\Temp/ipykernel_7832/924825990.py\u001b[0m in \u001b[0;36m<module>\u001b[1;34m\u001b[0m\n\u001b[1;32m----> 1\u001b[1;33m \u001b[0mo\u001b[0m\u001b[1;33m.\u001b[0m\u001b[0m__a\u001b[0m\u001b[1;33m\u001b[0m\u001b[1;33m\u001b[0m\u001b[0m\n\u001b[0m",
      "\u001b[1;31mAttributeError\u001b[0m: 'test' object has no attribute '__a'"
     ]
    }
   ],
   "source": [
    "o.__a"
   ]
  },
  {
   "cell_type": "code",
   "execution_count": 11,
   "id": "cb2c2969",
   "metadata": {},
   "outputs": [],
   "source": [
    "# a means public\n",
    "#_a means protected\n",
    "#__a means priavte\n",
    "\n",
    "#though we can access the private"
   ]
  },
  {
   "cell_type": "code",
   "execution_count": 14,
   "id": "84de9488",
   "metadata": {},
   "outputs": [
    {
     "data": {
      "text/plain": [
       "2"
      ]
     },
     "execution_count": 14,
     "metadata": {},
     "output_type": "execute_result"
    }
   ],
   "source": [
    "#by using _test before private variable\n",
    "o._test__a"
   ]
  },
  {
   "cell_type": "markdown",
   "id": "2f08d71c",
   "metadata": {},
   "source": [
    "# INHERITANCE "
   ]
  },
  {
   "cell_type": "code",
   "execution_count": 24,
   "id": "2f2f1bb0",
   "metadata": {},
   "outputs": [
    {
     "data": {
      "text/plain": [
       "6"
      ]
     },
     "execution_count": 24,
     "metadata": {},
     "output_type": "execute_result"
    }
   ],
   "source": [
    "class test1(test):\n",
    "    def __init__(self,j,*args):\n",
    "        super(test1,self).__init__(*args) #using super we are calling test (parent) class\n",
    "        self.j=j\n",
    "        \n",
    "m = test1(4,5,6,7,8) #j-4, __a,b,c,d- 5,6,7,8\n",
    "m.b"
   ]
  },
  {
   "cell_type": "code",
   "execution_count": 25,
   "id": "f49612a5",
   "metadata": {},
   "outputs": [
    {
     "data": {
      "text/plain": [
       "4"
      ]
     },
     "execution_count": 25,
     "metadata": {},
     "output_type": "execute_result"
    }
   ],
   "source": [
    "m.j"
   ]
  },
  {
   "cell_type": "code",
   "execution_count": 26,
   "id": "957e1a61",
   "metadata": {},
   "outputs": [
    {
     "data": {
      "text/plain": [
       "8"
      ]
     },
     "execution_count": 26,
     "metadata": {},
     "output_type": "execute_result"
    }
   ],
   "source": [
    "m.d"
   ]
  },
  {
   "cell_type": "code",
   "execution_count": 27,
   "id": "ddad25e6",
   "metadata": {},
   "outputs": [
    {
     "data": {
      "text/plain": [
       "5"
      ]
     },
     "execution_count": 27,
     "metadata": {},
     "output_type": "execute_result"
    }
   ],
   "source": [
    "m._test__a"
   ]
  },
  {
   "cell_type": "code",
   "execution_count": 1,
   "id": "17c19080",
   "metadata": {},
   "outputs": [],
   "source": [
    "#create a class test and class test1 and inherit test and test one in test 2\n",
    "#in test create function a\n",
    "#in test1 create function a too\n",
    "#test 2 should be able to access test's and test1's a function"
   ]
  },
  {
   "cell_type": "code",
   "execution_count": 12,
   "id": "76007244",
   "metadata": {},
   "outputs": [],
   "source": [
    "class test:\n",
    "    def a(self):\n",
    "        print(\"this is test class\")\n",
    "    \n",
    "class test1:\n",
    "    def a(self):\n",
    "        print(\"this is test1 class\")\n",
    "        \n",
    "#this is not possible"
   ]
  },
  {
   "cell_type": "code",
   "execution_count": 13,
   "id": "463d6104",
   "metadata": {},
   "outputs": [
    {
     "name": "stdout",
     "output_type": "stream",
     "text": [
      "iNeuron Company was established in 2018\n"
     ]
    }
   ],
   "source": [
    "class Ineuron:\n",
    "    company_website = 'https://ineuron.ai/'\n",
    "    name = 'iNeuron'\n",
    " \n",
    "    def contact_details(self):\n",
    "        print('Contact us at ', self.company_website)\n",
    " \n",
    " \n",
    "class Datascience(Ineuron):\n",
    "    def __init__(self):\n",
    "        self.year_of_establishment= 2018\n",
    " \n",
    "    def est_details(self):\n",
    "        print('{0} Company was established in {1}'\n",
    "              .format(self.name,self.year_of_establishment))\n",
    " \n",
    " \n",
    "ds = Datascience()\n",
    "ds.est_details()"
   ]
  },
  {
   "cell_type": "code",
   "execution_count": 14,
   "id": "1997b0de",
   "metadata": {},
   "outputs": [
    {
     "name": "stdout",
     "output_type": "stream",
     "text": [
      "multi_task\n",
      "Name: sudh\n"
     ]
    }
   ],
   "source": [
    "class OS:\n",
    "    multi_task = True\n",
    "    os_name = 'Windows OS'\n",
    "    name = \"sudh\"\n",
    " \n",
    " \n",
    "class windows(OS, Ineuron): #name will be used from OS\n",
    "    def __init__(self):\n",
    "        if self.multi_task is True:\n",
    "            print('multi_task')\n",
    "        print('Name: {}'.format(self.name))\n",
    " \n",
    " \n",
    "windows = windows()\n",
    " "
   ]
  },
  {
   "cell_type": "code",
   "execution_count": 16,
   "id": "fd418a2c",
   "metadata": {},
   "outputs": [
    {
     "name": "stdout",
     "output_type": "stream",
     "text": [
      "multi_task\n",
      "Name: iNeuron\n"
     ]
    }
   ],
   "source": [
    "class windows(Ineuron,OS): #name will be used from Ineuron\n",
    "    def __init__(self):\n",
    "        if self.multi_task is True:\n",
    "            print('multi_task')\n",
    "        print('Name: {}'.format(self.name))\n",
    " \n",
    " \n",
    "windows = windows()\n",
    " "
   ]
  },
  {
   "cell_type": "code",
   "execution_count": 18,
   "id": "fa5dc30f",
   "metadata": {},
   "outputs": [
    {
     "name": "stdout",
     "output_type": "stream",
     "text": [
      "The company iNeuron offers total 12 different types of courses. Most trending course is Data-Science\n"
     ]
    }
   ],
   "source": [
    "#multilevel Inheritance\n",
    "class iNeuron:\n",
    "    num_of_courses = 12\n",
    " \n",
    " \n",
    "class Datascience(iNeuron):\n",
    "    course_type = 'Data-Science'\n",
    " \n",
    " \n",
    "class AI(Datascience):\n",
    "    def __init__(self):\n",
    "        self.company = \"iNeuron\"\n",
    "        print('The company {0} offers total {1} different types of courses. Most trending course is {2}'.format(self.company,self.num_of_courses,self.course_type))\n",
    " \n",
    " \n",
    "AI = AI()"
   ]
  },
  {
   "cell_type": "code",
   "execution_count": 19,
   "id": "020ad854",
   "metadata": {},
   "outputs": [],
   "source": [
    "#INCAPSULATION"
   ]
  },
  {
   "cell_type": "code",
   "execution_count": 33,
   "id": "5c33cad2",
   "metadata": {},
   "outputs": [],
   "source": [
    "class test:\n",
    "    def __init__(self,a,b,c):\n",
    "        self.a = a\n",
    "        self.b = b\n",
    "        self.a = c\n",
    "        \n",
    "    def __str__(self):\n",
    "        return \"this is the return from my test class\"\n",
    "    \n",
    "class test1:\n",
    "    def __init__(self,a,b,c):\n",
    "        self.a = a\n",
    "        self.b = b\n",
    "        self.a = c\n",
    "        \n",
    "    def __str__(self):\n",
    "        return \"this is the return from my test1 class\"\n",
    "\n",
    "class test2:\n",
    "    def __init__(self,a,b,c):\n",
    "        self.a = a\n",
    "        self.b = b\n",
    "        self.a = c\n",
    "        \n",
    "    def __str__(self):\n",
    "        return \"this is the return from my test2 class\"\n",
    "\n",
    "    \n",
    "    \n",
    "class final:\n",
    "    def __init__(self,x,y,z):\n",
    "        self.x=x\n",
    "        self.y=y\n",
    "        self.z=z\n",
    "    \n",
    "    def __str__(self):\n",
    "        return \"this is a print from final class\" + str(self.x)+\" \"+str(self.y)+\" \"+str(self.z)"
   ]
  },
  {
   "cell_type": "code",
   "execution_count": 38,
   "id": "37934d56",
   "metadata": {},
   "outputs": [],
   "source": [
    "t = test(4,5,6)\n",
    "t1=test1(5,6,7)\n",
    "t2=test2(4,5,6)\n",
    "\n",
    "f = final(t,t1,t2) #not trying to inherit the variables of uppper classes into final class"
   ]
  },
  {
   "cell_type": "code",
   "execution_count": 39,
   "id": "80294873",
   "metadata": {},
   "outputs": [
    {
     "name": "stdout",
     "output_type": "stream",
     "text": [
      "this is a print from final classthis is the return from my test class this is the return from my test1 class this is the return from my test2 class\n"
     ]
    }
   ],
   "source": [
    "print(f)"
   ]
  },
  {
   "cell_type": "code",
   "execution_count": 40,
   "id": "4fbe9a0e",
   "metadata": {},
   "outputs": [],
   "source": [
    "g = final(1,2,3)"
   ]
  },
  {
   "cell_type": "code",
   "execution_count": 41,
   "id": "ba1ede71",
   "metadata": {},
   "outputs": [
    {
     "name": "stdout",
     "output_type": "stream",
     "text": [
      "this is a print from final class1 2 3\n"
     ]
    }
   ],
   "source": [
    "print(g)"
   ]
  },
  {
   "cell_type": "code",
   "execution_count": null,
   "id": "f0eb43aa",
   "metadata": {},
   "outputs": [],
   "source": [
    "# 2 subtypes \n",
    "\n",
    "#composition type\n",
    "\n",
    "#dynamic type "
   ]
  }
 ],
 "metadata": {
  "kernelspec": {
   "display_name": "Python 3 (ipykernel)",
   "language": "python",
   "name": "python3"
  },
  "language_info": {
   "codemirror_mode": {
    "name": "ipython",
    "version": 3
   },
   "file_extension": ".py",
   "mimetype": "text/x-python",
   "name": "python",
   "nbconvert_exporter": "python",
   "pygments_lexer": "ipython3",
   "version": "3.9.7"
  }
 },
 "nbformat": 4,
 "nbformat_minor": 5
}
